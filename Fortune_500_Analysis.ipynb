{
 "cells": [
  {
   "cell_type": "code",
   "execution_count": 1,
   "id": "88a35924-1e9d-4c10-bf46-38917c267215",
   "metadata": {},
   "outputs": [
    {
     "name": "stdout",
     "output_type": "stream",
     "text": [
      "welcome to the world of python\n"
     ]
    }
   ],
   "source": [
    "print('welcome to the world of python')"
   ]
  },
  {
   "cell_type": "code",
   "execution_count": 2,
   "id": "5f641ae7-f0cf-4771-8b05-1c29cb65f0d5",
   "metadata": {},
   "outputs": [
    {
     "data": {
      "text/plain": [
       "4"
      ]
     },
     "execution_count": 2,
     "metadata": {},
     "output_type": "execute_result"
    }
   ],
   "source": [
    "2+2"
   ]
  },
  {
   "cell_type": "code",
   "execution_count": 4,
   "id": "8f0f5def-3e67-4385-b89d-6489d7f95df5",
   "metadata": {},
   "outputs": [
    {
     "name": "stdout",
     "output_type": "stream",
     "text": [
      "4\n"
     ]
    }
   ],
   "source": [
    "print(2+2)"
   ]
  },
  {
   "cell_type": "raw",
   "id": "6b288182-b54c-4034-baaa-06bb259be5f0",
   "metadata": {},
   "source": [
    "print(3*3)"
   ]
  },
  {
   "cell_type": "code",
   "execution_count": 5,
   "id": "ace09079-d63d-4479-a02d-da842ef1102a",
   "metadata": {},
   "outputs": [
    {
     "name": "stdout",
     "output_type": "stream",
     "text": [
      "9\n"
     ]
    }
   ],
   "source": [
    "print(3*3)"
   ]
  },
  {
   "cell_type": "code",
   "execution_count": 6,
   "id": "ec7339e8-ec48-4350-b206-2d4a77482fdd",
   "metadata": {},
   "outputs": [],
   "source": [
    "#print(3*3)"
   ]
  },
  {
   "cell_type": "code",
   "execution_count": 7,
   "id": "67d1423c-7137-48be-a8f1-2ac218bc881b",
   "metadata": {},
   "outputs": [],
   "source": [
    "salary = 100000"
   ]
  },
  {
   "cell_type": "code",
   "execution_count": 8,
   "id": "f2059b9b-ab6c-446c-90df-de5b161c5bf6",
   "metadata": {},
   "outputs": [
    {
     "name": "stdout",
     "output_type": "stream",
     "text": [
      "100000\n"
     ]
    }
   ],
   "source": [
    "print(salary)"
   ]
  },
  {
   "cell_type": "code",
   "execution_count": 9,
   "id": "79d31dd7-e441-4a5f-a48e-221dd7af2335",
   "metadata": {},
   "outputs": [],
   "source": [
    "base_salary = 100000\n",
    "bonus_salary = .10"
   ]
  },
  {
   "cell_type": "code",
   "execution_count": 11,
   "id": "ae973364-dd28-4afe-aeeb-7137dcfacc80",
   "metadata": {},
   "outputs": [
    {
     "name": "stdout",
     "output_type": "stream",
     "text": [
      "110000.00000000001\n"
     ]
    }
   ],
   "source": [
    "total_salary = (base_salary) * (1 + bonus_salary)\n",
    "print(total_salary)"
   ]
  },
  {
   "cell_type": "code",
   "execution_count": 12,
   "id": "ba60e63d-8763-4d8a-ac47-1b473c99ef5e",
   "metadata": {},
   "outputs": [],
   "source": [
    "company_name = \"inc\""
   ]
  },
  {
   "cell_type": "code",
   "execution_count": 14,
   "id": "1a8d5d82-9c21-480f-88cf-d8381d593ace",
   "metadata": {},
   "outputs": [
    {
     "name": "stdout",
     "output_type": "stream",
     "text": [
      "inc\n"
     ]
    }
   ],
   "source": [
    "print(company_name)"
   ]
  },
  {
   "cell_type": "code",
   "execution_count": 15,
   "id": "47e6f1bf-9c9e-469f-84e5-7088ab064416",
   "metadata": {},
   "outputs": [
    {
     "data": {
      "text/plain": [
       "str"
      ]
     },
     "execution_count": 15,
     "metadata": {},
     "output_type": "execute_result"
    }
   ],
   "source": [
    "type(company_name)"
   ]
  },
  {
   "cell_type": "code",
   "execution_count": 16,
   "id": "a9826750-fc26-4035-acd4-0a65c796c6b9",
   "metadata": {},
   "outputs": [],
   "source": [
    "job_wfh = True"
   ]
  },
  {
   "cell_type": "code",
   "execution_count": 17,
   "id": "a17bfa7b-a121-4455-a109-57a38d7ac251",
   "metadata": {},
   "outputs": [
    {
     "data": {
      "text/plain": [
       "bool"
      ]
     },
     "execution_count": 17,
     "metadata": {},
     "output_type": "execute_result"
    }
   ],
   "source": [
    "type(job_wfh)"
   ]
  },
  {
   "cell_type": "code",
   "execution_count": 18,
   "id": "b96103f9-8f03-4356-b41b-bf1ff93b1862",
   "metadata": {},
   "outputs": [
    {
     "data": {
      "text/plain": [
       "<function print(*args, sep=' ', end='\\n', file=None, flush=False)>"
      ]
     },
     "execution_count": 18,
     "metadata": {},
     "output_type": "execute_result"
    }
   ],
   "source": [
    "print"
   ]
  },
  {
   "cell_type": "code",
   "execution_count": 19,
   "id": "97646e64-2c62-44aa-ab88-add4e4c6358e",
   "metadata": {},
   "outputs": [
    {
     "data": {
      "text/plain": [
       "'Data Analyst'"
      ]
     },
     "execution_count": 19,
     "metadata": {},
     "output_type": "execute_result"
    }
   ],
   "source": [
    "\"Data Analyst\""
   ]
  },
  {
   "cell_type": "code",
   "execution_count": 20,
   "id": "6194ba4b-def3-4962-9be9-48e789ec2334",
   "metadata": {},
   "outputs": [
    {
     "name": "stdout",
     "output_type": "stream",
     "text": [
      "Help on class str in module builtins:\n",
      "\n",
      "class str(object)\n",
      " |  str(object='') -> str\n",
      " |  str(bytes_or_buffer[, encoding[, errors]]) -> str\n",
      " |\n",
      " |  Create a new string object from the given object. If encoding or\n",
      " |  errors is specified, then the object must expose a data buffer\n",
      " |  that will be decoded using the given encoding and error handler.\n",
      " |  Otherwise, returns the result of object.__str__() (if defined)\n",
      " |  or repr(object).\n",
      " |  encoding defaults to sys.getdefaultencoding().\n",
      " |  errors defaults to 'strict'.\n",
      " |\n",
      " |  Methods defined here:\n",
      " |\n",
      " |  __add__(self, value, /)\n",
      " |      Return self+value.\n",
      " |\n",
      " |  __contains__(self, key, /)\n",
      " |      Return bool(key in self).\n",
      " |\n",
      " |  __eq__(self, value, /)\n",
      " |      Return self==value.\n",
      " |\n",
      " |  __format__(self, format_spec, /)\n",
      " |      Return a formatted version of the string as described by format_spec.\n",
      " |\n",
      " |  __ge__(self, value, /)\n",
      " |      Return self>=value.\n",
      " |\n",
      " |  __getitem__(self, key, /)\n",
      " |      Return self[key].\n",
      " |\n",
      " |  __getnewargs__(...)\n",
      " |\n",
      " |  __gt__(self, value, /)\n",
      " |      Return self>value.\n",
      " |\n",
      " |  __hash__(self, /)\n",
      " |      Return hash(self).\n",
      " |\n",
      " |  __iter__(self, /)\n",
      " |      Implement iter(self).\n",
      " |\n",
      " |  __le__(self, value, /)\n",
      " |      Return self<=value.\n",
      " |\n",
      " |  __len__(self, /)\n",
      " |      Return len(self).\n",
      " |\n",
      " |  __lt__(self, value, /)\n",
      " |      Return self<value.\n",
      " |\n",
      " |  __mod__(self, value, /)\n",
      " |      Return self%value.\n",
      " |\n",
      " |  __mul__(self, value, /)\n",
      " |      Return self*value.\n",
      " |\n",
      " |  __ne__(self, value, /)\n",
      " |      Return self!=value.\n",
      " |\n",
      " |  __repr__(self, /)\n",
      " |      Return repr(self).\n",
      " |\n",
      " |  __rmod__(self, value, /)\n",
      " |      Return value%self.\n",
      " |\n",
      " |  __rmul__(self, value, /)\n",
      " |      Return value*self.\n",
      " |\n",
      " |  __sizeof__(self, /)\n",
      " |      Return the size of the string in memory, in bytes.\n",
      " |\n",
      " |  __str__(self, /)\n",
      " |      Return str(self).\n",
      " |\n",
      " |  capitalize(self, /)\n",
      " |      Return a capitalized version of the string.\n",
      " |\n",
      " |      More specifically, make the first character have upper case and the rest lower\n",
      " |      case.\n",
      " |\n",
      " |  casefold(self, /)\n",
      " |      Return a version of the string suitable for caseless comparisons.\n",
      " |\n",
      " |  center(self, width, fillchar=' ', /)\n",
      " |      Return a centered string of length width.\n",
      " |\n",
      " |      Padding is done using the specified fill character (default is a space).\n",
      " |\n",
      " |  count(...)\n",
      " |      S.count(sub[, start[, end]]) -> int\n",
      " |\n",
      " |      Return the number of non-overlapping occurrences of substring sub in\n",
      " |      string S[start:end].  Optional arguments start and end are\n",
      " |      interpreted as in slice notation.\n",
      " |\n",
      " |  encode(self, /, encoding='utf-8', errors='strict')\n",
      " |      Encode the string using the codec registered for encoding.\n",
      " |\n",
      " |      encoding\n",
      " |        The encoding in which to encode the string.\n",
      " |      errors\n",
      " |        The error handling scheme to use for encoding errors.\n",
      " |        The default is 'strict' meaning that encoding errors raise a\n",
      " |        UnicodeEncodeError.  Other possible values are 'ignore', 'replace' and\n",
      " |        'xmlcharrefreplace' as well as any other name registered with\n",
      " |        codecs.register_error that can handle UnicodeEncodeErrors.\n",
      " |\n",
      " |  endswith(...)\n",
      " |      S.endswith(suffix[, start[, end]]) -> bool\n",
      " |\n",
      " |      Return True if S ends with the specified suffix, False otherwise.\n",
      " |      With optional start, test S beginning at that position.\n",
      " |      With optional end, stop comparing S at that position.\n",
      " |      suffix can also be a tuple of strings to try.\n",
      " |\n",
      " |  expandtabs(self, /, tabsize=8)\n",
      " |      Return a copy where all tab characters are expanded using spaces.\n",
      " |\n",
      " |      If tabsize is not given, a tab size of 8 characters is assumed.\n",
      " |\n",
      " |  find(...)\n",
      " |      S.find(sub[, start[, end]]) -> int\n",
      " |\n",
      " |      Return the lowest index in S where substring sub is found,\n",
      " |      such that sub is contained within S[start:end].  Optional\n",
      " |      arguments start and end are interpreted as in slice notation.\n",
      " |\n",
      " |      Return -1 on failure.\n",
      " |\n",
      " |  format(...)\n",
      " |      S.format(*args, **kwargs) -> str\n",
      " |\n",
      " |      Return a formatted version of S, using substitutions from args and kwargs.\n",
      " |      The substitutions are identified by braces ('{' and '}').\n",
      " |\n",
      " |  format_map(...)\n",
      " |      S.format_map(mapping) -> str\n",
      " |\n",
      " |      Return a formatted version of S, using substitutions from mapping.\n",
      " |      The substitutions are identified by braces ('{' and '}').\n",
      " |\n",
      " |  index(...)\n",
      " |      S.index(sub[, start[, end]]) -> int\n",
      " |\n",
      " |      Return the lowest index in S where substring sub is found,\n",
      " |      such that sub is contained within S[start:end].  Optional\n",
      " |      arguments start and end are interpreted as in slice notation.\n",
      " |\n",
      " |      Raises ValueError when the substring is not found.\n",
      " |\n",
      " |  isalnum(self, /)\n",
      " |      Return True if the string is an alpha-numeric string, False otherwise.\n",
      " |\n",
      " |      A string is alpha-numeric if all characters in the string are alpha-numeric and\n",
      " |      there is at least one character in the string.\n",
      " |\n",
      " |  isalpha(self, /)\n",
      " |      Return True if the string is an alphabetic string, False otherwise.\n",
      " |\n",
      " |      A string is alphabetic if all characters in the string are alphabetic and there\n",
      " |      is at least one character in the string.\n",
      " |\n",
      " |  isascii(self, /)\n",
      " |      Return True if all characters in the string are ASCII, False otherwise.\n",
      " |\n",
      " |      ASCII characters have code points in the range U+0000-U+007F.\n",
      " |      Empty string is ASCII too.\n",
      " |\n",
      " |  isdecimal(self, /)\n",
      " |      Return True if the string is a decimal string, False otherwise.\n",
      " |\n",
      " |      A string is a decimal string if all characters in the string are decimal and\n",
      " |      there is at least one character in the string.\n",
      " |\n",
      " |  isdigit(self, /)\n",
      " |      Return True if the string is a digit string, False otherwise.\n",
      " |\n",
      " |      A string is a digit string if all characters in the string are digits and there\n",
      " |      is at least one character in the string.\n",
      " |\n",
      " |  isidentifier(self, /)\n",
      " |      Return True if the string is a valid Python identifier, False otherwise.\n",
      " |\n",
      " |      Call keyword.iskeyword(s) to test whether string s is a reserved identifier,\n",
      " |      such as \"def\" or \"class\".\n",
      " |\n",
      " |  islower(self, /)\n",
      " |      Return True if the string is a lowercase string, False otherwise.\n",
      " |\n",
      " |      A string is lowercase if all cased characters in the string are lowercase and\n",
      " |      there is at least one cased character in the string.\n",
      " |\n",
      " |  isnumeric(self, /)\n",
      " |      Return True if the string is a numeric string, False otherwise.\n",
      " |\n",
      " |      A string is numeric if all characters in the string are numeric and there is at\n",
      " |      least one character in the string.\n",
      " |\n",
      " |  isprintable(self, /)\n",
      " |      Return True if the string is printable, False otherwise.\n",
      " |\n",
      " |      A string is printable if all of its characters are considered printable in\n",
      " |      repr() or if it is empty.\n",
      " |\n",
      " |  isspace(self, /)\n",
      " |      Return True if the string is a whitespace string, False otherwise.\n",
      " |\n",
      " |      A string is whitespace if all characters in the string are whitespace and there\n",
      " |      is at least one character in the string.\n",
      " |\n",
      " |  istitle(self, /)\n",
      " |      Return True if the string is a title-cased string, False otherwise.\n",
      " |\n",
      " |      In a title-cased string, upper- and title-case characters may only\n",
      " |      follow uncased characters and lowercase characters only cased ones.\n",
      " |\n",
      " |  isupper(self, /)\n",
      " |      Return True if the string is an uppercase string, False otherwise.\n",
      " |\n",
      " |      A string is uppercase if all cased characters in the string are uppercase and\n",
      " |      there is at least one cased character in the string.\n",
      " |\n",
      " |  join(self, iterable, /)\n",
      " |      Concatenate any number of strings.\n",
      " |\n",
      " |      The string whose method is called is inserted in between each given string.\n",
      " |      The result is returned as a new string.\n",
      " |\n",
      " |      Example: '.'.join(['ab', 'pq', 'rs']) -> 'ab.pq.rs'\n",
      " |\n",
      " |  ljust(self, width, fillchar=' ', /)\n",
      " |      Return a left-justified string of length width.\n",
      " |\n",
      " |      Padding is done using the specified fill character (default is a space).\n",
      " |\n",
      " |  lower(self, /)\n",
      " |      Return a copy of the string converted to lowercase.\n",
      " |\n",
      " |  lstrip(self, chars=None, /)\n",
      " |      Return a copy of the string with leading whitespace removed.\n",
      " |\n",
      " |      If chars is given and not None, remove characters in chars instead.\n",
      " |\n",
      " |  partition(self, sep, /)\n",
      " |      Partition the string into three parts using the given separator.\n",
      " |\n",
      " |      This will search for the separator in the string.  If the separator is found,\n",
      " |      returns a 3-tuple containing the part before the separator, the separator\n",
      " |      itself, and the part after it.\n",
      " |\n",
      " |      If the separator is not found, returns a 3-tuple containing the original string\n",
      " |      and two empty strings.\n",
      " |\n",
      " |  removeprefix(self, prefix, /)\n",
      " |      Return a str with the given prefix string removed if present.\n",
      " |\n",
      " |      If the string starts with the prefix string, return string[len(prefix):].\n",
      " |      Otherwise, return a copy of the original string.\n",
      " |\n",
      " |  removesuffix(self, suffix, /)\n",
      " |      Return a str with the given suffix string removed if present.\n",
      " |\n",
      " |      If the string ends with the suffix string and that suffix is not empty,\n",
      " |      return string[:-len(suffix)]. Otherwise, return a copy of the original\n",
      " |      string.\n",
      " |\n",
      " |  replace(self, old, new, count=-1, /)\n",
      " |      Return a copy with all occurrences of substring old replaced by new.\n",
      " |\n",
      " |        count\n",
      " |          Maximum number of occurrences to replace.\n",
      " |          -1 (the default value) means replace all occurrences.\n",
      " |\n",
      " |      If the optional argument count is given, only the first count occurrences are\n",
      " |      replaced.\n",
      " |\n",
      " |  rfind(...)\n",
      " |      S.rfind(sub[, start[, end]]) -> int\n",
      " |\n",
      " |      Return the highest index in S where substring sub is found,\n",
      " |      such that sub is contained within S[start:end].  Optional\n",
      " |      arguments start and end are interpreted as in slice notation.\n",
      " |\n",
      " |      Return -1 on failure.\n",
      " |\n",
      " |  rindex(...)\n",
      " |      S.rindex(sub[, start[, end]]) -> int\n",
      " |\n",
      " |      Return the highest index in S where substring sub is found,\n",
      " |      such that sub is contained within S[start:end].  Optional\n",
      " |      arguments start and end are interpreted as in slice notation.\n",
      " |\n",
      " |      Raises ValueError when the substring is not found.\n",
      " |\n",
      " |  rjust(self, width, fillchar=' ', /)\n",
      " |      Return a right-justified string of length width.\n",
      " |\n",
      " |      Padding is done using the specified fill character (default is a space).\n",
      " |\n",
      " |  rpartition(self, sep, /)\n",
      " |      Partition the string into three parts using the given separator.\n",
      " |\n",
      " |      This will search for the separator in the string, starting at the end. If\n",
      " |      the separator is found, returns a 3-tuple containing the part before the\n",
      " |      separator, the separator itself, and the part after it.\n",
      " |\n",
      " |      If the separator is not found, returns a 3-tuple containing two empty strings\n",
      " |      and the original string.\n",
      " |\n",
      " |  rsplit(self, /, sep=None, maxsplit=-1)\n",
      " |      Return a list of the substrings in the string, using sep as the separator string.\n",
      " |\n",
      " |        sep\n",
      " |          The separator used to split the string.\n",
      " |\n",
      " |          When set to None (the default value), will split on any whitespace\n",
      " |          character (including \\n \\r \\t \\f and spaces) and will discard\n",
      " |          empty strings from the result.\n",
      " |        maxsplit\n",
      " |          Maximum number of splits.\n",
      " |          -1 (the default value) means no limit.\n",
      " |\n",
      " |      Splitting starts at the end of the string and works to the front.\n",
      " |\n",
      " |  rstrip(self, chars=None, /)\n",
      " |      Return a copy of the string with trailing whitespace removed.\n",
      " |\n",
      " |      If chars is given and not None, remove characters in chars instead.\n",
      " |\n",
      " |  split(self, /, sep=None, maxsplit=-1)\n",
      " |      Return a list of the substrings in the string, using sep as the separator string.\n",
      " |\n",
      " |        sep\n",
      " |          The separator used to split the string.\n",
      " |\n",
      " |          When set to None (the default value), will split on any whitespace\n",
      " |          character (including \\n \\r \\t \\f and spaces) and will discard\n",
      " |          empty strings from the result.\n",
      " |        maxsplit\n",
      " |          Maximum number of splits.\n",
      " |          -1 (the default value) means no limit.\n",
      " |\n",
      " |      Splitting starts at the front of the string and works to the end.\n",
      " |\n",
      " |      Note, str.split() is mainly useful for data that has been intentionally\n",
      " |      delimited.  With natural text that includes punctuation, consider using\n",
      " |      the regular expression module.\n",
      " |\n",
      " |  splitlines(self, /, keepends=False)\n",
      " |      Return a list of the lines in the string, breaking at line boundaries.\n",
      " |\n",
      " |      Line breaks are not included in the resulting list unless keepends is given and\n",
      " |      true.\n",
      " |\n",
      " |  startswith(...)\n",
      " |      S.startswith(prefix[, start[, end]]) -> bool\n",
      " |\n",
      " |      Return True if S starts with the specified prefix, False otherwise.\n",
      " |      With optional start, test S beginning at that position.\n",
      " |      With optional end, stop comparing S at that position.\n",
      " |      prefix can also be a tuple of strings to try.\n",
      " |\n",
      " |  strip(self, chars=None, /)\n",
      " |      Return a copy of the string with leading and trailing whitespace removed.\n",
      " |\n",
      " |      If chars is given and not None, remove characters in chars instead.\n",
      " |\n",
      " |  swapcase(self, /)\n",
      " |      Convert uppercase characters to lowercase and lowercase characters to uppercase.\n",
      " |\n",
      " |  title(self, /)\n",
      " |      Return a version of the string where each word is titlecased.\n",
      " |\n",
      " |      More specifically, words start with uppercased characters and all remaining\n",
      " |      cased characters have lower case.\n",
      " |\n",
      " |  translate(self, table, /)\n",
      " |      Replace each character in the string using the given translation table.\n",
      " |\n",
      " |        table\n",
      " |          Translation table, which must be a mapping of Unicode ordinals to\n",
      " |          Unicode ordinals, strings, or None.\n",
      " |\n",
      " |      The table must implement lookup/indexing via __getitem__, for instance a\n",
      " |      dictionary or list.  If this operation raises LookupError, the character is\n",
      " |      left untouched.  Characters mapped to None are deleted.\n",
      " |\n",
      " |  upper(self, /)\n",
      " |      Return a copy of the string converted to uppercase.\n",
      " |\n",
      " |  zfill(self, width, /)\n",
      " |      Pad a numeric string with zeros on the left, to fill a field of the given width.\n",
      " |\n",
      " |      The string is never truncated.\n",
      " |\n",
      " |  ----------------------------------------------------------------------\n",
      " |  Static methods defined here:\n",
      " |\n",
      " |  __new__(*args, **kwargs)\n",
      " |      Create and return a new object.  See help(type) for accurate signature.\n",
      " |\n",
      " |  maketrans(...)\n",
      " |      Return a translation table usable for str.translate().\n",
      " |\n",
      " |      If there is only one argument, it must be a dictionary mapping Unicode\n",
      " |      ordinals (integers) or characters to Unicode ordinals, strings or None.\n",
      " |      Character keys will be then converted to ordinals.\n",
      " |      If there are two arguments, they must be strings of equal length, and\n",
      " |      in the resulting dictionary, each character in x will be mapped to the\n",
      " |      character at the same position in y. If there is a third argument, it\n",
      " |      must be a string, whose characters will be mapped to None in the result.\n",
      "\n"
     ]
    }
   ],
   "source": [
    "help(str)"
   ]
  },
  {
   "cell_type": "code",
   "execution_count": 21,
   "id": "5b3cd0e7-f39f-4f8f-9a35-d8c63a711608",
   "metadata": {},
   "outputs": [],
   "source": [
    "job_1 = \"data analyst1\"\n",
    "job_2 = \"data analyst1\""
   ]
  },
  {
   "cell_type": "code",
   "execution_count": 22,
   "id": "4b6cc513-6914-4586-9d66-2d4156ecbca5",
   "metadata": {},
   "outputs": [
    {
     "data": {
      "text/plain": [
       "(2005476191728, 2005461593136)"
      ]
     },
     "execution_count": 22,
     "metadata": {},
     "output_type": "execute_result"
    }
   ],
   "source": [
    "id(job_1), id(job_2)"
   ]
  },
  {
   "cell_type": "code",
   "execution_count": 23,
   "id": "1ff621b1-c88f-43ca-88b2-9be2c5cb9dbc",
   "metadata": {},
   "outputs": [],
   "source": [
    "job_3 =  job_1"
   ]
  },
  {
   "cell_type": "code",
   "execution_count": 24,
   "id": "e71d7f06-aaa3-49dc-a0d8-709b041522b9",
   "metadata": {},
   "outputs": [
    {
     "data": {
      "text/plain": [
       "2005476191728"
      ]
     },
     "execution_count": 24,
     "metadata": {},
     "output_type": "execute_result"
    }
   ],
   "source": [
    "id(job_3)"
   ]
  },
  {
   "cell_type": "code",
   "execution_count": 25,
   "id": "17d6705c-8f5e-4287-94bd-5cb750c86b34",
   "metadata": {},
   "outputs": [],
   "source": [
    "total_salary = 100000\n",
    "bonus_salary = 120\n",
    "base_salary = 140"
   ]
  },
  {
   "cell_type": "code",
   "execution_count": 28,
   "id": "04b7dfdf-a01c-4779-a52c-47081f7da78a",
   "metadata": {},
   "outputs": [
    {
     "data": {
      "text/plain": [
       "int"
      ]
     },
     "execution_count": 28,
     "metadata": {},
     "output_type": "execute_result"
    }
   ],
   "source": [
    "type(total_salary)"
   ]
  },
  {
   "cell_type": "code",
   "execution_count": 29,
   "id": "77b8df60-d715-43f4-abc8-ba2104d67cbd",
   "metadata": {},
   "outputs": [],
   "source": [
    "#integer+ integer"
   ]
  },
  {
   "cell_type": "code",
   "execution_count": 34,
   "id": "1b18479b-062d-4d27-a53a-6dfa1c9aa27a",
   "metadata": {},
   "outputs": [],
   "source": [
    "str1 = \"sriram\""
   ]
  },
  {
   "cell_type": "code",
   "execution_count": 35,
   "id": "5a5a7eee-c6c2-4985-8000-d5fe77efa6aa",
   "metadata": {},
   "outputs": [],
   "source": [
    "str2 = \"dharsan\""
   ]
  },
  {
   "cell_type": "code",
   "execution_count": 42,
   "id": "145a5bcc-1841-436f-a27b-219357ae76b6",
   "metadata": {},
   "outputs": [],
   "source": [
    "finalname= (str1 +\" \" +str2)"
   ]
  },
  {
   "cell_type": "code",
   "execution_count": 43,
   "id": "4fcbc262-1b07-42a9-b9ee-e03292b3cb97",
   "metadata": {},
   "outputs": [
    {
     "name": "stdout",
     "output_type": "stream",
     "text": [
      "sriram dharsan\n"
     ]
    }
   ],
   "source": [
    "print(finalname)"
   ]
  },
  {
   "cell_type": "code",
   "execution_count": 44,
   "id": "1116af14-2e51-47b0-a140-5bc817723e05",
   "metadata": {},
   "outputs": [
    {
     "ename": "TypeError",
     "evalue": "can only concatenate str (not \"int\") to str",
     "output_type": "error",
     "traceback": [
      "\u001b[1;31m---------------------------------------------------------------------------\u001b[0m",
      "\u001b[1;31mTypeError\u001b[0m                                 Traceback (most recent call last)",
      "Cell \u001b[1;32mIn[44], line 1\u001b[0m\n\u001b[1;32m----> 1\u001b[0m \u001b[38;5;28mprint\u001b[39m(str1\u001b[38;5;241m+\u001b[39m\u001b[38;5;241m5\u001b[39m)\n",
      "\u001b[1;31mTypeError\u001b[0m: can only concatenate str (not \"int\") to str"
     ]
    }
   ],
   "source": [
    "print(str1+5)"
   ]
  },
  {
   "cell_type": "code",
   "execution_count": 45,
   "id": "bffaf401-4c08-4389-affc-41ee4d9a6777",
   "metadata": {},
   "outputs": [],
   "source": [
    "#str to string is possible, str is not coonnected with the integer"
   ]
  },
  {
   "cell_type": "code",
   "execution_count": 46,
   "id": "0b94a21d-77a2-4af4-819e-08c45cffff4b",
   "metadata": {},
   "outputs": [
    {
     "name": "stdout",
     "output_type": "stream",
     "text": [
      "Help on class str in module builtins:\n",
      "\n",
      "class str(object)\n",
      " |  str(object='') -> str\n",
      " |  str(bytes_or_buffer[, encoding[, errors]]) -> str\n",
      " |\n",
      " |  Create a new string object from the given object. If encoding or\n",
      " |  errors is specified, then the object must expose a data buffer\n",
      " |  that will be decoded using the given encoding and error handler.\n",
      " |  Otherwise, returns the result of object.__str__() (if defined)\n",
      " |  or repr(object).\n",
      " |  encoding defaults to sys.getdefaultencoding().\n",
      " |  errors defaults to 'strict'.\n",
      " |\n",
      " |  Methods defined here:\n",
      " |\n",
      " |  __add__(self, value, /)\n",
      " |      Return self+value.\n",
      " |\n",
      " |  __contains__(self, key, /)\n",
      " |      Return bool(key in self).\n",
      " |\n",
      " |  __eq__(self, value, /)\n",
      " |      Return self==value.\n",
      " |\n",
      " |  __format__(self, format_spec, /)\n",
      " |      Return a formatted version of the string as described by format_spec.\n",
      " |\n",
      " |  __ge__(self, value, /)\n",
      " |      Return self>=value.\n",
      " |\n",
      " |  __getitem__(self, key, /)\n",
      " |      Return self[key].\n",
      " |\n",
      " |  __getnewargs__(...)\n",
      " |\n",
      " |  __gt__(self, value, /)\n",
      " |      Return self>value.\n",
      " |\n",
      " |  __hash__(self, /)\n",
      " |      Return hash(self).\n",
      " |\n",
      " |  __iter__(self, /)\n",
      " |      Implement iter(self).\n",
      " |\n",
      " |  __le__(self, value, /)\n",
      " |      Return self<=value.\n",
      " |\n",
      " |  __len__(self, /)\n",
      " |      Return len(self).\n",
      " |\n",
      " |  __lt__(self, value, /)\n",
      " |      Return self<value.\n",
      " |\n",
      " |  __mod__(self, value, /)\n",
      " |      Return self%value.\n",
      " |\n",
      " |  __mul__(self, value, /)\n",
      " |      Return self*value.\n",
      " |\n",
      " |  __ne__(self, value, /)\n",
      " |      Return self!=value.\n",
      " |\n",
      " |  __repr__(self, /)\n",
      " |      Return repr(self).\n",
      " |\n",
      " |  __rmod__(self, value, /)\n",
      " |      Return value%self.\n",
      " |\n",
      " |  __rmul__(self, value, /)\n",
      " |      Return value*self.\n",
      " |\n",
      " |  __sizeof__(self, /)\n",
      " |      Return the size of the string in memory, in bytes.\n",
      " |\n",
      " |  __str__(self, /)\n",
      " |      Return str(self).\n",
      " |\n",
      " |  capitalize(self, /)\n",
      " |      Return a capitalized version of the string.\n",
      " |\n",
      " |      More specifically, make the first character have upper case and the rest lower\n",
      " |      case.\n",
      " |\n",
      " |  casefold(self, /)\n",
      " |      Return a version of the string suitable for caseless comparisons.\n",
      " |\n",
      " |  center(self, width, fillchar=' ', /)\n",
      " |      Return a centered string of length width.\n",
      " |\n",
      " |      Padding is done using the specified fill character (default is a space).\n",
      " |\n",
      " |  count(...)\n",
      " |      S.count(sub[, start[, end]]) -> int\n",
      " |\n",
      " |      Return the number of non-overlapping occurrences of substring sub in\n",
      " |      string S[start:end].  Optional arguments start and end are\n",
      " |      interpreted as in slice notation.\n",
      " |\n",
      " |  encode(self, /, encoding='utf-8', errors='strict')\n",
      " |      Encode the string using the codec registered for encoding.\n",
      " |\n",
      " |      encoding\n",
      " |        The encoding in which to encode the string.\n",
      " |      errors\n",
      " |        The error handling scheme to use for encoding errors.\n",
      " |        The default is 'strict' meaning that encoding errors raise a\n",
      " |        UnicodeEncodeError.  Other possible values are 'ignore', 'replace' and\n",
      " |        'xmlcharrefreplace' as well as any other name registered with\n",
      " |        codecs.register_error that can handle UnicodeEncodeErrors.\n",
      " |\n",
      " |  endswith(...)\n",
      " |      S.endswith(suffix[, start[, end]]) -> bool\n",
      " |\n",
      " |      Return True if S ends with the specified suffix, False otherwise.\n",
      " |      With optional start, test S beginning at that position.\n",
      " |      With optional end, stop comparing S at that position.\n",
      " |      suffix can also be a tuple of strings to try.\n",
      " |\n",
      " |  expandtabs(self, /, tabsize=8)\n",
      " |      Return a copy where all tab characters are expanded using spaces.\n",
      " |\n",
      " |      If tabsize is not given, a tab size of 8 characters is assumed.\n",
      " |\n",
      " |  find(...)\n",
      " |      S.find(sub[, start[, end]]) -> int\n",
      " |\n",
      " |      Return the lowest index in S where substring sub is found,\n",
      " |      such that sub is contained within S[start:end].  Optional\n",
      " |      arguments start and end are interpreted as in slice notation.\n",
      " |\n",
      " |      Return -1 on failure.\n",
      " |\n",
      " |  format(...)\n",
      " |      S.format(*args, **kwargs) -> str\n",
      " |\n",
      " |      Return a formatted version of S, using substitutions from args and kwargs.\n",
      " |      The substitutions are identified by braces ('{' and '}').\n",
      " |\n",
      " |  format_map(...)\n",
      " |      S.format_map(mapping) -> str\n",
      " |\n",
      " |      Return a formatted version of S, using substitutions from mapping.\n",
      " |      The substitutions are identified by braces ('{' and '}').\n",
      " |\n",
      " |  index(...)\n",
      " |      S.index(sub[, start[, end]]) -> int\n",
      " |\n",
      " |      Return the lowest index in S where substring sub is found,\n",
      " |      such that sub is contained within S[start:end].  Optional\n",
      " |      arguments start and end are interpreted as in slice notation.\n",
      " |\n",
      " |      Raises ValueError when the substring is not found.\n",
      " |\n",
      " |  isalnum(self, /)\n",
      " |      Return True if the string is an alpha-numeric string, False otherwise.\n",
      " |\n",
      " |      A string is alpha-numeric if all characters in the string are alpha-numeric and\n",
      " |      there is at least one character in the string.\n",
      " |\n",
      " |  isalpha(self, /)\n",
      " |      Return True if the string is an alphabetic string, False otherwise.\n",
      " |\n",
      " |      A string is alphabetic if all characters in the string are alphabetic and there\n",
      " |      is at least one character in the string.\n",
      " |\n",
      " |  isascii(self, /)\n",
      " |      Return True if all characters in the string are ASCII, False otherwise.\n",
      " |\n",
      " |      ASCII characters have code points in the range U+0000-U+007F.\n",
      " |      Empty string is ASCII too.\n",
      " |\n",
      " |  isdecimal(self, /)\n",
      " |      Return True if the string is a decimal string, False otherwise.\n",
      " |\n",
      " |      A string is a decimal string if all characters in the string are decimal and\n",
      " |      there is at least one character in the string.\n",
      " |\n",
      " |  isdigit(self, /)\n",
      " |      Return True if the string is a digit string, False otherwise.\n",
      " |\n",
      " |      A string is a digit string if all characters in the string are digits and there\n",
      " |      is at least one character in the string.\n",
      " |\n",
      " |  isidentifier(self, /)\n",
      " |      Return True if the string is a valid Python identifier, False otherwise.\n",
      " |\n",
      " |      Call keyword.iskeyword(s) to test whether string s is a reserved identifier,\n",
      " |      such as \"def\" or \"class\".\n",
      " |\n",
      " |  islower(self, /)\n",
      " |      Return True if the string is a lowercase string, False otherwise.\n",
      " |\n",
      " |      A string is lowercase if all cased characters in the string are lowercase and\n",
      " |      there is at least one cased character in the string.\n",
      " |\n",
      " |  isnumeric(self, /)\n",
      " |      Return True if the string is a numeric string, False otherwise.\n",
      " |\n",
      " |      A string is numeric if all characters in the string are numeric and there is at\n",
      " |      least one character in the string.\n",
      " |\n",
      " |  isprintable(self, /)\n",
      " |      Return True if the string is printable, False otherwise.\n",
      " |\n",
      " |      A string is printable if all of its characters are considered printable in\n",
      " |      repr() or if it is empty.\n",
      " |\n",
      " |  isspace(self, /)\n",
      " |      Return True if the string is a whitespace string, False otherwise.\n",
      " |\n",
      " |      A string is whitespace if all characters in the string are whitespace and there\n",
      " |      is at least one character in the string.\n",
      " |\n",
      " |  istitle(self, /)\n",
      " |      Return True if the string is a title-cased string, False otherwise.\n",
      " |\n",
      " |      In a title-cased string, upper- and title-case characters may only\n",
      " |      follow uncased characters and lowercase characters only cased ones.\n",
      " |\n",
      " |  isupper(self, /)\n",
      " |      Return True if the string is an uppercase string, False otherwise.\n",
      " |\n",
      " |      A string is uppercase if all cased characters in the string are uppercase and\n",
      " |      there is at least one cased character in the string.\n",
      " |\n",
      " |  join(self, iterable, /)\n",
      " |      Concatenate any number of strings.\n",
      " |\n",
      " |      The string whose method is called is inserted in between each given string.\n",
      " |      The result is returned as a new string.\n",
      " |\n",
      " |      Example: '.'.join(['ab', 'pq', 'rs']) -> 'ab.pq.rs'\n",
      " |\n",
      " |  ljust(self, width, fillchar=' ', /)\n",
      " |      Return a left-justified string of length width.\n",
      " |\n",
      " |      Padding is done using the specified fill character (default is a space).\n",
      " |\n",
      " |  lower(self, /)\n",
      " |      Return a copy of the string converted to lowercase.\n",
      " |\n",
      " |  lstrip(self, chars=None, /)\n",
      " |      Return a copy of the string with leading whitespace removed.\n",
      " |\n",
      " |      If chars is given and not None, remove characters in chars instead.\n",
      " |\n",
      " |  partition(self, sep, /)\n",
      " |      Partition the string into three parts using the given separator.\n",
      " |\n",
      " |      This will search for the separator in the string.  If the separator is found,\n",
      " |      returns a 3-tuple containing the part before the separator, the separator\n",
      " |      itself, and the part after it.\n",
      " |\n",
      " |      If the separator is not found, returns a 3-tuple containing the original string\n",
      " |      and two empty strings.\n",
      " |\n",
      " |  removeprefix(self, prefix, /)\n",
      " |      Return a str with the given prefix string removed if present.\n",
      " |\n",
      " |      If the string starts with the prefix string, return string[len(prefix):].\n",
      " |      Otherwise, return a copy of the original string.\n",
      " |\n",
      " |  removesuffix(self, suffix, /)\n",
      " |      Return a str with the given suffix string removed if present.\n",
      " |\n",
      " |      If the string ends with the suffix string and that suffix is not empty,\n",
      " |      return string[:-len(suffix)]. Otherwise, return a copy of the original\n",
      " |      string.\n",
      " |\n",
      " |  replace(self, old, new, count=-1, /)\n",
      " |      Return a copy with all occurrences of substring old replaced by new.\n",
      " |\n",
      " |        count\n",
      " |          Maximum number of occurrences to replace.\n",
      " |          -1 (the default value) means replace all occurrences.\n",
      " |\n",
      " |      If the optional argument count is given, only the first count occurrences are\n",
      " |      replaced.\n",
      " |\n",
      " |  rfind(...)\n",
      " |      S.rfind(sub[, start[, end]]) -> int\n",
      " |\n",
      " |      Return the highest index in S where substring sub is found,\n",
      " |      such that sub is contained within S[start:end].  Optional\n",
      " |      arguments start and end are interpreted as in slice notation.\n",
      " |\n",
      " |      Return -1 on failure.\n",
      " |\n",
      " |  rindex(...)\n",
      " |      S.rindex(sub[, start[, end]]) -> int\n",
      " |\n",
      " |      Return the highest index in S where substring sub is found,\n",
      " |      such that sub is contained within S[start:end].  Optional\n",
      " |      arguments start and end are interpreted as in slice notation.\n",
      " |\n",
      " |      Raises ValueError when the substring is not found.\n",
      " |\n",
      " |  rjust(self, width, fillchar=' ', /)\n",
      " |      Return a right-justified string of length width.\n",
      " |\n",
      " |      Padding is done using the specified fill character (default is a space).\n",
      " |\n",
      " |  rpartition(self, sep, /)\n",
      " |      Partition the string into three parts using the given separator.\n",
      " |\n",
      " |      This will search for the separator in the string, starting at the end. If\n",
      " |      the separator is found, returns a 3-tuple containing the part before the\n",
      " |      separator, the separator itself, and the part after it.\n",
      " |\n",
      " |      If the separator is not found, returns a 3-tuple containing two empty strings\n",
      " |      and the original string.\n",
      " |\n",
      " |  rsplit(self, /, sep=None, maxsplit=-1)\n",
      " |      Return a list of the substrings in the string, using sep as the separator string.\n",
      " |\n",
      " |        sep\n",
      " |          The separator used to split the string.\n",
      " |\n",
      " |          When set to None (the default value), will split on any whitespace\n",
      " |          character (including \\n \\r \\t \\f and spaces) and will discard\n",
      " |          empty strings from the result.\n",
      " |        maxsplit\n",
      " |          Maximum number of splits.\n",
      " |          -1 (the default value) means no limit.\n",
      " |\n",
      " |      Splitting starts at the end of the string and works to the front.\n",
      " |\n",
      " |  rstrip(self, chars=None, /)\n",
      " |      Return a copy of the string with trailing whitespace removed.\n",
      " |\n",
      " |      If chars is given and not None, remove characters in chars instead.\n",
      " |\n",
      " |  split(self, /, sep=None, maxsplit=-1)\n",
      " |      Return a list of the substrings in the string, using sep as the separator string.\n",
      " |\n",
      " |        sep\n",
      " |          The separator used to split the string.\n",
      " |\n",
      " |          When set to None (the default value), will split on any whitespace\n",
      " |          character (including \\n \\r \\t \\f and spaces) and will discard\n",
      " |          empty strings from the result.\n",
      " |        maxsplit\n",
      " |          Maximum number of splits.\n",
      " |          -1 (the default value) means no limit.\n",
      " |\n",
      " |      Splitting starts at the front of the string and works to the end.\n",
      " |\n",
      " |      Note, str.split() is mainly useful for data that has been intentionally\n",
      " |      delimited.  With natural text that includes punctuation, consider using\n",
      " |      the regular expression module.\n",
      " |\n",
      " |  splitlines(self, /, keepends=False)\n",
      " |      Return a list of the lines in the string, breaking at line boundaries.\n",
      " |\n",
      " |      Line breaks are not included in the resulting list unless keepends is given and\n",
      " |      true.\n",
      " |\n",
      " |  startswith(...)\n",
      " |      S.startswith(prefix[, start[, end]]) -> bool\n",
      " |\n",
      " |      Return True if S starts with the specified prefix, False otherwise.\n",
      " |      With optional start, test S beginning at that position.\n",
      " |      With optional end, stop comparing S at that position.\n",
      " |      prefix can also be a tuple of strings to try.\n",
      " |\n",
      " |  strip(self, chars=None, /)\n",
      " |      Return a copy of the string with leading and trailing whitespace removed.\n",
      " |\n",
      " |      If chars is given and not None, remove characters in chars instead.\n",
      " |\n",
      " |  swapcase(self, /)\n",
      " |      Convert uppercase characters to lowercase and lowercase characters to uppercase.\n",
      " |\n",
      " |  title(self, /)\n",
      " |      Return a version of the string where each word is titlecased.\n",
      " |\n",
      " |      More specifically, words start with uppercased characters and all remaining\n",
      " |      cased characters have lower case.\n",
      " |\n",
      " |  translate(self, table, /)\n",
      " |      Replace each character in the string using the given translation table.\n",
      " |\n",
      " |        table\n",
      " |          Translation table, which must be a mapping of Unicode ordinals to\n",
      " |          Unicode ordinals, strings, or None.\n",
      " |\n",
      " |      The table must implement lookup/indexing via __getitem__, for instance a\n",
      " |      dictionary or list.  If this operation raises LookupError, the character is\n",
      " |      left untouched.  Characters mapped to None are deleted.\n",
      " |\n",
      " |  upper(self, /)\n",
      " |      Return a copy of the string converted to uppercase.\n",
      " |\n",
      " |  zfill(self, width, /)\n",
      " |      Pad a numeric string with zeros on the left, to fill a field of the given width.\n",
      " |\n",
      " |      The string is never truncated.\n",
      " |\n",
      " |  ----------------------------------------------------------------------\n",
      " |  Static methods defined here:\n",
      " |\n",
      " |  __new__(*args, **kwargs)\n",
      " |      Create and return a new object.  See help(type) for accurate signature.\n",
      " |\n",
      " |  maketrans(...)\n",
      " |      Return a translation table usable for str.translate().\n",
      " |\n",
      " |      If there is only one argument, it must be a dictionary mapping Unicode\n",
      " |      ordinals (integers) or characters to Unicode ordinals, strings or None.\n",
      " |      Character keys will be then converted to ordinals.\n",
      " |      If there are two arguments, they must be strings of equal length, and\n",
      " |      in the resulting dictionary, each character in x will be mapped to the\n",
      " |      character at the same position in y. If there is a third argument, it\n",
      " |      must be a string, whose characters will be mapped to None in the result.\n",
      "\n"
     ]
    }
   ],
   "source": [
    "help(str)"
   ]
  },
  {
   "cell_type": "code",
   "execution_count": 50,
   "id": "dcbd0a48-fb08-4e62-bf0a-1de9f6ef6fb4",
   "metadata": {},
   "outputs": [
    {
     "data": {
      "text/plain": [
       "'SRIRAM'"
      ]
     },
     "execution_count": 50,
     "metadata": {},
     "output_type": "execute_result"
    }
   ],
   "source": [
    "str1.upper()"
   ]
  },
  {
   "cell_type": "code",
   "execution_count": 49,
   "id": "d935e508-327f-40e3-afda-8b4bdf95b284",
   "metadata": {},
   "outputs": [
    {
     "data": {
      "text/plain": [
       "'SRIRAMDHARSAN'"
      ]
     },
     "execution_count": 49,
     "metadata": {},
     "output_type": "execute_result"
    }
   ],
   "source": [
    "\"sriramdharsan\".upper()"
   ]
  },
  {
   "cell_type": "code",
   "execution_count": 52,
   "id": "e7305b0e-dd1c-490b-a041-8d25647a7b43",
   "metadata": {},
   "outputs": [
    {
     "data": {
      "text/plain": [
       "str"
      ]
     },
     "execution_count": 52,
     "metadata": {},
     "output_type": "execute_result"
    }
   ],
   "source": [
    "Skill = \"python\"\n",
    "type(Skill)"
   ]
  },
  {
   "cell_type": "code",
   "execution_count": 53,
   "id": "50a2dce4-a4cb-4bd7-a2e0-1a93d8ddd410",
   "metadata": {},
   "outputs": [
    {
     "name": "stdout",
     "output_type": "stream",
     "text": [
      "python\n"
     ]
    }
   ],
   "source": [
    "print(Skill)"
   ]
  },
  {
   "cell_type": "code",
   "execution_count": 55,
   "id": "f5e1043c-c207-49bc-a319-c192045151f7",
   "metadata": {},
   "outputs": [
    {
     "data": {
      "text/plain": [
       "'python'"
      ]
     },
     "execution_count": 55,
     "metadata": {},
     "output_type": "execute_result"
    }
   ],
   "source": [
    "Skill.lower()"
   ]
  },
  {
   "cell_type": "code",
   "execution_count": 56,
   "id": "aa95ec9b-7c98-47a7-a47e-06f27f3c2e30",
   "metadata": {},
   "outputs": [
    {
     "data": {
      "text/plain": [
       "'Python'"
      ]
     },
     "execution_count": 56,
     "metadata": {},
     "output_type": "execute_result"
    }
   ],
   "source": [
    "Skill.capitalize()"
   ]
  },
  {
   "cell_type": "code",
   "execution_count": 57,
   "id": "d4d38000-dcd1-4287-b1fd-87d06e6eb7e7",
   "metadata": {},
   "outputs": [
    {
     "data": {
      "text/plain": [
       "True"
      ]
     },
     "execution_count": 57,
     "metadata": {},
     "output_type": "execute_result"
    }
   ],
   "source": [
    "Skill.isalnum()"
   ]
  },
  {
   "cell_type": "code",
   "execution_count": 58,
   "id": "54544bc7-b962-4df9-877a-180e96bd28f7",
   "metadata": {},
   "outputs": [
    {
     "data": {
      "text/plain": [
       "False"
      ]
     },
     "execution_count": 58,
     "metadata": {},
     "output_type": "execute_result"
    }
   ],
   "source": [
    "Skill.isnumeric()"
   ]
  },
  {
   "cell_type": "code",
   "execution_count": 59,
   "id": "655ac211-4ea9-48ef-9cec-0ea100e58de4",
   "metadata": {},
   "outputs": [
    {
     "data": {
      "text/plain": [
       "True"
      ]
     },
     "execution_count": 59,
     "metadata": {},
     "output_type": "execute_result"
    }
   ],
   "source": [
    "Skill.islower()"
   ]
  },
  {
   "cell_type": "code",
   "execution_count": 60,
   "id": "bb7e8676-23b3-4c09-a361-0def1e78acfa",
   "metadata": {},
   "outputs": [
    {
     "data": {
      "text/plain": [
       "False"
      ]
     },
     "execution_count": 60,
     "metadata": {},
     "output_type": "execute_result"
    }
   ],
   "source": [
    "Skill.isupper()"
   ]
  },
  {
   "cell_type": "code",
   "execution_count": 62,
   "id": "f37249c0-e87d-4b39-9f93-ca8145e49951",
   "metadata": {},
   "outputs": [
    {
     "data": {
      "text/plain": [
       "1"
      ]
     },
     "execution_count": 62,
     "metadata": {},
     "output_type": "execute_result"
    }
   ],
   "source": [
    "Skill.find(\"y\")"
   ]
  },
  {
   "cell_type": "code",
   "execution_count": 63,
   "id": "9bd2e0ed-2068-4e09-8428-7ef496c9b8ab",
   "metadata": {},
   "outputs": [
    {
     "data": {
      "text/plain": [
       "True"
      ]
     },
     "execution_count": 63,
     "metadata": {},
     "output_type": "execute_result"
    }
   ],
   "source": [
    "Skill.isidentifier()"
   ]
  },
  {
   "cell_type": "code",
   "execution_count": 64,
   "id": "b84e53fc-3f9f-4fe5-81db-41e5e2e556ee",
   "metadata": {},
   "outputs": [
    {
     "data": {
      "text/plain": [
       "'python'"
      ]
     },
     "execution_count": 64,
     "metadata": {},
     "output_type": "execute_result"
    }
   ],
   "source": [
    "Skill.casefold()"
   ]
  },
  {
   "cell_type": "code",
   "execution_count": 66,
   "id": "2199ac24-96b0-48ee-9a15-b8bc7c8f4af9",
   "metadata": {},
   "outputs": [
    {
     "data": {
      "text/plain": [
       "1"
      ]
     },
     "execution_count": 66,
     "metadata": {},
     "output_type": "execute_result"
    }
   ],
   "source": [
    "Skill.count(\"p\")"
   ]
  },
  {
   "cell_type": "code",
   "execution_count": 67,
   "id": "14d60f22-276d-4423-ba06-8830dbbd4582",
   "metadata": {},
   "outputs": [
    {
     "data": {
      "text/plain": [
       "'python'"
      ]
     },
     "execution_count": 67,
     "metadata": {},
     "output_type": "execute_result"
    }
   ],
   "source": [
    "str.lower('PYTHON')"
   ]
  },
  {
   "cell_type": "code",
   "execution_count": 68,
   "id": "c8a1c782-a02f-4109-98c9-67348afba47c",
   "metadata": {},
   "outputs": [
    {
     "data": {
      "text/plain": [
       "'jython'"
      ]
     },
     "execution_count": 68,
     "metadata": {},
     "output_type": "execute_result"
    }
   ],
   "source": [
    "Skill.replace(\"p\",\"j\")"
   ]
  },
  {
   "cell_type": "code",
   "execution_count": 69,
   "id": "495da233-a46b-486f-9c88-64427a72e663",
   "metadata": {},
   "outputs": [],
   "source": [
    "job_profile = \"Data analyst\""
   ]
  },
  {
   "cell_type": "code",
   "execution_count": 70,
   "id": "8a33f872-6904-4650-b55d-f6012dc1e5a2",
   "metadata": {},
   "outputs": [
    {
     "data": {
      "text/plain": [
       "'Data analyst'"
      ]
     },
     "execution_count": 70,
     "metadata": {},
     "output_type": "execute_result"
    }
   ],
   "source": [
    "job_profile.format()"
   ]
  },
  {
   "cell_type": "code",
   "execution_count": 71,
   "id": "8b8e0918-bfd0-4e9b-9057-a6916008d813",
   "metadata": {},
   "outputs": [
    {
     "data": {
      "text/plain": [
       "1"
      ]
     },
     "execution_count": 71,
     "metadata": {},
     "output_type": "execute_result"
    }
   ],
   "source": [
    "job_profile.find(\"a\")"
   ]
  },
  {
   "cell_type": "code",
   "execution_count": 75,
   "id": "f2a74553-0d2f-4ec2-a696-2486eed1653c",
   "metadata": {},
   "outputs": [],
   "source": [
    "job_profile= job_profile.replace(\"a\",\"o\",2)"
   ]
  },
  {
   "cell_type": "code",
   "execution_count": 76,
   "id": "5055b52d-6afa-4c43-ad80-ff06cf28681b",
   "metadata": {},
   "outputs": [
    {
     "data": {
      "text/plain": [
       "['Doto', 'analyst']"
      ]
     },
     "execution_count": 76,
     "metadata": {},
     "output_type": "execute_result"
    }
   ],
   "source": [
    "job_profile.split()"
   ]
  },
  {
   "cell_type": "code",
   "execution_count": 79,
   "id": "667dd287-9612-49f0-840d-717760e5177b",
   "metadata": {},
   "outputs": [
    {
     "data": {
      "text/plain": [
       "'data analyst'"
      ]
     },
     "execution_count": 79,
     "metadata": {},
     "output_type": "execute_result"
    }
   ],
   "source": [
    "str.__add__(\"data\", \" \" \"analyst\")"
   ]
  },
  {
   "cell_type": "code",
   "execution_count": 80,
   "id": "5ff5ca4e-f59f-402e-811e-19a8be494c59",
   "metadata": {},
   "outputs": [
    {
     "data": {
      "text/plain": [
       "True"
      ]
     },
     "execution_count": 80,
     "metadata": {},
     "output_type": "execute_result"
    }
   ],
   "source": [
    "job_profile.endswith('t')"
   ]
  },
  {
   "cell_type": "code",
   "execution_count": 81,
   "id": "7de623de-4293-4d88-b557-12a58800b853",
   "metadata": {},
   "outputs": [
    {
     "data": {
      "text/plain": [
       "'Doto analystDoto analystDoto analystDoto analystDoto analystDoto analystDoto analystDoto analystDoto analystDoto analyst'"
      ]
     },
     "execution_count": 81,
     "metadata": {},
     "output_type": "execute_result"
    }
   ],
   "source": [
    "job_profile*10"
   ]
  },
  {
   "cell_type": "code",
   "execution_count": 82,
   "id": "5c436984-1a50-4458-9dba-694aea724bb2",
   "metadata": {},
   "outputs": [
    {
     "data": {
      "text/plain": [
       "12"
      ]
     },
     "execution_count": 82,
     "metadata": {},
     "output_type": "execute_result"
    }
   ],
   "source": [
    "len(job_profile)"
   ]
  },
  {
   "cell_type": "code",
   "execution_count": 5,
   "id": "242ecfc5-f3fd-424e-b61b-7e8a18791e15",
   "metadata": {},
   "outputs": [
    {
     "name": "stdout",
     "output_type": "stream",
     "text": [
      "My name is sriramdharsan, i am 20 years old, currently working as a 20 at 20 in SEO Analyst location\n"
     ]
    }
   ],
   "source": [
    "name = 'sriramdharsan'\n",
    "age = 20\n",
    "job_desgination = 'SEO Analyst'\n",
    "c_name = 'saasant'\n",
    "loc= 'Coimbatore'\n",
    "print('My name is {0}, i am {1} years old, currently working as a {1} at {1} in {2} location'.format(name,age,job_desgination,c_name,loc))"
   ]
  },
  {
   "cell_type": "code",
   "execution_count": 31,
   "id": "d7808be5-aa1c-4cda-88b0-f0c51041c040",
   "metadata": {},
   "outputs": [
    {
     "data": {
      "text/plain": [
       "'role: SEO Analyst'"
      ]
     },
     "execution_count": 31,
     "metadata": {},
     "output_type": "execute_result"
    }
   ],
   "source": [
    "'role: {}'.format(job_desgination)"
   ]
  },
  {
   "cell_type": "code",
   "execution_count": 7,
   "id": "419f96aa-2d17-4d38-af62-898a061de393",
   "metadata": {},
   "outputs": [
    {
     "name": "stdout",
     "output_type": "stream",
     "text": [
      "Data Analyst\n"
     ]
    }
   ],
   "source": [
    "job_designation = \"Data Analyst\"\n",
    "role = \"{}\".format(job_designation)\n",
    "print(role)"
   ]
  },
  {
   "cell_type": "code",
   "execution_count": 8,
   "id": "4bbce100-8720-43b1-8c77-0776f2d41a37",
   "metadata": {},
   "outputs": [
    {
     "data": {
      "text/plain": [
       "5.0"
      ]
     },
     "execution_count": 8,
     "metadata": {},
     "output_type": "execute_result"
    }
   ],
   "source": [
    "2+3.0"
   ]
  },
  {
   "cell_type": "code",
   "execution_count": 11,
   "id": "980fdfb7-3b38-48f8-be2c-ca3c77bc574f",
   "metadata": {},
   "outputs": [],
   "source": [
    "a=10\n",
    "n=22\n",
    "c=a//n"
   ]
  },
  {
   "cell_type": "code",
   "execution_count": 12,
   "id": "f89e630a-e2f5-48b7-9cdd-39ff1da935cf",
   "metadata": {},
   "outputs": [
    {
     "data": {
      "text/plain": [
       "0"
      ]
     },
     "execution_count": 12,
     "metadata": {},
     "output_type": "execute_result"
    }
   ],
   "source": [
    "c"
   ]
  },
  {
   "cell_type": "code",
   "execution_count": 15,
   "id": "0400e8fd-c902-410f-a2ae-d20a21ebc0ab",
   "metadata": {},
   "outputs": [
    {
     "data": {
      "text/plain": [
       "20"
      ]
     },
     "execution_count": 15,
     "metadata": {},
     "output_type": "execute_result"
    }
   ],
   "source": [
    "20%22"
   ]
  },
  {
   "cell_type": "code",
   "execution_count": 16,
   "id": "861a082f-379b-46c9-bcce-2435ac788417",
   "metadata": {},
   "outputs": [],
   "source": [
    "a=b=c=10,20,30"
   ]
  },
  {
   "cell_type": "code",
   "execution_count": 17,
   "id": "2a87f6ad-ace4-441d-9458-52387b9c0076",
   "metadata": {},
   "outputs": [
    {
     "data": {
      "text/plain": [
       "(10, 20, 30)"
      ]
     },
     "execution_count": 17,
     "metadata": {},
     "output_type": "execute_result"
    }
   ],
   "source": [
    "c"
   ]
  },
  {
   "cell_type": "code",
   "execution_count": 18,
   "id": "b0ef58c3-20ed-4dbe-a863-c90c710e7d96",
   "metadata": {},
   "outputs": [
    {
     "data": {
      "text/plain": [
       "(10, 20, 30)"
      ]
     },
     "execution_count": 18,
     "metadata": {},
     "output_type": "execute_result"
    }
   ],
   "source": [
    "a"
   ]
  },
  {
   "cell_type": "code",
   "execution_count": 19,
   "id": "16abde95-e224-40c1-842f-5bf8c360889e",
   "metadata": {},
   "outputs": [],
   "source": [
    "a = 5\n",
    "b = 10"
   ]
  },
  {
   "cell_type": "code",
   "execution_count": 20,
   "id": "fbbe6802-0953-4a1a-bdbd-bc60cdf9d119",
   "metadata": {},
   "outputs": [],
   "source": [
    "temp = a"
   ]
  },
  {
   "cell_type": "code",
   "execution_count": 21,
   "id": "4a988eae-3c1a-4931-8dcf-60a4debd1f9c",
   "metadata": {},
   "outputs": [
    {
     "data": {
      "text/plain": [
       "5"
      ]
     },
     "execution_count": 21,
     "metadata": {},
     "output_type": "execute_result"
    }
   ],
   "source": [
    "temp"
   ]
  },
  {
   "cell_type": "code",
   "execution_count": 22,
   "id": "b9cf6eae-b558-429d-92c3-ced7c8c2ad0a",
   "metadata": {},
   "outputs": [],
   "source": [
    "a = b\n",
    "b = temp"
   ]
  },
  {
   "cell_type": "code",
   "execution_count": 23,
   "id": "d00f6a7a-9ded-48c1-8b4f-03b3d81e30ce",
   "metadata": {},
   "outputs": [
    {
     "name": "stdout",
     "output_type": "stream",
     "text": [
      "10 5\n"
     ]
    }
   ],
   "source": [
    "print(a,b)"
   ]
  },
  {
   "cell_type": "code",
   "execution_count": 24,
   "id": "b3771321-4b03-466c-8e29-8e25e46c0de3",
   "metadata": {},
   "outputs": [],
   "source": [
    "a = 4\n",
    "x=a+4"
   ]
  },
  {
   "cell_type": "code",
   "execution_count": 25,
   "id": "5eb938f1-8141-4039-b7db-d4247c698abf",
   "metadata": {},
   "outputs": [
    {
     "data": {
      "text/plain": [
       "8"
      ]
     },
     "execution_count": 25,
     "metadata": {},
     "output_type": "execute_result"
    }
   ],
   "source": [
    "x"
   ]
  },
  {
   "cell_type": "code",
   "execution_count": 26,
   "id": "e435e4c8-cb87-44e4-9feb-dd454adf1b4f",
   "metadata": {},
   "outputs": [],
   "source": [
    "x =4\n",
    "x = x+4"
   ]
  },
  {
   "cell_type": "code",
   "execution_count": 27,
   "id": "046ab14c-1e1e-4d16-b062-df6add0a1813",
   "metadata": {},
   "outputs": [
    {
     "data": {
      "text/plain": [
       "8"
      ]
     },
     "execution_count": 27,
     "metadata": {},
     "output_type": "execute_result"
    }
   ],
   "source": [
    "x"
   ]
  },
  {
   "cell_type": "code",
   "execution_count": 28,
   "id": "9af140a5-43ed-46be-9ab8-517df4e2fba7",
   "metadata": {},
   "outputs": [
    {
     "data": {
      "text/plain": [
       "int"
      ]
     },
     "execution_count": 28,
     "metadata": {},
     "output_type": "execute_result"
    }
   ],
   "source": [
    "type(x)"
   ]
  },
  {
   "cell_type": "code",
   "execution_count": 29,
   "id": "ff742c12-3748-4c5c-9fd1-b23b810c1bd6",
   "metadata": {},
   "outputs": [],
   "source": [
    "a=3\n",
    "b=9"
   ]
  },
  {
   "cell_type": "code",
   "execution_count": 30,
   "id": "69055e67-5724-4834-a867-7857c90bd417",
   "metadata": {},
   "outputs": [
    {
     "data": {
      "text/plain": [
       "False"
      ]
     },
     "execution_count": 30,
     "metadata": {},
     "output_type": "execute_result"
    }
   ],
   "source": [
    "a==b"
   ]
  },
  {
   "cell_type": "code",
   "execution_count": 37,
   "id": "90b590b2-d036-4513-b2cd-da32af4a6003",
   "metadata": {},
   "outputs": [
    {
     "name": "stdout",
     "output_type": "stream",
     "text": [
      "5 is positive\n"
     ]
    }
   ],
   "source": [
    "num = 5\n",
    "if num> 0:\n",
    "    print('{} is positive'.format(num))\n",
    "\n",
    "else:\n",
    "    print('nothing')"
   ]
  },
  {
   "cell_type": "code",
   "execution_count": 38,
   "id": "cdc68657-7668-4f1c-99ce-b7acff9d1f5b",
   "metadata": {},
   "outputs": [],
   "source": [
    "num = 3"
   ]
  },
  {
   "cell_type": "code",
   "execution_count": 40,
   "id": "f4ba9a5a-72b2-44d2-80b9-09480fab2c38",
   "metadata": {},
   "outputs": [
    {
     "name": "stdout",
     "output_type": "stream",
     "text": [
      "num is odd\n"
     ]
    }
   ],
   "source": [
    "if num % 2== 0:\n",
    "    ptint('num is even')\n",
    "\n",
    "else:\n",
    "    print('num is odd')\n"
   ]
  },
  {
   "cell_type": "code",
   "execution_count": 41,
   "id": "ee79c328-c4de-4426-8936-674db4662a69",
   "metadata": {},
   "outputs": [],
   "source": [
    "num = 10"
   ]
  },
  {
   "cell_type": "code",
   "execution_count": 44,
   "id": "789272c8-34f6-4739-bf61-4ecb55a2165e",
   "metadata": {},
   "outputs": [
    {
     "name": "stdout",
     "output_type": "stream",
     "text": [
      "num is even\n"
     ]
    }
   ],
   "source": [
    "if num % 2 == 0:\n",
    " print('num is even')\n",
    "\n",
    "else:\n",
    "    print('num is odd')\n"
   ]
  },
  {
   "cell_type": "code",
   "execution_count": 45,
   "id": "a2fb7d30-2193-471c-ae39-b5d8cf6a9d21",
   "metadata": {},
   "outputs": [],
   "source": [
    "num = 17"
   ]
  },
  {
   "cell_type": "code",
   "execution_count": 46,
   "id": "e33105a4-da8c-4177-adad-f6ae7345b199",
   "metadata": {},
   "outputs": [
    {
     "name": "stdout",
     "output_type": "stream",
     "text": [
      "num is odd\n"
     ]
    }
   ],
   "source": [
    "if num % 2 == 0:\n",
    "     print('num is even')\n",
    "\n",
    "else:\n",
    "    print('num is odd')\n",
    "    "
   ]
  },
  {
   "cell_type": "code",
   "execution_count": 47,
   "id": "5b0cc1c1-3992-44c5-80fa-172b6c34926c",
   "metadata": {},
   "outputs": [],
   "source": [
    "marks = 92"
   ]
  },
  {
   "cell_type": "code",
   "execution_count": 49,
   "id": "155994c9-d797-4a47-ae9a-a2699e2c71d9",
   "metadata": {},
   "outputs": [
    {
     "name": "stdout",
     "output_type": "stream",
     "text": [
      "Grade: A\n"
     ]
    }
   ],
   "source": [
    "if marks >= 90:\n",
    "    print('Grade: A')\n",
    "elif marks >= 75:\n",
    "    print('Grade : B')\n",
    "elif marks >=50:\n",
    "    print('Grade: C')\n",
    "else:\n",
    "    print('fail')"
   ]
  },
  {
   "cell_type": "code",
   "execution_count": 50,
   "id": "6096f964-c77c-4f52-8747-3cbaf43a2c26",
   "metadata": {},
   "outputs": [],
   "source": [
    "number = 90"
   ]
  },
  {
   "cell_type": "code",
   "execution_count": 54,
   "id": "ccdd1ff9-9c30-4dcf-a338-8ceda53f9ec9",
   "metadata": {},
   "outputs": [
    {
     "name": "stdout",
     "output_type": "stream",
     "text": [
      "positive and even\n"
     ]
    }
   ],
   "source": [
    "if number >= 0:\n",
    "    if number %2==0:\n",
    "        print ('positive and even')\n",
    "\n",
    "    else:\n",
    "        print('odd and positive')\n",
    "        print('positive')\n",
    "\n",
    "elif number == 0:\n",
    "    print('number is zero')\n",
    "\n",
    "else:\n",
    "    print('negative')"
   ]
  },
  {
   "cell_type": "code",
   "execution_count": 55,
   "id": "a4370e19-0ac8-4e43-accf-0051cea6307f",
   "metadata": {},
   "outputs": [],
   "source": [
    "nu = 88"
   ]
  },
  {
   "cell_type": "code",
   "execution_count": 57,
   "id": "1e7445cd-0659-4df0-b4dc-b600772d6a57",
   "metadata": {},
   "outputs": [
    {
     "name": "stdout",
     "output_type": "stream",
     "text": [
      "88 is not divisible by both 3 and 5\n"
     ]
    }
   ],
   "source": [
    "if nu % 3 == 0 and nu % 5 == 0:\n",
    "    print ('{} is divisible by both 3 and 5'. format(nu))\n",
    "\n",
    "else:\n",
    "     print ('{} is not divisible by both 3 and 5'. format(nu))"
   ]
  },
  {
   "cell_type": "code",
   "execution_count": 61,
   "id": "5a9c93e1-f2f2-44c6-b68b-52b7c8d58b62",
   "metadata": {},
   "outputs": [
    {
     "name": "stdin",
     "output_type": "stream",
     "text": [
      "type the username: username\n",
      "type the password:  1234\n"
     ]
    },
    {
     "name": "stdout",
     "output_type": "stream",
     "text": [
      "permission granted\n"
     ]
    }
   ],
   "source": [
    "user_name = input('type the username:')\n",
    "password = input ('type the password: ')\n",
    "if user_name == 'username' and password == '1234':\n",
    "    print('permission granted')\n",
    "\n",
    "else:\n",
    "    print('permission denied')"
   ]
  },
  {
   "cell_type": "code",
   "execution_count": 62,
   "id": "fb8600e3-0eda-4e12-8803-5729df684a10",
   "metadata": {},
   "outputs": [
    {
     "name": "stdout",
     "output_type": "stream",
     "text": [
      "Discount: 675.0, Final Amount: 3825.0\n"
     ]
    }
   ],
   "source": [
    "total = 4500\n",
    "if total >= 5000:\n",
    "    discount = total * 0.2\n",
    "elif total >= 3000:\n",
    "    discount = total * 0.15\n",
    "elif total >= 1000:\n",
    "    discount = total * 0.1\n",
    "else:\n",
    "    discount = 0\n",
    "\n",
    "print(f\"Discount: {discount}, Final Amount: {total - discount}\")\n"
   ]
  },
  {
   "cell_type": "code",
   "execution_count": 63,
   "id": "ad141a82-27d3-46e3-ae89-b53235742eba",
   "metadata": {},
   "outputs": [],
   "source": [
    "#lists topic\n"
   ]
  },
  {
   "cell_type": "code",
   "execution_count": 64,
   "id": "2186fba0-f9cb-4633-a4cb-eb7636844103",
   "metadata": {},
   "outputs": [],
   "source": [
    "job_skills = [\"sql\", 'python', 'r', 20,2.0]"
   ]
  },
  {
   "cell_type": "code",
   "execution_count": 65,
   "id": "a068c56c-5d65-44ff-ab70-5d62fd71acd8",
   "metadata": {},
   "outputs": [
    {
     "name": "stdout",
     "output_type": "stream",
     "text": [
      "['sql', 'python', 'r', 20, 2.0]\n"
     ]
    }
   ],
   "source": [
    "print(job_skills)"
   ]
  },
  {
   "cell_type": "code",
   "execution_count": 66,
   "id": "a9f91cb6-ea1a-476e-a0bb-a310ccc43b86",
   "metadata": {},
   "outputs": [
    {
     "data": {
      "text/plain": [
       "list"
      ]
     },
     "execution_count": 66,
     "metadata": {},
     "output_type": "execute_result"
    }
   ],
   "source": [
    "type(job_skills)"
   ]
  },
  {
   "cell_type": "code",
   "execution_count": 67,
   "id": "d4a14c1e-d920-4506-96b0-a24a82300895",
   "metadata": {},
   "outputs": [
    {
     "name": "stdout",
     "output_type": "stream",
     "text": [
      "Help on method_descriptor:\n",
      "\n",
      "append(self, object, /) unbound builtins.list method\n",
      "    Append object to the end of the list.\n",
      "\n"
     ]
    }
   ],
   "source": [
    "help(list.append)"
   ]
  },
  {
   "cell_type": "code",
   "execution_count": 68,
   "id": "31f34769-10d4-4d95-add0-717578f63d20",
   "metadata": {},
   "outputs": [],
   "source": [
    "job_skills.append(\"Advance_Excel\")"
   ]
  },
  {
   "cell_type": "code",
   "execution_count": 69,
   "id": "371ae055-554a-4c7b-9bfe-10da789da50d",
   "metadata": {},
   "outputs": [
    {
     "data": {
      "text/plain": [
       "['sql', 'python', 'r', 20, 2.0, 'Advance_Excel']"
      ]
     },
     "execution_count": 69,
     "metadata": {},
     "output_type": "execute_result"
    }
   ],
   "source": [
    "job_skills"
   ]
  },
  {
   "cell_type": "code",
   "execution_count": 70,
   "id": "d2b3376b-d8a7-4ab0-8cbe-1bf3ffcacbf4",
   "metadata": {},
   "outputs": [
    {
     "data": {
      "text/plain": [
       "'Advance_Excel'"
      ]
     },
     "execution_count": 70,
     "metadata": {},
     "output_type": "execute_result"
    }
   ],
   "source": [
    "job_skills.pop()"
   ]
  },
  {
   "cell_type": "code",
   "execution_count": 71,
   "id": "38e5f919-ca86-4724-af79-1f168669ebde",
   "metadata": {},
   "outputs": [
    {
     "data": {
      "text/plain": [
       "['sql', 'python', 'r', 20, 2.0]"
      ]
     },
     "execution_count": 71,
     "metadata": {},
     "output_type": "execute_result"
    }
   ],
   "source": [
    "job_skills"
   ]
  },
  {
   "cell_type": "code",
   "execution_count": 72,
   "id": "6f44f2be-73cd-40b4-8f78-28f6f7a1e151",
   "metadata": {},
   "outputs": [
    {
     "data": {
      "text/plain": [
       "'python'"
      ]
     },
     "execution_count": 72,
     "metadata": {},
     "output_type": "execute_result"
    }
   ],
   "source": [
    "job_skills[1]"
   ]
  },
  {
   "cell_type": "code",
   "execution_count": 74,
   "id": "44a7d8f6-c779-4293-9762-7f6dc97e519a",
   "metadata": {},
   "outputs": [],
   "source": [
    "job_skills.reverse()"
   ]
  },
  {
   "cell_type": "code",
   "execution_count": 76,
   "id": "b7d5b6cc-4930-465f-a2a7-76c2ebecabda",
   "metadata": {},
   "outputs": [
    {
     "name": "stdout",
     "output_type": "stream",
     "text": [
      "Help on built-in function reverse:\n",
      "\n",
      "reverse() method of builtins.list instance\n",
      "    Reverse *IN PLACE*.\n",
      "\n"
     ]
    }
   ],
   "source": [
    "help(job_skills.reverse)"
   ]
  },
  {
   "cell_type": "code",
   "execution_count": 77,
   "id": "eca25632-9aee-4a04-9d99-2de26c74332c",
   "metadata": {},
   "outputs": [],
   "source": [
    "job_skills.insert(2,\"skills\")"
   ]
  },
  {
   "cell_type": "code",
   "execution_count": 78,
   "id": "9e6ed8ec-7f53-4df1-b38d-d23046974cd3",
   "metadata": {},
   "outputs": [
    {
     "data": {
      "text/plain": [
       "['sql', 'python', 'skills', 'r', 20, 2.0]"
      ]
     },
     "execution_count": 78,
     "metadata": {},
     "output_type": "execute_result"
    }
   ],
   "source": [
    "job_skills"
   ]
  },
  {
   "cell_type": "code",
   "execution_count": 79,
   "id": "e4543d2e-3e4a-4111-bc29-f007e20bd543",
   "metadata": {},
   "outputs": [],
   "source": [
    "job_skills1 = str (job_skills)"
   ]
  },
  {
   "cell_type": "code",
   "execution_count": 80,
   "id": "76d87122-180a-40db-80f7-83c9320ea7e3",
   "metadata": {},
   "outputs": [
    {
     "data": {
      "text/plain": [
       "\"['sql', 'python', 'skills', 'r', 20, 2.0]\""
      ]
     },
     "execution_count": 80,
     "metadata": {},
     "output_type": "execute_result"
    }
   ],
   "source": [
    "job_skills1"
   ]
  },
  {
   "cell_type": "code",
   "execution_count": 81,
   "id": "cdbae01b-c750-4bbc-be6e-86a245bf67d6",
   "metadata": {},
   "outputs": [
    {
     "data": {
      "text/plain": [
       "str"
      ]
     },
     "execution_count": 81,
     "metadata": {},
     "output_type": "execute_result"
    }
   ],
   "source": [
    "type(job_skills1)"
   ]
  },
  {
   "cell_type": "code",
   "execution_count": 91,
   "id": "c980141a-7b0a-4490-ac9e-07dd9e192024",
   "metadata": {},
   "outputs": [],
   "source": [
    "job_skills = [\"sql\", 'python', 'r','c++']"
   ]
  },
  {
   "cell_type": "code",
   "execution_count": 91,
   "id": "8b6e6d18-c4d1-4c9d-9540-d99512be0720",
   "metadata": {},
   "outputs": [],
   "source": [
    "#* unpacking"
   ]
  },
  {
   "cell_type": "code",
   "execution_count": 82,
   "id": "5e01a690-3ee9-4600-9459-49d72e39adde",
   "metadata": {},
   "outputs": [
    {
     "data": {
      "text/plain": [
       "\"['sql', 'python', 'skills', 'r', 20, 2.0]\""
      ]
     },
     "execution_count": 82,
     "metadata": {},
     "output_type": "execute_result"
    }
   ],
   "source": [
    "job_skills1[:]"
   ]
  },
  {
   "cell_type": "code",
   "execution_count": 86,
   "id": "2ac739bb-a71d-400b-8d91-a769f99a82e3",
   "metadata": {},
   "outputs": [
    {
     "data": {
      "text/plain": [
       "'2'"
      ]
     },
     "execution_count": 86,
     "metadata": {},
     "output_type": "execute_result"
    }
   ],
   "source": [
    "job_skills1[-4]"
   ]
  },
  {
   "cell_type": "code",
   "execution_count": 92,
   "id": "9ebb2f49-52c5-4d90-a738-1523cbdc2da0",
   "metadata": {},
   "outputs": [],
   "source": [
    "skill1, skill2, *skill3 = job_skills"
   ]
  },
  {
   "cell_type": "code",
   "execution_count": 93,
   "id": "900a6f85-6bbc-4afc-a773-0f8c18240509",
   "metadata": {},
   "outputs": [
    {
     "name": "stdout",
     "output_type": "stream",
     "text": [
      "sql python ['r', 'c++']\n",
      "sql\n",
      "python\n",
      "['r', 'c++']\n"
     ]
    }
   ],
   "source": [
    "print(skill1,skill2,skill3)\n",
    "print(skill1)\n",
    "print(skill2)\n",
    "print(skill3)"
   ]
  },
  {
   "cell_type": "code",
   "execution_count": 94,
   "id": "40192427-3f99-4376-9c6f-981038172839",
   "metadata": {},
   "outputs": [],
   "source": [
    "#dictionaries in python"
   ]
  },
  {
   "cell_type": "code",
   "execution_count": 95,
   "id": "bd833c81-77d8-4b00-a8e0-0e147f54c807",
   "metadata": {},
   "outputs": [],
   "source": [
    "# variable name {key : values}\n",
    "# for dictionary"
   ]
  },
  {
   "cell_type": "code",
   "execution_count": 96,
   "id": "980eb72d-0f7c-4500-9944-5d4abf80ed1c",
   "metadata": {},
   "outputs": [],
   "source": [
    "job_type_skills = {'database': ['postgresql',2,33]}"
   ]
  },
  {
   "cell_type": "code",
   "execution_count": 97,
   "id": "907e9f88-a853-4dc0-aa7d-87fdf2c193c5",
   "metadata": {},
   "outputs": [
    {
     "data": {
      "text/plain": [
       "{'database': ['postgresql', 2, 33]}"
      ]
     },
     "execution_count": 97,
     "metadata": {},
     "output_type": "execute_result"
    }
   ],
   "source": [
    "job_type_skills "
   ]
  },
  {
   "cell_type": "code",
   "execution_count": 98,
   "id": "3f9d68bc-7f65-4b89-b017-5304c4ab73d9",
   "metadata": {},
   "outputs": [
    {
     "data": {
      "text/plain": [
       "dict"
      ]
     },
     "execution_count": 98,
     "metadata": {},
     "output_type": "execute_result"
    }
   ],
   "source": [
    "type(job_type_skills )"
   ]
  },
  {
   "cell_type": "code",
   "execution_count": 99,
   "id": "9482b469-6644-4f63-8e4d-ce472867c466",
   "metadata": {},
   "outputs": [
    {
     "data": {
      "text/plain": [
       "1"
      ]
     },
     "execution_count": 99,
     "metadata": {},
     "output_type": "execute_result"
    }
   ],
   "source": [
    "len(job_type_skills )"
   ]
  },
  {
   "cell_type": "code",
   "execution_count": 101,
   "id": "fa2642ae-e564-46d4-b2b8-e33d5ab6bf81",
   "metadata": {},
   "outputs": [
    {
     "data": {
      "text/plain": [
       "['postgresql', 2, 33]"
      ]
     },
     "execution_count": 101,
     "metadata": {},
     "output_type": "execute_result"
    }
   ],
   "source": [
    "job_type_skills.get('database')"
   ]
  },
  {
   "cell_type": "code",
   "execution_count": 102,
   "id": "76ba1be6-afd4-43b3-8fb7-c60490dcb1a7",
   "metadata": {},
   "outputs": [
    {
     "data": {
      "text/plain": [
       "dict_keys(['database'])"
      ]
     },
     "execution_count": 102,
     "metadata": {},
     "output_type": "execute_result"
    }
   ],
   "source": [
    "job_type_skills.keys()"
   ]
  },
  {
   "cell_type": "code",
   "execution_count": 103,
   "id": "7b410818-e972-4923-9af7-f9a31234765a",
   "metadata": {},
   "outputs": [],
   "source": [
    "#sets"
   ]
  },
  {
   "cell_type": "code",
   "execution_count": 104,
   "id": "d0b69af0-0210-426e-a80e-a4b9715e7687",
   "metadata": {},
   "outputs": [],
   "source": [
    "com_set = {22,89,36,\"python\",\"r\",\"python\",66,89}"
   ]
  },
  {
   "cell_type": "code",
   "execution_count": 105,
   "id": "83f60057-4415-466a-a69d-c2df1107b626",
   "metadata": {},
   "outputs": [
    {
     "data": {
      "text/plain": [
       "{22, 36, 66, 89, 'python', 'r'}"
      ]
     },
     "execution_count": 105,
     "metadata": {},
     "output_type": "execute_result"
    }
   ],
   "source": [
    "com_set"
   ]
  },
  {
   "cell_type": "code",
   "execution_count": 106,
   "id": "169c834e-3ed2-4192-8b14-7df0d1b73085",
   "metadata": {},
   "outputs": [
    {
     "data": {
      "text/plain": [
       "set"
      ]
     },
     "execution_count": 106,
     "metadata": {},
     "output_type": "execute_result"
    }
   ],
   "source": [
    "type(com_set)"
   ]
  },
  {
   "cell_type": "code",
   "execution_count": 107,
   "id": "2933e691-baac-4c2d-8608-3ee95b22cdb1",
   "metadata": {},
   "outputs": [
    {
     "data": {
      "text/plain": [
       "6"
      ]
     },
     "execution_count": 107,
     "metadata": {},
     "output_type": "execute_result"
    }
   ],
   "source": [
    "len(com_set)"
   ]
  },
  {
   "cell_type": "code",
   "execution_count": 108,
   "id": "60545419-7d19-4042-96b7-100ed91fcb45",
   "metadata": {},
   "outputs": [
    {
     "data": {
      "text/plain": [
       "'r'"
      ]
     },
     "execution_count": 108,
     "metadata": {},
     "output_type": "execute_result"
    }
   ],
   "source": [
    "com_set.pop()"
   ]
  },
  {
   "cell_type": "code",
   "execution_count": 109,
   "id": "c44208b8-6323-4e93-a1a2-0d90344c292d",
   "metadata": {},
   "outputs": [],
   "source": [
    "job1_skills = ['python','r','sql','r','python','sql','c','c++','kubernets','looker','pandas','pandas',]"
   ]
  },
  {
   "cell_type": "code",
   "execution_count": 110,
   "id": "bd92082e-250b-4f4e-94bb-6633c4a40d42",
   "metadata": {},
   "outputs": [
    {
     "data": {
      "text/plain": [
       "['python',\n",
       " 'r',\n",
       " 'sql',\n",
       " 'r',\n",
       " 'python',\n",
       " 'sql',\n",
       " 'c',\n",
       " 'c++',\n",
       " 'kubernets',\n",
       " 'looker',\n",
       " 'pandas',\n",
       " 'pandas']"
      ]
     },
     "execution_count": 110,
     "metadata": {},
     "output_type": "execute_result"
    }
   ],
   "source": [
    "job1_skills"
   ]
  },
  {
   "cell_type": "code",
   "execution_count": 111,
   "id": "6830295c-0316-4bfd-b052-e02ae11d4016",
   "metadata": {},
   "outputs": [
    {
     "data": {
      "text/plain": [
       "{'c', 'c++', 'kubernets', 'looker', 'pandas', 'python', 'r', 'sql'}"
      ]
     },
     "execution_count": 111,
     "metadata": {},
     "output_type": "execute_result"
    }
   ],
   "source": [
    "set(job1_skills)"
   ]
  },
  {
   "cell_type": "code",
   "execution_count": 112,
   "id": "1b40ad2e-3b21-4160-8e53-136ca9cc61dd",
   "metadata": {},
   "outputs": [
    {
     "data": {
      "text/plain": [
       "['c++', 'kubernets', 'python', 'sql', 'looker', 'pandas', 'r', 'c']"
      ]
     },
     "execution_count": 112,
     "metadata": {},
     "output_type": "execute_result"
    }
   ],
   "source": [
    "list(set(job1_skills))"
   ]
  },
  {
   "cell_type": "code",
   "execution_count": 113,
   "id": "2ba6f199-bfa4-4e68-818a-097ad4930172",
   "metadata": {},
   "outputs": [
    {
     "data": {
      "text/plain": [
       "list"
      ]
     },
     "execution_count": 113,
     "metadata": {},
     "output_type": "execute_result"
    }
   ],
   "source": [
    "type(job1_skills)"
   ]
  },
  {
   "cell_type": "code",
   "execution_count": 114,
   "id": "e80a94fa-0038-4ee5-a639-7dfa96dbe758",
   "metadata": {},
   "outputs": [],
   "source": [
    "#tuples"
   ]
  },
  {
   "cell_type": "code",
   "execution_count": 115,
   "id": "12be55f2-3f4f-4fcd-bc80-a546a8c2e091",
   "metadata": {},
   "outputs": [],
   "source": [
    "gag = ('c', 'c++', 'kubernets', 'looker', 'pandas', 'python', 'r', 'sql')"
   ]
  },
  {
   "cell_type": "code",
   "execution_count": 116,
   "id": "0f5189b0-782b-44ad-8ebf-6138d679498f",
   "metadata": {},
   "outputs": [
    {
     "data": {
      "text/plain": [
       "('c', 'c++', 'kubernets', 'looker', 'pandas', 'python', 'r', 'sql')"
      ]
     },
     "execution_count": 116,
     "metadata": {},
     "output_type": "execute_result"
    }
   ],
   "source": [
    "gag"
   ]
  },
  {
   "cell_type": "code",
   "execution_count": 117,
   "id": "e978c632-4e06-4c54-aea9-b25bbb515603",
   "metadata": {},
   "outputs": [
    {
     "data": {
      "text/plain": [
       "tuple"
      ]
     },
     "execution_count": 117,
     "metadata": {},
     "output_type": "execute_result"
    }
   ],
   "source": [
    "type(gag)"
   ]
  },
  {
   "cell_type": "code",
   "execution_count": 120,
   "id": "1389b23c-7e3f-495b-b10a-5ccff5ff23c2",
   "metadata": {},
   "outputs": [
    {
     "data": {
      "text/plain": [
       "1"
      ]
     },
     "execution_count": 120,
     "metadata": {},
     "output_type": "execute_result"
    }
   ],
   "source": [
    "gag.count('c++')"
   ]
  },
  {
   "cell_type": "code",
   "execution_count": 121,
   "id": "220efe55-df31-4be6-bf1d-c760a1d4ad45",
   "metadata": {},
   "outputs": [
    {
     "data": {
      "text/plain": [
       "'c'"
      ]
     },
     "execution_count": 121,
     "metadata": {},
     "output_type": "execute_result"
    }
   ],
   "source": [
    "gag[0]"
   ]
  },
  {
   "cell_type": "code",
   "execution_count": 122,
   "id": "098ce2bc-83e4-4cfd-9d18-7cc535259fab",
   "metadata": {},
   "outputs": [],
   "source": [
    "#Range"
   ]
  },
  {
   "cell_type": "code",
   "execution_count": 123,
   "id": "a2937f7a-3c4b-4b9c-9bc7-7b34c0132d49",
   "metadata": {},
   "outputs": [
    {
     "data": {
      "text/plain": [
       "range(0, 5)"
      ]
     },
     "execution_count": 123,
     "metadata": {},
     "output_type": "execute_result"
    }
   ],
   "source": [
    "range(5)"
   ]
  },
  {
   "cell_type": "code",
   "execution_count": 124,
   "id": "b3b927c2-e008-4ae2-8fa7-b55e1aeff7bd",
   "metadata": {},
   "outputs": [
    {
     "data": {
      "text/plain": [
       "range(0, 5)"
      ]
     },
     "execution_count": 124,
     "metadata": {},
     "output_type": "execute_result"
    }
   ],
   "source": [
    "range(0, 5)"
   ]
  },
  {
   "cell_type": "code",
   "execution_count": 125,
   "id": "9d8f41d0-b20c-4466-916d-29fe5b83b3b1",
   "metadata": {},
   "outputs": [
    {
     "data": {
      "text/plain": [
       "(0, 1, 2, 3, 4, 5, 6, 7, 8, 9, 10, 11)"
      ]
     },
     "execution_count": 125,
     "metadata": {},
     "output_type": "execute_result"
    }
   ],
   "source": [
    "tuple(range(0,12))"
   ]
  },
  {
   "cell_type": "code",
   "execution_count": 128,
   "id": "a01fb302-a509-41d3-8030-718d98dae80f",
   "metadata": {},
   "outputs": [
    {
     "name": "stdout",
     "output_type": "stream",
     "text": [
      "1\n",
      "2\n",
      "3\n",
      "4\n",
      "5\n",
      "6\n",
      "7\n",
      "8\n",
      "9\n",
      "10\n",
      "11\n",
      "12\n",
      "13\n",
      "14\n",
      "15\n",
      "16\n",
      "17\n"
     ]
    }
   ],
   "source": [
    "for i in range(1,18,1):\n",
    "    print (i)"
   ]
  },
  {
   "cell_type": "code",
   "execution_count": 129,
   "id": "6f25141c-b923-4bfa-928f-166288286827",
   "metadata": {},
   "outputs": [
    {
     "name": "stdout",
     "output_type": "stream",
     "text": [
      "True\n"
     ]
    }
   ],
   "source": [
    "print(5 in range(10))"
   ]
  },
  {
   "cell_type": "code",
   "execution_count": 131,
   "id": "25a1df3b-6465-45e2-968e-8658c84ca4bd",
   "metadata": {},
   "outputs": [],
   "source": [
    "a = list(range(0,100,3))"
   ]
  },
  {
   "cell_type": "code",
   "execution_count": 132,
   "id": "382a06bb-0cc8-459b-b162-4eb39e9d4082",
   "metadata": {},
   "outputs": [
    {
     "data": {
      "text/plain": [
       "[0,\n",
       " 3,\n",
       " 6,\n",
       " 9,\n",
       " 12,\n",
       " 15,\n",
       " 18,\n",
       " 21,\n",
       " 24,\n",
       " 27,\n",
       " 30,\n",
       " 33,\n",
       " 36,\n",
       " 39,\n",
       " 42,\n",
       " 45,\n",
       " 48,\n",
       " 51,\n",
       " 54,\n",
       " 57,\n",
       " 60,\n",
       " 63,\n",
       " 66,\n",
       " 69,\n",
       " 72,\n",
       " 75,\n",
       " 78,\n",
       " 81,\n",
       " 84,\n",
       " 87,\n",
       " 90,\n",
       " 93,\n",
       " 96,\n",
       " 99]"
      ]
     },
     "execution_count": 132,
     "metadata": {},
     "output_type": "execute_result"
    }
   ],
   "source": [
    "a"
   ]
  },
  {
   "cell_type": "code",
   "execution_count": 133,
   "id": "43131c74-cc35-4c19-9cb2-a21d954132af",
   "metadata": {},
   "outputs": [],
   "source": [
    "#range and loops in python"
   ]
  },
  {
   "cell_type": "code",
   "execution_count": 3,
   "id": "12ba1bfc-98cd-4966-89ef-a4a3701ea81c",
   "metadata": {},
   "outputs": [
    {
     "name": "stdout",
     "output_type": "stream",
     "text": [
      "0\n",
      "1\n",
      "2\n",
      "3\n",
      "4\n",
      "5\n",
      "6\n",
      "7\n",
      "8\n",
      "9\n",
      "10\n",
      "11\n",
      "12\n",
      "13\n",
      "14\n",
      "15\n",
      "16\n",
      "17\n",
      "18\n",
      "19\n",
      "20\n",
      "21\n",
      "22\n",
      "23\n",
      "24\n",
      "25\n",
      "26\n",
      "27\n",
      "28\n",
      "29\n",
      "30\n",
      "31\n",
      "32\n",
      "33\n",
      "34\n",
      "35\n",
      "36\n",
      "37\n",
      "38\n",
      "39\n",
      "40\n",
      "41\n",
      "42\n",
      "43\n",
      "44\n",
      "45\n",
      "46\n",
      "47\n",
      "48\n",
      "49\n",
      "50\n",
      "51\n",
      "52\n",
      "53\n",
      "54\n",
      "55\n",
      "56\n",
      "57\n",
      "58\n",
      "59\n",
      "60\n",
      "61\n",
      "62\n",
      "63\n",
      "64\n",
      "65\n",
      "66\n",
      "67\n",
      "68\n",
      "69\n",
      "70\n",
      "71\n",
      "72\n",
      "73\n",
      "74\n",
      "75\n",
      "76\n",
      "77\n",
      "78\n",
      "79\n",
      "80\n",
      "81\n",
      "82\n",
      "83\n",
      "84\n",
      "85\n",
      "86\n",
      "87\n",
      "88\n",
      "89\n",
      "90\n",
      "91\n",
      "92\n",
      "93\n",
      "94\n",
      "95\n",
      "96\n",
      "97\n",
      "98\n",
      "99\n"
     ]
    }
   ],
   "source": [
    "for number in range(100):\n",
    "    print(number)"
   ]
  },
  {
   "cell_type": "code",
   "execution_count": 4,
   "id": "4155d9a1-e5cb-4dee-a310-55c2e1045bda",
   "metadata": {},
   "outputs": [
    {
     "name": "stdout",
     "output_type": "stream",
     "text": [
      "0\n",
      "1\n",
      "2\n",
      "3\n",
      "4\n",
      "5\n"
     ]
    }
   ],
   "source": [
    "numbers = [0,1,2,3,4,5]\n",
    "for i in numbers:\n",
    "    print(i)"
   ]
  },
  {
   "cell_type": "code",
   "execution_count": 5,
   "id": "55402fac-1025-49a7-897e-66a51569f055",
   "metadata": {},
   "outputs": [],
   "source": [
    "character = \"python\""
   ]
  },
  {
   "cell_type": "code",
   "execution_count": 6,
   "id": "3b3e7e78-8326-4bc7-8ec3-21700b450b21",
   "metadata": {},
   "outputs": [
    {
     "name": "stdout",
     "output_type": "stream",
     "text": [
      "p\n",
      "y\n",
      "t\n",
      "h\n",
      "o\n",
      "n\n"
     ]
    }
   ],
   "source": [
    "for i in character:\n",
    "    print(i)"
   ]
  },
  {
   "cell_type": "code",
   "execution_count": 7,
   "id": "ed1260e6-9a79-41f0-a38b-190aedd9ef09",
   "metadata": {},
   "outputs": [],
   "source": [
    "job_experience = {\"aruna\": 6 , \"fahad\": 5, \"dhube\": 7}"
   ]
  },
  {
   "cell_type": "code",
   "execution_count": 9,
   "id": "6cda3ada-b799-4b59-8911-1723a4d544e2",
   "metadata": {},
   "outputs": [
    {
     "name": "stdout",
     "output_type": "stream",
     "text": [
      "aruna has 6 years experience\n",
      "fahad has 5 years experience\n",
      "dhube has 7 years experience\n"
     ]
    }
   ],
   "source": [
    "for key,value in job_experience.items():\n",
    "    if value>=5:\n",
    "        print(key,'has',value, 'years experience')"
   ]
  },
  {
   "cell_type": "code",
   "execution_count": 11,
   "id": "22ad1b3f-ad6c-4968-bbea-4aa70aed39f5",
   "metadata": {},
   "outputs": [
    {
     "name": "stdout",
     "output_type": "stream",
     "text": [
      "a\n",
      "p\n",
      "p\n",
      "l\n",
      "e\n"
     ]
    }
   ],
   "source": [
    "for i in \"apple\":\n",
    "    print(i)"
   ]
  },
  {
   "cell_type": "code",
   "execution_count": 14,
   "id": "e35b0b9c-a0e9-4aba-ae53-24603bd9ac96",
   "metadata": {},
   "outputs": [
    {
     "name": "stdout",
     "output_type": "stream",
     "text": [
      "loop\n",
      "apple\n"
     ]
    }
   ],
   "source": [
    "snacks = [\"loop\", \"apple\"]\n",
    "for emc in snacks:\n",
    "    print(emc)"
   ]
  },
  {
   "cell_type": "code",
   "execution_count": 16,
   "id": "6f5316c1-048b-41df-aa94-619d00a29b34",
   "metadata": {},
   "outputs": [
    {
     "name": "stdout",
     "output_type": "stream",
     "text": [
      "emc\n",
      "emc\n",
      "emc\n",
      "emc\n",
      "emc\n",
      "emc\n",
      "emc\n",
      "emc\n",
      "emc\n",
      "emc\n"
     ]
    }
   ],
   "source": [
    "for i in range(0,20,2):\n",
    "    print(\"emc\")"
   ]
  },
  {
   "cell_type": "code",
   "execution_count": 18,
   "id": "e97a6d9c-75dc-47c5-a652-65018e5c10db",
   "metadata": {},
   "outputs": [
    {
     "name": "stdout",
     "output_type": "stream",
     "text": [
      "1 *2= 2\n",
      "2 *2= 4\n",
      "3 *2= 6\n",
      "4 *2= 8\n",
      "5 *2= 10\n",
      "6 *2= 12\n",
      "7 *2= 14\n",
      "8 *2= 16\n",
      "9 *2= 18\n",
      "10 *2= 20\n"
     ]
    }
   ],
   "source": [
    "for i in range(1,11):\n",
    "    print(i,'*2=',i*2)"
   ]
  },
  {
   "cell_type": "code",
   "execution_count": 19,
   "id": "07720455-4548-488f-a212-54b560334c2c",
   "metadata": {},
   "outputs": [
    {
     "name": "stdout",
     "output_type": "stream",
     "text": [
      "1 x 3 = 3\n",
      "2 x 3 = 6\n",
      "3 x 3 = 9\n",
      "4 x 3 = 12\n",
      "5 x 3 = 15\n",
      "6 x 3 = 18\n",
      "7 x 3 = 21\n",
      "8 x 3 = 24\n",
      "9 x 3 = 27\n",
      "10 x 3 = 30\n",
      "11 x 3 = 33\n",
      "12 x 3 = 36\n",
      "13 x 3 = 39\n",
      "14 x 3 = 42\n",
      "15 x 3 = 45\n",
      "16 x 3 = 48\n",
      "17 x 3 = 51\n",
      "18 x 3 = 54\n",
      "19 x 3 = 57\n",
      "20 x 3 = 60\n"
     ]
    }
   ],
   "source": [
    "for i in range(1,21):\n",
    "    print(i, 'x 3 =', i*3)"
   ]
  },
  {
   "cell_type": "code",
   "execution_count": 22,
   "id": "e43c7c4d-7f01-4d2f-b53f-76ce6cf17492",
   "metadata": {},
   "outputs": [
    {
     "name": "stdin",
     "output_type": "stream",
     "text": [
      "print a: 2\n",
      "print b: 8\n"
     ]
    },
    {
     "name": "stdout",
     "output_type": "stream",
     "text": [
      "3\n",
      "4\n",
      "5\n",
      "6\n",
      "7\n"
     ]
    }
   ],
   "source": [
    "a = int(input('print a:'))\n",
    "b = int(input('print b:'))\n",
    "for i in range(a+1,b):\n",
    "    print(i)"
   ]
  },
  {
   "cell_type": "code",
   "execution_count": 23,
   "id": "9bb07fe7-1046-47ba-b484-203df56a987a",
   "metadata": {},
   "outputs": [
    {
     "data": {
      "text/plain": [
       "int"
      ]
     },
     "execution_count": 23,
     "metadata": {},
     "output_type": "execute_result"
    }
   ],
   "source": [
    "type(a)"
   ]
  },
  {
   "cell_type": "code",
   "execution_count": 27,
   "id": "0de223f9-8c36-4dfd-a4fe-1fedb1cbc3a4",
   "metadata": {},
   "outputs": [
    {
     "name": "stdout",
     "output_type": "stream",
     "text": [
      "2\n",
      "4\n",
      "6\n",
      "8\n",
      "10\n"
     ]
    }
   ],
   "source": [
    "for i in range (1,11):\n",
    "    if i%2==0:\n",
    "        print(i)"
   ]
  },
  {
   "cell_type": "code",
   "execution_count": 34,
   "id": "74786586-29a6-4d43-9a1d-1c181684c95b",
   "metadata": {},
   "outputs": [
    {
     "name": "stdout",
     "output_type": "stream",
     "text": [
      "5\n"
     ]
    }
   ],
   "source": [
    "count = 0\n",
    "for i in range (1,11):\n",
    "    if i%2!=0:\n",
    "        count = count +1\n",
    "print(count)"
   ]
  },
  {
   "cell_type": "code",
   "execution_count": 35,
   "id": "94f5659a-fa8f-4a95-9f74-a9dd1fcb521c",
   "metadata": {},
   "outputs": [
    {
     "name": "stdout",
     "output_type": "stream",
     "text": [
      "50\n",
      "50\n"
     ]
    }
   ],
   "source": [
    "even = 0\n",
    "odd = 0\n",
    "for i in range (1,101):\n",
    "    if i%2 == 0:\n",
    "        even = even +1\n",
    "    else:\n",
    "        odd = odd+1\n",
    "print(even)\n",
    "print(odd)\n"
   ]
  },
  {
   "cell_type": "code",
   "execution_count": null,
   "id": "b5938ea0-33dc-4499-a531-552754beae51",
   "metadata": {},
   "outputs": [],
   "source": [
    "num = 1\n",
    "while num <= 5:\n",
    "    print(num)\n",
    "    num += 1\n"
   ]
  },
  {
   "cell_type": "code",
   "execution_count": null,
   "id": "581b1b8f-14e7-4d9a-a1df-172a9cc59745",
   "metadata": {},
   "outputs": [],
   "source": [
    "string = \"python programming\""
   ]
  },
  {
   "cell_type": "code",
   "execution_count": 40,
   "id": "50e3d17c-a96d-4763-a7c9-ee307fb396a9",
   "metadata": {},
   "outputs": [
    {
     "name": "stdout",
     "output_type": "stream",
     "text": [
      "2\n"
     ]
    }
   ],
   "source": [
    "count = 0\n",
    "for i in string:\n",
    "    if i in \"aeiouAEIOU\":\n",
    "        count = count +1\n",
    "print(count)"
   ]
  },
  {
   "cell_type": "code",
   "execution_count": 48,
   "id": "a6649d34-85f9-4120-99a0-7bdff2dc6f6e",
   "metadata": {},
   "outputs": [
    {
     "name": "stdout",
     "output_type": "stream",
     "text": [
      "sum is  523\n"
     ]
    }
   ],
   "source": [
    "total = 0\n",
    "numbers = [1,22,33,22,445]\n",
    "for i in numbers:\n",
    "    total = i+total\n",
    "print('sum is ',format(total))"
   ]
  },
  {
   "cell_type": "code",
   "execution_count": 50,
   "id": "15684514-f744-409a-ab74-794eb8bc4ad5",
   "metadata": {},
   "outputs": [
    {
     "name": "stdout",
     "output_type": "stream",
     "text": [
      "11325\n"
     ]
    }
   ],
   "source": [
    "total = 0\n",
    "for i in range(151):\n",
    "    total = i+ total\n",
    "print(total)"
   ]
  },
  {
   "cell_type": "code",
   "execution_count": 53,
   "id": "8753f478-c9c7-44a1-a239-591e282fa79a",
   "metadata": {},
   "outputs": [
    {
     "name": "stdout",
     "output_type": "stream",
     "text": [
      "2 appers 3 times\n"
     ]
    }
   ],
   "source": [
    "numbers = [1, 2, 3, 2, 4, 2, 5]\n",
    "target = 2\n",
    "count = 0\n",
    "\n",
    "for i in numbers:\n",
    "    if i == target:\n",
    "        count += 1\n",
    "\n",
    "print(\"{} appers {} times\".format(target,count))"
   ]
  },
  {
   "cell_type": "code",
   "execution_count": 54,
   "id": "40c8a071-3ff9-4b9a-ba2e-73cc2cab0439",
   "metadata": {},
   "outputs": [
    {
     "name": "stdout",
     "output_type": "stream",
     "text": [
      "1 x 7 = 7\n",
      "2 x 7 = 14\n",
      "3 x 7 = 21\n",
      "4 x 7 = 28\n",
      "5 x 7 = 35\n",
      "6 x 7 = 42\n",
      "7 x 7 = 49\n",
      "8 x 7 = 56\n",
      "9 x 7 = 63\n",
      "10 x 7 = 70\n",
      "11 x 7 = 77\n",
      "12 x 7 = 84\n",
      "13 x 7 = 91\n",
      "14 x 7 = 98\n",
      "15 x 7 = 105\n",
      "16 x 7 = 112\n",
      "17 x 7 = 119\n",
      "18 x 7 = 126\n",
      "19 x 7 = 133\n",
      "20 x 7 = 140\n"
     ]
    }
   ],
   "source": [
    "for i in range (1,21):\n",
    "    print(i,\"x 7 =\", i*7)"
   ]
  },
  {
   "cell_type": "code",
   "execution_count": 55,
   "id": "63f2b364-004b-4fce-af3b-3107e1e80380",
   "metadata": {},
   "outputs": [
    {
     "name": "stdout",
     "output_type": "stream",
     "text": [
      "    *\n",
      "   ***\n",
      "  *****\n",
      " *******\n",
      "*********\n"
     ]
    }
   ],
   "source": [
    "rows = 5\n",
    "for i in range(1, rows + 1):\n",
    "    print(\" \" * (rows - i) + \"*\" * (2 * i - 1))\n"
   ]
  },
  {
   "cell_type": "code",
   "execution_count": 56,
   "id": "d1f89a4d-d7a5-4092-a6b4-c5b66cb55b7d",
   "metadata": {},
   "outputs": [
    {
     "ename": "TypeError",
     "evalue": "unsupported operand type(s) for +: 'type' and 'int'",
     "output_type": "error",
     "traceback": [
      "\u001b[1;31m---------------------------------------------------------------------------\u001b[0m",
      "\u001b[1;31mTypeError\u001b[0m                                 Traceback (most recent call last)",
      "Cell \u001b[1;32mIn[56], line 2\u001b[0m\n\u001b[0;32m      1\u001b[0m rows\u001b[38;5;241m=\u001b[39m \u001b[38;5;241m10\u001b[39m\n\u001b[1;32m----> 2\u001b[0m \u001b[38;5;28;01mfor\u001b[39;00m i \u001b[38;5;129;01min\u001b[39;00m \u001b[38;5;28mrange\u001b[39m(\u001b[38;5;241m1\u001b[39m, \u001b[38;5;28mrange\u001b[39m \u001b[38;5;241m+\u001b[39m \u001b[38;5;241m1\u001b[39m):\n\u001b[0;32m      3\u001b[0m     \u001b[38;5;28mprint\u001b[39m(\u001b[38;5;124m\"\u001b[39m\u001b[38;5;124m\"\u001b[39m \u001b[38;5;241m*\u001b[39m (rows \u001b[38;5;241m-\u001b[39m\u001b[38;5;241m1\u001b[39m) \u001b[38;5;241m+\u001b[39m \u001b[38;5;124m\"\u001b[39m\u001b[38;5;124m*\u001b[39m\u001b[38;5;124m\"\u001b[39m \u001b[38;5;241m*\u001b[39m (\u001b[38;5;241m2\u001b[39m\u001b[38;5;241m*\u001b[39mi\u001b[38;5;241m-\u001b[39m\u001b[38;5;241m1\u001b[39m))\n",
      "\u001b[1;31mTypeError\u001b[0m: unsupported operand type(s) for +: 'type' and 'int'"
     ]
    }
   ],
   "source": [
    "rows= 10\n",
    "for i in range(1, range + 1):\n",
    "    print(\"\" * (rows -1) + \"*\" * (2*i-1))"
   ]
  },
  {
   "cell_type": "code",
   "execution_count": 57,
   "id": "922aba2c-9c4e-4f7c-b047-19c54c1bd609",
   "metadata": {},
   "outputs": [
    {
     "name": "stdout",
     "output_type": "stream",
     "text": [
      "         *\n",
      "        ***\n",
      "       *****\n",
      "      *******\n",
      "     *********\n",
      "    ***********\n",
      "   *************\n",
      "  ***************\n",
      " *****************\n",
      "*******************\n"
     ]
    }
   ],
   "source": [
    "rows = 10\n",
    "for i in range(1, rows + 1):\n",
    "    print(\" \" * (rows - i) + \"*\" * (2 * i - 1))\n",
    "\n"
   ]
  },
  {
   "cell_type": "code",
   "execution_count": 58,
   "id": "eb39c1ef-7ed8-46a2-a190-5671e23f609f",
   "metadata": {},
   "outputs": [],
   "source": [
    "#while loop\n"
   ]
  },
  {
   "cell_type": "code",
   "execution_count": 59,
   "id": "61770aaf-e36e-42e0-b20e-5fb9095fe8dd",
   "metadata": {},
   "outputs": [
    {
     "name": "stdout",
     "output_type": "stream",
     "text": [
      "0\n"
     ]
    }
   ],
   "source": [
    "i = 0\n",
    "while (i==0):\n",
    "    print(i)\n",
    "    i= 1"
   ]
  },
  {
   "cell_type": "code",
   "execution_count": 60,
   "id": "54d57fb6-d338-4b52-b2a1-d7deae575b55",
   "metadata": {},
   "outputs": [
    {
     "name": "stdout",
     "output_type": "stream",
     "text": [
      "1\n",
      "2\n",
      "3\n",
      "4\n"
     ]
    }
   ],
   "source": [
    "i = 1\n",
    "while i <5:\n",
    "    print(i)\n",
    "    i = i +1"
   ]
  },
  {
   "cell_type": "code",
   "execution_count": 63,
   "id": "9acfa0fd-a548-44e1-9892-993b5400919a",
   "metadata": {},
   "outputs": [
    {
     "name": "stdout",
     "output_type": "stream",
     "text": [
      "10\n",
      "110\n"
     ]
    }
   ],
   "source": [
    "i = 10\n",
    "while(i<=200):\n",
    "    print (i)\n",
    "    i = i + 100"
   ]
  },
  {
   "cell_type": "code",
   "execution_count": 1,
   "id": "f9295a8f-c21b-4b48-a2b5-232a04c2568e",
   "metadata": {},
   "outputs": [],
   "source": [
    "import random"
   ]
  },
  {
   "cell_type": "code",
   "execution_count": 7,
   "id": "731bcd80-b509-41c2-8848-71198b7b5427",
   "metadata": {},
   "outputs": [
    {
     "data": {
      "text/plain": [
       "[11419,\n",
       " 22466,\n",
       " 16479,\n",
       " 25844,\n",
       " 25275,\n",
       " 17883,\n",
       " 12114,\n",
       " 15310,\n",
       " 2712,\n",
       " 21671,\n",
       " 26189,\n",
       " 9511,\n",
       " 14545,\n",
       " 19939,\n",
       " 23451,\n",
       " 16515,\n",
       " 7044,\n",
       " 26673,\n",
       " 21037,\n",
       " 24039,\n",
       " 21510,\n",
       " 11828,\n",
       " 28967,\n",
       " 23639,\n",
       " 11007,\n",
       " 27394,\n",
       " 8022,\n",
       " 28867,\n",
       " 4068,\n",
       " 28414,\n",
       " 2401,\n",
       " 1009]"
      ]
     },
     "execution_count": 7,
     "metadata": {},
     "output_type": "execute_result"
    }
   ],
   "source": [
    "[random.randint(1000,30000) for _i in range(32)]"
   ]
  },
  {
   "cell_type": "code",
   "execution_count": 4,
   "id": "db7b50f8-9d12-4a76-858f-ff7ba0c649d2",
   "metadata": {},
   "outputs": [],
   "source": [
    "import pandas as pd\n",
    "import numpy as np\n",
    "import matplotlib.pyplot as plt\n",
    "import seaborn as sns\n",
    "import warnings; warnings.filterwarnings('ignore')"
   ]
  },
  {
   "cell_type": "code",
   "execution_count": 51,
   "id": "4791758f-4ab9-4875-9533-30a4b32cd032",
   "metadata": {},
   "outputs": [],
   "source": [
    "df = pd.read_csv(r'C:\\Users\\ADMIN\\Downloads\\used_car_dataset.csv')"
   ]
  },
  {
   "cell_type": "code",
   "execution_count": 52,
   "id": "c5be0693-8718-475b-9d95-f19b1a80f101",
   "metadata": {},
   "outputs": [
    {
     "data": {
      "text/html": [
       "<div>\n",
       "<style scoped>\n",
       "    .dataframe tbody tr th:only-of-type {\n",
       "        vertical-align: middle;\n",
       "    }\n",
       "\n",
       "    .dataframe tbody tr th {\n",
       "        vertical-align: top;\n",
       "    }\n",
       "\n",
       "    .dataframe thead th {\n",
       "        text-align: right;\n",
       "    }\n",
       "</style>\n",
       "<table border=\"1\" class=\"dataframe\">\n",
       "  <thead>\n",
       "    <tr style=\"text-align: right;\">\n",
       "      <th></th>\n",
       "      <th>Brand</th>\n",
       "      <th>model</th>\n",
       "      <th>Year</th>\n",
       "      <th>Age</th>\n",
       "      <th>kmDriven</th>\n",
       "      <th>Transmission</th>\n",
       "      <th>Owner</th>\n",
       "      <th>FuelType</th>\n",
       "      <th>PostedDate</th>\n",
       "      <th>AdditionInfo</th>\n",
       "      <th>AskPrice</th>\n",
       "    </tr>\n",
       "  </thead>\n",
       "  <tbody>\n",
       "    <tr>\n",
       "      <th>0</th>\n",
       "      <td>Honda</td>\n",
       "      <td>City</td>\n",
       "      <td>2001</td>\n",
       "      <td>23</td>\n",
       "      <td>98,000 km</td>\n",
       "      <td>Manual</td>\n",
       "      <td>second</td>\n",
       "      <td>Petrol</td>\n",
       "      <td>Nov-24</td>\n",
       "      <td>Honda City v teck in mint condition, valid gen...</td>\n",
       "      <td>195000</td>\n",
       "    </tr>\n",
       "    <tr>\n",
       "      <th>1</th>\n",
       "      <td>Toyota</td>\n",
       "      <td>Innova</td>\n",
       "      <td>2009</td>\n",
       "      <td>15</td>\n",
       "      <td>190000.0 km</td>\n",
       "      <td>Manual</td>\n",
       "      <td>second</td>\n",
       "      <td>Diesel</td>\n",
       "      <td>Jul-24</td>\n",
       "      <td>Toyota Innova 2.5 G (Diesel) 7 Seater, 2009, D...</td>\n",
       "      <td>375000</td>\n",
       "    </tr>\n",
       "    <tr>\n",
       "      <th>2</th>\n",
       "      <td>Volkswagen</td>\n",
       "      <td>VentoTest</td>\n",
       "      <td>2010</td>\n",
       "      <td>14</td>\n",
       "      <td>77,246 km</td>\n",
       "      <td>Manual</td>\n",
       "      <td>first</td>\n",
       "      <td>Diesel</td>\n",
       "      <td>Nov-24</td>\n",
       "      <td>Volkswagen Vento 2010-2013 Diesel Breeze, 2010...</td>\n",
       "      <td>184999</td>\n",
       "    </tr>\n",
       "    <tr>\n",
       "      <th>3</th>\n",
       "      <td>Maruti Suzuki</td>\n",
       "      <td>Swift</td>\n",
       "      <td>2017</td>\n",
       "      <td>7</td>\n",
       "      <td>83,500 km</td>\n",
       "      <td>Manual</td>\n",
       "      <td>second</td>\n",
       "      <td>Diesel</td>\n",
       "      <td>Nov-24</td>\n",
       "      <td>Maruti Suzuki Swift 2017 Diesel Good Condition</td>\n",
       "      <td>565000</td>\n",
       "    </tr>\n",
       "    <tr>\n",
       "      <th>4</th>\n",
       "      <td>Maruti Suzuki</td>\n",
       "      <td>Baleno</td>\n",
       "      <td>2019</td>\n",
       "      <td>5</td>\n",
       "      <td>45,000 km</td>\n",
       "      <td>Automatic</td>\n",
       "      <td>first</td>\n",
       "      <td>Petrol</td>\n",
       "      <td>Nov-24</td>\n",
       "      <td>Maruti Suzuki Baleno Alpha CVT, 2019, Petrol</td>\n",
       "      <td>685000</td>\n",
       "    </tr>\n",
       "    <tr>\n",
       "      <th>...</th>\n",
       "      <td>...</td>\n",
       "      <td>...</td>\n",
       "      <td>...</td>\n",
       "      <td>...</td>\n",
       "      <td>...</td>\n",
       "      <td>...</td>\n",
       "      <td>...</td>\n",
       "      <td>...</td>\n",
       "      <td>...</td>\n",
       "      <td>...</td>\n",
       "      <td>...</td>\n",
       "    </tr>\n",
       "    <tr>\n",
       "      <th>9577</th>\n",
       "      <td>Skoda</td>\n",
       "      <td>Octavia</td>\n",
       "      <td>2014</td>\n",
       "      <td>10</td>\n",
       "      <td>105,904 km</td>\n",
       "      <td>Automatic</td>\n",
       "      <td>second</td>\n",
       "      <td>Diesel</td>\n",
       "      <td>Oct-24</td>\n",
       "      <td>Skoda Octavia 1.9 Elegance TDI, 2014, Diesel</td>\n",
       "      <td>1040000</td>\n",
       "    </tr>\n",
       "    <tr>\n",
       "      <th>9578</th>\n",
       "      <td>Maruti Suzuki</td>\n",
       "      <td>Alto-800</td>\n",
       "      <td>2020</td>\n",
       "      <td>4</td>\n",
       "      <td>55,000 km</td>\n",
       "      <td>Manual</td>\n",
       "      <td>first</td>\n",
       "      <td>Hybrid/CNG</td>\n",
       "      <td>Nov-24</td>\n",
       "      <td>Maruti Suzuki Alto 800 CNG LXI Optional, 2020,...</td>\n",
       "      <td>375000</td>\n",
       "    </tr>\n",
       "    <tr>\n",
       "      <th>9579</th>\n",
       "      <td>Maruti Suzuki</td>\n",
       "      <td>Ritz</td>\n",
       "      <td>2013</td>\n",
       "      <td>11</td>\n",
       "      <td>92,000 km</td>\n",
       "      <td>Manual</td>\n",
       "      <td>first</td>\n",
       "      <td>Diesel</td>\n",
       "      <td>Nov-24</td>\n",
       "      <td>Maruti Suzuki Ritz VDi, 2013, Diesel</td>\n",
       "      <td>415000</td>\n",
       "    </tr>\n",
       "    <tr>\n",
       "      <th>9580</th>\n",
       "      <td>Hyundai</td>\n",
       "      <td>Verna</td>\n",
       "      <td>2019</td>\n",
       "      <td>5</td>\n",
       "      <td>72,000 km</td>\n",
       "      <td>Automatic</td>\n",
       "      <td>first</td>\n",
       "      <td>Petrol</td>\n",
       "      <td>Oct-24</td>\n",
       "      <td>Hyundai Verna VTVT 1.6 AT SX Option, 2019, Petrol</td>\n",
       "      <td>855000</td>\n",
       "    </tr>\n",
       "    <tr>\n",
       "      <th>9581</th>\n",
       "      <td>Hyundai</td>\n",
       "      <td>New i20</td>\n",
       "      <td>2021</td>\n",
       "      <td>3</td>\n",
       "      <td>83,228 km</td>\n",
       "      <td>Manual</td>\n",
       "      <td>second</td>\n",
       "      <td>Petrol</td>\n",
       "      <td>Nov-24</td>\n",
       "      <td>Hyundai New i20 1.2 Asta IVT, 2021, Petrol</td>\n",
       "      <td>699000</td>\n",
       "    </tr>\n",
       "  </tbody>\n",
       "</table>\n",
       "<p>9582 rows × 11 columns</p>\n",
       "</div>"
      ],
      "text/plain": [
       "              Brand      model  Year  Age     kmDriven Transmission   Owner  \\\n",
       "0             Honda       City  2001   23    98,000 km       Manual  second   \n",
       "1            Toyota     Innova  2009   15  190000.0 km       Manual  second   \n",
       "2        Volkswagen  VentoTest  2010   14    77,246 km       Manual   first   \n",
       "3     Maruti Suzuki      Swift  2017    7    83,500 km       Manual  second   \n",
       "4     Maruti Suzuki     Baleno  2019    5    45,000 km    Automatic   first   \n",
       "...             ...        ...   ...  ...          ...          ...     ...   \n",
       "9577          Skoda    Octavia  2014   10   105,904 km    Automatic  second   \n",
       "9578  Maruti Suzuki   Alto-800  2020    4    55,000 km       Manual   first   \n",
       "9579  Maruti Suzuki       Ritz  2013   11    92,000 km       Manual   first   \n",
       "9580        Hyundai      Verna  2019    5    72,000 km    Automatic   first   \n",
       "9581        Hyundai    New i20  2021    3    83,228 km       Manual  second   \n",
       "\n",
       "        FuelType PostedDate  \\\n",
       "0         Petrol     Nov-24   \n",
       "1         Diesel     Jul-24   \n",
       "2         Diesel     Nov-24   \n",
       "3         Diesel     Nov-24   \n",
       "4         Petrol     Nov-24   \n",
       "...          ...        ...   \n",
       "9577      Diesel     Oct-24   \n",
       "9578  Hybrid/CNG     Nov-24   \n",
       "9579      Diesel     Nov-24   \n",
       "9580      Petrol     Oct-24   \n",
       "9581      Petrol     Nov-24   \n",
       "\n",
       "                                           AdditionInfo  AskPrice  \n",
       "0     Honda City v teck in mint condition, valid gen...    195000  \n",
       "1     Toyota Innova 2.5 G (Diesel) 7 Seater, 2009, D...    375000  \n",
       "2     Volkswagen Vento 2010-2013 Diesel Breeze, 2010...    184999  \n",
       "3        Maruti Suzuki Swift 2017 Diesel Good Condition    565000  \n",
       "4          Maruti Suzuki Baleno Alpha CVT, 2019, Petrol    685000  \n",
       "...                                                 ...       ...  \n",
       "9577       Skoda Octavia 1.9 Elegance TDI, 2014, Diesel   1040000  \n",
       "9578  Maruti Suzuki Alto 800 CNG LXI Optional, 2020,...    375000  \n",
       "9579               Maruti Suzuki Ritz VDi, 2013, Diesel    415000  \n",
       "9580  Hyundai Verna VTVT 1.6 AT SX Option, 2019, Petrol    855000  \n",
       "9581         Hyundai New i20 1.2 Asta IVT, 2021, Petrol    699000  \n",
       "\n",
       "[9582 rows x 11 columns]"
      ]
     },
     "execution_count": 52,
     "metadata": {},
     "output_type": "execute_result"
    }
   ],
   "source": [
    "df"
   ]
  },
  {
   "cell_type": "code",
   "execution_count": 12,
   "id": "3b418a4e-c340-4e8c-a009-28b151546d58",
   "metadata": {},
   "outputs": [
    {
     "name": "stdout",
     "output_type": "stream",
     "text": [
      "<class 'pandas.core.frame.DataFrame'>\n",
      "RangeIndex: 9582 entries, 0 to 9581\n",
      "Data columns (total 11 columns):\n",
      " #   Column        Non-Null Count  Dtype \n",
      "---  ------        --------------  ----- \n",
      " 0   Brand         9582 non-null   object\n",
      " 1   model         9582 non-null   object\n",
      " 2   Year          9582 non-null   int64 \n",
      " 3   Age           9582 non-null   int64 \n",
      " 4   kmDriven      9535 non-null   object\n",
      " 5   Transmission  9582 non-null   object\n",
      " 6   Owner         9582 non-null   object\n",
      " 7   FuelType      9582 non-null   object\n",
      " 8   PostedDate    9582 non-null   object\n",
      " 9   AdditionInfo  9582 non-null   object\n",
      " 10  AskPrice      9582 non-null   int64 \n",
      "dtypes: int64(3), object(8)\n",
      "memory usage: 823.6+ KB\n"
     ]
    }
   ],
   "source": [
    "df.info()"
   ]
  },
  {
   "cell_type": "code",
   "execution_count": 13,
   "id": "771a80ce-fd75-4851-9a10-ae2887fc29c5",
   "metadata": {},
   "outputs": [
    {
     "ename": "KeyError",
     "evalue": "'brand'",
     "output_type": "error",
     "traceback": [
      "\u001b[1;31m---------------------------------------------------------------------------\u001b[0m",
      "\u001b[1;31mKeyError\u001b[0m                                  Traceback (most recent call last)",
      "File \u001b[1;32m~\\anaconda3\\Lib\\site-packages\\pandas\\core\\indexes\\base.py:3805\u001b[0m, in \u001b[0;36mIndex.get_loc\u001b[1;34m(self, key)\u001b[0m\n\u001b[0;32m   3804\u001b[0m \u001b[38;5;28;01mtry\u001b[39;00m:\n\u001b[1;32m-> 3805\u001b[0m     \u001b[38;5;28;01mreturn\u001b[39;00m \u001b[38;5;28mself\u001b[39m\u001b[38;5;241m.\u001b[39m_engine\u001b[38;5;241m.\u001b[39mget_loc(casted_key)\n\u001b[0;32m   3806\u001b[0m \u001b[38;5;28;01mexcept\u001b[39;00m \u001b[38;5;167;01mKeyError\u001b[39;00m \u001b[38;5;28;01mas\u001b[39;00m err:\n",
      "File \u001b[1;32mindex.pyx:167\u001b[0m, in \u001b[0;36mpandas._libs.index.IndexEngine.get_loc\u001b[1;34m()\u001b[0m\n",
      "File \u001b[1;32mindex.pyx:196\u001b[0m, in \u001b[0;36mpandas._libs.index.IndexEngine.get_loc\u001b[1;34m()\u001b[0m\n",
      "File \u001b[1;32mpandas\\\\_libs\\\\hashtable_class_helper.pxi:7081\u001b[0m, in \u001b[0;36mpandas._libs.hashtable.PyObjectHashTable.get_item\u001b[1;34m()\u001b[0m\n",
      "File \u001b[1;32mpandas\\\\_libs\\\\hashtable_class_helper.pxi:7089\u001b[0m, in \u001b[0;36mpandas._libs.hashtable.PyObjectHashTable.get_item\u001b[1;34m()\u001b[0m\n",
      "\u001b[1;31mKeyError\u001b[0m: 'brand'",
      "\nThe above exception was the direct cause of the following exception:\n",
      "\u001b[1;31mKeyError\u001b[0m                                  Traceback (most recent call last)",
      "Cell \u001b[1;32mIn[13], line 1\u001b[0m\n\u001b[1;32m----> 1\u001b[0m df[\u001b[38;5;124m'\u001b[39m\u001b[38;5;124mbrand\u001b[39m\u001b[38;5;124m'\u001b[39m]\n",
      "File \u001b[1;32m~\\anaconda3\\Lib\\site-packages\\pandas\\core\\frame.py:4102\u001b[0m, in \u001b[0;36mDataFrame.__getitem__\u001b[1;34m(self, key)\u001b[0m\n\u001b[0;32m   4100\u001b[0m \u001b[38;5;28;01mif\u001b[39;00m \u001b[38;5;28mself\u001b[39m\u001b[38;5;241m.\u001b[39mcolumns\u001b[38;5;241m.\u001b[39mnlevels \u001b[38;5;241m>\u001b[39m \u001b[38;5;241m1\u001b[39m:\n\u001b[0;32m   4101\u001b[0m     \u001b[38;5;28;01mreturn\u001b[39;00m \u001b[38;5;28mself\u001b[39m\u001b[38;5;241m.\u001b[39m_getitem_multilevel(key)\n\u001b[1;32m-> 4102\u001b[0m indexer \u001b[38;5;241m=\u001b[39m \u001b[38;5;28mself\u001b[39m\u001b[38;5;241m.\u001b[39mcolumns\u001b[38;5;241m.\u001b[39mget_loc(key)\n\u001b[0;32m   4103\u001b[0m \u001b[38;5;28;01mif\u001b[39;00m is_integer(indexer):\n\u001b[0;32m   4104\u001b[0m     indexer \u001b[38;5;241m=\u001b[39m [indexer]\n",
      "File \u001b[1;32m~\\anaconda3\\Lib\\site-packages\\pandas\\core\\indexes\\base.py:3812\u001b[0m, in \u001b[0;36mIndex.get_loc\u001b[1;34m(self, key)\u001b[0m\n\u001b[0;32m   3807\u001b[0m     \u001b[38;5;28;01mif\u001b[39;00m \u001b[38;5;28misinstance\u001b[39m(casted_key, \u001b[38;5;28mslice\u001b[39m) \u001b[38;5;129;01mor\u001b[39;00m (\n\u001b[0;32m   3808\u001b[0m         \u001b[38;5;28misinstance\u001b[39m(casted_key, abc\u001b[38;5;241m.\u001b[39mIterable)\n\u001b[0;32m   3809\u001b[0m         \u001b[38;5;129;01mand\u001b[39;00m \u001b[38;5;28many\u001b[39m(\u001b[38;5;28misinstance\u001b[39m(x, \u001b[38;5;28mslice\u001b[39m) \u001b[38;5;28;01mfor\u001b[39;00m x \u001b[38;5;129;01min\u001b[39;00m casted_key)\n\u001b[0;32m   3810\u001b[0m     ):\n\u001b[0;32m   3811\u001b[0m         \u001b[38;5;28;01mraise\u001b[39;00m InvalidIndexError(key)\n\u001b[1;32m-> 3812\u001b[0m     \u001b[38;5;28;01mraise\u001b[39;00m \u001b[38;5;167;01mKeyError\u001b[39;00m(key) \u001b[38;5;28;01mfrom\u001b[39;00m \u001b[38;5;21;01merr\u001b[39;00m\n\u001b[0;32m   3813\u001b[0m \u001b[38;5;28;01mexcept\u001b[39;00m \u001b[38;5;167;01mTypeError\u001b[39;00m:\n\u001b[0;32m   3814\u001b[0m     \u001b[38;5;66;03m# If we have a listlike key, _check_indexing_error will raise\u001b[39;00m\n\u001b[0;32m   3815\u001b[0m     \u001b[38;5;66;03m#  InvalidIndexError. Otherwise we fall through and re-raise\u001b[39;00m\n\u001b[0;32m   3816\u001b[0m     \u001b[38;5;66;03m#  the TypeError.\u001b[39;00m\n\u001b[0;32m   3817\u001b[0m     \u001b[38;5;28mself\u001b[39m\u001b[38;5;241m.\u001b[39m_check_indexing_error(key)\n",
      "\u001b[1;31mKeyError\u001b[0m: 'brand'"
     ]
    }
   ],
   "source": []
  },
  {
   "cell_type": "code",
   "execution_count": 14,
   "id": "4ca5e4f3-917a-47ca-8e8c-d28442821476",
   "metadata": {},
   "outputs": [
    {
     "data": {
      "text/html": [
       "<div>\n",
       "<style scoped>\n",
       "    .dataframe tbody tr th:only-of-type {\n",
       "        vertical-align: middle;\n",
       "    }\n",
       "\n",
       "    .dataframe tbody tr th {\n",
       "        vertical-align: top;\n",
       "    }\n",
       "\n",
       "    .dataframe thead th {\n",
       "        text-align: right;\n",
       "    }\n",
       "</style>\n",
       "<table border=\"1\" class=\"dataframe\">\n",
       "  <thead>\n",
       "    <tr style=\"text-align: right;\">\n",
       "      <th></th>\n",
       "      <th>Year</th>\n",
       "      <th>Age</th>\n",
       "      <th>AskPrice</th>\n",
       "    </tr>\n",
       "  </thead>\n",
       "  <tbody>\n",
       "    <tr>\n",
       "      <th>count</th>\n",
       "      <td>9582.000000</td>\n",
       "      <td>9582.000000</td>\n",
       "      <td>9.582000e+03</td>\n",
       "    </tr>\n",
       "    <tr>\n",
       "      <th>mean</th>\n",
       "      <td>2016.361094</td>\n",
       "      <td>7.638906</td>\n",
       "      <td>1.063609e+06</td>\n",
       "    </tr>\n",
       "    <tr>\n",
       "      <th>std</th>\n",
       "      <td>4.087226</td>\n",
       "      <td>4.087226</td>\n",
       "      <td>1.658495e+06</td>\n",
       "    </tr>\n",
       "    <tr>\n",
       "      <th>min</th>\n",
       "      <td>1986.000000</td>\n",
       "      <td>0.000000</td>\n",
       "      <td>1.500000e+04</td>\n",
       "    </tr>\n",
       "    <tr>\n",
       "      <th>25%</th>\n",
       "      <td>2014.000000</td>\n",
       "      <td>5.000000</td>\n",
       "      <td>3.610000e+05</td>\n",
       "    </tr>\n",
       "    <tr>\n",
       "      <th>50%</th>\n",
       "      <td>2017.000000</td>\n",
       "      <td>7.000000</td>\n",
       "      <td>5.990000e+05</td>\n",
       "    </tr>\n",
       "    <tr>\n",
       "      <th>75%</th>\n",
       "      <td>2019.000000</td>\n",
       "      <td>10.000000</td>\n",
       "      <td>1.125000e+06</td>\n",
       "    </tr>\n",
       "    <tr>\n",
       "      <th>max</th>\n",
       "      <td>2024.000000</td>\n",
       "      <td>38.000000</td>\n",
       "      <td>4.250000e+07</td>\n",
       "    </tr>\n",
       "  </tbody>\n",
       "</table>\n",
       "</div>"
      ],
      "text/plain": [
       "              Year          Age      AskPrice\n",
       "count  9582.000000  9582.000000  9.582000e+03\n",
       "mean   2016.361094     7.638906  1.063609e+06\n",
       "std       4.087226     4.087226  1.658495e+06\n",
       "min    1986.000000     0.000000  1.500000e+04\n",
       "25%    2014.000000     5.000000  3.610000e+05\n",
       "50%    2017.000000     7.000000  5.990000e+05\n",
       "75%    2019.000000    10.000000  1.125000e+06\n",
       "max    2024.000000    38.000000  4.250000e+07"
      ]
     },
     "execution_count": 14,
     "metadata": {},
     "output_type": "execute_result"
    }
   ],
   "source": [
    "df.describe()"
   ]
  },
  {
   "cell_type": "code",
   "execution_count": 16,
   "id": "da6c1df8-6e41-4907-9153-0b2f9fb8a6c3",
   "metadata": {},
   "outputs": [
    {
     "name": "stdout",
     "output_type": "stream",
     "text": [
      "<class 'pandas.core.series.Series'>\n",
      "RangeIndex: 9582 entries, 0 to 9581\n",
      "Series name: Brand\n",
      "Non-Null Count  Dtype \n",
      "--------------  ----- \n",
      "9582 non-null   object\n",
      "dtypes: object(1)\n",
      "memory usage: 75.0+ KB\n"
     ]
    }
   ],
   "source": [
    "df['Brand'].info()"
   ]
  },
  {
   "cell_type": "code",
   "execution_count": 17,
   "id": "3f94471a-97cc-46fc-aa7e-0c581cfcf783",
   "metadata": {},
   "outputs": [],
   "source": [
    "#df[columnname].info()"
   ]
  },
  {
   "cell_type": "code",
   "execution_count": 19,
   "id": "341a1a20-ef41-4e1c-aecd-835b7a869298",
   "metadata": {},
   "outputs": [
    {
     "name": "stdout",
     "output_type": "stream",
     "text": [
      "<class 'pandas.core.series.Series'>\n",
      "RangeIndex: 9582 entries, 0 to 9581\n",
      "Series name: model\n",
      "Non-Null Count  Dtype \n",
      "--------------  ----- \n",
      "9582 non-null   object\n",
      "dtypes: object(1)\n",
      "memory usage: 75.0+ KB\n"
     ]
    }
   ],
   "source": [
    "df['model'].info()"
   ]
  },
  {
   "cell_type": "code",
   "execution_count": 20,
   "id": "bf3b1088-aed2-46ff-92e4-393521d8a719",
   "metadata": {},
   "outputs": [
    {
     "data": {
      "text/plain": [
       "0       False\n",
       "1       False\n",
       "2       False\n",
       "3       False\n",
       "4       False\n",
       "        ...  \n",
       "9577    False\n",
       "9578    False\n",
       "9579    False\n",
       "9580    False\n",
       "9581    False\n",
       "Name: model, Length: 9582, dtype: bool"
      ]
     },
     "execution_count": 20,
     "metadata": {},
     "output_type": "execute_result"
    }
   ],
   "source": [
    "df['model'].isnull()"
   ]
  },
  {
   "cell_type": "code",
   "execution_count": 21,
   "id": "55851faa-d80b-4501-a4c4-67716eb5bdcd",
   "metadata": {},
   "outputs": [
    {
     "data": {
      "text/plain": [
       "pandas.core.series.Series"
      ]
     },
     "execution_count": 21,
     "metadata": {},
     "output_type": "execute_result"
    }
   ],
   "source": [
    "type(df['model'])"
   ]
  },
  {
   "cell_type": "code",
   "execution_count": 23,
   "id": "ec7fc01c-cdc0-4a90-8003-d26a5bfacb63",
   "metadata": {},
   "outputs": [
    {
     "data": {
      "text/plain": [
       "400"
      ]
     },
     "execution_count": 23,
     "metadata": {},
     "output_type": "execute_result"
    }
   ],
   "source": [
    "unique_model=df['model'].unique()\n",
    "final_model = len(unique_model)\n",
    "final_model "
   ]
  },
  {
   "cell_type": "code",
   "execution_count": 24,
   "id": "f0c57563-efa0-4d84-974b-95efde450751",
   "metadata": {},
   "outputs": [
    {
     "data": {
      "text/plain": [
       "400"
      ]
     },
     "execution_count": 24,
     "metadata": {},
     "output_type": "execute_result"
    }
   ],
   "source": [
    "len(df['model'].unique())"
   ]
  },
  {
   "cell_type": "code",
   "execution_count": 28,
   "id": "c4f4cfa2-b376-4f02-93cc-8ae78ec08666",
   "metadata": {},
   "outputs": [
    {
     "data": {
      "text/plain": [
       "array(['Manual', 'Automatic'], dtype=object)"
      ]
     },
     "execution_count": 28,
     "metadata": {},
     "output_type": "execute_result"
    }
   ],
   "source": [
    "df['Transmission'].unique()\n"
   ]
  },
  {
   "cell_type": "code",
   "execution_count": 30,
   "id": "1ea6c1c0-c5e1-478a-845e-4483fdffa3b4",
   "metadata": {},
   "outputs": [
    {
     "data": {
      "text/plain": [
       "2"
      ]
     },
     "execution_count": 30,
     "metadata": {},
     "output_type": "execute_result"
    }
   ],
   "source": [
    "len(df['Transmission'].unique())\n"
   ]
  },
  {
   "cell_type": "code",
   "execution_count": 31,
   "id": "442ad07f-fb58-477b-8f61-70414e0e3353",
   "metadata": {},
   "outputs": [
    {
     "name": "stdout",
     "output_type": "stream",
     "text": [
      "<class 'pandas.core.series.Series'>\n",
      "RangeIndex: 9582 entries, 0 to 9581\n",
      "Series name: FuelType\n",
      "Non-Null Count  Dtype \n",
      "--------------  ----- \n",
      "9582 non-null   object\n",
      "dtypes: object(1)\n",
      "memory usage: 75.0+ KB\n"
     ]
    }
   ],
   "source": [
    "df['FuelType'].info()"
   ]
  },
  {
   "cell_type": "code",
   "execution_count": 33,
   "id": "a8ad3b28-2842-4ccd-a88a-293b40680ed6",
   "metadata": {},
   "outputs": [
    {
     "data": {
      "text/plain": [
       "3"
      ]
     },
     "execution_count": 33,
     "metadata": {},
     "output_type": "execute_result"
    }
   ],
   "source": [
    "len(df['FuelType'].unique())"
   ]
  },
  {
   "cell_type": "code",
   "execution_count": 34,
   "id": "1970af5c-f340-4762-b00c-54e0c760b28b",
   "metadata": {},
   "outputs": [
    {
     "data": {
      "text/plain": [
       "42500000"
      ]
     },
     "execution_count": 34,
     "metadata": {},
     "output_type": "execute_result"
    }
   ],
   "source": [
    "df['AskPrice'].max()"
   ]
  },
  {
   "cell_type": "code",
   "execution_count": 35,
   "id": "a7d002fc-2b16-4c31-9c0e-32b5305ab6a6",
   "metadata": {},
   "outputs": [
    {
     "data": {
      "text/plain": [
       "15000"
      ]
     },
     "execution_count": 35,
     "metadata": {},
     "output_type": "execute_result"
    }
   ],
   "source": [
    "df['AskPrice'].min()"
   ]
  },
  {
   "cell_type": "code",
   "execution_count": 36,
   "id": "fd27f099-f56e-4865-988a-b4d01a2b5902",
   "metadata": {},
   "outputs": [
    {
     "data": {
      "text/plain": [
       "599000.0"
      ]
     },
     "execution_count": 36,
     "metadata": {},
     "output_type": "execute_result"
    }
   ],
   "source": [
    "df['AskPrice'].median()"
   ]
  },
  {
   "cell_type": "code",
   "execution_count": 37,
   "id": "d332cce6-24e8-4ccb-af5c-400f736744d6",
   "metadata": {},
   "outputs": [
    {
     "name": "stdout",
     "output_type": "stream",
     "text": [
      "<class 'pandas.core.series.Series'>\n",
      "RangeIndex: 9582 entries, 0 to 9581\n",
      "Series name: AskPrice\n",
      "Non-Null Count  Dtype\n",
      "--------------  -----\n",
      "9582 non-null   int64\n",
      "dtypes: int64(1)\n",
      "memory usage: 75.0 KB\n"
     ]
    }
   ],
   "source": [
    "df['AskPrice'].info()"
   ]
  },
  {
   "cell_type": "code",
   "execution_count": 38,
   "id": "e42773d7-d8a8-4e11-84b9-f9bd3d6d9237",
   "metadata": {},
   "outputs": [
    {
     "ename": "TypeError",
     "evalue": "Series.isnull() takes 1 positional argument but 2 were given",
     "output_type": "error",
     "traceback": [
      "\u001b[1;31m---------------------------------------------------------------------------\u001b[0m",
      "\u001b[1;31mTypeError\u001b[0m                                 Traceback (most recent call last)",
      "Cell \u001b[1;32mIn[38], line 1\u001b[0m\n\u001b[1;32m----> 1\u001b[0m df[\u001b[38;5;124m'\u001b[39m\u001b[38;5;124mAskPrice\u001b[39m\u001b[38;5;124m'\u001b[39m][df[\u001b[38;5;124m'\u001b[39m\u001b[38;5;124mAskPrice\u001b[39m\u001b[38;5;124m'\u001b[39m]\u001b[38;5;241m.\u001b[39misnull]\n",
      "File \u001b[1;32m~\\anaconda3\\Lib\\site-packages\\pandas\\core\\series.py:1097\u001b[0m, in \u001b[0;36mSeries.__getitem__\u001b[1;34m(self, key)\u001b[0m\n\u001b[0;32m   1095\u001b[0m \u001b[38;5;28;01mdef\u001b[39;00m \u001b[38;5;21m__getitem__\u001b[39m(\u001b[38;5;28mself\u001b[39m, key):\n\u001b[0;32m   1096\u001b[0m     check_dict_or_set_indexers(key)\n\u001b[1;32m-> 1097\u001b[0m     key \u001b[38;5;241m=\u001b[39m com\u001b[38;5;241m.\u001b[39mapply_if_callable(key, \u001b[38;5;28mself\u001b[39m)\n\u001b[0;32m   1099\u001b[0m     \u001b[38;5;28;01mif\u001b[39;00m key \u001b[38;5;129;01mis\u001b[39;00m \u001b[38;5;28mEllipsis\u001b[39m:\n\u001b[0;32m   1100\u001b[0m         \u001b[38;5;28;01mif\u001b[39;00m using_copy_on_write() \u001b[38;5;129;01mor\u001b[39;00m warn_copy_on_write():\n",
      "File \u001b[1;32m~\\anaconda3\\Lib\\site-packages\\pandas\\core\\common.py:384\u001b[0m, in \u001b[0;36mapply_if_callable\u001b[1;34m(maybe_callable, obj, **kwargs)\u001b[0m\n\u001b[0;32m    373\u001b[0m \u001b[38;5;250m\u001b[39m\u001b[38;5;124;03m\"\"\"\u001b[39;00m\n\u001b[0;32m    374\u001b[0m \u001b[38;5;124;03mEvaluate possibly callable input using obj and kwargs if it is callable,\u001b[39;00m\n\u001b[0;32m    375\u001b[0m \u001b[38;5;124;03motherwise return as it is.\u001b[39;00m\n\u001b[1;32m   (...)\u001b[0m\n\u001b[0;32m    381\u001b[0m \u001b[38;5;124;03m**kwargs\u001b[39;00m\n\u001b[0;32m    382\u001b[0m \u001b[38;5;124;03m\"\"\"\u001b[39;00m\n\u001b[0;32m    383\u001b[0m \u001b[38;5;28;01mif\u001b[39;00m \u001b[38;5;28mcallable\u001b[39m(maybe_callable):\n\u001b[1;32m--> 384\u001b[0m     \u001b[38;5;28;01mreturn\u001b[39;00m maybe_callable(obj, \u001b[38;5;241m*\u001b[39m\u001b[38;5;241m*\u001b[39mkwargs)\n\u001b[0;32m    386\u001b[0m \u001b[38;5;28;01mreturn\u001b[39;00m maybe_callable\n",
      "\u001b[1;31mTypeError\u001b[0m: Series.isnull() takes 1 positional argument but 2 were given"
     ]
    }
   ],
   "source": [
    "df['AskPrice'][df['AskPrice'].isnull]"
   ]
  },
  {
   "cell_type": "code",
   "execution_count": 39,
   "id": "852d4a72-e407-4cbe-9d0a-157f306e5559",
   "metadata": {},
   "outputs": [
    {
     "data": {
      "text/plain": [
       "Series([], Name: AskPrice, dtype: int64)"
      ]
     },
     "execution_count": 39,
     "metadata": {},
     "output_type": "execute_result"
    }
   ],
   "source": [
    "df['AskPrice'][df['AskPrice'].isnull()]"
   ]
  },
  {
   "cell_type": "code",
   "execution_count": 40,
   "id": "e7cceb7a-aff6-4928-8951-9f4ff541ee46",
   "metadata": {},
   "outputs": [
    {
     "data": {
      "text/plain": [
       "0        195000\n",
       "1        375000\n",
       "2        184999\n",
       "3        565000\n",
       "4        685000\n",
       "         ...   \n",
       "9577    1040000\n",
       "9578     375000\n",
       "9579     415000\n",
       "9580     855000\n",
       "9581     699000\n",
       "Name: AskPrice, Length: 9582, dtype: int64"
      ]
     },
     "execution_count": 40,
     "metadata": {},
     "output_type": "execute_result"
    }
   ],
   "source": [
    "df['AskPrice'].dropna()"
   ]
  },
  {
   "cell_type": "code",
   "execution_count": 41,
   "id": "29bcceac-71c5-45d8-b63c-f6a1cd8da04e",
   "metadata": {},
   "outputs": [
    {
     "ename": "ValueError",
     "evalue": "Must specify a fill 'value' or 'method'.",
     "output_type": "error",
     "traceback": [
      "\u001b[1;31m---------------------------------------------------------------------------\u001b[0m",
      "\u001b[1;31mValueError\u001b[0m                                Traceback (most recent call last)",
      "Cell \u001b[1;32mIn[41], line 1\u001b[0m\n\u001b[1;32m----> 1\u001b[0m df[\u001b[38;5;124m'\u001b[39m\u001b[38;5;124mAskPrice\u001b[39m\u001b[38;5;124m'\u001b[39m]\u001b[38;5;241m.\u001b[39mfillna()\n",
      "File \u001b[1;32m~\\anaconda3\\Lib\\site-packages\\pandas\\core\\generic.py:7293\u001b[0m, in \u001b[0;36mNDFrame.fillna\u001b[1;34m(self, value, method, axis, inplace, limit, downcast)\u001b[0m\n\u001b[0;32m   7286\u001b[0m         \u001b[38;5;28;01mif\u001b[39;00m ctr \u001b[38;5;241m<\u001b[39m\u001b[38;5;241m=\u001b[39m ref_count:\n\u001b[0;32m   7287\u001b[0m             warnings\u001b[38;5;241m.\u001b[39mwarn(\n\u001b[0;32m   7288\u001b[0m                 _chained_assignment_warning_method_msg,\n\u001b[0;32m   7289\u001b[0m                 \u001b[38;5;167;01mFutureWarning\u001b[39;00m,\n\u001b[0;32m   7290\u001b[0m                 stacklevel\u001b[38;5;241m=\u001b[39m\u001b[38;5;241m2\u001b[39m,\n\u001b[0;32m   7291\u001b[0m             )\n\u001b[1;32m-> 7293\u001b[0m value, method \u001b[38;5;241m=\u001b[39m validate_fillna_kwargs(value, method)\n\u001b[0;32m   7294\u001b[0m \u001b[38;5;28;01mif\u001b[39;00m method \u001b[38;5;129;01mis\u001b[39;00m \u001b[38;5;129;01mnot\u001b[39;00m \u001b[38;5;28;01mNone\u001b[39;00m:\n\u001b[0;32m   7295\u001b[0m     warnings\u001b[38;5;241m.\u001b[39mwarn(\n\u001b[0;32m   7296\u001b[0m         \u001b[38;5;124mf\u001b[39m\u001b[38;5;124m\"\u001b[39m\u001b[38;5;132;01m{\u001b[39;00m\u001b[38;5;28mtype\u001b[39m(\u001b[38;5;28mself\u001b[39m)\u001b[38;5;241m.\u001b[39m\u001b[38;5;18m__name__\u001b[39m\u001b[38;5;132;01m}\u001b[39;00m\u001b[38;5;124m.fillna with \u001b[39m\u001b[38;5;124m'\u001b[39m\u001b[38;5;124mmethod\u001b[39m\u001b[38;5;124m'\u001b[39m\u001b[38;5;124m is deprecated and \u001b[39m\u001b[38;5;124m\"\u001b[39m\n\u001b[0;32m   7297\u001b[0m         \u001b[38;5;124m\"\u001b[39m\u001b[38;5;124mwill raise in a future version. Use obj.ffill() or obj.bfill() \u001b[39m\u001b[38;5;124m\"\u001b[39m\n\u001b[1;32m   (...)\u001b[0m\n\u001b[0;32m   7300\u001b[0m         stacklevel\u001b[38;5;241m=\u001b[39mfind_stack_level(),\n\u001b[0;32m   7301\u001b[0m     )\n",
      "File \u001b[1;32m~\\anaconda3\\Lib\\site-packages\\pandas\\util\\_validators.py:293\u001b[0m, in \u001b[0;36mvalidate_fillna_kwargs\u001b[1;34m(value, method, validate_scalar_dict_value)\u001b[0m\n\u001b[0;32m    290\u001b[0m \u001b[38;5;28;01mfrom\u001b[39;00m \u001b[38;5;21;01mpandas\u001b[39;00m\u001b[38;5;21;01m.\u001b[39;00m\u001b[38;5;21;01mcore\u001b[39;00m\u001b[38;5;21;01m.\u001b[39;00m\u001b[38;5;21;01mmissing\u001b[39;00m \u001b[38;5;28;01mimport\u001b[39;00m clean_fill_method\n\u001b[0;32m    292\u001b[0m \u001b[38;5;28;01mif\u001b[39;00m value \u001b[38;5;129;01mis\u001b[39;00m \u001b[38;5;28;01mNone\u001b[39;00m \u001b[38;5;129;01mand\u001b[39;00m method \u001b[38;5;129;01mis\u001b[39;00m \u001b[38;5;28;01mNone\u001b[39;00m:\n\u001b[1;32m--> 293\u001b[0m     \u001b[38;5;28;01mraise\u001b[39;00m \u001b[38;5;167;01mValueError\u001b[39;00m(\u001b[38;5;124m\"\u001b[39m\u001b[38;5;124mMust specify a fill \u001b[39m\u001b[38;5;124m'\u001b[39m\u001b[38;5;124mvalue\u001b[39m\u001b[38;5;124m'\u001b[39m\u001b[38;5;124m or \u001b[39m\u001b[38;5;124m'\u001b[39m\u001b[38;5;124mmethod\u001b[39m\u001b[38;5;124m'\u001b[39m\u001b[38;5;124m.\u001b[39m\u001b[38;5;124m\"\u001b[39m)\n\u001b[0;32m    294\u001b[0m \u001b[38;5;28;01mif\u001b[39;00m value \u001b[38;5;129;01mis\u001b[39;00m \u001b[38;5;28;01mNone\u001b[39;00m \u001b[38;5;129;01mand\u001b[39;00m method \u001b[38;5;129;01mis\u001b[39;00m \u001b[38;5;129;01mnot\u001b[39;00m \u001b[38;5;28;01mNone\u001b[39;00m:\n\u001b[0;32m    295\u001b[0m     method \u001b[38;5;241m=\u001b[39m clean_fill_method(method)\n",
      "\u001b[1;31mValueError\u001b[0m: Must specify a fill 'value' or 'method'."
     ]
    }
   ],
   "source": [
    "df['AskPrice'].fillna()"
   ]
  },
  {
   "cell_type": "code",
   "execution_count": 46,
   "id": "2c90080a-16ea-4bc1-b1c5-9b0324d75c67",
   "metadata": {},
   "outputs": [
    {
     "data": {
      "text/plain": [
       "<Axes: xlabel='Brand', ylabel='AskPrice'>"
      ]
     },
     "execution_count": 46,
     "metadata": {},
     "output_type": "execute_result"
    },
    {
     "data": {
      "image/png": "[encoded data removed]",
      "text/plain": [
       "<Figure size 1000x400 with 1 Axes>"
      ]
     },
     "metadata": {},
     "output_type": "display_data"
    }
   ],
   "source": [
    "plt.figure(figsize=(10,4))\n",
    "sns.barplot(data = df, x = 'Brand', y = 'AskPrice')"
   ]
  },
  {
   "cell_type": "code",
   "execution_count": 47,
   "id": "1cbabfa0-7c51-45c9-9ee6-8a231b7b19ee",
   "metadata": {},
   "outputs": [
    {
     "data": {
      "text/plain": [
       "array(['Honda', 'Toyota', 'Volkswagen', 'Maruti Suzuki', 'BMW', 'Ford',\n",
       "       'Kia', 'Mercedes-Benz', 'Hyundai', 'Audi', 'Renault', 'MG',\n",
       "       'Volvo', 'Skoda', 'Tata', 'Mahindra', 'Mini', 'Land Rover', 'Jeep',\n",
       "       'Chevrolet', 'Jaguar', 'Fiat', 'Aston Martin', 'Porsche', 'Nissan',\n",
       "       'Force', 'Mitsubishi', 'Lexus', 'Isuzu', 'Datsun', 'Ambassador',\n",
       "       'Rolls-Royce', 'ICML', 'Bajaj', 'Opel', 'Ashok', 'Bentley',\n",
       "       'Ssangyong', 'Maserati'], dtype=object)"
      ]
     },
     "execution_count": 47,
     "metadata": {},
     "output_type": "execute_result"
    }
   ],
   "source": [
    "df['Brand'].unique()"
   ]
  },
  {
   "cell_type": "code",
   "execution_count": 48,
   "id": "7961904f-736b-4051-809a-a3668df2f85c",
   "metadata": {},
   "outputs": [
    {
     "data": {
      "text/plain": [
       "39"
      ]
     },
     "execution_count": 48,
     "metadata": {},
     "output_type": "execute_result"
    }
   ],
   "source": [
    "len(df['Brand'].unique())"
   ]
  },
  {
   "cell_type": "code",
   "execution_count": 51,
   "id": "ee52ab53-96f7-4676-8e04-cf52e9da0e8c",
   "metadata": {},
   "outputs": [
    {
     "data": {
      "text/plain": [
       "11"
      ]
     },
     "execution_count": 51,
     "metadata": {},
     "output_type": "execute_result"
    }
   ],
   "source": [
    "len(df.columns)"
   ]
  },
  {
   "cell_type": "code",
   "execution_count": 53,
   "id": "315a2992-1923-4b02-8e92-55b1c00af68d",
   "metadata": {},
   "outputs": [
    {
     "data": {
      "text/plain": [
       "(9582, 11)"
      ]
     },
     "execution_count": 53,
     "metadata": {},
     "output_type": "execute_result"
    }
   ],
   "source": [
    "df.shape"
   ]
  },
  {
   "cell_type": "code",
   "execution_count": 55,
   "id": "98726d3a-d57b-450a-967d-cdf8aa294d9a",
   "metadata": {},
   "outputs": [
    {
     "data": {
      "text/plain": [
       "Index(['Brand', 'model', 'Year', 'Age', 'kmDriven', 'Transmission', 'Owner',\n",
       "       'FuelType', 'PostedDate', 'AdditionInfo', 'AskPrice'],\n",
       "      dtype='object')"
      ]
     },
     "execution_count": 55,
     "metadata": {},
     "output_type": "execute_result"
    }
   ],
   "source": [
    "df.columns"
   ]
  },
  {
   "cell_type": "code",
   "execution_count": 87,
   "id": "88de82c0-51ac-42ba-b0dc-eca219aea073",
   "metadata": {},
   "outputs": [
    {
     "data": {
      "text/plain": [
       "39"
      ]
     },
     "execution_count": 87,
     "metadata": {},
     "output_type": "execute_result"
    }
   ],
   "source": [
    "len(df[\"Brand\"].unique())"
   ]
  },
  {
   "cell_type": "code",
   "execution_count": 58,
   "id": "97c5f01a-6193-46bf-85ae-713ff5db1db0",
   "metadata": {},
   "outputs": [
    {
     "data": {
      "text/plain": [
       "array(['City', 'Innova', 'VentoTest', 'Swift', 'Baleno', 'X3', '5 Series',\n",
       "       'maruti-suzuki-dzire', 'Ecosport', 'Alto-K10', 'Carnival',\n",
       "       'Swift-Dzire', 'Corolla', 'GLE COUPE', 'Xcent', 'Seltos', 'Ertiga',\n",
       "       '3 Series GT', 'Endeavour', 'Innova Crysta', 'A3', 'KWID',\n",
       "       'Hector', 'Celerio', 'Vitara-Brezza', '2.8 Legender 4X2', 'S90',\n",
       "       'Venue', 'Creta', 'Alcazar', 'i20', 'E-Class', 'Polo', 'Verna',\n",
       "       'A4', 'Fortuner', 'C-Class', 'Kushaq', 'Ciaz', 'Safari', 'BRV',\n",
       "       'Duster', 'Wagon-R', 'Bolero Power Plus', 'Eon', 'Hector Plus',\n",
       "       'XUV500', 'GLS', 'i10', 'GLA Class', 'Carens', 'Ignis',\n",
       "       'Grand i10', 'Getz Prime', 'Ritz', 'Sonet', 'GLC Coupe',\n",
       "       'Scorpio-N', 'Cooper 3 DOOR', 'Nexon', 'Etios', 'CrossPolo',\n",
       "       'Vento', 'Range Rover Evoque', 'Indigo Ecs', 'Thar', 'Camry',\n",
       "       'Bolero', 'Brio', 'City ZX', 'WRV', 'Discovery Sport', 'Harrier',\n",
       "       'Zest', 'Eeco', 'Swift Dzire', 'Sx4', 'Kodiaq', 'Altroz',\n",
       "       'Grand i10 Nios', 'Alto-800', 'X1', 'X5', 'Rapid', 'TUV',\n",
       "       'Alto K10', 'M-Class', 'Glanza', 'Compass', 'Omni', 'Cruze',\n",
       "       'Amaze', 'Jazz', 'Scala', 'S-Presso', 'Tucson', 'Alto', 'Santa Fe',\n",
       "       'Dzire', 'ASTOR', 'Q7', 'Cooper 5 DOOR', 'Q3', 'Hexa',\n",
       "       'Creta Facelift', '7 Series', 'Bolt', 'XF', 'Tiago',\n",
       "       'Indigo Marina', 'Nano Genx', 'City Hybrid eHEV', 'Tiguan', 'G',\n",
       "       '3 Series', 'Range Rover', 'Grand Vitara', 'XC 90', 'A6',\n",
       "       'Polo GTI', 'Virtus', 'A-Star', 'Cooper S', 'Etios Liva', 'CLA',\n",
       "       'XUV700', 'Alturas G4', 'Scorpio', 'New i20', 'Alto 800',\n",
       "       'Elite i20', 'Defender', 'Santro Xing', 'Linea', 'Vanquish',\n",
       "       'maruti-suzuki-brezza', 'A8 L', 'V40 Cross Country', 'Captur',\n",
       "       'Passat', 'KUV 100', 'Bolero Neo', 'Elantra', 'Macan', 'Terrano',\n",
       "       'Swift-Dzire-Tour', 'XL6', 'Xylo', 'S-Class', '6 Series GT',\n",
       "       'Figo', 'Ameo', 'Innova Hycross', 'Triber', 'Q5',\n",
       "       'Motors FM Gurkha', 'Jeep', '718', 'Punto', 'Corolla Altis',\n",
       "       'Pajero Sport', 'Manza', 'Cooper Convertible', 'Scorpio Classic',\n",
       "       'CRV', 'ES', 'GL-Class', 'Tigor', 'X7', 'Octavia', 'Wagon R',\n",
       "       'S-Cross', 'Gypsy', 'Renault Logan', 'Boxster', 'Indigo Cs',\n",
       "       'XC40', 'Lodgy', 'Nano', 'XC60', 'Z4', 'Civic', 'Urban Cruiser',\n",
       "       'Brezza', 'Punch', 'Cedia', 'GLC', 'Sonata Embera', 'Figo Aspire',\n",
       "       'Accord', '3 DOOR', 'MAX', 'G Class', 'Indica Vista', 'RediGO',\n",
       "       'CLS-Class', 'VELLFIRE', 'Superb', 'Zen-Estilo', 'Cooper',\n",
       "       'Estilo', 'X4', 'LX', 'Enjoy', 'Mobilio', 'Punto EVO',\n",
       "       'Bolero Neo Plus', 'Scorpio N', 'D-Max V-Cross', 'Fluidic Verna',\n",
       "       'G-Class', 'XUV 300', 'Optra', ' Wagon R', 'Cooper Countryman',\n",
       "       'GLE', 'GLC Class', 'Fiesta Classic', 'MUX', 'V-Class',\n",
       "       'Safari Storme', 'Indica Ev2', 'Celerio-X', 'Land Cruiser',\n",
       "       'Indica', 'MICRA PRIMO', 'Tavera', 'S-Cross1', 'S60 Cross Country',\n",
       "       'Slavia', 'Punch ', '1000', 'XJ', 'Fronx', 'Beat', 'Santro', 'S60',\n",
       "       'Cayenne', 'Range Rover Sport', 'Verito', 'WR-V', 'Laura', '800',\n",
       "       'Range Rover Velar', 'Jetta', 'Wagon-R-1-0', 'Freelander 2',\n",
       "       'Spark', 'Discovery', 'C Class', 'Micra', 'Kiger', 'Ambassador',\n",
       "       'Marazzo', 'i20 Active', 'Redi Go', '2 Series', 'Esteem',\n",
       "       'Outlander', 'Etios Cross', 'GLA', 'GLE Class', 'Accent',\n",
       "       'Marshal', 'Fabia', 'A5', 'Jimny', 'AMG GLE Coupe', 'Countryman',\n",
       "       'Sail U-VA', 'Fluence', 'NX', 'Fiesta', 'Pulse', 'Sonata',\n",
       "       'Tiago Nrg', '1 Series', 'S 80', 'Aura', '6 Series', 'Meridian',\n",
       "       'Kicks', 'Vitara Brezza', '3 Series Gran Limousine', 'PATROL',\n",
       "       'B Class', 'TUV 300', 'Sail', 'Yaris', 'Sumo Grande MK II', 'S80',\n",
       "       'Celerio X', 'EON', 'Motors FM Trax Cruiser', 'XUV300', 'Sunny',\n",
       "       'Sumo Gold', 'OptraSRV', 'Indica V2', 'X6', 'Magnite',\n",
       "       'KUV100 NXT', 'Gloster', 'Urban Cruiser Hyryder', 'Trailblazer',\n",
       "       'Quanto', 'Sumo Victa', 'i20 N Line', 'Xenon XT', 'Lancer',\n",
       "       'Land Cruiser Prado', 'Taigun', 'Zen Estilo', 'Cooper Clubman',\n",
       "       'Beetle', 'A-Class Limousine', 'XE', 'Venue N Line', 'CR-V',\n",
       "       'tata-punch', 'Cayenne Coupe', 'F-Pace', 'Grand Punto', 'GO',\n",
       "       'Phantom Series II', '5 Series Gt', 'Venture', 'Aspire', 'LS',\n",
       "       'Mustang', 'Tiguan All Space', 'Free Style', 'H5x', 'XC90',\n",
       "       'TUV 300-plus', 'New Santro', 'Wagon R 1.0', 'AMG C 43',\n",
       "       'New Elantra', 'Motors FM Force One Test', 'New-gen Swift',\n",
       "       'Punto Pure', 'Rhino Rx', 'New Accord', 'RX', 'Xcent Prime',\n",
       "       'E-20', 'RE60', 'New Duster', 'Ssangyong-Rexton',\n",
       "       'Grand i10 Prime', 'Wrangler', 'SLK-Class', 'SX4',\n",
       "       'Phantom Drop HeadCoupe', 'Nuvosport', 'Panamera',\n",
       "       'Wagon-R-Stingray', '5 DOOR', 'Micra Active', 'Cayman', 'AMG A35',\n",
       "       'Optra Magnum', 'M340i', 'GTI', 'Getz', 'X5 M', 'Baleno-RS',\n",
       "       'A Class', 'Exter', 'Invicto', 'Rexton', 'Sumo', 'Stingray',\n",
       "       'Teana', 'Corsa', 'Fronx ', 'Accent Hatchback', 'SL-Class',\n",
       "       'Vista Tech', 'Captiva', 'GO Plus', 'A3 Cabriolet',\n",
       "       'Leyland Stile', 'Flying Spur', 'Curvv', 'Estima', 'Ikon',\n",
       "       'Avventura', 'Others', 'Ssangyong Rexton', 'A-class Limousine',\n",
       "       '2.9 Sportback', 'CERATO', 'Elevate', 'Urvan',\n",
       "       'Hi-Lande Isuzu Hi-Lander', 'AMG', 'Urban Cross', 'Gran Turismo'],\n",
       "      dtype=object)"
      ]
     },
     "execution_count": 58,
     "metadata": {},
     "output_type": "execute_result"
    }
   ],
   "source": [
    "df['model'].unique()"
   ]
  },
  {
   "cell_type": "code",
   "execution_count": 59,
   "id": "9df4bc4f-128d-4334-9f01-d0a780e6c38b",
   "metadata": {},
   "outputs": [
    {
     "data": {
      "text/plain": [
       "400"
      ]
     },
     "execution_count": 59,
     "metadata": {},
     "output_type": "execute_result"
    }
   ],
   "source": [
    "len(df['model'].unique()) "
   ]
  },
  {
   "cell_type": "code",
   "execution_count": 62,
   "id": "044d9a4e-2449-4c93-9812-af641784d4e8",
   "metadata": {},
   "outputs": [],
   "source": [
    "maruti_models = df[df['Brand'] == 'Maruti Suzuki']['model']"
   ]
  },
  {
   "cell_type": "code",
   "execution_count": 64,
   "id": "66095f07-a27d-4fe9-a548-9642568de793",
   "metadata": {},
   "outputs": [
    {
     "data": {
      "text/plain": [
       "53"
      ]
     },
     "execution_count": 64,
     "metadata": {},
     "output_type": "execute_result"
    }
   ],
   "source": [
    "len(maruti_models.unique())"
   ]
  },
  {
   "cell_type": "code",
   "execution_count": 67,
   "id": "740b8012-5952-4ae1-9c3e-b0d27694ed03",
   "metadata": {},
   "outputs": [],
   "source": [
    "Toyota_models = df[df[\"Brand\"] == \"Toyota\"] [\"model\"]"
   ]
  },
  {
   "cell_type": "code",
   "execution_count": 71,
   "id": "57e84901-c77a-4704-b6fe-79b60cc50fe4",
   "metadata": {},
   "outputs": [
    {
     "data": {
      "text/plain": [
       "1                 Innova\n",
       "6                 Innova\n",
       "13               Corolla\n",
       "21         Innova Crysta\n",
       "29      2.8 Legender 4X2\n",
       "              ...       \n",
       "9467       Innova Crysta\n",
       "9523            Fortuner\n",
       "9529             Corolla\n",
       "9568            Fortuner\n",
       "9573       Corolla Altis\n",
       "Name: model, Length: 777, dtype: object"
      ]
     },
     "execution_count": 71,
     "metadata": {},
     "output_type": "execute_result"
    }
   ],
   "source": [
    "Toyota_models"
   ]
  },
  {
   "cell_type": "code",
   "execution_count": 69,
   "id": "95c1f39f-ceb0-490d-b6d8-e4ef21981960",
   "metadata": {},
   "outputs": [
    {
     "data": {
      "text/plain": [
       "19"
      ]
     },
     "execution_count": 69,
     "metadata": {},
     "output_type": "execute_result"
    }
   ],
   "source": [
    "len(Toyota_models.unique())"
   ]
  },
  {
   "cell_type": "code",
   "execution_count": 70,
   "id": "79f9911b-383a-4020-aca2-5d731d2b11c9",
   "metadata": {},
   "outputs": [
    {
     "data": {
      "text/plain": [
       "array(['Innova', 'Corolla', 'Innova Crysta', '2.8 Legender 4X2',\n",
       "       'Fortuner', 'Etios', 'Camry', 'Glanza', 'Etios Liva',\n",
       "       'Innova Hycross', 'Corolla Altis', 'Urban Cruiser', 'VELLFIRE',\n",
       "       'Land Cruiser', 'Etios Cross', 'Yaris', 'Urban Cruiser Hyryder',\n",
       "       'Land Cruiser Prado', 'Estima'], dtype=object)"
      ]
     },
     "execution_count": 70,
     "metadata": {},
     "output_type": "execute_result"
    }
   ],
   "source": [
    "Toyota_models.unique()"
   ]
  },
  {
   "cell_type": "code",
   "execution_count": 72,
   "id": "98e9994e-cc59-4ea9-a4a6-193c737a6c49",
   "metadata": {},
   "outputs": [],
   "source": [
    "brand_model_unique_counts = df.groupby('Brand')['model'].nunique()"
   ]
  },
  {
   "cell_type": "code",
   "execution_count": 75,
   "id": "60dd1725-6e50-427d-8540-27943620cf0d",
   "metadata": {},
   "outputs": [
    {
     "name": "stdout",
     "output_type": "stream",
     "text": [
      "Brand\n",
      "Ambassador        1\n",
      "Ashok             1\n",
      "Aston Martin      1\n",
      "Audi             10\n",
      "BMW              19\n",
      "Bajaj             1\n",
      "Bentley           1\n",
      "Chevrolet        12\n",
      "Datsun            4\n",
      "Fiat              7\n",
      "Force             3\n",
      "Ford             10\n",
      "Honda            16\n",
      "Hyundai          35\n",
      "ICML              1\n",
      "Isuzu             4\n",
      "Jaguar            5\n",
      "Jeep              3\n",
      "Kia               5\n",
      "Land Rover        8\n",
      "Lexus             5\n",
      "MG                4\n",
      "Mahindra         31\n",
      "Maruti Suzuki    53\n",
      "Maserati          1\n",
      "Mercedes-Benz    31\n",
      "Mini             10\n",
      "Mitsubishi        4\n",
      "Nissan           10\n",
      "Opel              1\n",
      "Porsche           7\n",
      "Renault          10\n",
      "Rolls-Royce       2\n",
      "Skoda             8\n",
      "Ssangyong         1\n",
      "Tata             33\n",
      "Toyota           19\n",
      "Volkswagen       14\n",
      "Volvo            10\n",
      "Name: model, dtype: int64\n"
     ]
    }
   ],
   "source": [
    "print(brand_model_unique_counts )"
   ]
  },
  {
   "cell_type": "code",
   "execution_count": 113,
   "id": "26741da6-3881-4ec6-b45b-85fb76cb0516",
   "metadata": {},
   "outputs": [],
   "source": [
    "kia_models = df[df[\"Brand\"] == 'Kia'][\"model\"].nunique"
   ]
  },
  {
   "cell_type": "code",
   "execution_count": 114,
   "id": "c1ea21d6-f9ef-4bd9-ab17-c961d19da733",
   "metadata": {},
   "outputs": [
    {
     "data": {
      "text/plain": [
       "<bound method IndexOpsMixin.nunique of 395     Carnival\n",
       "448     Carnival\n",
       "523     Carnival\n",
       "528     Carnival\n",
       "551     Carnival\n",
       "          ...   \n",
       "3554       Sonet\n",
       "3840       Sonet\n",
       "3843       Sonet\n",
       "8960       Sonet\n",
       "9565      CERATO\n",
       "Name: model, Length: 161, dtype: object>"
      ]
     },
     "execution_count": 114,
     "metadata": {},
     "output_type": "execute_result"
    }
   ],
   "source": [
    "kia_models"
   ]
  },
  {
   "cell_type": "code",
   "execution_count": 80,
   "id": "3348890c-2b2e-4d3e-94e0-cc6497f7d0c7",
   "metadata": {},
   "outputs": [
    {
     "data": {
      "text/plain": [
       "53"
      ]
     },
     "execution_count": 80,
     "metadata": {},
     "output_type": "execute_result"
    }
   ],
   "source": [
    "brand_model_unique_counts.max()"
   ]
  },
  {
   "cell_type": "code",
   "execution_count": 81,
   "id": "74ab5c3b-554c-4355-8cba-2a650f627a24",
   "metadata": {},
   "outputs": [
    {
     "ename": "KeyError",
     "evalue": "\"None of [Index([ 1,  1,  1, 10, 19,  1,  1, 12,  4,  7,  3, 10, 16, 35,  1,  4,  5,  3,\\n        5,  8,  5,  4, 31, 53,  1, 31, 10,  4, 10,  1,  7, 10,  2,  8,  1, 33,\\n       19, 14, 10],\\n      dtype='int64')] are in the [columns]\"",
     "output_type": "error",
     "traceback": [
      "\u001b[1;31m---------------------------------------------------------------------------\u001b[0m",
      "\u001b[1;31mKeyError\u001b[0m                                  Traceback (most recent call last)",
      "Cell \u001b[1;32mIn[81], line 1\u001b[0m\n\u001b[1;32m----> 1\u001b[0m df[brand_model_unique_counts]\u001b[38;5;241m.\u001b[39mmax()\n",
      "File \u001b[1;32m~\\anaconda3\\Lib\\site-packages\\pandas\\core\\frame.py:4108\u001b[0m, in \u001b[0;36mDataFrame.__getitem__\u001b[1;34m(self, key)\u001b[0m\n\u001b[0;32m   4106\u001b[0m     \u001b[38;5;28;01mif\u001b[39;00m is_iterator(key):\n\u001b[0;32m   4107\u001b[0m         key \u001b[38;5;241m=\u001b[39m \u001b[38;5;28mlist\u001b[39m(key)\n\u001b[1;32m-> 4108\u001b[0m     indexer \u001b[38;5;241m=\u001b[39m \u001b[38;5;28mself\u001b[39m\u001b[38;5;241m.\u001b[39mcolumns\u001b[38;5;241m.\u001b[39m_get_indexer_strict(key, \u001b[38;5;124m\"\u001b[39m\u001b[38;5;124mcolumns\u001b[39m\u001b[38;5;124m\"\u001b[39m)[\u001b[38;5;241m1\u001b[39m]\n\u001b[0;32m   4110\u001b[0m \u001b[38;5;66;03m# take() does not accept boolean indexers\u001b[39;00m\n\u001b[0;32m   4111\u001b[0m \u001b[38;5;28;01mif\u001b[39;00m \u001b[38;5;28mgetattr\u001b[39m(indexer, \u001b[38;5;124m\"\u001b[39m\u001b[38;5;124mdtype\u001b[39m\u001b[38;5;124m\"\u001b[39m, \u001b[38;5;28;01mNone\u001b[39;00m) \u001b[38;5;241m==\u001b[39m \u001b[38;5;28mbool\u001b[39m:\n",
      "File \u001b[1;32m~\\anaconda3\\Lib\\site-packages\\pandas\\core\\indexes\\base.py:6200\u001b[0m, in \u001b[0;36mIndex._get_indexer_strict\u001b[1;34m(self, key, axis_name)\u001b[0m\n\u001b[0;32m   6197\u001b[0m \u001b[38;5;28;01melse\u001b[39;00m:\n\u001b[0;32m   6198\u001b[0m     keyarr, indexer, new_indexer \u001b[38;5;241m=\u001b[39m \u001b[38;5;28mself\u001b[39m\u001b[38;5;241m.\u001b[39m_reindex_non_unique(keyarr)\n\u001b[1;32m-> 6200\u001b[0m \u001b[38;5;28mself\u001b[39m\u001b[38;5;241m.\u001b[39m_raise_if_missing(keyarr, indexer, axis_name)\n\u001b[0;32m   6202\u001b[0m keyarr \u001b[38;5;241m=\u001b[39m \u001b[38;5;28mself\u001b[39m\u001b[38;5;241m.\u001b[39mtake(indexer)\n\u001b[0;32m   6203\u001b[0m \u001b[38;5;28;01mif\u001b[39;00m \u001b[38;5;28misinstance\u001b[39m(key, Index):\n\u001b[0;32m   6204\u001b[0m     \u001b[38;5;66;03m# GH 42790 - Preserve name from an Index\u001b[39;00m\n",
      "File \u001b[1;32m~\\anaconda3\\Lib\\site-packages\\pandas\\core\\indexes\\base.py:6249\u001b[0m, in \u001b[0;36mIndex._raise_if_missing\u001b[1;34m(self, key, indexer, axis_name)\u001b[0m\n\u001b[0;32m   6247\u001b[0m \u001b[38;5;28;01mif\u001b[39;00m nmissing:\n\u001b[0;32m   6248\u001b[0m     \u001b[38;5;28;01mif\u001b[39;00m nmissing \u001b[38;5;241m==\u001b[39m \u001b[38;5;28mlen\u001b[39m(indexer):\n\u001b[1;32m-> 6249\u001b[0m         \u001b[38;5;28;01mraise\u001b[39;00m \u001b[38;5;167;01mKeyError\u001b[39;00m(\u001b[38;5;124mf\u001b[39m\u001b[38;5;124m\"\u001b[39m\u001b[38;5;124mNone of [\u001b[39m\u001b[38;5;132;01m{\u001b[39;00mkey\u001b[38;5;132;01m}\u001b[39;00m\u001b[38;5;124m] are in the [\u001b[39m\u001b[38;5;132;01m{\u001b[39;00maxis_name\u001b[38;5;132;01m}\u001b[39;00m\u001b[38;5;124m]\u001b[39m\u001b[38;5;124m\"\u001b[39m)\n\u001b[0;32m   6251\u001b[0m     not_found \u001b[38;5;241m=\u001b[39m \u001b[38;5;28mlist\u001b[39m(ensure_index(key)[missing_mask\u001b[38;5;241m.\u001b[39mnonzero()[\u001b[38;5;241m0\u001b[39m]]\u001b[38;5;241m.\u001b[39munique())\n\u001b[0;32m   6252\u001b[0m     \u001b[38;5;28;01mraise\u001b[39;00m \u001b[38;5;167;01mKeyError\u001b[39;00m(\u001b[38;5;124mf\u001b[39m\u001b[38;5;124m\"\u001b[39m\u001b[38;5;132;01m{\u001b[39;00mnot_found\u001b[38;5;132;01m}\u001b[39;00m\u001b[38;5;124m not in index\u001b[39m\u001b[38;5;124m\"\u001b[39m)\n",
      "\u001b[1;31mKeyError\u001b[0m: \"None of [Index([ 1,  1,  1, 10, 19,  1,  1, 12,  4,  7,  3, 10, 16, 35,  1,  4,  5,  3,\\n        5,  8,  5,  4, 31, 53,  1, 31, 10,  4, 10,  1,  7, 10,  2,  8,  1, 33,\\n       19, 14, 10],\\n      dtype='int64')] are in the [columns]\""
     ]
    }
   ],
   "source": [
    "df[brand_model_unique_counts].max()"
   ]
  },
  {
   "cell_type": "code",
   "execution_count": 83,
   "id": "bb471d65-499b-45fe-ae8b-0db9fd740ea4",
   "metadata": {},
   "outputs": [
    {
     "ename": "AttributeError",
     "evalue": "'Series' object has no attribute 'sort'",
     "output_type": "error",
     "traceback": [
      "\u001b[1;31m---------------------------------------------------------------------------\u001b[0m",
      "\u001b[1;31mAttributeError\u001b[0m                            Traceback (most recent call last)",
      "\u001b[1;32m~\\AppData\\Local\\Temp\\ipykernel_34812\\2055863909.py\u001b[0m in \u001b[0;36m?\u001b[1;34m()\u001b[0m\n\u001b[1;32m----> 1\u001b[1;33m \u001b[0mbrand_model_unique_counts\u001b[0m\u001b[1;33m.\u001b[0m\u001b[0msort\u001b[0m\u001b[1;33m\u001b[0m\u001b[1;33m\u001b[0m\u001b[0m\n\u001b[0m",
      "\u001b[1;32m~\\anaconda3\\Lib\\site-packages\\pandas\\core\\generic.py\u001b[0m in \u001b[0;36m?\u001b[1;34m(self, name)\u001b[0m\n\u001b[0;32m   6295\u001b[0m             \u001b[1;32mand\u001b[0m \u001b[0mname\u001b[0m \u001b[1;32mnot\u001b[0m \u001b[1;32min\u001b[0m \u001b[0mself\u001b[0m\u001b[1;33m.\u001b[0m\u001b[0m_accessors\u001b[0m\u001b[1;33m\u001b[0m\u001b[1;33m\u001b[0m\u001b[0m\n\u001b[0;32m   6296\u001b[0m             \u001b[1;32mand\u001b[0m \u001b[0mself\u001b[0m\u001b[1;33m.\u001b[0m\u001b[0m_info_axis\u001b[0m\u001b[1;33m.\u001b[0m\u001b[0m_can_hold_identifiers_and_holds_name\u001b[0m\u001b[1;33m(\u001b[0m\u001b[0mname\u001b[0m\u001b[1;33m)\u001b[0m\u001b[1;33m\u001b[0m\u001b[1;33m\u001b[0m\u001b[0m\n\u001b[0;32m   6297\u001b[0m         \u001b[1;33m)\u001b[0m\u001b[1;33m:\u001b[0m\u001b[1;33m\u001b[0m\u001b[1;33m\u001b[0m\u001b[0m\n\u001b[0;32m   6298\u001b[0m             \u001b[1;32mreturn\u001b[0m \u001b[0mself\u001b[0m\u001b[1;33m[\u001b[0m\u001b[0mname\u001b[0m\u001b[1;33m]\u001b[0m\u001b[1;33m\u001b[0m\u001b[1;33m\u001b[0m\u001b[0m\n\u001b[1;32m-> 6299\u001b[1;33m         \u001b[1;32mreturn\u001b[0m \u001b[0mobject\u001b[0m\u001b[1;33m.\u001b[0m\u001b[0m__getattribute__\u001b[0m\u001b[1;33m(\u001b[0m\u001b[0mself\u001b[0m\u001b[1;33m,\u001b[0m \u001b[0mname\u001b[0m\u001b[1;33m)\u001b[0m\u001b[1;33m\u001b[0m\u001b[1;33m\u001b[0m\u001b[0m\n\u001b[0m",
      "\u001b[1;31mAttributeError\u001b[0m: 'Series' object has no attribute 'sort'"
     ]
    }
   ],
   "source": [
    "brand_model_unique_counts.sort"
   ]
  },
  {
   "cell_type": "code",
   "execution_count": 86,
   "id": "b3e2426d-f67e-44aa-be3b-2d37cd0b0166",
   "metadata": {},
   "outputs": [
    {
     "data": {
      "text/plain": [
       "1"
      ]
     },
     "execution_count": 86,
     "metadata": {},
     "output_type": "execute_result"
    }
   ],
   "source": [
    "brand_model_unique_counts.min()"
   ]
  },
  {
   "cell_type": "code",
   "execution_count": 8,
   "id": "42ce8509-e7b1-452e-9895-ac06e39a286f",
   "metadata": {},
   "outputs": [
    {
     "name": "stdout",
     "output_type": "stream",
     "text": [
      "Brand\n",
      "Maruti Suzuki    53\n",
      "Hyundai          35\n",
      "Tata             33\n",
      "Mercedes-Benz    31\n",
      "Mahindra         31\n",
      "BMW              19\n",
      "Toyota           19\n",
      "Honda            16\n",
      "Volkswagen       14\n",
      "Chevrolet        12\n",
      "Mini             10\n",
      "Volvo            10\n",
      "Ford             10\n",
      "Nissan           10\n",
      "Renault          10\n",
      "Audi             10\n",
      "Skoda             8\n",
      "Land Rover        8\n",
      "Fiat              7\n",
      "Porsche           7\n",
      "Kia               5\n",
      "Lexus             5\n",
      "Jaguar            5\n",
      "Mitsubishi        4\n",
      "MG                4\n",
      "Datsun            4\n",
      "Isuzu             4\n",
      "Force             3\n",
      "Jeep              3\n",
      "Rolls-Royce       2\n",
      "Ashok             1\n",
      "Opel              1\n",
      "ICML              1\n",
      "Maserati          1\n",
      "Ssangyong         1\n",
      "Bentley           1\n",
      "Bajaj             1\n",
      "Aston Martin      1\n",
      "Ambassador        1\n",
      "Name: model, dtype: int64\n"
     ]
    }
   ],
   "source": [
    "brand_model_unique_counts = df.groupby('Brand')['model'].nunique().sort_values(ascending=False)\n",
    "print(brand_model_unique_counts)\n",
    "\n"
   ]
  },
  {
   "cell_type": "code",
   "execution_count": 18,
   "id": "bffaa7e3-a04c-4a81-9ffa-ad8d502bb8f8",
   "metadata": {},
   "outputs": [
    {
     "data": {
      "text/plain": [
       "model\n",
       "City            330\n",
       "Wagon-R         311\n",
       "Swift           283\n",
       "Creta           260\n",
       "Ertiga          249\n",
       "               ... \n",
       "5 DOOR            1\n",
       "MICRA PRIMO       1\n",
       "MAX               1\n",
       "Venue N Line      1\n",
       "Gran Turismo      1\n",
       "Name: count, Length: 400, dtype: int64"
      ]
     },
     "execution_count": 18,
     "metadata": {},
     "output_type": "execute_result"
    }
   ],
   "source": [
    "df['model'].value_counts().sort_values(ascending=False)"
   ]
  },
  {
   "cell_type": "code",
   "execution_count": 21,
   "id": "3b65b64b-1656-4243-867c-f523ec23bb3d",
   "metadata": {},
   "outputs": [
    {
     "data": {
      "text/plain": [
       "Transmission\n",
       "Manual       4800\n",
       "Automatic    4782\n",
       "Name: count, dtype: int64"
      ]
     },
     "execution_count": 21,
     "metadata": {},
     "output_type": "execute_result"
    }
   ],
   "source": [
    "df['Transmission'].value_counts()"
   ]
  },
  {
   "cell_type": "code",
   "execution_count": 22,
   "id": "daadab64-3354-4bc3-8165-38d05e0dfeb1",
   "metadata": {},
   "outputs": [
    {
     "data": {
      "text/plain": [
       "array(['Petrol', 'Diesel', 'Hybrid/CNG'], dtype=object)"
      ]
     },
     "execution_count": 22,
     "metadata": {},
     "output_type": "execute_result"
    }
   ],
   "source": [
    "df['FuelType'].unique()"
   ]
  },
  {
   "cell_type": "code",
   "execution_count": 23,
   "id": "371b05aa-b90f-4db6-b546-39c64c5aaf40",
   "metadata": {},
   "outputs": [
    {
     "data": {
      "text/plain": [
       "3"
      ]
     },
     "execution_count": 23,
     "metadata": {},
     "output_type": "execute_result"
    }
   ],
   "source": [
    "df['FuelType'].nunique()"
   ]
  },
  {
   "cell_type": "code",
   "execution_count": 24,
   "id": "28a3cec7-fac8-403b-ac2c-8a1111f72069",
   "metadata": {},
   "outputs": [
    {
     "data": {
      "text/plain": [
       "FuelType\n",
       "Diesel        3840\n",
       "Petrol        3822\n",
       "Hybrid/CNG    1920\n",
       "Name: count, dtype: int64"
      ]
     },
     "execution_count": 24,
     "metadata": {},
     "output_type": "execute_result"
    }
   ],
   "source": [
    "df['FuelType'].value_counts()"
   ]
  },
  {
   "cell_type": "code",
   "execution_count": 25,
   "id": "02e15be6-4b53-43fd-a70a-3e14906e1ac6",
   "metadata": {},
   "outputs": [
    {
     "data": {
      "text/plain": [
       "'Petrol'"
      ]
     },
     "execution_count": 25,
     "metadata": {},
     "output_type": "execute_result"
    }
   ],
   "source": [
    "df['FuelType'][399]"
   ]
  },
  {
   "cell_type": "code",
   "execution_count": 33,
   "id": "701ee8dd-7af4-485a-9e13-6c9a8f2f5d4e",
   "metadata": {},
   "outputs": [],
   "source": [
    "df.sort_values(by='AskPrice', ascending = False, inplace = True)"
   ]
  },
  {
   "cell_type": "code",
   "execution_count": 32,
   "id": "1134d755-87cc-41bc-9640-2a1224ae1507",
   "metadata": {},
   "outputs": [
    {
     "data": {
      "text/html": [
       "<div>\n",
       "<style scoped>\n",
       "    .dataframe tbody tr th:only-of-type {\n",
       "        vertical-align: middle;\n",
       "    }\n",
       "\n",
       "    .dataframe tbody tr th {\n",
       "        vertical-align: top;\n",
       "    }\n",
       "\n",
       "    .dataframe thead th {\n",
       "        text-align: right;\n",
       "    }\n",
       "</style>\n",
       "<table border=\"1\" class=\"dataframe\">\n",
       "  <thead>\n",
       "    <tr style=\"text-align: right;\">\n",
       "      <th></th>\n",
       "      <th>Brand</th>\n",
       "      <th>model</th>\n",
       "      <th>Year</th>\n",
       "      <th>Age</th>\n",
       "      <th>kmDriven</th>\n",
       "      <th>Transmission</th>\n",
       "      <th>Owner</th>\n",
       "      <th>FuelType</th>\n",
       "      <th>PostedDate</th>\n",
       "      <th>AdditionInfo</th>\n",
       "      <th>AskPrice</th>\n",
       "      <th>count</th>\n",
       "    </tr>\n",
       "  </thead>\n",
       "  <tbody>\n",
       "    <tr>\n",
       "      <th>0</th>\n",
       "      <td>Honda</td>\n",
       "      <td>City</td>\n",
       "      <td>2001</td>\n",
       "      <td>23</td>\n",
       "      <td>98,000 km</td>\n",
       "      <td>Manual</td>\n",
       "      <td>second</td>\n",
       "      <td>Petrol</td>\n",
       "      <td>Nov-24</td>\n",
       "      <td>Honda City v teck in mint condition, valid gen...</td>\n",
       "      <td>195000</td>\n",
       "      <td>399</td>\n",
       "    </tr>\n",
       "    <tr>\n",
       "      <th>1</th>\n",
       "      <td>Toyota</td>\n",
       "      <td>Innova</td>\n",
       "      <td>2009</td>\n",
       "      <td>15</td>\n",
       "      <td>190000.0 km</td>\n",
       "      <td>Manual</td>\n",
       "      <td>second</td>\n",
       "      <td>Diesel</td>\n",
       "      <td>Jul-24</td>\n",
       "      <td>Toyota Innova 2.5 G (Diesel) 7 Seater, 2009, D...</td>\n",
       "      <td>375000</td>\n",
       "      <td>399</td>\n",
       "    </tr>\n",
       "    <tr>\n",
       "      <th>2</th>\n",
       "      <td>Volkswagen</td>\n",
       "      <td>VentoTest</td>\n",
       "      <td>2010</td>\n",
       "      <td>14</td>\n",
       "      <td>77,246 km</td>\n",
       "      <td>Manual</td>\n",
       "      <td>first</td>\n",
       "      <td>Diesel</td>\n",
       "      <td>Nov-24</td>\n",
       "      <td>Volkswagen Vento 2010-2013 Diesel Breeze, 2010...</td>\n",
       "      <td>184999</td>\n",
       "      <td>399</td>\n",
       "    </tr>\n",
       "    <tr>\n",
       "      <th>3</th>\n",
       "      <td>Maruti Suzuki</td>\n",
       "      <td>Swift</td>\n",
       "      <td>2017</td>\n",
       "      <td>7</td>\n",
       "      <td>83,500 km</td>\n",
       "      <td>Manual</td>\n",
       "      <td>second</td>\n",
       "      <td>Diesel</td>\n",
       "      <td>Nov-24</td>\n",
       "      <td>Maruti Suzuki Swift 2017 Diesel Good Condition</td>\n",
       "      <td>565000</td>\n",
       "      <td>399</td>\n",
       "    </tr>\n",
       "    <tr>\n",
       "      <th>4</th>\n",
       "      <td>Maruti Suzuki</td>\n",
       "      <td>Baleno</td>\n",
       "      <td>2019</td>\n",
       "      <td>5</td>\n",
       "      <td>45,000 km</td>\n",
       "      <td>Automatic</td>\n",
       "      <td>first</td>\n",
       "      <td>Petrol</td>\n",
       "      <td>Nov-24</td>\n",
       "      <td>Maruti Suzuki Baleno Alpha CVT, 2019, Petrol</td>\n",
       "      <td>685000</td>\n",
       "      <td>399</td>\n",
       "    </tr>\n",
       "    <tr>\n",
       "      <th>5</th>\n",
       "      <td>BMW</td>\n",
       "      <td>X3</td>\n",
       "      <td>2014</td>\n",
       "      <td>10</td>\n",
       "      <td>83,000 km</td>\n",
       "      <td>Automatic</td>\n",
       "      <td>first</td>\n",
       "      <td>Diesel</td>\n",
       "      <td>Nov-24</td>\n",
       "      <td>BMW X3 2.0 XDRIVE 20D, 2014, Diesel</td>\n",
       "      <td>1350000</td>\n",
       "      <td>399</td>\n",
       "    </tr>\n",
       "    <tr>\n",
       "      <th>6</th>\n",
       "      <td>Toyota</td>\n",
       "      <td>Innova</td>\n",
       "      <td>2014</td>\n",
       "      <td>10</td>\n",
       "      <td>168,000 km</td>\n",
       "      <td>Manual</td>\n",
       "      <td>second</td>\n",
       "      <td>Diesel</td>\n",
       "      <td>Nov-24</td>\n",
       "      <td>Toyota Innova 2.5 VX 8 Seater BS IV, 2014, Diesel</td>\n",
       "      <td>1025000</td>\n",
       "      <td>399</td>\n",
       "    </tr>\n",
       "    <tr>\n",
       "      <th>7</th>\n",
       "      <td>BMW</td>\n",
       "      <td>5 Series</td>\n",
       "      <td>2019</td>\n",
       "      <td>5</td>\n",
       "      <td>25,000 km</td>\n",
       "      <td>Automatic</td>\n",
       "      <td>second</td>\n",
       "      <td>Diesel</td>\n",
       "      <td>Nov-24</td>\n",
       "      <td>BMW 5 Series 3.0 530D M Sport, 2019, Diesel</td>\n",
       "      <td>5950000</td>\n",
       "      <td>399</td>\n",
       "    </tr>\n",
       "    <tr>\n",
       "      <th>8</th>\n",
       "      <td>Maruti Suzuki</td>\n",
       "      <td>maruti-suzuki-dzire</td>\n",
       "      <td>2020</td>\n",
       "      <td>4</td>\n",
       "      <td>33,759 km</td>\n",
       "      <td>Manual</td>\n",
       "      <td>second</td>\n",
       "      <td>Petrol</td>\n",
       "      <td>Nov-24</td>\n",
       "      <td>Maruti Suzuki Dzire 1.2 VXI, 2020, Petrol</td>\n",
       "      <td>622000</td>\n",
       "      <td>399</td>\n",
       "    </tr>\n",
       "    <tr>\n",
       "      <th>9</th>\n",
       "      <td>Ford</td>\n",
       "      <td>Ecosport</td>\n",
       "      <td>2017</td>\n",
       "      <td>7</td>\n",
       "      <td>69,713 km</td>\n",
       "      <td>Manual</td>\n",
       "      <td>second</td>\n",
       "      <td>Petrol</td>\n",
       "      <td>Nov-24</td>\n",
       "      <td>Ford Ecosport 1.5 Ti VCT MT Titanium BE, 2017,...</td>\n",
       "      <td>649000</td>\n",
       "      <td>399</td>\n",
       "    </tr>\n",
       "  </tbody>\n",
       "</table>\n",
       "</div>"
      ],
      "text/plain": [
       "           Brand                model  Year  Age     kmDriven Transmission  \\\n",
       "0          Honda                 City  2001   23    98,000 km       Manual   \n",
       "1         Toyota               Innova  2009   15  190000.0 km       Manual   \n",
       "2     Volkswagen            VentoTest  2010   14    77,246 km       Manual   \n",
       "3  Maruti Suzuki                Swift  2017    7    83,500 km       Manual   \n",
       "4  Maruti Suzuki               Baleno  2019    5    45,000 km    Automatic   \n",
       "5            BMW                   X3  2014   10    83,000 km    Automatic   \n",
       "6         Toyota               Innova  2014   10   168,000 km       Manual   \n",
       "7            BMW             5 Series  2019    5    25,000 km    Automatic   \n",
       "8  Maruti Suzuki  maruti-suzuki-dzire  2020    4    33,759 km       Manual   \n",
       "9           Ford             Ecosport  2017    7    69,713 km       Manual   \n",
       "\n",
       "    Owner FuelType PostedDate  \\\n",
       "0  second   Petrol     Nov-24   \n",
       "1  second   Diesel     Jul-24   \n",
       "2   first   Diesel     Nov-24   \n",
       "3  second   Diesel     Nov-24   \n",
       "4   first   Petrol     Nov-24   \n",
       "5   first   Diesel     Nov-24   \n",
       "6  second   Diesel     Nov-24   \n",
       "7  second   Diesel     Nov-24   \n",
       "8  second   Petrol     Nov-24   \n",
       "9  second   Petrol     Nov-24   \n",
       "\n",
       "                                        AdditionInfo  AskPrice  count  \n",
       "0  Honda City v teck in mint condition, valid gen...    195000    399  \n",
       "1  Toyota Innova 2.5 G (Diesel) 7 Seater, 2009, D...    375000    399  \n",
       "2  Volkswagen Vento 2010-2013 Diesel Breeze, 2010...    184999    399  \n",
       "3     Maruti Suzuki Swift 2017 Diesel Good Condition    565000    399  \n",
       "4       Maruti Suzuki Baleno Alpha CVT, 2019, Petrol    685000    399  \n",
       "5                BMW X3 2.0 XDRIVE 20D, 2014, Diesel   1350000    399  \n",
       "6  Toyota Innova 2.5 VX 8 Seater BS IV, 2014, Diesel   1025000    399  \n",
       "7        BMW 5 Series 3.0 530D M Sport, 2019, Diesel   5950000    399  \n",
       "8          Maruti Suzuki Dzire 1.2 VXI, 2020, Petrol    622000    399  \n",
       "9  Ford Ecosport 1.5 Ti VCT MT Titanium BE, 2017,...    649000    399  "
      ]
     },
     "execution_count": 32,
     "metadata": {},
     "output_type": "execute_result"
    }
   ],
   "source": [
    "df.head(10)"
   ]
  },
  {
   "cell_type": "code",
   "execution_count": 40,
   "id": "2c562b61-81c7-4607-b486-bd29bb7182ea",
   "metadata": {},
   "outputs": [
    {
     "data": {
      "text/html": [
       "<div>\n",
       "<style scoped>\n",
       "    .dataframe tbody tr th:only-of-type {\n",
       "        vertical-align: middle;\n",
       "    }\n",
       "\n",
       "    .dataframe tbody tr th {\n",
       "        vertical-align: top;\n",
       "    }\n",
       "\n",
       "    .dataframe thead th {\n",
       "        text-align: right;\n",
       "    }\n",
       "</style>\n",
       "<table border=\"1\" class=\"dataframe\">\n",
       "  <thead>\n",
       "    <tr style=\"text-align: right;\">\n",
       "      <th></th>\n",
       "      <th>Brand</th>\n",
       "      <th>model</th>\n",
       "      <th>Year</th>\n",
       "      <th>Age</th>\n",
       "      <th>kmDriven</th>\n",
       "      <th>Transmission</th>\n",
       "      <th>Owner</th>\n",
       "      <th>FuelType</th>\n",
       "      <th>PostedDate</th>\n",
       "      <th>AdditionInfo</th>\n",
       "      <th>AskPrice</th>\n",
       "      <th>count</th>\n",
       "    </tr>\n",
       "  </thead>\n",
       "  <tbody>\n",
       "    <tr>\n",
       "      <th>3331</th>\n",
       "      <td>Rolls-Royce</td>\n",
       "      <td>Phantom Series II</td>\n",
       "      <td>2015</td>\n",
       "      <td>9</td>\n",
       "      <td>11,500 km</td>\n",
       "      <td>Automatic</td>\n",
       "      <td>second</td>\n",
       "      <td>Petrol</td>\n",
       "      <td>Aug-24</td>\n",
       "      <td>Rolls-Royce Phantom Series II EWB, 2015, Petrol</td>\n",
       "      <td>42500000</td>\n",
       "      <td>399</td>\n",
       "    </tr>\n",
       "    <tr>\n",
       "      <th>962</th>\n",
       "      <td>Lexus</td>\n",
       "      <td>LX</td>\n",
       "      <td>2024</td>\n",
       "      <td>0</td>\n",
       "      <td>24,000 km</td>\n",
       "      <td>Automatic</td>\n",
       "      <td>first</td>\n",
       "      <td>Diesel</td>\n",
       "      <td>Nov-24</td>\n",
       "      <td>Lexus LX 500d, 2024, Diesel</td>\n",
       "      <td>27750000</td>\n",
       "      <td>399</td>\n",
       "    </tr>\n",
       "    <tr>\n",
       "      <th>331</th>\n",
       "      <td>Aston Martin</td>\n",
       "      <td>Vanquish</td>\n",
       "      <td>2016</td>\n",
       "      <td>8</td>\n",
       "      <td>25700.0 km</td>\n",
       "      <td>Automatic</td>\n",
       "      <td>first</td>\n",
       "      <td>Petrol</td>\n",
       "      <td>Nov-24</td>\n",
       "      <td>Aston Martin Vanquish 6.0 V12, 2016, Petrol</td>\n",
       "      <td>26400000</td>\n",
       "      <td>399</td>\n",
       "    </tr>\n",
       "    <tr>\n",
       "      <th>811</th>\n",
       "      <td>Mercedes-Benz</td>\n",
       "      <td>G Class</td>\n",
       "      <td>2019</td>\n",
       "      <td>5</td>\n",
       "      <td>59,000 km</td>\n",
       "      <td>Automatic</td>\n",
       "      <td>first</td>\n",
       "      <td>Petrol</td>\n",
       "      <td>Sep-24</td>\n",
       "      <td>Mercedes-Benz G Class 63 AMG, 2019, Petrol</td>\n",
       "      <td>26000000</td>\n",
       "      <td>399</td>\n",
       "    </tr>\n",
       "    <tr>\n",
       "      <th>5767</th>\n",
       "      <td>Mercedes-Benz</td>\n",
       "      <td>G Class</td>\n",
       "      <td>2019</td>\n",
       "      <td>5</td>\n",
       "      <td>59,000 km</td>\n",
       "      <td>Automatic</td>\n",
       "      <td>first</td>\n",
       "      <td>Petrol</td>\n",
       "      <td>Nov-24</td>\n",
       "      <td>Mercedes-Benz G Class G63 AMG, 2019, Petrol</td>\n",
       "      <td>24900000</td>\n",
       "      <td>399</td>\n",
       "    </tr>\n",
       "    <tr>\n",
       "      <th>...</th>\n",
       "      <td>...</td>\n",
       "      <td>...</td>\n",
       "      <td>...</td>\n",
       "      <td>...</td>\n",
       "      <td>...</td>\n",
       "      <td>...</td>\n",
       "      <td>...</td>\n",
       "      <td>...</td>\n",
       "      <td>...</td>\n",
       "      <td>...</td>\n",
       "      <td>...</td>\n",
       "      <td>...</td>\n",
       "    </tr>\n",
       "    <tr>\n",
       "      <th>7507</th>\n",
       "      <td>Ashok</td>\n",
       "      <td>Leyland Stile</td>\n",
       "      <td>2024</td>\n",
       "      <td>0</td>\n",
       "      <td>0 km</td>\n",
       "      <td>Automatic</td>\n",
       "      <td>first</td>\n",
       "      <td>Hybrid/CNG</td>\n",
       "      <td>Nov-24</td>\n",
       "      <td>Hath gadi thella new juice set-up thella</td>\n",
       "      <td>32000</td>\n",
       "      <td>399</td>\n",
       "    </tr>\n",
       "    <tr>\n",
       "      <th>7242</th>\n",
       "      <td>Maruti Suzuki</td>\n",
       "      <td>Zen-Estilo</td>\n",
       "      <td>1998</td>\n",
       "      <td>26</td>\n",
       "      <td>NaN</td>\n",
       "      <td>Manual</td>\n",
       "      <td>second</td>\n",
       "      <td>Petrol</td>\n",
       "      <td>Nov-24</td>\n",
       "      <td>Zen 1998 model,insurence renewed,test in 2025 ...</td>\n",
       "      <td>27000</td>\n",
       "      <td>399</td>\n",
       "    </tr>\n",
       "    <tr>\n",
       "      <th>271</th>\n",
       "      <td>Maruti Suzuki</td>\n",
       "      <td>Alto-800</td>\n",
       "      <td>2006</td>\n",
       "      <td>18</td>\n",
       "      <td>20,024 km</td>\n",
       "      <td>Manual</td>\n",
       "      <td>first</td>\n",
       "      <td>Petrol</td>\n",
       "      <td>Nov-24</td>\n",
       "      <td>पुरानी स्क्रैप की गाड़ी बेचने के लिए संपर्क करें</td>\n",
       "      <td>20000</td>\n",
       "      <td>399</td>\n",
       "    </tr>\n",
       "    <tr>\n",
       "      <th>3034</th>\n",
       "      <td>Maruti Suzuki</td>\n",
       "      <td>Baleno</td>\n",
       "      <td>2024</td>\n",
       "      <td>0</td>\n",
       "      <td>9,000 km</td>\n",
       "      <td>Manual</td>\n",
       "      <td>first</td>\n",
       "      <td>Petrol</td>\n",
       "      <td>Nov-24</td>\n",
       "      <td>Panasound brand Daimond 2k androd stereo</td>\n",
       "      <td>18500</td>\n",
       "      <td>399</td>\n",
       "    </tr>\n",
       "    <tr>\n",
       "      <th>1751</th>\n",
       "      <td>Mahindra</td>\n",
       "      <td>Marshal</td>\n",
       "      <td>2000</td>\n",
       "      <td>24</td>\n",
       "      <td>55,000 km</td>\n",
       "      <td>Manual</td>\n",
       "      <td>second</td>\n",
       "      <td>Diesel</td>\n",
       "      <td>Nov-24</td>\n",
       "      <td>Want NOC for Mahindra Marshal or Commander</td>\n",
       "      <td>15000</td>\n",
       "      <td>399</td>\n",
       "    </tr>\n",
       "  </tbody>\n",
       "</table>\n",
       "<p>9582 rows × 12 columns</p>\n",
       "</div>"
      ],
      "text/plain": [
       "              Brand              model  Year  Age    kmDriven Transmission  \\\n",
       "3331    Rolls-Royce  Phantom Series II  2015    9   11,500 km    Automatic   \n",
       "962           Lexus                 LX  2024    0   24,000 km    Automatic   \n",
       "331    Aston Martin           Vanquish  2016    8  25700.0 km    Automatic   \n",
       "811   Mercedes-Benz            G Class  2019    5   59,000 km    Automatic   \n",
       "5767  Mercedes-Benz            G Class  2019    5   59,000 km    Automatic   \n",
       "...             ...                ...   ...  ...         ...          ...   \n",
       "7507          Ashok      Leyland Stile  2024    0        0 km    Automatic   \n",
       "7242  Maruti Suzuki         Zen-Estilo  1998   26         NaN       Manual   \n",
       "271   Maruti Suzuki           Alto-800  2006   18   20,024 km       Manual   \n",
       "3034  Maruti Suzuki             Baleno  2024    0    9,000 km       Manual   \n",
       "1751       Mahindra            Marshal  2000   24   55,000 km       Manual   \n",
       "\n",
       "       Owner    FuelType PostedDate  \\\n",
       "3331  second      Petrol     Aug-24   \n",
       "962    first      Diesel     Nov-24   \n",
       "331    first      Petrol     Nov-24   \n",
       "811    first      Petrol     Sep-24   \n",
       "5767   first      Petrol     Nov-24   \n",
       "...      ...         ...        ...   \n",
       "7507   first  Hybrid/CNG     Nov-24   \n",
       "7242  second      Petrol     Nov-24   \n",
       "271    first      Petrol     Nov-24   \n",
       "3034   first      Petrol     Nov-24   \n",
       "1751  second      Diesel     Nov-24   \n",
       "\n",
       "                                           AdditionInfo  AskPrice  count  \n",
       "3331    Rolls-Royce Phantom Series II EWB, 2015, Petrol  42500000    399  \n",
       "962                         Lexus LX 500d, 2024, Diesel  27750000    399  \n",
       "331         Aston Martin Vanquish 6.0 V12, 2016, Petrol  26400000    399  \n",
       "811          Mercedes-Benz G Class 63 AMG, 2019, Petrol  26000000    399  \n",
       "5767        Mercedes-Benz G Class G63 AMG, 2019, Petrol  24900000    399  \n",
       "...                                                 ...       ...    ...  \n",
       "7507           Hath gadi thella new juice set-up thella     32000    399  \n",
       "7242  Zen 1998 model,insurence renewed,test in 2025 ...     27000    399  \n",
       "271    पुरानी स्क्रैप की गाड़ी बेचने के लिए संपर्क करें     20000    399  \n",
       "3034           Panasound brand Daimond 2k androd stereo     18500    399  \n",
       "1751         Want NOC for Mahindra Marshal or Commander     15000    399  \n",
       "\n",
       "[9582 rows x 12 columns]"
      ]
     },
     "execution_count": 40,
     "metadata": {},
     "output_type": "execute_result"
    }
   ],
   "source": [
    "df.iloc[:]"
   ]
  },
  {
   "cell_type": "code",
   "execution_count": 36,
   "id": "5ff6311b-3258-461f-9b7a-29bec1da492f",
   "metadata": {},
   "outputs": [
    {
     "data": {
      "text/html": [
       "<div>\n",
       "<style scoped>\n",
       "    .dataframe tbody tr th:only-of-type {\n",
       "        vertical-align: middle;\n",
       "    }\n",
       "\n",
       "    .dataframe tbody tr th {\n",
       "        vertical-align: top;\n",
       "    }\n",
       "\n",
       "    .dataframe thead th {\n",
       "        text-align: right;\n",
       "    }\n",
       "</style>\n",
       "<table border=\"1\" class=\"dataframe\">\n",
       "  <thead>\n",
       "    <tr style=\"text-align: right;\">\n",
       "      <th></th>\n",
       "      <th>Brand</th>\n",
       "      <th>model</th>\n",
       "      <th>Year</th>\n",
       "      <th>Age</th>\n",
       "      <th>kmDriven</th>\n",
       "      <th>Transmission</th>\n",
       "      <th>Owner</th>\n",
       "      <th>FuelType</th>\n",
       "      <th>PostedDate</th>\n",
       "      <th>AdditionInfo</th>\n",
       "      <th>AskPrice</th>\n",
       "      <th>count</th>\n",
       "    </tr>\n",
       "  </thead>\n",
       "  <tbody>\n",
       "    <tr>\n",
       "      <th>3331</th>\n",
       "      <td>Rolls-Royce</td>\n",
       "      <td>Phantom Series II</td>\n",
       "      <td>2015</td>\n",
       "      <td>9</td>\n",
       "      <td>11,500 km</td>\n",
       "      <td>Automatic</td>\n",
       "      <td>second</td>\n",
       "      <td>Petrol</td>\n",
       "      <td>Aug-24</td>\n",
       "      <td>Rolls-Royce Phantom Series II EWB, 2015, Petrol</td>\n",
       "      <td>42500000</td>\n",
       "      <td>399</td>\n",
       "    </tr>\n",
       "    <tr>\n",
       "      <th>962</th>\n",
       "      <td>Lexus</td>\n",
       "      <td>LX</td>\n",
       "      <td>2024</td>\n",
       "      <td>0</td>\n",
       "      <td>24,000 km</td>\n",
       "      <td>Automatic</td>\n",
       "      <td>first</td>\n",
       "      <td>Diesel</td>\n",
       "      <td>Nov-24</td>\n",
       "      <td>Lexus LX 500d, 2024, Diesel</td>\n",
       "      <td>27750000</td>\n",
       "      <td>399</td>\n",
       "    </tr>\n",
       "    <tr>\n",
       "      <th>331</th>\n",
       "      <td>Aston Martin</td>\n",
       "      <td>Vanquish</td>\n",
       "      <td>2016</td>\n",
       "      <td>8</td>\n",
       "      <td>25700.0 km</td>\n",
       "      <td>Automatic</td>\n",
       "      <td>first</td>\n",
       "      <td>Petrol</td>\n",
       "      <td>Nov-24</td>\n",
       "      <td>Aston Martin Vanquish 6.0 V12, 2016, Petrol</td>\n",
       "      <td>26400000</td>\n",
       "      <td>399</td>\n",
       "    </tr>\n",
       "    <tr>\n",
       "      <th>811</th>\n",
       "      <td>Mercedes-Benz</td>\n",
       "      <td>G Class</td>\n",
       "      <td>2019</td>\n",
       "      <td>5</td>\n",
       "      <td>59,000 km</td>\n",
       "      <td>Automatic</td>\n",
       "      <td>first</td>\n",
       "      <td>Petrol</td>\n",
       "      <td>Sep-24</td>\n",
       "      <td>Mercedes-Benz G Class 63 AMG, 2019, Petrol</td>\n",
       "      <td>26000000</td>\n",
       "      <td>399</td>\n",
       "    </tr>\n",
       "    <tr>\n",
       "      <th>5767</th>\n",
       "      <td>Mercedes-Benz</td>\n",
       "      <td>G Class</td>\n",
       "      <td>2019</td>\n",
       "      <td>5</td>\n",
       "      <td>59,000 km</td>\n",
       "      <td>Automatic</td>\n",
       "      <td>first</td>\n",
       "      <td>Petrol</td>\n",
       "      <td>Nov-24</td>\n",
       "      <td>Mercedes-Benz G Class G63 AMG, 2019, Petrol</td>\n",
       "      <td>24900000</td>\n",
       "      <td>399</td>\n",
       "    </tr>\n",
       "    <tr>\n",
       "      <th>1187</th>\n",
       "      <td>Toyota</td>\n",
       "      <td>Land Cruiser</td>\n",
       "      <td>2023</td>\n",
       "      <td>1</td>\n",
       "      <td>15000.0 km</td>\n",
       "      <td>Automatic</td>\n",
       "      <td>first</td>\n",
       "      <td>Diesel</td>\n",
       "      <td>Nov-24</td>\n",
       "      <td>Toyota Land Cruiser 3.3 ZX Diesel, 2023, Diesel</td>\n",
       "      <td>24700000</td>\n",
       "      <td>399</td>\n",
       "    </tr>\n",
       "    <tr>\n",
       "      <th>7435</th>\n",
       "      <td>Mercedes-Benz</td>\n",
       "      <td>SL-Class</td>\n",
       "      <td>2024</td>\n",
       "      <td>0</td>\n",
       "      <td>1,400 km</td>\n",
       "      <td>Automatic</td>\n",
       "      <td>first</td>\n",
       "      <td>Petrol</td>\n",
       "      <td>Nov-24</td>\n",
       "      <td>Mercedes-Benz SL-Class 55 AMG Roadster, 2024, ...</td>\n",
       "      <td>24500000</td>\n",
       "      <td>399</td>\n",
       "    </tr>\n",
       "    <tr>\n",
       "      <th>9241</th>\n",
       "      <td>Mercedes-Benz</td>\n",
       "      <td>AMG</td>\n",
       "      <td>2024</td>\n",
       "      <td>0</td>\n",
       "      <td>16,000 km</td>\n",
       "      <td>Automatic</td>\n",
       "      <td>first</td>\n",
       "      <td>Petrol</td>\n",
       "      <td>Nov-24</td>\n",
       "      <td>Mercedes-Benz AMG GT 63 S, 2024, Petrol</td>\n",
       "      <td>21500000</td>\n",
       "      <td>399</td>\n",
       "    </tr>\n",
       "    <tr>\n",
       "      <th>7615</th>\n",
       "      <td>Bentley</td>\n",
       "      <td>Flying Spur</td>\n",
       "      <td>2017</td>\n",
       "      <td>7</td>\n",
       "      <td>22,000 km</td>\n",
       "      <td>Automatic</td>\n",
       "      <td>first</td>\n",
       "      <td>Petrol</td>\n",
       "      <td>Nov-24</td>\n",
       "      <td>Bentley Continental Flying Spur V8, 2017, Petrol</td>\n",
       "      <td>18500000</td>\n",
       "      <td>399</td>\n",
       "    </tr>\n",
       "    <tr>\n",
       "      <th>5621</th>\n",
       "      <td>BMW</td>\n",
       "      <td>7 Series</td>\n",
       "      <td>2023</td>\n",
       "      <td>1</td>\n",
       "      <td>7000.0 km</td>\n",
       "      <td>Automatic</td>\n",
       "      <td>first</td>\n",
       "      <td>Petrol</td>\n",
       "      <td>Nov-24</td>\n",
       "      <td>BMW 7 Series 3.0 740Li M Sport, 2023, Petrol</td>\n",
       "      <td>18500000</td>\n",
       "      <td>399</td>\n",
       "    </tr>\n",
       "  </tbody>\n",
       "</table>\n",
       "</div>"
      ],
      "text/plain": [
       "              Brand              model  Year  Age    kmDriven Transmission  \\\n",
       "3331    Rolls-Royce  Phantom Series II  2015    9   11,500 km    Automatic   \n",
       "962           Lexus                 LX  2024    0   24,000 km    Automatic   \n",
       "331    Aston Martin           Vanquish  2016    8  25700.0 km    Automatic   \n",
       "811   Mercedes-Benz            G Class  2019    5   59,000 km    Automatic   \n",
       "5767  Mercedes-Benz            G Class  2019    5   59,000 km    Automatic   \n",
       "1187         Toyota       Land Cruiser  2023    1  15000.0 km    Automatic   \n",
       "7435  Mercedes-Benz           SL-Class  2024    0    1,400 km    Automatic   \n",
       "9241  Mercedes-Benz                AMG  2024    0   16,000 km    Automatic   \n",
       "7615        Bentley        Flying Spur  2017    7   22,000 km    Automatic   \n",
       "5621            BMW           7 Series  2023    1   7000.0 km    Automatic   \n",
       "\n",
       "       Owner FuelType PostedDate  \\\n",
       "3331  second   Petrol     Aug-24   \n",
       "962    first   Diesel     Nov-24   \n",
       "331    first   Petrol     Nov-24   \n",
       "811    first   Petrol     Sep-24   \n",
       "5767   first   Petrol     Nov-24   \n",
       "1187   first   Diesel     Nov-24   \n",
       "7435   first   Petrol     Nov-24   \n",
       "9241   first   Petrol     Nov-24   \n",
       "7615   first   Petrol     Nov-24   \n",
       "5621   first   Petrol     Nov-24   \n",
       "\n",
       "                                           AdditionInfo  AskPrice  count  \n",
       "3331    Rolls-Royce Phantom Series II EWB, 2015, Petrol  42500000    399  \n",
       "962                         Lexus LX 500d, 2024, Diesel  27750000    399  \n",
       "331         Aston Martin Vanquish 6.0 V12, 2016, Petrol  26400000    399  \n",
       "811          Mercedes-Benz G Class 63 AMG, 2019, Petrol  26000000    399  \n",
       "5767        Mercedes-Benz G Class G63 AMG, 2019, Petrol  24900000    399  \n",
       "1187    Toyota Land Cruiser 3.3 ZX Diesel, 2023, Diesel  24700000    399  \n",
       "7435  Mercedes-Benz SL-Class 55 AMG Roadster, 2024, ...  24500000    399  \n",
       "9241            Mercedes-Benz AMG GT 63 S, 2024, Petrol  21500000    399  \n",
       "7615   Bentley Continental Flying Spur V8, 2017, Petrol  18500000    399  \n",
       "5621       BMW 7 Series 3.0 740Li M Sport, 2023, Petrol  18500000    399  "
      ]
     },
     "execution_count": 36,
     "metadata": {},
     "output_type": "execute_result"
    }
   ],
   "source": [
    "df.head(10)"
   ]
  },
  {
   "cell_type": "code",
   "execution_count": 37,
   "id": "59797468-c424-497e-af26-50dd5955a97b",
   "metadata": {},
   "outputs": [
    {
     "data": {
      "text/html": [
       "<div>\n",
       "<style scoped>\n",
       "    .dataframe tbody tr th:only-of-type {\n",
       "        vertical-align: middle;\n",
       "    }\n",
       "\n",
       "    .dataframe tbody tr th {\n",
       "        vertical-align: top;\n",
       "    }\n",
       "\n",
       "    .dataframe thead th {\n",
       "        text-align: right;\n",
       "    }\n",
       "</style>\n",
       "<table border=\"1\" class=\"dataframe\">\n",
       "  <thead>\n",
       "    <tr style=\"text-align: right;\">\n",
       "      <th></th>\n",
       "      <th>index</th>\n",
       "      <th>Brand</th>\n",
       "      <th>model</th>\n",
       "      <th>Year</th>\n",
       "      <th>Age</th>\n",
       "      <th>kmDriven</th>\n",
       "      <th>Transmission</th>\n",
       "      <th>Owner</th>\n",
       "      <th>FuelType</th>\n",
       "      <th>PostedDate</th>\n",
       "      <th>AdditionInfo</th>\n",
       "      <th>AskPrice</th>\n",
       "      <th>count</th>\n",
       "    </tr>\n",
       "  </thead>\n",
       "  <tbody>\n",
       "    <tr>\n",
       "      <th>0</th>\n",
       "      <td>3331</td>\n",
       "      <td>Rolls-Royce</td>\n",
       "      <td>Phantom Series II</td>\n",
       "      <td>2015</td>\n",
       "      <td>9</td>\n",
       "      <td>11,500 km</td>\n",
       "      <td>Automatic</td>\n",
       "      <td>second</td>\n",
       "      <td>Petrol</td>\n",
       "      <td>Aug-24</td>\n",
       "      <td>Rolls-Royce Phantom Series II EWB, 2015, Petrol</td>\n",
       "      <td>42500000</td>\n",
       "      <td>399</td>\n",
       "    </tr>\n",
       "    <tr>\n",
       "      <th>1</th>\n",
       "      <td>962</td>\n",
       "      <td>Lexus</td>\n",
       "      <td>LX</td>\n",
       "      <td>2024</td>\n",
       "      <td>0</td>\n",
       "      <td>24,000 km</td>\n",
       "      <td>Automatic</td>\n",
       "      <td>first</td>\n",
       "      <td>Diesel</td>\n",
       "      <td>Nov-24</td>\n",
       "      <td>Lexus LX 500d, 2024, Diesel</td>\n",
       "      <td>27750000</td>\n",
       "      <td>399</td>\n",
       "    </tr>\n",
       "    <tr>\n",
       "      <th>2</th>\n",
       "      <td>331</td>\n",
       "      <td>Aston Martin</td>\n",
       "      <td>Vanquish</td>\n",
       "      <td>2016</td>\n",
       "      <td>8</td>\n",
       "      <td>25700.0 km</td>\n",
       "      <td>Automatic</td>\n",
       "      <td>first</td>\n",
       "      <td>Petrol</td>\n",
       "      <td>Nov-24</td>\n",
       "      <td>Aston Martin Vanquish 6.0 V12, 2016, Petrol</td>\n",
       "      <td>26400000</td>\n",
       "      <td>399</td>\n",
       "    </tr>\n",
       "    <tr>\n",
       "      <th>3</th>\n",
       "      <td>811</td>\n",
       "      <td>Mercedes-Benz</td>\n",
       "      <td>G Class</td>\n",
       "      <td>2019</td>\n",
       "      <td>5</td>\n",
       "      <td>59,000 km</td>\n",
       "      <td>Automatic</td>\n",
       "      <td>first</td>\n",
       "      <td>Petrol</td>\n",
       "      <td>Sep-24</td>\n",
       "      <td>Mercedes-Benz G Class 63 AMG, 2019, Petrol</td>\n",
       "      <td>26000000</td>\n",
       "      <td>399</td>\n",
       "    </tr>\n",
       "    <tr>\n",
       "      <th>4</th>\n",
       "      <td>5767</td>\n",
       "      <td>Mercedes-Benz</td>\n",
       "      <td>G Class</td>\n",
       "      <td>2019</td>\n",
       "      <td>5</td>\n",
       "      <td>59,000 km</td>\n",
       "      <td>Automatic</td>\n",
       "      <td>first</td>\n",
       "      <td>Petrol</td>\n",
       "      <td>Nov-24</td>\n",
       "      <td>Mercedes-Benz G Class G63 AMG, 2019, Petrol</td>\n",
       "      <td>24900000</td>\n",
       "      <td>399</td>\n",
       "    </tr>\n",
       "    <tr>\n",
       "      <th>...</th>\n",
       "      <td>...</td>\n",
       "      <td>...</td>\n",
       "      <td>...</td>\n",
       "      <td>...</td>\n",
       "      <td>...</td>\n",
       "      <td>...</td>\n",
       "      <td>...</td>\n",
       "      <td>...</td>\n",
       "      <td>...</td>\n",
       "      <td>...</td>\n",
       "      <td>...</td>\n",
       "      <td>...</td>\n",
       "      <td>...</td>\n",
       "    </tr>\n",
       "    <tr>\n",
       "      <th>9577</th>\n",
       "      <td>7507</td>\n",
       "      <td>Ashok</td>\n",
       "      <td>Leyland Stile</td>\n",
       "      <td>2024</td>\n",
       "      <td>0</td>\n",
       "      <td>0 km</td>\n",
       "      <td>Automatic</td>\n",
       "      <td>first</td>\n",
       "      <td>Hybrid/CNG</td>\n",
       "      <td>Nov-24</td>\n",
       "      <td>Hath gadi thella new juice set-up thella</td>\n",
       "      <td>32000</td>\n",
       "      <td>399</td>\n",
       "    </tr>\n",
       "    <tr>\n",
       "      <th>9578</th>\n",
       "      <td>7242</td>\n",
       "      <td>Maruti Suzuki</td>\n",
       "      <td>Zen-Estilo</td>\n",
       "      <td>1998</td>\n",
       "      <td>26</td>\n",
       "      <td>NaN</td>\n",
       "      <td>Manual</td>\n",
       "      <td>second</td>\n",
       "      <td>Petrol</td>\n",
       "      <td>Nov-24</td>\n",
       "      <td>Zen 1998 model,insurence renewed,test in 2025 ...</td>\n",
       "      <td>27000</td>\n",
       "      <td>399</td>\n",
       "    </tr>\n",
       "    <tr>\n",
       "      <th>9579</th>\n",
       "      <td>271</td>\n",
       "      <td>Maruti Suzuki</td>\n",
       "      <td>Alto-800</td>\n",
       "      <td>2006</td>\n",
       "      <td>18</td>\n",
       "      <td>20,024 km</td>\n",
       "      <td>Manual</td>\n",
       "      <td>first</td>\n",
       "      <td>Petrol</td>\n",
       "      <td>Nov-24</td>\n",
       "      <td>पुरानी स्क्रैप की गाड़ी बेचने के लिए संपर्क करें</td>\n",
       "      <td>20000</td>\n",
       "      <td>399</td>\n",
       "    </tr>\n",
       "    <tr>\n",
       "      <th>9580</th>\n",
       "      <td>3034</td>\n",
       "      <td>Maruti Suzuki</td>\n",
       "      <td>Baleno</td>\n",
       "      <td>2024</td>\n",
       "      <td>0</td>\n",
       "      <td>9,000 km</td>\n",
       "      <td>Manual</td>\n",
       "      <td>first</td>\n",
       "      <td>Petrol</td>\n",
       "      <td>Nov-24</td>\n",
       "      <td>Panasound brand Daimond 2k androd stereo</td>\n",
       "      <td>18500</td>\n",
       "      <td>399</td>\n",
       "    </tr>\n",
       "    <tr>\n",
       "      <th>9581</th>\n",
       "      <td>1751</td>\n",
       "      <td>Mahindra</td>\n",
       "      <td>Marshal</td>\n",
       "      <td>2000</td>\n",
       "      <td>24</td>\n",
       "      <td>55,000 km</td>\n",
       "      <td>Manual</td>\n",
       "      <td>second</td>\n",
       "      <td>Diesel</td>\n",
       "      <td>Nov-24</td>\n",
       "      <td>Want NOC for Mahindra Marshal or Commander</td>\n",
       "      <td>15000</td>\n",
       "      <td>399</td>\n",
       "    </tr>\n",
       "  </tbody>\n",
       "</table>\n",
       "<p>9582 rows × 13 columns</p>\n",
       "</div>"
      ],
      "text/plain": [
       "      index          Brand              model  Year  Age    kmDriven  \\\n",
       "0      3331    Rolls-Royce  Phantom Series II  2015    9   11,500 km   \n",
       "1       962          Lexus                 LX  2024    0   24,000 km   \n",
       "2       331   Aston Martin           Vanquish  2016    8  25700.0 km   \n",
       "3       811  Mercedes-Benz            G Class  2019    5   59,000 km   \n",
       "4      5767  Mercedes-Benz            G Class  2019    5   59,000 km   \n",
       "...     ...            ...                ...   ...  ...         ...   \n",
       "9577   7507          Ashok      Leyland Stile  2024    0        0 km   \n",
       "9578   7242  Maruti Suzuki         Zen-Estilo  1998   26         NaN   \n",
       "9579    271  Maruti Suzuki           Alto-800  2006   18   20,024 km   \n",
       "9580   3034  Maruti Suzuki             Baleno  2024    0    9,000 km   \n",
       "9581   1751       Mahindra            Marshal  2000   24   55,000 km   \n",
       "\n",
       "     Transmission   Owner    FuelType PostedDate  \\\n",
       "0       Automatic  second      Petrol     Aug-24   \n",
       "1       Automatic   first      Diesel     Nov-24   \n",
       "2       Automatic   first      Petrol     Nov-24   \n",
       "3       Automatic   first      Petrol     Sep-24   \n",
       "4       Automatic   first      Petrol     Nov-24   \n",
       "...           ...     ...         ...        ...   \n",
       "9577    Automatic   first  Hybrid/CNG     Nov-24   \n",
       "9578       Manual  second      Petrol     Nov-24   \n",
       "9579       Manual   first      Petrol     Nov-24   \n",
       "9580       Manual   first      Petrol     Nov-24   \n",
       "9581       Manual  second      Diesel     Nov-24   \n",
       "\n",
       "                                           AdditionInfo  AskPrice  count  \n",
       "0       Rolls-Royce Phantom Series II EWB, 2015, Petrol  42500000    399  \n",
       "1                           Lexus LX 500d, 2024, Diesel  27750000    399  \n",
       "2           Aston Martin Vanquish 6.0 V12, 2016, Petrol  26400000    399  \n",
       "3            Mercedes-Benz G Class 63 AMG, 2019, Petrol  26000000    399  \n",
       "4           Mercedes-Benz G Class G63 AMG, 2019, Petrol  24900000    399  \n",
       "...                                                 ...       ...    ...  \n",
       "9577           Hath gadi thella new juice set-up thella     32000    399  \n",
       "9578  Zen 1998 model,insurence renewed,test in 2025 ...     27000    399  \n",
       "9579   पुरानी स्क्रैप की गाड़ी बेचने के लिए संपर्क करें     20000    399  \n",
       "9580           Panasound brand Daimond 2k androd stereo     18500    399  \n",
       "9581         Want NOC for Mahindra Marshal or Commander     15000    399  \n",
       "\n",
       "[9582 rows x 13 columns]"
      ]
     },
     "execution_count": 37,
     "metadata": {},
     "output_type": "execute_result"
    }
   ],
   "source": [
    "df.reset_index()"
   ]
  },
  {
   "cell_type": "code",
   "execution_count": 39,
   "id": "d20188c9-968b-4935-9671-1112df3679ed",
   "metadata": {},
   "outputs": [
    {
     "data": {
      "text/html": [
       "<div>\n",
       "<style scoped>\n",
       "    .dataframe tbody tr th:only-of-type {\n",
       "        vertical-align: middle;\n",
       "    }\n",
       "\n",
       "    .dataframe tbody tr th {\n",
       "        vertical-align: top;\n",
       "    }\n",
       "\n",
       "    .dataframe thead th {\n",
       "        text-align: right;\n",
       "    }\n",
       "</style>\n",
       "<table border=\"1\" class=\"dataframe\">\n",
       "  <thead>\n",
       "    <tr style=\"text-align: right;\">\n",
       "      <th></th>\n",
       "      <th>Brand</th>\n",
       "      <th>model</th>\n",
       "      <th>Year</th>\n",
       "      <th>Age</th>\n",
       "      <th>kmDriven</th>\n",
       "      <th>Transmission</th>\n",
       "      <th>Owner</th>\n",
       "      <th>FuelType</th>\n",
       "      <th>PostedDate</th>\n",
       "      <th>AdditionInfo</th>\n",
       "      <th>AskPrice</th>\n",
       "      <th>count</th>\n",
       "    </tr>\n",
       "  </thead>\n",
       "  <tbody>\n",
       "    <tr>\n",
       "      <th>6553</th>\n",
       "      <td>Toyota</td>\n",
       "      <td>2.8 Legender 4X2</td>\n",
       "      <td>2021</td>\n",
       "      <td>3</td>\n",
       "      <td>83,000 km</td>\n",
       "      <td>Automatic</td>\n",
       "      <td>first</td>\n",
       "      <td>Diesel</td>\n",
       "      <td>Nov-24</td>\n",
       "      <td>Toyota Fortuner Legender 4X2 AT 2.8, 2021, Diesel</td>\n",
       "      <td>3895000</td>\n",
       "      <td>399</td>\n",
       "    </tr>\n",
       "    <tr>\n",
       "      <th>641</th>\n",
       "      <td>Toyota</td>\n",
       "      <td>Fortuner</td>\n",
       "      <td>2021</td>\n",
       "      <td>3</td>\n",
       "      <td>77,000 km</td>\n",
       "      <td>Automatic</td>\n",
       "      <td>first</td>\n",
       "      <td>Diesel</td>\n",
       "      <td>Nov-24</td>\n",
       "      <td>Toyota Fortuner 4X4 AT 2.8 Diesel, 2021, Diesel</td>\n",
       "      <td>3890000</td>\n",
       "      <td>399</td>\n",
       "    </tr>\n",
       "  </tbody>\n",
       "</table>\n",
       "</div>"
      ],
      "text/plain": [
       "       Brand             model  Year  Age   kmDriven Transmission  Owner  \\\n",
       "6553  Toyota  2.8 Legender 4X2  2021    3  83,000 km    Automatic  first   \n",
       "641   Toyota          Fortuner  2021    3  77,000 km    Automatic  first   \n",
       "\n",
       "     FuelType PostedDate                                       AdditionInfo  \\\n",
       "6553   Diesel     Nov-24  Toyota Fortuner Legender 4X2 AT 2.8, 2021, Diesel   \n",
       "641    Diesel     Nov-24    Toyota Fortuner 4X4 AT 2.8 Diesel, 2021, Diesel   \n",
       "\n",
       "      AskPrice  count  \n",
       "6553   3895000    399  \n",
       "641    3890000    399  "
      ]
     },
     "execution_count": 39,
     "metadata": {},
     "output_type": "execute_result"
    }
   ],
   "source": [
    "df.iloc[388:390]"
   ]
  },
  {
   "cell_type": "code",
   "execution_count": 41,
   "id": "4ce3f3ec-50b6-48db-941d-f194db852953",
   "metadata": {},
   "outputs": [
    {
     "data": {
      "text/html": [
       "<div>\n",
       "<style scoped>\n",
       "    .dataframe tbody tr th:only-of-type {\n",
       "        vertical-align: middle;\n",
       "    }\n",
       "\n",
       "    .dataframe tbody tr th {\n",
       "        vertical-align: top;\n",
       "    }\n",
       "\n",
       "    .dataframe thead th {\n",
       "        text-align: right;\n",
       "    }\n",
       "</style>\n",
       "<table border=\"1\" class=\"dataframe\">\n",
       "  <thead>\n",
       "    <tr style=\"text-align: right;\">\n",
       "      <th></th>\n",
       "      <th>Brand</th>\n",
       "      <th>model</th>\n",
       "      <th>Year</th>\n",
       "      <th>Age</th>\n",
       "      <th>kmDriven</th>\n",
       "      <th>Transmission</th>\n",
       "      <th>Owner</th>\n",
       "      <th>FuelType</th>\n",
       "      <th>PostedDate</th>\n",
       "      <th>AdditionInfo</th>\n",
       "      <th>AskPrice</th>\n",
       "      <th>count</th>\n",
       "    </tr>\n",
       "  </thead>\n",
       "  <tbody>\n",
       "    <tr>\n",
       "      <th>3331</th>\n",
       "      <td>Rolls-Royce</td>\n",
       "      <td>Phantom Series II</td>\n",
       "      <td>2015</td>\n",
       "      <td>9</td>\n",
       "      <td>11,500 km</td>\n",
       "      <td>Automatic</td>\n",
       "      <td>second</td>\n",
       "      <td>Petrol</td>\n",
       "      <td>Aug-24</td>\n",
       "      <td>Rolls-Royce Phantom Series II EWB, 2015, Petrol</td>\n",
       "      <td>42500000</td>\n",
       "      <td>399</td>\n",
       "    </tr>\n",
       "    <tr>\n",
       "      <th>962</th>\n",
       "      <td>Lexus</td>\n",
       "      <td>LX</td>\n",
       "      <td>2024</td>\n",
       "      <td>0</td>\n",
       "      <td>24,000 km</td>\n",
       "      <td>Automatic</td>\n",
       "      <td>first</td>\n",
       "      <td>Diesel</td>\n",
       "      <td>Nov-24</td>\n",
       "      <td>Lexus LX 500d, 2024, Diesel</td>\n",
       "      <td>27750000</td>\n",
       "      <td>399</td>\n",
       "    </tr>\n",
       "    <tr>\n",
       "      <th>331</th>\n",
       "      <td>Aston Martin</td>\n",
       "      <td>Vanquish</td>\n",
       "      <td>2016</td>\n",
       "      <td>8</td>\n",
       "      <td>25700.0 km</td>\n",
       "      <td>Automatic</td>\n",
       "      <td>first</td>\n",
       "      <td>Petrol</td>\n",
       "      <td>Nov-24</td>\n",
       "      <td>Aston Martin Vanquish 6.0 V12, 2016, Petrol</td>\n",
       "      <td>26400000</td>\n",
       "      <td>399</td>\n",
       "    </tr>\n",
       "    <tr>\n",
       "      <th>811</th>\n",
       "      <td>Mercedes-Benz</td>\n",
       "      <td>G Class</td>\n",
       "      <td>2019</td>\n",
       "      <td>5</td>\n",
       "      <td>59,000 km</td>\n",
       "      <td>Automatic</td>\n",
       "      <td>first</td>\n",
       "      <td>Petrol</td>\n",
       "      <td>Sep-24</td>\n",
       "      <td>Mercedes-Benz G Class 63 AMG, 2019, Petrol</td>\n",
       "      <td>26000000</td>\n",
       "      <td>399</td>\n",
       "    </tr>\n",
       "    <tr>\n",
       "      <th>5767</th>\n",
       "      <td>Mercedes-Benz</td>\n",
       "      <td>G Class</td>\n",
       "      <td>2019</td>\n",
       "      <td>5</td>\n",
       "      <td>59,000 km</td>\n",
       "      <td>Automatic</td>\n",
       "      <td>first</td>\n",
       "      <td>Petrol</td>\n",
       "      <td>Nov-24</td>\n",
       "      <td>Mercedes-Benz G Class G63 AMG, 2019, Petrol</td>\n",
       "      <td>24900000</td>\n",
       "      <td>399</td>\n",
       "    </tr>\n",
       "    <tr>\n",
       "      <th>...</th>\n",
       "      <td>...</td>\n",
       "      <td>...</td>\n",
       "      <td>...</td>\n",
       "      <td>...</td>\n",
       "      <td>...</td>\n",
       "      <td>...</td>\n",
       "      <td>...</td>\n",
       "      <td>...</td>\n",
       "      <td>...</td>\n",
       "      <td>...</td>\n",
       "      <td>...</td>\n",
       "      <td>...</td>\n",
       "    </tr>\n",
       "    <tr>\n",
       "      <th>7507</th>\n",
       "      <td>Ashok</td>\n",
       "      <td>Leyland Stile</td>\n",
       "      <td>2024</td>\n",
       "      <td>0</td>\n",
       "      <td>0 km</td>\n",
       "      <td>Automatic</td>\n",
       "      <td>first</td>\n",
       "      <td>Hybrid/CNG</td>\n",
       "      <td>Nov-24</td>\n",
       "      <td>Hath gadi thella new juice set-up thella</td>\n",
       "      <td>32000</td>\n",
       "      <td>399</td>\n",
       "    </tr>\n",
       "    <tr>\n",
       "      <th>7242</th>\n",
       "      <td>Maruti Suzuki</td>\n",
       "      <td>Zen-Estilo</td>\n",
       "      <td>1998</td>\n",
       "      <td>26</td>\n",
       "      <td>NaN</td>\n",
       "      <td>Manual</td>\n",
       "      <td>second</td>\n",
       "      <td>Petrol</td>\n",
       "      <td>Nov-24</td>\n",
       "      <td>Zen 1998 model,insurence renewed,test in 2025 ...</td>\n",
       "      <td>27000</td>\n",
       "      <td>399</td>\n",
       "    </tr>\n",
       "    <tr>\n",
       "      <th>271</th>\n",
       "      <td>Maruti Suzuki</td>\n",
       "      <td>Alto-800</td>\n",
       "      <td>2006</td>\n",
       "      <td>18</td>\n",
       "      <td>20,024 km</td>\n",
       "      <td>Manual</td>\n",
       "      <td>first</td>\n",
       "      <td>Petrol</td>\n",
       "      <td>Nov-24</td>\n",
       "      <td>पुरानी स्क्रैप की गाड़ी बेचने के लिए संपर्क करें</td>\n",
       "      <td>20000</td>\n",
       "      <td>399</td>\n",
       "    </tr>\n",
       "    <tr>\n",
       "      <th>3034</th>\n",
       "      <td>Maruti Suzuki</td>\n",
       "      <td>Baleno</td>\n",
       "      <td>2024</td>\n",
       "      <td>0</td>\n",
       "      <td>9,000 km</td>\n",
       "      <td>Manual</td>\n",
       "      <td>first</td>\n",
       "      <td>Petrol</td>\n",
       "      <td>Nov-24</td>\n",
       "      <td>Panasound brand Daimond 2k androd stereo</td>\n",
       "      <td>18500</td>\n",
       "      <td>399</td>\n",
       "    </tr>\n",
       "    <tr>\n",
       "      <th>1751</th>\n",
       "      <td>Mahindra</td>\n",
       "      <td>Marshal</td>\n",
       "      <td>2000</td>\n",
       "      <td>24</td>\n",
       "      <td>55,000 km</td>\n",
       "      <td>Manual</td>\n",
       "      <td>second</td>\n",
       "      <td>Diesel</td>\n",
       "      <td>Nov-24</td>\n",
       "      <td>Want NOC for Mahindra Marshal or Commander</td>\n",
       "      <td>15000</td>\n",
       "      <td>399</td>\n",
       "    </tr>\n",
       "  </tbody>\n",
       "</table>\n",
       "<p>9582 rows × 12 columns</p>\n",
       "</div>"
      ],
      "text/plain": [
       "              Brand              model  Year  Age    kmDriven Transmission  \\\n",
       "3331    Rolls-Royce  Phantom Series II  2015    9   11,500 km    Automatic   \n",
       "962           Lexus                 LX  2024    0   24,000 km    Automatic   \n",
       "331    Aston Martin           Vanquish  2016    8  25700.0 km    Automatic   \n",
       "811   Mercedes-Benz            G Class  2019    5   59,000 km    Automatic   \n",
       "5767  Mercedes-Benz            G Class  2019    5   59,000 km    Automatic   \n",
       "...             ...                ...   ...  ...         ...          ...   \n",
       "7507          Ashok      Leyland Stile  2024    0        0 km    Automatic   \n",
       "7242  Maruti Suzuki         Zen-Estilo  1998   26         NaN       Manual   \n",
       "271   Maruti Suzuki           Alto-800  2006   18   20,024 km       Manual   \n",
       "3034  Maruti Suzuki             Baleno  2024    0    9,000 km       Manual   \n",
       "1751       Mahindra            Marshal  2000   24   55,000 km       Manual   \n",
       "\n",
       "       Owner    FuelType PostedDate  \\\n",
       "3331  second      Petrol     Aug-24   \n",
       "962    first      Diesel     Nov-24   \n",
       "331    first      Petrol     Nov-24   \n",
       "811    first      Petrol     Sep-24   \n",
       "5767   first      Petrol     Nov-24   \n",
       "...      ...         ...        ...   \n",
       "7507   first  Hybrid/CNG     Nov-24   \n",
       "7242  second      Petrol     Nov-24   \n",
       "271    first      Petrol     Nov-24   \n",
       "3034   first      Petrol     Nov-24   \n",
       "1751  second      Diesel     Nov-24   \n",
       "\n",
       "                                           AdditionInfo  AskPrice  count  \n",
       "3331    Rolls-Royce Phantom Series II EWB, 2015, Petrol  42500000    399  \n",
       "962                         Lexus LX 500d, 2024, Diesel  27750000    399  \n",
       "331         Aston Martin Vanquish 6.0 V12, 2016, Petrol  26400000    399  \n",
       "811          Mercedes-Benz G Class 63 AMG, 2019, Petrol  26000000    399  \n",
       "5767        Mercedes-Benz G Class G63 AMG, 2019, Petrol  24900000    399  \n",
       "...                                                 ...       ...    ...  \n",
       "7507           Hath gadi thella new juice set-up thella     32000    399  \n",
       "7242  Zen 1998 model,insurence renewed,test in 2025 ...     27000    399  \n",
       "271    पुरानी स्क्रैप की गाड़ी बेचने के लिए संपर्क करें     20000    399  \n",
       "3034           Panasound brand Daimond 2k androd stereo     18500    399  \n",
       "1751         Want NOC for Mahindra Marshal or Commander     15000    399  \n",
       "\n",
       "[9582 rows x 12 columns]"
      ]
     },
     "execution_count": 41,
     "metadata": {},
     "output_type": "execute_result"
    }
   ],
   "source": [
    "df"
   ]
  },
  {
   "cell_type": "code",
   "execution_count": 43,
   "id": "32995db5-dd91-4701-bc9a-5ff481b02653",
   "metadata": {},
   "outputs": [],
   "source": [
    "df.reset_index(inplace = True)"
   ]
  },
  {
   "cell_type": "code",
   "execution_count": 44,
   "id": "cf79907e-717c-4f7a-b061-00a655b6f2e0",
   "metadata": {},
   "outputs": [
    {
     "data": {
      "text/html": [
       "<div>\n",
       "<style scoped>\n",
       "    .dataframe tbody tr th:only-of-type {\n",
       "        vertical-align: middle;\n",
       "    }\n",
       "\n",
       "    .dataframe tbody tr th {\n",
       "        vertical-align: top;\n",
       "    }\n",
       "\n",
       "    .dataframe thead th {\n",
       "        text-align: right;\n",
       "    }\n",
       "</style>\n",
       "<table border=\"1\" class=\"dataframe\">\n",
       "  <thead>\n",
       "    <tr style=\"text-align: right;\">\n",
       "      <th></th>\n",
       "      <th>index</th>\n",
       "      <th>Brand</th>\n",
       "      <th>model</th>\n",
       "      <th>Year</th>\n",
       "      <th>Age</th>\n",
       "      <th>kmDriven</th>\n",
       "      <th>Transmission</th>\n",
       "      <th>Owner</th>\n",
       "      <th>FuelType</th>\n",
       "      <th>PostedDate</th>\n",
       "      <th>AdditionInfo</th>\n",
       "      <th>AskPrice</th>\n",
       "      <th>count</th>\n",
       "    </tr>\n",
       "  </thead>\n",
       "  <tbody>\n",
       "    <tr>\n",
       "      <th>0</th>\n",
       "      <td>3331</td>\n",
       "      <td>Rolls-Royce</td>\n",
       "      <td>Phantom Series II</td>\n",
       "      <td>2015</td>\n",
       "      <td>9</td>\n",
       "      <td>11,500 km</td>\n",
       "      <td>Automatic</td>\n",
       "      <td>second</td>\n",
       "      <td>Petrol</td>\n",
       "      <td>Aug-24</td>\n",
       "      <td>Rolls-Royce Phantom Series II EWB, 2015, Petrol</td>\n",
       "      <td>42500000</td>\n",
       "      <td>399</td>\n",
       "    </tr>\n",
       "    <tr>\n",
       "      <th>1</th>\n",
       "      <td>962</td>\n",
       "      <td>Lexus</td>\n",
       "      <td>LX</td>\n",
       "      <td>2024</td>\n",
       "      <td>0</td>\n",
       "      <td>24,000 km</td>\n",
       "      <td>Automatic</td>\n",
       "      <td>first</td>\n",
       "      <td>Diesel</td>\n",
       "      <td>Nov-24</td>\n",
       "      <td>Lexus LX 500d, 2024, Diesel</td>\n",
       "      <td>27750000</td>\n",
       "      <td>399</td>\n",
       "    </tr>\n",
       "    <tr>\n",
       "      <th>2</th>\n",
       "      <td>331</td>\n",
       "      <td>Aston Martin</td>\n",
       "      <td>Vanquish</td>\n",
       "      <td>2016</td>\n",
       "      <td>8</td>\n",
       "      <td>25700.0 km</td>\n",
       "      <td>Automatic</td>\n",
       "      <td>first</td>\n",
       "      <td>Petrol</td>\n",
       "      <td>Nov-24</td>\n",
       "      <td>Aston Martin Vanquish 6.0 V12, 2016, Petrol</td>\n",
       "      <td>26400000</td>\n",
       "      <td>399</td>\n",
       "    </tr>\n",
       "    <tr>\n",
       "      <th>3</th>\n",
       "      <td>811</td>\n",
       "      <td>Mercedes-Benz</td>\n",
       "      <td>G Class</td>\n",
       "      <td>2019</td>\n",
       "      <td>5</td>\n",
       "      <td>59,000 km</td>\n",
       "      <td>Automatic</td>\n",
       "      <td>first</td>\n",
       "      <td>Petrol</td>\n",
       "      <td>Sep-24</td>\n",
       "      <td>Mercedes-Benz G Class 63 AMG, 2019, Petrol</td>\n",
       "      <td>26000000</td>\n",
       "      <td>399</td>\n",
       "    </tr>\n",
       "    <tr>\n",
       "      <th>4</th>\n",
       "      <td>5767</td>\n",
       "      <td>Mercedes-Benz</td>\n",
       "      <td>G Class</td>\n",
       "      <td>2019</td>\n",
       "      <td>5</td>\n",
       "      <td>59,000 km</td>\n",
       "      <td>Automatic</td>\n",
       "      <td>first</td>\n",
       "      <td>Petrol</td>\n",
       "      <td>Nov-24</td>\n",
       "      <td>Mercedes-Benz G Class G63 AMG, 2019, Petrol</td>\n",
       "      <td>24900000</td>\n",
       "      <td>399</td>\n",
       "    </tr>\n",
       "    <tr>\n",
       "      <th>...</th>\n",
       "      <td>...</td>\n",
       "      <td>...</td>\n",
       "      <td>...</td>\n",
       "      <td>...</td>\n",
       "      <td>...</td>\n",
       "      <td>...</td>\n",
       "      <td>...</td>\n",
       "      <td>...</td>\n",
       "      <td>...</td>\n",
       "      <td>...</td>\n",
       "      <td>...</td>\n",
       "      <td>...</td>\n",
       "      <td>...</td>\n",
       "    </tr>\n",
       "    <tr>\n",
       "      <th>9577</th>\n",
       "      <td>7507</td>\n",
       "      <td>Ashok</td>\n",
       "      <td>Leyland Stile</td>\n",
       "      <td>2024</td>\n",
       "      <td>0</td>\n",
       "      <td>0 km</td>\n",
       "      <td>Automatic</td>\n",
       "      <td>first</td>\n",
       "      <td>Hybrid/CNG</td>\n",
       "      <td>Nov-24</td>\n",
       "      <td>Hath gadi thella new juice set-up thella</td>\n",
       "      <td>32000</td>\n",
       "      <td>399</td>\n",
       "    </tr>\n",
       "    <tr>\n",
       "      <th>9578</th>\n",
       "      <td>7242</td>\n",
       "      <td>Maruti Suzuki</td>\n",
       "      <td>Zen-Estilo</td>\n",
       "      <td>1998</td>\n",
       "      <td>26</td>\n",
       "      <td>NaN</td>\n",
       "      <td>Manual</td>\n",
       "      <td>second</td>\n",
       "      <td>Petrol</td>\n",
       "      <td>Nov-24</td>\n",
       "      <td>Zen 1998 model,insurence renewed,test in 2025 ...</td>\n",
       "      <td>27000</td>\n",
       "      <td>399</td>\n",
       "    </tr>\n",
       "    <tr>\n",
       "      <th>9579</th>\n",
       "      <td>271</td>\n",
       "      <td>Maruti Suzuki</td>\n",
       "      <td>Alto-800</td>\n",
       "      <td>2006</td>\n",
       "      <td>18</td>\n",
       "      <td>20,024 km</td>\n",
       "      <td>Manual</td>\n",
       "      <td>first</td>\n",
       "      <td>Petrol</td>\n",
       "      <td>Nov-24</td>\n",
       "      <td>पुरानी स्क्रैप की गाड़ी बेचने के लिए संपर्क करें</td>\n",
       "      <td>20000</td>\n",
       "      <td>399</td>\n",
       "    </tr>\n",
       "    <tr>\n",
       "      <th>9580</th>\n",
       "      <td>3034</td>\n",
       "      <td>Maruti Suzuki</td>\n",
       "      <td>Baleno</td>\n",
       "      <td>2024</td>\n",
       "      <td>0</td>\n",
       "      <td>9,000 km</td>\n",
       "      <td>Manual</td>\n",
       "      <td>first</td>\n",
       "      <td>Petrol</td>\n",
       "      <td>Nov-24</td>\n",
       "      <td>Panasound brand Daimond 2k androd stereo</td>\n",
       "      <td>18500</td>\n",
       "      <td>399</td>\n",
       "    </tr>\n",
       "    <tr>\n",
       "      <th>9581</th>\n",
       "      <td>1751</td>\n",
       "      <td>Mahindra</td>\n",
       "      <td>Marshal</td>\n",
       "      <td>2000</td>\n",
       "      <td>24</td>\n",
       "      <td>55,000 km</td>\n",
       "      <td>Manual</td>\n",
       "      <td>second</td>\n",
       "      <td>Diesel</td>\n",
       "      <td>Nov-24</td>\n",
       "      <td>Want NOC for Mahindra Marshal or Commander</td>\n",
       "      <td>15000</td>\n",
       "      <td>399</td>\n",
       "    </tr>\n",
       "  </tbody>\n",
       "</table>\n",
       "<p>9582 rows × 13 columns</p>\n",
       "</div>"
      ],
      "text/plain": [
       "      index          Brand              model  Year  Age    kmDriven  \\\n",
       "0      3331    Rolls-Royce  Phantom Series II  2015    9   11,500 km   \n",
       "1       962          Lexus                 LX  2024    0   24,000 km   \n",
       "2       331   Aston Martin           Vanquish  2016    8  25700.0 km   \n",
       "3       811  Mercedes-Benz            G Class  2019    5   59,000 km   \n",
       "4      5767  Mercedes-Benz            G Class  2019    5   59,000 km   \n",
       "...     ...            ...                ...   ...  ...         ...   \n",
       "9577   7507          Ashok      Leyland Stile  2024    0        0 km   \n",
       "9578   7242  Maruti Suzuki         Zen-Estilo  1998   26         NaN   \n",
       "9579    271  Maruti Suzuki           Alto-800  2006   18   20,024 km   \n",
       "9580   3034  Maruti Suzuki             Baleno  2024    0    9,000 km   \n",
       "9581   1751       Mahindra            Marshal  2000   24   55,000 km   \n",
       "\n",
       "     Transmission   Owner    FuelType PostedDate  \\\n",
       "0       Automatic  second      Petrol     Aug-24   \n",
       "1       Automatic   first      Diesel     Nov-24   \n",
       "2       Automatic   first      Petrol     Nov-24   \n",
       "3       Automatic   first      Petrol     Sep-24   \n",
       "4       Automatic   first      Petrol     Nov-24   \n",
       "...           ...     ...         ...        ...   \n",
       "9577    Automatic   first  Hybrid/CNG     Nov-24   \n",
       "9578       Manual  second      Petrol     Nov-24   \n",
       "9579       Manual   first      Petrol     Nov-24   \n",
       "9580       Manual   first      Petrol     Nov-24   \n",
       "9581       Manual  second      Diesel     Nov-24   \n",
       "\n",
       "                                           AdditionInfo  AskPrice  count  \n",
       "0       Rolls-Royce Phantom Series II EWB, 2015, Petrol  42500000    399  \n",
       "1                           Lexus LX 500d, 2024, Diesel  27750000    399  \n",
       "2           Aston Martin Vanquish 6.0 V12, 2016, Petrol  26400000    399  \n",
       "3            Mercedes-Benz G Class 63 AMG, 2019, Petrol  26000000    399  \n",
       "4           Mercedes-Benz G Class G63 AMG, 2019, Petrol  24900000    399  \n",
       "...                                                 ...       ...    ...  \n",
       "9577           Hath gadi thella new juice set-up thella     32000    399  \n",
       "9578  Zen 1998 model,insurence renewed,test in 2025 ...     27000    399  \n",
       "9579   पुरानी स्क्रैप की गाड़ी बेचने के लिए संपर्क करें     20000    399  \n",
       "9580           Panasound brand Daimond 2k androd stereo     18500    399  \n",
       "9581         Want NOC for Mahindra Marshal or Commander     15000    399  \n",
       "\n",
       "[9582 rows x 13 columns]"
      ]
     },
     "execution_count": 44,
     "metadata": {},
     "output_type": "execute_result"
    }
   ],
   "source": [
    "df"
   ]
  },
  {
   "cell_type": "code",
   "execution_count": 45,
   "id": "b22845be-e332-4600-abd2-8f3ccd7fa035",
   "metadata": {},
   "outputs": [
    {
     "data": {
      "text/html": [
       "<div>\n",
       "<style scoped>\n",
       "    .dataframe tbody tr th:only-of-type {\n",
       "        vertical-align: middle;\n",
       "    }\n",
       "\n",
       "    .dataframe tbody tr th {\n",
       "        vertical-align: top;\n",
       "    }\n",
       "\n",
       "    .dataframe thead th {\n",
       "        text-align: right;\n",
       "    }\n",
       "</style>\n",
       "<table border=\"1\" class=\"dataframe\">\n",
       "  <thead>\n",
       "    <tr style=\"text-align: right;\">\n",
       "      <th></th>\n",
       "      <th>index</th>\n",
       "      <th>Brand</th>\n",
       "      <th>model</th>\n",
       "      <th>Year</th>\n",
       "      <th>Age</th>\n",
       "      <th>kmDriven</th>\n",
       "      <th>Transmission</th>\n",
       "      <th>Owner</th>\n",
       "      <th>FuelType</th>\n",
       "      <th>PostedDate</th>\n",
       "      <th>AdditionInfo</th>\n",
       "      <th>AskPrice</th>\n",
       "      <th>count</th>\n",
       "    </tr>\n",
       "  </thead>\n",
       "  <tbody>\n",
       "    <tr>\n",
       "      <th>0</th>\n",
       "      <td>3331</td>\n",
       "      <td>Rolls-Royce</td>\n",
       "      <td>Phantom Series II</td>\n",
       "      <td>2015</td>\n",
       "      <td>9</td>\n",
       "      <td>11,500 km</td>\n",
       "      <td>Automatic</td>\n",
       "      <td>second</td>\n",
       "      <td>Petrol</td>\n",
       "      <td>Aug-24</td>\n",
       "      <td>Rolls-Royce Phantom Series II EWB, 2015, Petrol</td>\n",
       "      <td>42500000</td>\n",
       "      <td>399</td>\n",
       "    </tr>\n",
       "    <tr>\n",
       "      <th>1</th>\n",
       "      <td>962</td>\n",
       "      <td>Lexus</td>\n",
       "      <td>LX</td>\n",
       "      <td>2024</td>\n",
       "      <td>0</td>\n",
       "      <td>24,000 km</td>\n",
       "      <td>Automatic</td>\n",
       "      <td>first</td>\n",
       "      <td>Diesel</td>\n",
       "      <td>Nov-24</td>\n",
       "      <td>Lexus LX 500d, 2024, Diesel</td>\n",
       "      <td>27750000</td>\n",
       "      <td>399</td>\n",
       "    </tr>\n",
       "    <tr>\n",
       "      <th>2</th>\n",
       "      <td>331</td>\n",
       "      <td>Aston Martin</td>\n",
       "      <td>Vanquish</td>\n",
       "      <td>2016</td>\n",
       "      <td>8</td>\n",
       "      <td>25700.0 km</td>\n",
       "      <td>Automatic</td>\n",
       "      <td>first</td>\n",
       "      <td>Petrol</td>\n",
       "      <td>Nov-24</td>\n",
       "      <td>Aston Martin Vanquish 6.0 V12, 2016, Petrol</td>\n",
       "      <td>26400000</td>\n",
       "      <td>399</td>\n",
       "    </tr>\n",
       "    <tr>\n",
       "      <th>3</th>\n",
       "      <td>811</td>\n",
       "      <td>Mercedes-Benz</td>\n",
       "      <td>G Class</td>\n",
       "      <td>2019</td>\n",
       "      <td>5</td>\n",
       "      <td>59,000 km</td>\n",
       "      <td>Automatic</td>\n",
       "      <td>first</td>\n",
       "      <td>Petrol</td>\n",
       "      <td>Sep-24</td>\n",
       "      <td>Mercedes-Benz G Class 63 AMG, 2019, Petrol</td>\n",
       "      <td>26000000</td>\n",
       "      <td>399</td>\n",
       "    </tr>\n",
       "    <tr>\n",
       "      <th>4</th>\n",
       "      <td>5767</td>\n",
       "      <td>Mercedes-Benz</td>\n",
       "      <td>G Class</td>\n",
       "      <td>2019</td>\n",
       "      <td>5</td>\n",
       "      <td>59,000 km</td>\n",
       "      <td>Automatic</td>\n",
       "      <td>first</td>\n",
       "      <td>Petrol</td>\n",
       "      <td>Nov-24</td>\n",
       "      <td>Mercedes-Benz G Class G63 AMG, 2019, Petrol</td>\n",
       "      <td>24900000</td>\n",
       "      <td>399</td>\n",
       "    </tr>\n",
       "    <tr>\n",
       "      <th>...</th>\n",
       "      <td>...</td>\n",
       "      <td>...</td>\n",
       "      <td>...</td>\n",
       "      <td>...</td>\n",
       "      <td>...</td>\n",
       "      <td>...</td>\n",
       "      <td>...</td>\n",
       "      <td>...</td>\n",
       "      <td>...</td>\n",
       "      <td>...</td>\n",
       "      <td>...</td>\n",
       "      <td>...</td>\n",
       "      <td>...</td>\n",
       "    </tr>\n",
       "    <tr>\n",
       "      <th>9577</th>\n",
       "      <td>7507</td>\n",
       "      <td>Ashok</td>\n",
       "      <td>Leyland Stile</td>\n",
       "      <td>2024</td>\n",
       "      <td>0</td>\n",
       "      <td>0 km</td>\n",
       "      <td>Automatic</td>\n",
       "      <td>first</td>\n",
       "      <td>Hybrid/CNG</td>\n",
       "      <td>Nov-24</td>\n",
       "      <td>Hath gadi thella new juice set-up thella</td>\n",
       "      <td>32000</td>\n",
       "      <td>399</td>\n",
       "    </tr>\n",
       "    <tr>\n",
       "      <th>9578</th>\n",
       "      <td>7242</td>\n",
       "      <td>Maruti Suzuki</td>\n",
       "      <td>Zen-Estilo</td>\n",
       "      <td>1998</td>\n",
       "      <td>26</td>\n",
       "      <td>NaN</td>\n",
       "      <td>Manual</td>\n",
       "      <td>second</td>\n",
       "      <td>Petrol</td>\n",
       "      <td>Nov-24</td>\n",
       "      <td>Zen 1998 model,insurence renewed,test in 2025 ...</td>\n",
       "      <td>27000</td>\n",
       "      <td>399</td>\n",
       "    </tr>\n",
       "    <tr>\n",
       "      <th>9579</th>\n",
       "      <td>271</td>\n",
       "      <td>Maruti Suzuki</td>\n",
       "      <td>Alto-800</td>\n",
       "      <td>2006</td>\n",
       "      <td>18</td>\n",
       "      <td>20,024 km</td>\n",
       "      <td>Manual</td>\n",
       "      <td>first</td>\n",
       "      <td>Petrol</td>\n",
       "      <td>Nov-24</td>\n",
       "      <td>पुरानी स्क्रैप की गाड़ी बेचने के लिए संपर्क करें</td>\n",
       "      <td>20000</td>\n",
       "      <td>399</td>\n",
       "    </tr>\n",
       "    <tr>\n",
       "      <th>9580</th>\n",
       "      <td>3034</td>\n",
       "      <td>Maruti Suzuki</td>\n",
       "      <td>Baleno</td>\n",
       "      <td>2024</td>\n",
       "      <td>0</td>\n",
       "      <td>9,000 km</td>\n",
       "      <td>Manual</td>\n",
       "      <td>first</td>\n",
       "      <td>Petrol</td>\n",
       "      <td>Nov-24</td>\n",
       "      <td>Panasound brand Daimond 2k androd stereo</td>\n",
       "      <td>18500</td>\n",
       "      <td>399</td>\n",
       "    </tr>\n",
       "    <tr>\n",
       "      <th>9581</th>\n",
       "      <td>1751</td>\n",
       "      <td>Mahindra</td>\n",
       "      <td>Marshal</td>\n",
       "      <td>2000</td>\n",
       "      <td>24</td>\n",
       "      <td>55,000 km</td>\n",
       "      <td>Manual</td>\n",
       "      <td>second</td>\n",
       "      <td>Diesel</td>\n",
       "      <td>Nov-24</td>\n",
       "      <td>Want NOC for Mahindra Marshal or Commander</td>\n",
       "      <td>15000</td>\n",
       "      <td>399</td>\n",
       "    </tr>\n",
       "  </tbody>\n",
       "</table>\n",
       "<p>9582 rows × 13 columns</p>\n",
       "</div>"
      ],
      "text/plain": [
       "      index          Brand              model  Year  Age    kmDriven  \\\n",
       "0      3331    Rolls-Royce  Phantom Series II  2015    9   11,500 km   \n",
       "1       962          Lexus                 LX  2024    0   24,000 km   \n",
       "2       331   Aston Martin           Vanquish  2016    8  25700.0 km   \n",
       "3       811  Mercedes-Benz            G Class  2019    5   59,000 km   \n",
       "4      5767  Mercedes-Benz            G Class  2019    5   59,000 km   \n",
       "...     ...            ...                ...   ...  ...         ...   \n",
       "9577   7507          Ashok      Leyland Stile  2024    0        0 km   \n",
       "9578   7242  Maruti Suzuki         Zen-Estilo  1998   26         NaN   \n",
       "9579    271  Maruti Suzuki           Alto-800  2006   18   20,024 km   \n",
       "9580   3034  Maruti Suzuki             Baleno  2024    0    9,000 km   \n",
       "9581   1751       Mahindra            Marshal  2000   24   55,000 km   \n",
       "\n",
       "     Transmission   Owner    FuelType PostedDate  \\\n",
       "0       Automatic  second      Petrol     Aug-24   \n",
       "1       Automatic   first      Diesel     Nov-24   \n",
       "2       Automatic   first      Petrol     Nov-24   \n",
       "3       Automatic   first      Petrol     Sep-24   \n",
       "4       Automatic   first      Petrol     Nov-24   \n",
       "...           ...     ...         ...        ...   \n",
       "9577    Automatic   first  Hybrid/CNG     Nov-24   \n",
       "9578       Manual  second      Petrol     Nov-24   \n",
       "9579       Manual   first      Petrol     Nov-24   \n",
       "9580       Manual   first      Petrol     Nov-24   \n",
       "9581       Manual  second      Diesel     Nov-24   \n",
       "\n",
       "                                           AdditionInfo  AskPrice  count  \n",
       "0       Rolls-Royce Phantom Series II EWB, 2015, Petrol  42500000    399  \n",
       "1                           Lexus LX 500d, 2024, Diesel  27750000    399  \n",
       "2           Aston Martin Vanquish 6.0 V12, 2016, Petrol  26400000    399  \n",
       "3            Mercedes-Benz G Class 63 AMG, 2019, Petrol  26000000    399  \n",
       "4           Mercedes-Benz G Class G63 AMG, 2019, Petrol  24900000    399  \n",
       "...                                                 ...       ...    ...  \n",
       "9577           Hath gadi thella new juice set-up thella     32000    399  \n",
       "9578  Zen 1998 model,insurence renewed,test in 2025 ...     27000    399  \n",
       "9579   पुरानी स्क्रैप की गाड़ी बेचने के लिए संपर्क करें     20000    399  \n",
       "9580           Panasound brand Daimond 2k androd stereo     18500    399  \n",
       "9581         Want NOC for Mahindra Marshal or Commander     15000    399  \n",
       "\n",
       "[9582 rows x 13 columns]"
      ]
     },
     "execution_count": 45,
     "metadata": {},
     "output_type": "execute_result"
    }
   ],
   "source": [
    "df"
   ]
  },
  {
   "cell_type": "code",
   "execution_count": 50,
   "id": "4046b6c0-7882-4dc7-8ac5-8af6c51d3862",
   "metadata": {},
   "outputs": [],
   "source": [
    "df.reset_index(drop=True, inplace=True)"
   ]
  },
  {
   "cell_type": "code",
   "execution_count": 51,
   "id": "f1fcd578-9972-4dd0-b360-5ed7afb56222",
   "metadata": {},
   "outputs": [
    {
     "data": {
      "text/html": [
       "<div>\n",
       "<style scoped>\n",
       "    .dataframe tbody tr th:only-of-type {\n",
       "        vertical-align: middle;\n",
       "    }\n",
       "\n",
       "    .dataframe tbody tr th {\n",
       "        vertical-align: top;\n",
       "    }\n",
       "\n",
       "    .dataframe thead th {\n",
       "        text-align: right;\n",
       "    }\n",
       "</style>\n",
       "<table border=\"1\" class=\"dataframe\">\n",
       "  <thead>\n",
       "    <tr style=\"text-align: right;\">\n",
       "      <th></th>\n",
       "      <th>index</th>\n",
       "      <th>Brand</th>\n",
       "      <th>model</th>\n",
       "      <th>Year</th>\n",
       "      <th>Age</th>\n",
       "      <th>kmDriven</th>\n",
       "      <th>Transmission</th>\n",
       "      <th>Owner</th>\n",
       "      <th>FuelType</th>\n",
       "      <th>PostedDate</th>\n",
       "      <th>AdditionInfo</th>\n",
       "      <th>AskPrice</th>\n",
       "      <th>count</th>\n",
       "    </tr>\n",
       "  </thead>\n",
       "  <tbody>\n",
       "    <tr>\n",
       "      <th>0</th>\n",
       "      <td>3331</td>\n",
       "      <td>Rolls-Royce</td>\n",
       "      <td>Phantom Series II</td>\n",
       "      <td>2015</td>\n",
       "      <td>9</td>\n",
       "      <td>11,500 km</td>\n",
       "      <td>Automatic</td>\n",
       "      <td>second</td>\n",
       "      <td>Petrol</td>\n",
       "      <td>Aug-24</td>\n",
       "      <td>Rolls-Royce Phantom Series II EWB, 2015, Petrol</td>\n",
       "      <td>42500000</td>\n",
       "      <td>399</td>\n",
       "    </tr>\n",
       "    <tr>\n",
       "      <th>1</th>\n",
       "      <td>962</td>\n",
       "      <td>Lexus</td>\n",
       "      <td>LX</td>\n",
       "      <td>2024</td>\n",
       "      <td>0</td>\n",
       "      <td>24,000 km</td>\n",
       "      <td>Automatic</td>\n",
       "      <td>first</td>\n",
       "      <td>Diesel</td>\n",
       "      <td>Nov-24</td>\n",
       "      <td>Lexus LX 500d, 2024, Diesel</td>\n",
       "      <td>27750000</td>\n",
       "      <td>399</td>\n",
       "    </tr>\n",
       "    <tr>\n",
       "      <th>2</th>\n",
       "      <td>331</td>\n",
       "      <td>Aston Martin</td>\n",
       "      <td>Vanquish</td>\n",
       "      <td>2016</td>\n",
       "      <td>8</td>\n",
       "      <td>25700.0 km</td>\n",
       "      <td>Automatic</td>\n",
       "      <td>first</td>\n",
       "      <td>Petrol</td>\n",
       "      <td>Nov-24</td>\n",
       "      <td>Aston Martin Vanquish 6.0 V12, 2016, Petrol</td>\n",
       "      <td>26400000</td>\n",
       "      <td>399</td>\n",
       "    </tr>\n",
       "    <tr>\n",
       "      <th>3</th>\n",
       "      <td>811</td>\n",
       "      <td>Mercedes-Benz</td>\n",
       "      <td>G Class</td>\n",
       "      <td>2019</td>\n",
       "      <td>5</td>\n",
       "      <td>59,000 km</td>\n",
       "      <td>Automatic</td>\n",
       "      <td>first</td>\n",
       "      <td>Petrol</td>\n",
       "      <td>Sep-24</td>\n",
       "      <td>Mercedes-Benz G Class 63 AMG, 2019, Petrol</td>\n",
       "      <td>26000000</td>\n",
       "      <td>399</td>\n",
       "    </tr>\n",
       "    <tr>\n",
       "      <th>4</th>\n",
       "      <td>5767</td>\n",
       "      <td>Mercedes-Benz</td>\n",
       "      <td>G Class</td>\n",
       "      <td>2019</td>\n",
       "      <td>5</td>\n",
       "      <td>59,000 km</td>\n",
       "      <td>Automatic</td>\n",
       "      <td>first</td>\n",
       "      <td>Petrol</td>\n",
       "      <td>Nov-24</td>\n",
       "      <td>Mercedes-Benz G Class G63 AMG, 2019, Petrol</td>\n",
       "      <td>24900000</td>\n",
       "      <td>399</td>\n",
       "    </tr>\n",
       "    <tr>\n",
       "      <th>...</th>\n",
       "      <td>...</td>\n",
       "      <td>...</td>\n",
       "      <td>...</td>\n",
       "      <td>...</td>\n",
       "      <td>...</td>\n",
       "      <td>...</td>\n",
       "      <td>...</td>\n",
       "      <td>...</td>\n",
       "      <td>...</td>\n",
       "      <td>...</td>\n",
       "      <td>...</td>\n",
       "      <td>...</td>\n",
       "      <td>...</td>\n",
       "    </tr>\n",
       "    <tr>\n",
       "      <th>9577</th>\n",
       "      <td>7507</td>\n",
       "      <td>Ashok</td>\n",
       "      <td>Leyland Stile</td>\n",
       "      <td>2024</td>\n",
       "      <td>0</td>\n",
       "      <td>0 km</td>\n",
       "      <td>Automatic</td>\n",
       "      <td>first</td>\n",
       "      <td>Hybrid/CNG</td>\n",
       "      <td>Nov-24</td>\n",
       "      <td>Hath gadi thella new juice set-up thella</td>\n",
       "      <td>32000</td>\n",
       "      <td>399</td>\n",
       "    </tr>\n",
       "    <tr>\n",
       "      <th>9578</th>\n",
       "      <td>7242</td>\n",
       "      <td>Maruti Suzuki</td>\n",
       "      <td>Zen-Estilo</td>\n",
       "      <td>1998</td>\n",
       "      <td>26</td>\n",
       "      <td>NaN</td>\n",
       "      <td>Manual</td>\n",
       "      <td>second</td>\n",
       "      <td>Petrol</td>\n",
       "      <td>Nov-24</td>\n",
       "      <td>Zen 1998 model,insurence renewed,test in 2025 ...</td>\n",
       "      <td>27000</td>\n",
       "      <td>399</td>\n",
       "    </tr>\n",
       "    <tr>\n",
       "      <th>9579</th>\n",
       "      <td>271</td>\n",
       "      <td>Maruti Suzuki</td>\n",
       "      <td>Alto-800</td>\n",
       "      <td>2006</td>\n",
       "      <td>18</td>\n",
       "      <td>20,024 km</td>\n",
       "      <td>Manual</td>\n",
       "      <td>first</td>\n",
       "      <td>Petrol</td>\n",
       "      <td>Nov-24</td>\n",
       "      <td>पुरानी स्क्रैप की गाड़ी बेचने के लिए संपर्क करें</td>\n",
       "      <td>20000</td>\n",
       "      <td>399</td>\n",
       "    </tr>\n",
       "    <tr>\n",
       "      <th>9580</th>\n",
       "      <td>3034</td>\n",
       "      <td>Maruti Suzuki</td>\n",
       "      <td>Baleno</td>\n",
       "      <td>2024</td>\n",
       "      <td>0</td>\n",
       "      <td>9,000 km</td>\n",
       "      <td>Manual</td>\n",
       "      <td>first</td>\n",
       "      <td>Petrol</td>\n",
       "      <td>Nov-24</td>\n",
       "      <td>Panasound brand Daimond 2k androd stereo</td>\n",
       "      <td>18500</td>\n",
       "      <td>399</td>\n",
       "    </tr>\n",
       "    <tr>\n",
       "      <th>9581</th>\n",
       "      <td>1751</td>\n",
       "      <td>Mahindra</td>\n",
       "      <td>Marshal</td>\n",
       "      <td>2000</td>\n",
       "      <td>24</td>\n",
       "      <td>55,000 km</td>\n",
       "      <td>Manual</td>\n",
       "      <td>second</td>\n",
       "      <td>Diesel</td>\n",
       "      <td>Nov-24</td>\n",
       "      <td>Want NOC for Mahindra Marshal or Commander</td>\n",
       "      <td>15000</td>\n",
       "      <td>399</td>\n",
       "    </tr>\n",
       "  </tbody>\n",
       "</table>\n",
       "<p>9582 rows × 13 columns</p>\n",
       "</div>"
      ],
      "text/plain": [
       "      index          Brand              model  Year  Age    kmDriven  \\\n",
       "0      3331    Rolls-Royce  Phantom Series II  2015    9   11,500 km   \n",
       "1       962          Lexus                 LX  2024    0   24,000 km   \n",
       "2       331   Aston Martin           Vanquish  2016    8  25700.0 km   \n",
       "3       811  Mercedes-Benz            G Class  2019    5   59,000 km   \n",
       "4      5767  Mercedes-Benz            G Class  2019    5   59,000 km   \n",
       "...     ...            ...                ...   ...  ...         ...   \n",
       "9577   7507          Ashok      Leyland Stile  2024    0        0 km   \n",
       "9578   7242  Maruti Suzuki         Zen-Estilo  1998   26         NaN   \n",
       "9579    271  Maruti Suzuki           Alto-800  2006   18   20,024 km   \n",
       "9580   3034  Maruti Suzuki             Baleno  2024    0    9,000 km   \n",
       "9581   1751       Mahindra            Marshal  2000   24   55,000 km   \n",
       "\n",
       "     Transmission   Owner    FuelType PostedDate  \\\n",
       "0       Automatic  second      Petrol     Aug-24   \n",
       "1       Automatic   first      Diesel     Nov-24   \n",
       "2       Automatic   first      Petrol     Nov-24   \n",
       "3       Automatic   first      Petrol     Sep-24   \n",
       "4       Automatic   first      Petrol     Nov-24   \n",
       "...           ...     ...         ...        ...   \n",
       "9577    Automatic   first  Hybrid/CNG     Nov-24   \n",
       "9578       Manual  second      Petrol     Nov-24   \n",
       "9579       Manual   first      Petrol     Nov-24   \n",
       "9580       Manual   first      Petrol     Nov-24   \n",
       "9581       Manual  second      Diesel     Nov-24   \n",
       "\n",
       "                                           AdditionInfo  AskPrice  count  \n",
       "0       Rolls-Royce Phantom Series II EWB, 2015, Petrol  42500000    399  \n",
       "1                           Lexus LX 500d, 2024, Diesel  27750000    399  \n",
       "2           Aston Martin Vanquish 6.0 V12, 2016, Petrol  26400000    399  \n",
       "3            Mercedes-Benz G Class 63 AMG, 2019, Petrol  26000000    399  \n",
       "4           Mercedes-Benz G Class G63 AMG, 2019, Petrol  24900000    399  \n",
       "...                                                 ...       ...    ...  \n",
       "9577           Hath gadi thella new juice set-up thella     32000    399  \n",
       "9578  Zen 1998 model,insurence renewed,test in 2025 ...     27000    399  \n",
       "9579   पुरानी स्क्रैप की गाड़ी बेचने के लिए संपर्क करें     20000    399  \n",
       "9580           Panasound brand Daimond 2k androd stereo     18500    399  \n",
       "9581         Want NOC for Mahindra Marshal or Commander     15000    399  \n",
       "\n",
       "[9582 rows x 13 columns]"
      ]
     },
     "execution_count": 51,
     "metadata": {},
     "output_type": "execute_result"
    }
   ],
   "source": [
    "df"
   ]
  },
  {
   "cell_type": "code",
   "execution_count": 53,
   "id": "e831a7ad-928d-4f0f-a71b-cf3c56591fe7",
   "metadata": {},
   "outputs": [],
   "source": [
    "df.drop(columns = ['index'], inplace = True)"
   ]
  },
  {
   "cell_type": "code",
   "execution_count": 54,
   "id": "d61a8362-28d2-4fa6-b893-2bd4fb254643",
   "metadata": {},
   "outputs": [
    {
     "data": {
      "text/html": [
       "<div>\n",
       "<style scoped>\n",
       "    .dataframe tbody tr th:only-of-type {\n",
       "        vertical-align: middle;\n",
       "    }\n",
       "\n",
       "    .dataframe tbody tr th {\n",
       "        vertical-align: top;\n",
       "    }\n",
       "\n",
       "    .dataframe thead th {\n",
       "        text-align: right;\n",
       "    }\n",
       "</style>\n",
       "<table border=\"1\" class=\"dataframe\">\n",
       "  <thead>\n",
       "    <tr style=\"text-align: right;\">\n",
       "      <th></th>\n",
       "      <th>Brand</th>\n",
       "      <th>model</th>\n",
       "      <th>Year</th>\n",
       "      <th>Age</th>\n",
       "      <th>kmDriven</th>\n",
       "      <th>Transmission</th>\n",
       "      <th>Owner</th>\n",
       "      <th>FuelType</th>\n",
       "      <th>PostedDate</th>\n",
       "      <th>AdditionInfo</th>\n",
       "      <th>AskPrice</th>\n",
       "      <th>count</th>\n",
       "    </tr>\n",
       "  </thead>\n",
       "  <tbody>\n",
       "    <tr>\n",
       "      <th>0</th>\n",
       "      <td>Rolls-Royce</td>\n",
       "      <td>Phantom Series II</td>\n",
       "      <td>2015</td>\n",
       "      <td>9</td>\n",
       "      <td>11,500 km</td>\n",
       "      <td>Automatic</td>\n",
       "      <td>second</td>\n",
       "      <td>Petrol</td>\n",
       "      <td>Aug-24</td>\n",
       "      <td>Rolls-Royce Phantom Series II EWB, 2015, Petrol</td>\n",
       "      <td>42500000</td>\n",
       "      <td>399</td>\n",
       "    </tr>\n",
       "    <tr>\n",
       "      <th>1</th>\n",
       "      <td>Lexus</td>\n",
       "      <td>LX</td>\n",
       "      <td>2024</td>\n",
       "      <td>0</td>\n",
       "      <td>24,000 km</td>\n",
       "      <td>Automatic</td>\n",
       "      <td>first</td>\n",
       "      <td>Diesel</td>\n",
       "      <td>Nov-24</td>\n",
       "      <td>Lexus LX 500d, 2024, Diesel</td>\n",
       "      <td>27750000</td>\n",
       "      <td>399</td>\n",
       "    </tr>\n",
       "    <tr>\n",
       "      <th>2</th>\n",
       "      <td>Aston Martin</td>\n",
       "      <td>Vanquish</td>\n",
       "      <td>2016</td>\n",
       "      <td>8</td>\n",
       "      <td>25700.0 km</td>\n",
       "      <td>Automatic</td>\n",
       "      <td>first</td>\n",
       "      <td>Petrol</td>\n",
       "      <td>Nov-24</td>\n",
       "      <td>Aston Martin Vanquish 6.0 V12, 2016, Petrol</td>\n",
       "      <td>26400000</td>\n",
       "      <td>399</td>\n",
       "    </tr>\n",
       "    <tr>\n",
       "      <th>3</th>\n",
       "      <td>Mercedes-Benz</td>\n",
       "      <td>G Class</td>\n",
       "      <td>2019</td>\n",
       "      <td>5</td>\n",
       "      <td>59,000 km</td>\n",
       "      <td>Automatic</td>\n",
       "      <td>first</td>\n",
       "      <td>Petrol</td>\n",
       "      <td>Sep-24</td>\n",
       "      <td>Mercedes-Benz G Class 63 AMG, 2019, Petrol</td>\n",
       "      <td>26000000</td>\n",
       "      <td>399</td>\n",
       "    </tr>\n",
       "    <tr>\n",
       "      <th>4</th>\n",
       "      <td>Mercedes-Benz</td>\n",
       "      <td>G Class</td>\n",
       "      <td>2019</td>\n",
       "      <td>5</td>\n",
       "      <td>59,000 km</td>\n",
       "      <td>Automatic</td>\n",
       "      <td>first</td>\n",
       "      <td>Petrol</td>\n",
       "      <td>Nov-24</td>\n",
       "      <td>Mercedes-Benz G Class G63 AMG, 2019, Petrol</td>\n",
       "      <td>24900000</td>\n",
       "      <td>399</td>\n",
       "    </tr>\n",
       "    <tr>\n",
       "      <th>...</th>\n",
       "      <td>...</td>\n",
       "      <td>...</td>\n",
       "      <td>...</td>\n",
       "      <td>...</td>\n",
       "      <td>...</td>\n",
       "      <td>...</td>\n",
       "      <td>...</td>\n",
       "      <td>...</td>\n",
       "      <td>...</td>\n",
       "      <td>...</td>\n",
       "      <td>...</td>\n",
       "      <td>...</td>\n",
       "    </tr>\n",
       "    <tr>\n",
       "      <th>9577</th>\n",
       "      <td>Ashok</td>\n",
       "      <td>Leyland Stile</td>\n",
       "      <td>2024</td>\n",
       "      <td>0</td>\n",
       "      <td>0 km</td>\n",
       "      <td>Automatic</td>\n",
       "      <td>first</td>\n",
       "      <td>Hybrid/CNG</td>\n",
       "      <td>Nov-24</td>\n",
       "      <td>Hath gadi thella new juice set-up thella</td>\n",
       "      <td>32000</td>\n",
       "      <td>399</td>\n",
       "    </tr>\n",
       "    <tr>\n",
       "      <th>9578</th>\n",
       "      <td>Maruti Suzuki</td>\n",
       "      <td>Zen-Estilo</td>\n",
       "      <td>1998</td>\n",
       "      <td>26</td>\n",
       "      <td>NaN</td>\n",
       "      <td>Manual</td>\n",
       "      <td>second</td>\n",
       "      <td>Petrol</td>\n",
       "      <td>Nov-24</td>\n",
       "      <td>Zen 1998 model,insurence renewed,test in 2025 ...</td>\n",
       "      <td>27000</td>\n",
       "      <td>399</td>\n",
       "    </tr>\n",
       "    <tr>\n",
       "      <th>9579</th>\n",
       "      <td>Maruti Suzuki</td>\n",
       "      <td>Alto-800</td>\n",
       "      <td>2006</td>\n",
       "      <td>18</td>\n",
       "      <td>20,024 km</td>\n",
       "      <td>Manual</td>\n",
       "      <td>first</td>\n",
       "      <td>Petrol</td>\n",
       "      <td>Nov-24</td>\n",
       "      <td>पुरानी स्क्रैप की गाड़ी बेचने के लिए संपर्क करें</td>\n",
       "      <td>20000</td>\n",
       "      <td>399</td>\n",
       "    </tr>\n",
       "    <tr>\n",
       "      <th>9580</th>\n",
       "      <td>Maruti Suzuki</td>\n",
       "      <td>Baleno</td>\n",
       "      <td>2024</td>\n",
       "      <td>0</td>\n",
       "      <td>9,000 km</td>\n",
       "      <td>Manual</td>\n",
       "      <td>first</td>\n",
       "      <td>Petrol</td>\n",
       "      <td>Nov-24</td>\n",
       "      <td>Panasound brand Daimond 2k androd stereo</td>\n",
       "      <td>18500</td>\n",
       "      <td>399</td>\n",
       "    </tr>\n",
       "    <tr>\n",
       "      <th>9581</th>\n",
       "      <td>Mahindra</td>\n",
       "      <td>Marshal</td>\n",
       "      <td>2000</td>\n",
       "      <td>24</td>\n",
       "      <td>55,000 km</td>\n",
       "      <td>Manual</td>\n",
       "      <td>second</td>\n",
       "      <td>Diesel</td>\n",
       "      <td>Nov-24</td>\n",
       "      <td>Want NOC for Mahindra Marshal or Commander</td>\n",
       "      <td>15000</td>\n",
       "      <td>399</td>\n",
       "    </tr>\n",
       "  </tbody>\n",
       "</table>\n",
       "<p>9582 rows × 12 columns</p>\n",
       "</div>"
      ],
      "text/plain": [
       "              Brand              model  Year  Age    kmDriven Transmission  \\\n",
       "0       Rolls-Royce  Phantom Series II  2015    9   11,500 km    Automatic   \n",
       "1             Lexus                 LX  2024    0   24,000 km    Automatic   \n",
       "2      Aston Martin           Vanquish  2016    8  25700.0 km    Automatic   \n",
       "3     Mercedes-Benz            G Class  2019    5   59,000 km    Automatic   \n",
       "4     Mercedes-Benz            G Class  2019    5   59,000 km    Automatic   \n",
       "...             ...                ...   ...  ...         ...          ...   \n",
       "9577          Ashok      Leyland Stile  2024    0        0 km    Automatic   \n",
       "9578  Maruti Suzuki         Zen-Estilo  1998   26         NaN       Manual   \n",
       "9579  Maruti Suzuki           Alto-800  2006   18   20,024 km       Manual   \n",
       "9580  Maruti Suzuki             Baleno  2024    0    9,000 km       Manual   \n",
       "9581       Mahindra            Marshal  2000   24   55,000 km       Manual   \n",
       "\n",
       "       Owner    FuelType PostedDate  \\\n",
       "0     second      Petrol     Aug-24   \n",
       "1      first      Diesel     Nov-24   \n",
       "2      first      Petrol     Nov-24   \n",
       "3      first      Petrol     Sep-24   \n",
       "4      first      Petrol     Nov-24   \n",
       "...      ...         ...        ...   \n",
       "9577   first  Hybrid/CNG     Nov-24   \n",
       "9578  second      Petrol     Nov-24   \n",
       "9579   first      Petrol     Nov-24   \n",
       "9580   first      Petrol     Nov-24   \n",
       "9581  second      Diesel     Nov-24   \n",
       "\n",
       "                                           AdditionInfo  AskPrice  count  \n",
       "0       Rolls-Royce Phantom Series II EWB, 2015, Petrol  42500000    399  \n",
       "1                           Lexus LX 500d, 2024, Diesel  27750000    399  \n",
       "2           Aston Martin Vanquish 6.0 V12, 2016, Petrol  26400000    399  \n",
       "3            Mercedes-Benz G Class 63 AMG, 2019, Petrol  26000000    399  \n",
       "4           Mercedes-Benz G Class G63 AMG, 2019, Petrol  24900000    399  \n",
       "...                                                 ...       ...    ...  \n",
       "9577           Hath gadi thella new juice set-up thella     32000    399  \n",
       "9578  Zen 1998 model,insurence renewed,test in 2025 ...     27000    399  \n",
       "9579   पुरानी स्क्रैप की गाड़ी बेचने के लिए संपर्क करें     20000    399  \n",
       "9580           Panasound brand Daimond 2k androd stereo     18500    399  \n",
       "9581         Want NOC for Mahindra Marshal or Commander     15000    399  \n",
       "\n",
       "[9582 rows x 12 columns]"
      ]
     },
     "execution_count": 54,
     "metadata": {},
     "output_type": "execute_result"
    }
   ],
   "source": [
    "df"
   ]
  },
  {
   "cell_type": "code",
   "execution_count": 107,
   "id": "f9925eec-4149-4d89-9930-87469f34a3bb",
   "metadata": {},
   "outputs": [
    {
     "data": {
      "text/html": [
       "<div>\n",
       "<style scoped>\n",
       "    .dataframe tbody tr th:only-of-type {\n",
       "        vertical-align: middle;\n",
       "    }\n",
       "\n",
       "    .dataframe tbody tr th {\n",
       "        vertical-align: top;\n",
       "    }\n",
       "\n",
       "    .dataframe thead th {\n",
       "        text-align: right;\n",
       "    }\n",
       "</style>\n",
       "<table border=\"1\" class=\"dataframe\">\n",
       "  <thead>\n",
       "    <tr style=\"text-align: right;\">\n",
       "      <th></th>\n",
       "      <th>Brand</th>\n",
       "      <th>model</th>\n",
       "      <th>Transmission</th>\n",
       "    </tr>\n",
       "  </thead>\n",
       "  <tbody>\n",
       "    <tr>\n",
       "      <th>0</th>\n",
       "      <td>Rolls-Royce</td>\n",
       "      <td>Phantom Series II</td>\n",
       "      <td>Automatic</td>\n",
       "    </tr>\n",
       "    <tr>\n",
       "      <th>1</th>\n",
       "      <td>Lexus</td>\n",
       "      <td>LX</td>\n",
       "      <td>Automatic</td>\n",
       "    </tr>\n",
       "    <tr>\n",
       "      <th>2</th>\n",
       "      <td>Aston Martin</td>\n",
       "      <td>Vanquish</td>\n",
       "      <td>Automatic</td>\n",
       "    </tr>\n",
       "    <tr>\n",
       "      <th>3</th>\n",
       "      <td>Mercedes-Benz</td>\n",
       "      <td>G Class</td>\n",
       "      <td>Automatic</td>\n",
       "    </tr>\n",
       "    <tr>\n",
       "      <th>4</th>\n",
       "      <td>Mercedes-Benz</td>\n",
       "      <td>G Class</td>\n",
       "      <td>Automatic</td>\n",
       "    </tr>\n",
       "    <tr>\n",
       "      <th>...</th>\n",
       "      <td>...</td>\n",
       "      <td>...</td>\n",
       "      <td>...</td>\n",
       "    </tr>\n",
       "    <tr>\n",
       "      <th>9577</th>\n",
       "      <td>Ashok</td>\n",
       "      <td>Leyland Stile</td>\n",
       "      <td>Automatic</td>\n",
       "    </tr>\n",
       "    <tr>\n",
       "      <th>9578</th>\n",
       "      <td>Maruti Suzuki</td>\n",
       "      <td>Zen-Estilo</td>\n",
       "      <td>Manual</td>\n",
       "    </tr>\n",
       "    <tr>\n",
       "      <th>9579</th>\n",
       "      <td>Maruti Suzuki</td>\n",
       "      <td>Alto-800</td>\n",
       "      <td>Manual</td>\n",
       "    </tr>\n",
       "    <tr>\n",
       "      <th>9580</th>\n",
       "      <td>Maruti Suzuki</td>\n",
       "      <td>Baleno</td>\n",
       "      <td>Manual</td>\n",
       "    </tr>\n",
       "    <tr>\n",
       "      <th>9581</th>\n",
       "      <td>Mahindra</td>\n",
       "      <td>Marshal</td>\n",
       "      <td>Manual</td>\n",
       "    </tr>\n",
       "  </tbody>\n",
       "</table>\n",
       "<p>9582 rows × 3 columns</p>\n",
       "</div>"
      ],
      "text/plain": [
       "              Brand              model Transmission\n",
       "0       Rolls-Royce  Phantom Series II    Automatic\n",
       "1             Lexus                 LX    Automatic\n",
       "2      Aston Martin           Vanquish    Automatic\n",
       "3     Mercedes-Benz            G Class    Automatic\n",
       "4     Mercedes-Benz            G Class    Automatic\n",
       "...             ...                ...          ...\n",
       "9577          Ashok      Leyland Stile    Automatic\n",
       "9578  Maruti Suzuki         Zen-Estilo       Manual\n",
       "9579  Maruti Suzuki           Alto-800       Manual\n",
       "9580  Maruti Suzuki             Baleno       Manual\n",
       "9581       Mahindra            Marshal       Manual\n",
       "\n",
       "[9582 rows x 3 columns]"
      ]
     },
     "execution_count": 107,
     "metadata": {},
     "output_type": "execute_result"
    }
   ],
   "source": [
    "df[['Brand','model','Transmission']]"
   ]
  },
  {
   "cell_type": "code",
   "execution_count": 60,
   "id": "b5034877-4464-4ad1-bc02-431f1229c15f",
   "metadata": {},
   "outputs": [
    {
     "data": {
      "text/html": [
       "<div>\n",
       "<style scoped>\n",
       "    .dataframe tbody tr th:only-of-type {\n",
       "        vertical-align: middle;\n",
       "    }\n",
       "\n",
       "    .dataframe tbody tr th {\n",
       "        vertical-align: top;\n",
       "    }\n",
       "\n",
       "    .dataframe thead th {\n",
       "        text-align: right;\n",
       "    }\n",
       "</style>\n",
       "<table border=\"1\" class=\"dataframe\">\n",
       "  <thead>\n",
       "    <tr style=\"text-align: right;\">\n",
       "      <th></th>\n",
       "      <th>Brand</th>\n",
       "      <th>model</th>\n",
       "    </tr>\n",
       "  </thead>\n",
       "  <tbody>\n",
       "    <tr>\n",
       "      <th>0</th>\n",
       "      <td>Rolls-Royce</td>\n",
       "      <td>Phantom Series II</td>\n",
       "    </tr>\n",
       "    <tr>\n",
       "      <th>1</th>\n",
       "      <td>Lexus</td>\n",
       "      <td>LX</td>\n",
       "    </tr>\n",
       "    <tr>\n",
       "      <th>2</th>\n",
       "      <td>Aston Martin</td>\n",
       "      <td>Vanquish</td>\n",
       "    </tr>\n",
       "    <tr>\n",
       "      <th>3</th>\n",
       "      <td>Mercedes-Benz</td>\n",
       "      <td>G Class</td>\n",
       "    </tr>\n",
       "    <tr>\n",
       "      <th>4</th>\n",
       "      <td>Mercedes-Benz</td>\n",
       "      <td>G Class</td>\n",
       "    </tr>\n",
       "    <tr>\n",
       "      <th>...</th>\n",
       "      <td>...</td>\n",
       "      <td>...</td>\n",
       "    </tr>\n",
       "    <tr>\n",
       "      <th>9577</th>\n",
       "      <td>Ashok</td>\n",
       "      <td>Leyland Stile</td>\n",
       "    </tr>\n",
       "    <tr>\n",
       "      <th>9578</th>\n",
       "      <td>Maruti Suzuki</td>\n",
       "      <td>Zen-Estilo</td>\n",
       "    </tr>\n",
       "    <tr>\n",
       "      <th>9579</th>\n",
       "      <td>Maruti Suzuki</td>\n",
       "      <td>Alto-800</td>\n",
       "    </tr>\n",
       "    <tr>\n",
       "      <th>9580</th>\n",
       "      <td>Maruti Suzuki</td>\n",
       "      <td>Baleno</td>\n",
       "    </tr>\n",
       "    <tr>\n",
       "      <th>9581</th>\n",
       "      <td>Mahindra</td>\n",
       "      <td>Marshal</td>\n",
       "    </tr>\n",
       "  </tbody>\n",
       "</table>\n",
       "<p>9582 rows × 2 columns</p>\n",
       "</div>"
      ],
      "text/plain": [
       "              Brand              model\n",
       "0       Rolls-Royce  Phantom Series II\n",
       "1             Lexus                 LX\n",
       "2      Aston Martin           Vanquish\n",
       "3     Mercedes-Benz            G Class\n",
       "4     Mercedes-Benz            G Class\n",
       "...             ...                ...\n",
       "9577          Ashok      Leyland Stile\n",
       "9578  Maruti Suzuki         Zen-Estilo\n",
       "9579  Maruti Suzuki           Alto-800\n",
       "9580  Maruti Suzuki             Baleno\n",
       "9581       Mahindra            Marshal\n",
       "\n",
       "[9582 rows x 2 columns]"
      ]
     },
     "execution_count": 60,
     "metadata": {},
     "output_type": "execute_result"
    }
   ],
   "source": [
    "df[['Brand', 'model']]"
   ]
  },
  {
   "cell_type": "code",
   "execution_count": 61,
   "id": "1ac45c9c-0619-45bd-b4b9-24e3a61163de",
   "metadata": {},
   "outputs": [
    {
     "data": {
      "text/plain": [
       "Brand           9582\n",
       "model           9582\n",
       "Year            9582\n",
       "Age             9582\n",
       "kmDriven        9535\n",
       "Transmission    9582\n",
       "Owner           9582\n",
       "FuelType        9582\n",
       "PostedDate      9582\n",
       "AdditionInfo    9582\n",
       "AskPrice        9582\n",
       "count           9582\n",
       "dtype: int64"
      ]
     },
     "execution_count": 61,
     "metadata": {},
     "output_type": "execute_result"
    }
   ],
   "source": [
    "df.count()"
   ]
  },
  {
   "cell_type": "code",
   "execution_count": 62,
   "id": "6a016dc1-8c20-493c-8594-87367c0f5924",
   "metadata": {},
   "outputs": [
    {
     "name": "stdout",
     "output_type": "stream",
     "text": [
      "<class 'pandas.core.frame.DataFrame'>\n",
      "RangeIndex: 9582 entries, 0 to 9581\n",
      "Data columns (total 12 columns):\n",
      " #   Column        Non-Null Count  Dtype \n",
      "---  ------        --------------  ----- \n",
      " 0   Brand         9582 non-null   object\n",
      " 1   model         9582 non-null   object\n",
      " 2   Year          9582 non-null   int64 \n",
      " 3   Age           9582 non-null   int64 \n",
      " 4   kmDriven      9535 non-null   object\n",
      " 5   Transmission  9582 non-null   object\n",
      " 6   Owner         9582 non-null   object\n",
      " 7   FuelType      9582 non-null   object\n",
      " 8   PostedDate    9582 non-null   object\n",
      " 9   AdditionInfo  9582 non-null   object\n",
      " 10  AskPrice      9582 non-null   int64 \n",
      " 11  count         9582 non-null   int64 \n",
      "dtypes: int64(4), object(8)\n",
      "memory usage: 898.4+ KB\n"
     ]
    }
   ],
   "source": [
    "df.info()"
   ]
  },
  {
   "cell_type": "code",
   "execution_count": 63,
   "id": "a288fcdd-f07b-4244-90bc-c1d4bdcb79f8",
   "metadata": {},
   "outputs": [
    {
     "data": {
      "text/html": [
       "<div>\n",
       "<style scoped>\n",
       "    .dataframe tbody tr th:only-of-type {\n",
       "        vertical-align: middle;\n",
       "    }\n",
       "\n",
       "    .dataframe tbody tr th {\n",
       "        vertical-align: top;\n",
       "    }\n",
       "\n",
       "    .dataframe thead th {\n",
       "        text-align: right;\n",
       "    }\n",
       "</style>\n",
       "<table border=\"1\" class=\"dataframe\">\n",
       "  <thead>\n",
       "    <tr style=\"text-align: right;\">\n",
       "      <th></th>\n",
       "      <th>Brand</th>\n",
       "      <th>model</th>\n",
       "      <th>Year</th>\n",
       "      <th>Age</th>\n",
       "      <th>kmDriven</th>\n",
       "      <th>Transmission</th>\n",
       "      <th>Owner</th>\n",
       "      <th>FuelType</th>\n",
       "      <th>PostedDate</th>\n",
       "      <th>AdditionInfo</th>\n",
       "      <th>AskPrice</th>\n",
       "      <th>count</th>\n",
       "    </tr>\n",
       "  </thead>\n",
       "  <tbody>\n",
       "    <tr>\n",
       "      <th>0</th>\n",
       "      <td>Rolls-Royce</td>\n",
       "      <td>Phantom Series II</td>\n",
       "      <td>2015</td>\n",
       "      <td>9</td>\n",
       "      <td>11,500 km</td>\n",
       "      <td>Automatic</td>\n",
       "      <td>second</td>\n",
       "      <td>Petrol</td>\n",
       "      <td>Aug-24</td>\n",
       "      <td>Rolls-Royce Phantom Series II EWB, 2015, Petrol</td>\n",
       "      <td>42500000</td>\n",
       "      <td>399</td>\n",
       "    </tr>\n",
       "    <tr>\n",
       "      <th>1</th>\n",
       "      <td>Lexus</td>\n",
       "      <td>LX</td>\n",
       "      <td>2024</td>\n",
       "      <td>0</td>\n",
       "      <td>24,000 km</td>\n",
       "      <td>Automatic</td>\n",
       "      <td>first</td>\n",
       "      <td>Diesel</td>\n",
       "      <td>Nov-24</td>\n",
       "      <td>Lexus LX 500d, 2024, Diesel</td>\n",
       "      <td>27750000</td>\n",
       "      <td>399</td>\n",
       "    </tr>\n",
       "    <tr>\n",
       "      <th>2</th>\n",
       "      <td>Aston Martin</td>\n",
       "      <td>Vanquish</td>\n",
       "      <td>2016</td>\n",
       "      <td>8</td>\n",
       "      <td>25700.0 km</td>\n",
       "      <td>Automatic</td>\n",
       "      <td>first</td>\n",
       "      <td>Petrol</td>\n",
       "      <td>Nov-24</td>\n",
       "      <td>Aston Martin Vanquish 6.0 V12, 2016, Petrol</td>\n",
       "      <td>26400000</td>\n",
       "      <td>399</td>\n",
       "    </tr>\n",
       "    <tr>\n",
       "      <th>3</th>\n",
       "      <td>Mercedes-Benz</td>\n",
       "      <td>G Class</td>\n",
       "      <td>2019</td>\n",
       "      <td>5</td>\n",
       "      <td>59,000 km</td>\n",
       "      <td>Automatic</td>\n",
       "      <td>first</td>\n",
       "      <td>Petrol</td>\n",
       "      <td>Sep-24</td>\n",
       "      <td>Mercedes-Benz G Class 63 AMG, 2019, Petrol</td>\n",
       "      <td>26000000</td>\n",
       "      <td>399</td>\n",
       "    </tr>\n",
       "    <tr>\n",
       "      <th>4</th>\n",
       "      <td>Mercedes-Benz</td>\n",
       "      <td>G Class</td>\n",
       "      <td>2019</td>\n",
       "      <td>5</td>\n",
       "      <td>59,000 km</td>\n",
       "      <td>Automatic</td>\n",
       "      <td>first</td>\n",
       "      <td>Petrol</td>\n",
       "      <td>Nov-24</td>\n",
       "      <td>Mercedes-Benz G Class G63 AMG, 2019, Petrol</td>\n",
       "      <td>24900000</td>\n",
       "      <td>399</td>\n",
       "    </tr>\n",
       "    <tr>\n",
       "      <th>...</th>\n",
       "      <td>...</td>\n",
       "      <td>...</td>\n",
       "      <td>...</td>\n",
       "      <td>...</td>\n",
       "      <td>...</td>\n",
       "      <td>...</td>\n",
       "      <td>...</td>\n",
       "      <td>...</td>\n",
       "      <td>...</td>\n",
       "      <td>...</td>\n",
       "      <td>...</td>\n",
       "      <td>...</td>\n",
       "    </tr>\n",
       "    <tr>\n",
       "      <th>9577</th>\n",
       "      <td>Ashok</td>\n",
       "      <td>Leyland Stile</td>\n",
       "      <td>2024</td>\n",
       "      <td>0</td>\n",
       "      <td>0 km</td>\n",
       "      <td>Automatic</td>\n",
       "      <td>first</td>\n",
       "      <td>Hybrid/CNG</td>\n",
       "      <td>Nov-24</td>\n",
       "      <td>Hath gadi thella new juice set-up thella</td>\n",
       "      <td>32000</td>\n",
       "      <td>399</td>\n",
       "    </tr>\n",
       "    <tr>\n",
       "      <th>9578</th>\n",
       "      <td>Maruti Suzuki</td>\n",
       "      <td>Zen-Estilo</td>\n",
       "      <td>1998</td>\n",
       "      <td>26</td>\n",
       "      <td>NaN</td>\n",
       "      <td>Manual</td>\n",
       "      <td>second</td>\n",
       "      <td>Petrol</td>\n",
       "      <td>Nov-24</td>\n",
       "      <td>Zen 1998 model,insurence renewed,test in 2025 ...</td>\n",
       "      <td>27000</td>\n",
       "      <td>399</td>\n",
       "    </tr>\n",
       "    <tr>\n",
       "      <th>9579</th>\n",
       "      <td>Maruti Suzuki</td>\n",
       "      <td>Alto-800</td>\n",
       "      <td>2006</td>\n",
       "      <td>18</td>\n",
       "      <td>20,024 km</td>\n",
       "      <td>Manual</td>\n",
       "      <td>first</td>\n",
       "      <td>Petrol</td>\n",
       "      <td>Nov-24</td>\n",
       "      <td>पुरानी स्क्रैप की गाड़ी बेचने के लिए संपर्क करें</td>\n",
       "      <td>20000</td>\n",
       "      <td>399</td>\n",
       "    </tr>\n",
       "    <tr>\n",
       "      <th>9580</th>\n",
       "      <td>Maruti Suzuki</td>\n",
       "      <td>Baleno</td>\n",
       "      <td>2024</td>\n",
       "      <td>0</td>\n",
       "      <td>9,000 km</td>\n",
       "      <td>Manual</td>\n",
       "      <td>first</td>\n",
       "      <td>Petrol</td>\n",
       "      <td>Nov-24</td>\n",
       "      <td>Panasound brand Daimond 2k androd stereo</td>\n",
       "      <td>18500</td>\n",
       "      <td>399</td>\n",
       "    </tr>\n",
       "    <tr>\n",
       "      <th>9581</th>\n",
       "      <td>Mahindra</td>\n",
       "      <td>Marshal</td>\n",
       "      <td>2000</td>\n",
       "      <td>24</td>\n",
       "      <td>55,000 km</td>\n",
       "      <td>Manual</td>\n",
       "      <td>second</td>\n",
       "      <td>Diesel</td>\n",
       "      <td>Nov-24</td>\n",
       "      <td>Want NOC for Mahindra Marshal or Commander</td>\n",
       "      <td>15000</td>\n",
       "      <td>399</td>\n",
       "    </tr>\n",
       "  </tbody>\n",
       "</table>\n",
       "<p>9582 rows × 12 columns</p>\n",
       "</div>"
      ],
      "text/plain": [
       "              Brand              model  Year  Age    kmDriven Transmission  \\\n",
       "0       Rolls-Royce  Phantom Series II  2015    9   11,500 km    Automatic   \n",
       "1             Lexus                 LX  2024    0   24,000 km    Automatic   \n",
       "2      Aston Martin           Vanquish  2016    8  25700.0 km    Automatic   \n",
       "3     Mercedes-Benz            G Class  2019    5   59,000 km    Automatic   \n",
       "4     Mercedes-Benz            G Class  2019    5   59,000 km    Automatic   \n",
       "...             ...                ...   ...  ...         ...          ...   \n",
       "9577          Ashok      Leyland Stile  2024    0        0 km    Automatic   \n",
       "9578  Maruti Suzuki         Zen-Estilo  1998   26         NaN       Manual   \n",
       "9579  Maruti Suzuki           Alto-800  2006   18   20,024 km       Manual   \n",
       "9580  Maruti Suzuki             Baleno  2024    0    9,000 km       Manual   \n",
       "9581       Mahindra            Marshal  2000   24   55,000 km       Manual   \n",
       "\n",
       "       Owner    FuelType PostedDate  \\\n",
       "0     second      Petrol     Aug-24   \n",
       "1      first      Diesel     Nov-24   \n",
       "2      first      Petrol     Nov-24   \n",
       "3      first      Petrol     Sep-24   \n",
       "4      first      Petrol     Nov-24   \n",
       "...      ...         ...        ...   \n",
       "9577   first  Hybrid/CNG     Nov-24   \n",
       "9578  second      Petrol     Nov-24   \n",
       "9579   first      Petrol     Nov-24   \n",
       "9580   first      Petrol     Nov-24   \n",
       "9581  second      Diesel     Nov-24   \n",
       "\n",
       "                                           AdditionInfo  AskPrice  count  \n",
       "0       Rolls-Royce Phantom Series II EWB, 2015, Petrol  42500000    399  \n",
       "1                           Lexus LX 500d, 2024, Diesel  27750000    399  \n",
       "2           Aston Martin Vanquish 6.0 V12, 2016, Petrol  26400000    399  \n",
       "3            Mercedes-Benz G Class 63 AMG, 2019, Petrol  26000000    399  \n",
       "4           Mercedes-Benz G Class G63 AMG, 2019, Petrol  24900000    399  \n",
       "...                                                 ...       ...    ...  \n",
       "9577           Hath gadi thella new juice set-up thella     32000    399  \n",
       "9578  Zen 1998 model,insurence renewed,test in 2025 ...     27000    399  \n",
       "9579   पुरानी स्क्रैप की गाड़ी बेचने के लिए संपर्क करें     20000    399  \n",
       "9580           Panasound brand Daimond 2k androd stereo     18500    399  \n",
       "9581         Want NOC for Mahindra Marshal or Commander     15000    399  \n",
       "\n",
       "[9582 rows x 12 columns]"
      ]
     },
     "execution_count": 63,
     "metadata": {},
     "output_type": "execute_result"
    }
   ],
   "source": [
    "df"
   ]
  },
  {
   "cell_type": "code",
   "execution_count": 64,
   "id": "21c2eaf5-d91e-44d3-bd98-e2583d2f2654",
   "metadata": {},
   "outputs": [
    {
     "data": {
      "text/html": [
       "<div>\n",
       "<style scoped>\n",
       "    .dataframe tbody tr th:only-of-type {\n",
       "        vertical-align: middle;\n",
       "    }\n",
       "\n",
       "    .dataframe tbody tr th {\n",
       "        vertical-align: top;\n",
       "    }\n",
       "\n",
       "    .dataframe thead th {\n",
       "        text-align: right;\n",
       "    }\n",
       "</style>\n",
       "<table border=\"1\" class=\"dataframe\">\n",
       "  <thead>\n",
       "    <tr style=\"text-align: right;\">\n",
       "      <th></th>\n",
       "      <th>Brand</th>\n",
       "      <th>model</th>\n",
       "      <th>Year</th>\n",
       "      <th>Age</th>\n",
       "      <th>kmDriven</th>\n",
       "      <th>Transmission</th>\n",
       "      <th>Owner</th>\n",
       "      <th>FuelType</th>\n",
       "      <th>PostedDate</th>\n",
       "      <th>AdditionInfo</th>\n",
       "      <th>AskPrice</th>\n",
       "      <th>count</th>\n",
       "    </tr>\n",
       "  </thead>\n",
       "  <tbody>\n",
       "    <tr>\n",
       "      <th>9577</th>\n",
       "      <td>Ashok</td>\n",
       "      <td>Leyland Stile</td>\n",
       "      <td>2024</td>\n",
       "      <td>0</td>\n",
       "      <td>0 km</td>\n",
       "      <td>Automatic</td>\n",
       "      <td>first</td>\n",
       "      <td>Hybrid/CNG</td>\n",
       "      <td>Nov-24</td>\n",
       "      <td>Hath gadi thella new juice set-up thella</td>\n",
       "      <td>32000</td>\n",
       "      <td>399</td>\n",
       "    </tr>\n",
       "    <tr>\n",
       "      <th>9578</th>\n",
       "      <td>Maruti Suzuki</td>\n",
       "      <td>Zen-Estilo</td>\n",
       "      <td>1998</td>\n",
       "      <td>26</td>\n",
       "      <td>NaN</td>\n",
       "      <td>Manual</td>\n",
       "      <td>second</td>\n",
       "      <td>Petrol</td>\n",
       "      <td>Nov-24</td>\n",
       "      <td>Zen 1998 model,insurence renewed,test in 2025 ...</td>\n",
       "      <td>27000</td>\n",
       "      <td>399</td>\n",
       "    </tr>\n",
       "    <tr>\n",
       "      <th>9579</th>\n",
       "      <td>Maruti Suzuki</td>\n",
       "      <td>Alto-800</td>\n",
       "      <td>2006</td>\n",
       "      <td>18</td>\n",
       "      <td>20,024 km</td>\n",
       "      <td>Manual</td>\n",
       "      <td>first</td>\n",
       "      <td>Petrol</td>\n",
       "      <td>Nov-24</td>\n",
       "      <td>पुरानी स्क्रैप की गाड़ी बेचने के लिए संपर्क करें</td>\n",
       "      <td>20000</td>\n",
       "      <td>399</td>\n",
       "    </tr>\n",
       "    <tr>\n",
       "      <th>9580</th>\n",
       "      <td>Maruti Suzuki</td>\n",
       "      <td>Baleno</td>\n",
       "      <td>2024</td>\n",
       "      <td>0</td>\n",
       "      <td>9,000 km</td>\n",
       "      <td>Manual</td>\n",
       "      <td>first</td>\n",
       "      <td>Petrol</td>\n",
       "      <td>Nov-24</td>\n",
       "      <td>Panasound brand Daimond 2k androd stereo</td>\n",
       "      <td>18500</td>\n",
       "      <td>399</td>\n",
       "    </tr>\n",
       "    <tr>\n",
       "      <th>9581</th>\n",
       "      <td>Mahindra</td>\n",
       "      <td>Marshal</td>\n",
       "      <td>2000</td>\n",
       "      <td>24</td>\n",
       "      <td>55,000 km</td>\n",
       "      <td>Manual</td>\n",
       "      <td>second</td>\n",
       "      <td>Diesel</td>\n",
       "      <td>Nov-24</td>\n",
       "      <td>Want NOC for Mahindra Marshal or Commander</td>\n",
       "      <td>15000</td>\n",
       "      <td>399</td>\n",
       "    </tr>\n",
       "  </tbody>\n",
       "</table>\n",
       "</div>"
      ],
      "text/plain": [
       "              Brand          model  Year  Age   kmDriven Transmission   Owner  \\\n",
       "9577          Ashok  Leyland Stile  2024    0       0 km    Automatic   first   \n",
       "9578  Maruti Suzuki     Zen-Estilo  1998   26        NaN       Manual  second   \n",
       "9579  Maruti Suzuki       Alto-800  2006   18  20,024 km       Manual   first   \n",
       "9580  Maruti Suzuki         Baleno  2024    0   9,000 km       Manual   first   \n",
       "9581       Mahindra        Marshal  2000   24  55,000 km       Manual  second   \n",
       "\n",
       "        FuelType PostedDate  \\\n",
       "9577  Hybrid/CNG     Nov-24   \n",
       "9578      Petrol     Nov-24   \n",
       "9579      Petrol     Nov-24   \n",
       "9580      Petrol     Nov-24   \n",
       "9581      Diesel     Nov-24   \n",
       "\n",
       "                                           AdditionInfo  AskPrice  count  \n",
       "9577           Hath gadi thella new juice set-up thella     32000    399  \n",
       "9578  Zen 1998 model,insurence renewed,test in 2025 ...     27000    399  \n",
       "9579   पुरानी स्क्रैप की गाड़ी बेचने के लिए संपर्क करें     20000    399  \n",
       "9580           Panasound brand Daimond 2k androd stereo     18500    399  \n",
       "9581         Want NOC for Mahindra Marshal or Commander     15000    399  "
      ]
     },
     "execution_count": 64,
     "metadata": {},
     "output_type": "execute_result"
    }
   ],
   "source": [
    "df.tail()"
   ]
  },
  {
   "cell_type": "code",
   "execution_count": 66,
   "id": "4f67b044-4fa7-4e83-b151-8b48cdee72ff",
   "metadata": {},
   "outputs": [
    {
     "data": {
      "text/html": [
       "<div>\n",
       "<style scoped>\n",
       "    .dataframe tbody tr th:only-of-type {\n",
       "        vertical-align: middle;\n",
       "    }\n",
       "\n",
       "    .dataframe tbody tr th {\n",
       "        vertical-align: top;\n",
       "    }\n",
       "\n",
       "    .dataframe thead th {\n",
       "        text-align: right;\n",
       "    }\n",
       "</style>\n",
       "<table border=\"1\" class=\"dataframe\">\n",
       "  <thead>\n",
       "    <tr style=\"text-align: right;\">\n",
       "      <th></th>\n",
       "      <th>Brand</th>\n",
       "      <th>model</th>\n",
       "    </tr>\n",
       "  </thead>\n",
       "  <tbody>\n",
       "    <tr>\n",
       "      <th>0</th>\n",
       "      <td>Rolls-Royce</td>\n",
       "      <td>Phantom Series II</td>\n",
       "    </tr>\n",
       "    <tr>\n",
       "      <th>1</th>\n",
       "      <td>Lexus</td>\n",
       "      <td>LX</td>\n",
       "    </tr>\n",
       "    <tr>\n",
       "      <th>2</th>\n",
       "      <td>Aston Martin</td>\n",
       "      <td>Vanquish</td>\n",
       "    </tr>\n",
       "    <tr>\n",
       "      <th>3</th>\n",
       "      <td>Mercedes-Benz</td>\n",
       "      <td>G Class</td>\n",
       "    </tr>\n",
       "    <tr>\n",
       "      <th>4</th>\n",
       "      <td>Mercedes-Benz</td>\n",
       "      <td>G Class</td>\n",
       "    </tr>\n",
       "    <tr>\n",
       "      <th>...</th>\n",
       "      <td>...</td>\n",
       "      <td>...</td>\n",
       "    </tr>\n",
       "    <tr>\n",
       "      <th>9577</th>\n",
       "      <td>Ashok</td>\n",
       "      <td>Leyland Stile</td>\n",
       "    </tr>\n",
       "    <tr>\n",
       "      <th>9578</th>\n",
       "      <td>Maruti Suzuki</td>\n",
       "      <td>Zen-Estilo</td>\n",
       "    </tr>\n",
       "    <tr>\n",
       "      <th>9579</th>\n",
       "      <td>Maruti Suzuki</td>\n",
       "      <td>Alto-800</td>\n",
       "    </tr>\n",
       "    <tr>\n",
       "      <th>9580</th>\n",
       "      <td>Maruti Suzuki</td>\n",
       "      <td>Baleno</td>\n",
       "    </tr>\n",
       "    <tr>\n",
       "      <th>9581</th>\n",
       "      <td>Mahindra</td>\n",
       "      <td>Marshal</td>\n",
       "    </tr>\n",
       "  </tbody>\n",
       "</table>\n",
       "<p>9582 rows × 2 columns</p>\n",
       "</div>"
      ],
      "text/plain": [
       "              Brand              model\n",
       "0       Rolls-Royce  Phantom Series II\n",
       "1             Lexus                 LX\n",
       "2      Aston Martin           Vanquish\n",
       "3     Mercedes-Benz            G Class\n",
       "4     Mercedes-Benz            G Class\n",
       "...             ...                ...\n",
       "9577          Ashok      Leyland Stile\n",
       "9578  Maruti Suzuki         Zen-Estilo\n",
       "9579  Maruti Suzuki           Alto-800\n",
       "9580  Maruti Suzuki             Baleno\n",
       "9581       Mahindra            Marshal\n",
       "\n",
       "[9582 rows x 2 columns]"
      ]
     },
     "execution_count": 66,
     "metadata": {},
     "output_type": "execute_result"
    }
   ],
   "source": [
    "df[['Brand', 'model']]"
   ]
  },
  {
   "cell_type": "code",
   "execution_count": 67,
   "id": "3024cddb-3d51-446a-85cd-f198dc28cb2e",
   "metadata": {},
   "outputs": [
    {
     "data": {
      "text/html": [
       "<div>\n",
       "<style scoped>\n",
       "    .dataframe tbody tr th:only-of-type {\n",
       "        vertical-align: middle;\n",
       "    }\n",
       "\n",
       "    .dataframe tbody tr th {\n",
       "        vertical-align: top;\n",
       "    }\n",
       "\n",
       "    .dataframe thead th {\n",
       "        text-align: right;\n",
       "    }\n",
       "</style>\n",
       "<table border=\"1\" class=\"dataframe\">\n",
       "  <thead>\n",
       "    <tr style=\"text-align: right;\">\n",
       "      <th></th>\n",
       "      <th>Brand</th>\n",
       "      <th>model</th>\n",
       "      <th>Year</th>\n",
       "      <th>Age</th>\n",
       "      <th>kmDriven</th>\n",
       "      <th>Transmission</th>\n",
       "      <th>Owner</th>\n",
       "      <th>FuelType</th>\n",
       "      <th>PostedDate</th>\n",
       "      <th>AdditionInfo</th>\n",
       "      <th>AskPrice</th>\n",
       "      <th>count</th>\n",
       "    </tr>\n",
       "  </thead>\n",
       "  <tbody>\n",
       "    <tr>\n",
       "      <th>0</th>\n",
       "      <td>Rolls-Royce</td>\n",
       "      <td>Phantom Series II</td>\n",
       "      <td>2015</td>\n",
       "      <td>9</td>\n",
       "      <td>11,500 km</td>\n",
       "      <td>Automatic</td>\n",
       "      <td>second</td>\n",
       "      <td>Petrol</td>\n",
       "      <td>Aug-24</td>\n",
       "      <td>Rolls-Royce Phantom Series II EWB, 2015, Petrol</td>\n",
       "      <td>42500000</td>\n",
       "      <td>399</td>\n",
       "    </tr>\n",
       "    <tr>\n",
       "      <th>1</th>\n",
       "      <td>Lexus</td>\n",
       "      <td>LX</td>\n",
       "      <td>2024</td>\n",
       "      <td>0</td>\n",
       "      <td>24,000 km</td>\n",
       "      <td>Automatic</td>\n",
       "      <td>first</td>\n",
       "      <td>Diesel</td>\n",
       "      <td>Nov-24</td>\n",
       "      <td>Lexus LX 500d, 2024, Diesel</td>\n",
       "      <td>27750000</td>\n",
       "      <td>399</td>\n",
       "    </tr>\n",
       "    <tr>\n",
       "      <th>2</th>\n",
       "      <td>Aston Martin</td>\n",
       "      <td>Vanquish</td>\n",
       "      <td>2016</td>\n",
       "      <td>8</td>\n",
       "      <td>25700.0 km</td>\n",
       "      <td>Automatic</td>\n",
       "      <td>first</td>\n",
       "      <td>Petrol</td>\n",
       "      <td>Nov-24</td>\n",
       "      <td>Aston Martin Vanquish 6.0 V12, 2016, Petrol</td>\n",
       "      <td>26400000</td>\n",
       "      <td>399</td>\n",
       "    </tr>\n",
       "    <tr>\n",
       "      <th>3</th>\n",
       "      <td>Mercedes-Benz</td>\n",
       "      <td>G Class</td>\n",
       "      <td>2019</td>\n",
       "      <td>5</td>\n",
       "      <td>59,000 km</td>\n",
       "      <td>Automatic</td>\n",
       "      <td>first</td>\n",
       "      <td>Petrol</td>\n",
       "      <td>Sep-24</td>\n",
       "      <td>Mercedes-Benz G Class 63 AMG, 2019, Petrol</td>\n",
       "      <td>26000000</td>\n",
       "      <td>399</td>\n",
       "    </tr>\n",
       "    <tr>\n",
       "      <th>4</th>\n",
       "      <td>Mercedes-Benz</td>\n",
       "      <td>G Class</td>\n",
       "      <td>2019</td>\n",
       "      <td>5</td>\n",
       "      <td>59,000 km</td>\n",
       "      <td>Automatic</td>\n",
       "      <td>first</td>\n",
       "      <td>Petrol</td>\n",
       "      <td>Nov-24</td>\n",
       "      <td>Mercedes-Benz G Class G63 AMG, 2019, Petrol</td>\n",
       "      <td>24900000</td>\n",
       "      <td>399</td>\n",
       "    </tr>\n",
       "    <tr>\n",
       "      <th>...</th>\n",
       "      <td>...</td>\n",
       "      <td>...</td>\n",
       "      <td>...</td>\n",
       "      <td>...</td>\n",
       "      <td>...</td>\n",
       "      <td>...</td>\n",
       "      <td>...</td>\n",
       "      <td>...</td>\n",
       "      <td>...</td>\n",
       "      <td>...</td>\n",
       "      <td>...</td>\n",
       "      <td>...</td>\n",
       "    </tr>\n",
       "    <tr>\n",
       "      <th>9577</th>\n",
       "      <td>Ashok</td>\n",
       "      <td>Leyland Stile</td>\n",
       "      <td>2024</td>\n",
       "      <td>0</td>\n",
       "      <td>0 km</td>\n",
       "      <td>Automatic</td>\n",
       "      <td>first</td>\n",
       "      <td>Hybrid/CNG</td>\n",
       "      <td>Nov-24</td>\n",
       "      <td>Hath gadi thella new juice set-up thella</td>\n",
       "      <td>32000</td>\n",
       "      <td>399</td>\n",
       "    </tr>\n",
       "    <tr>\n",
       "      <th>9578</th>\n",
       "      <td>Maruti Suzuki</td>\n",
       "      <td>Zen-Estilo</td>\n",
       "      <td>1998</td>\n",
       "      <td>26</td>\n",
       "      <td>NaN</td>\n",
       "      <td>Manual</td>\n",
       "      <td>second</td>\n",
       "      <td>Petrol</td>\n",
       "      <td>Nov-24</td>\n",
       "      <td>Zen 1998 model,insurence renewed,test in 2025 ...</td>\n",
       "      <td>27000</td>\n",
       "      <td>399</td>\n",
       "    </tr>\n",
       "    <tr>\n",
       "      <th>9579</th>\n",
       "      <td>Maruti Suzuki</td>\n",
       "      <td>Alto-800</td>\n",
       "      <td>2006</td>\n",
       "      <td>18</td>\n",
       "      <td>20,024 km</td>\n",
       "      <td>Manual</td>\n",
       "      <td>first</td>\n",
       "      <td>Petrol</td>\n",
       "      <td>Nov-24</td>\n",
       "      <td>पुरानी स्क्रैप की गाड़ी बेचने के लिए संपर्क करें</td>\n",
       "      <td>20000</td>\n",
       "      <td>399</td>\n",
       "    </tr>\n",
       "    <tr>\n",
       "      <th>9580</th>\n",
       "      <td>Maruti Suzuki</td>\n",
       "      <td>Baleno</td>\n",
       "      <td>2024</td>\n",
       "      <td>0</td>\n",
       "      <td>9,000 km</td>\n",
       "      <td>Manual</td>\n",
       "      <td>first</td>\n",
       "      <td>Petrol</td>\n",
       "      <td>Nov-24</td>\n",
       "      <td>Panasound brand Daimond 2k androd stereo</td>\n",
       "      <td>18500</td>\n",
       "      <td>399</td>\n",
       "    </tr>\n",
       "    <tr>\n",
       "      <th>9581</th>\n",
       "      <td>Mahindra</td>\n",
       "      <td>Marshal</td>\n",
       "      <td>2000</td>\n",
       "      <td>24</td>\n",
       "      <td>55,000 km</td>\n",
       "      <td>Manual</td>\n",
       "      <td>second</td>\n",
       "      <td>Diesel</td>\n",
       "      <td>Nov-24</td>\n",
       "      <td>Want NOC for Mahindra Marshal or Commander</td>\n",
       "      <td>15000</td>\n",
       "      <td>399</td>\n",
       "    </tr>\n",
       "  </tbody>\n",
       "</table>\n",
       "<p>9582 rows × 12 columns</p>\n",
       "</div>"
      ],
      "text/plain": [
       "              Brand              model  Year  Age    kmDriven Transmission  \\\n",
       "0       Rolls-Royce  Phantom Series II  2015    9   11,500 km    Automatic   \n",
       "1             Lexus                 LX  2024    0   24,000 km    Automatic   \n",
       "2      Aston Martin           Vanquish  2016    8  25700.0 km    Automatic   \n",
       "3     Mercedes-Benz            G Class  2019    5   59,000 km    Automatic   \n",
       "4     Mercedes-Benz            G Class  2019    5   59,000 km    Automatic   \n",
       "...             ...                ...   ...  ...         ...          ...   \n",
       "9577          Ashok      Leyland Stile  2024    0        0 km    Automatic   \n",
       "9578  Maruti Suzuki         Zen-Estilo  1998   26         NaN       Manual   \n",
       "9579  Maruti Suzuki           Alto-800  2006   18   20,024 km       Manual   \n",
       "9580  Maruti Suzuki             Baleno  2024    0    9,000 km       Manual   \n",
       "9581       Mahindra            Marshal  2000   24   55,000 km       Manual   \n",
       "\n",
       "       Owner    FuelType PostedDate  \\\n",
       "0     second      Petrol     Aug-24   \n",
       "1      first      Diesel     Nov-24   \n",
       "2      first      Petrol     Nov-24   \n",
       "3      first      Petrol     Sep-24   \n",
       "4      first      Petrol     Nov-24   \n",
       "...      ...         ...        ...   \n",
       "9577   first  Hybrid/CNG     Nov-24   \n",
       "9578  second      Petrol     Nov-24   \n",
       "9579   first      Petrol     Nov-24   \n",
       "9580   first      Petrol     Nov-24   \n",
       "9581  second      Diesel     Nov-24   \n",
       "\n",
       "                                           AdditionInfo  AskPrice  count  \n",
       "0       Rolls-Royce Phantom Series II EWB, 2015, Petrol  42500000    399  \n",
       "1                           Lexus LX 500d, 2024, Diesel  27750000    399  \n",
       "2           Aston Martin Vanquish 6.0 V12, 2016, Petrol  26400000    399  \n",
       "3            Mercedes-Benz G Class 63 AMG, 2019, Petrol  26000000    399  \n",
       "4           Mercedes-Benz G Class G63 AMG, 2019, Petrol  24900000    399  \n",
       "...                                                 ...       ...    ...  \n",
       "9577           Hath gadi thella new juice set-up thella     32000    399  \n",
       "9578  Zen 1998 model,insurence renewed,test in 2025 ...     27000    399  \n",
       "9579   पुरानी स्क्रैप की गाड़ी बेचने के लिए संपर्क करें     20000    399  \n",
       "9580           Panasound brand Daimond 2k androd stereo     18500    399  \n",
       "9581         Want NOC for Mahindra Marshal or Commander     15000    399  \n",
       "\n",
       "[9582 rows x 12 columns]"
      ]
     },
     "execution_count": 67,
     "metadata": {},
     "output_type": "execute_result"
    }
   ],
   "source": [
    "df"
   ]
  },
  {
   "cell_type": "code",
   "execution_count": 69,
   "id": "ed806242-20ea-4ac6-9793-63aa5dfce332",
   "metadata": {},
   "outputs": [
    {
     "data": {
      "text/html": [
       "<div>\n",
       "<style scoped>\n",
       "    .dataframe tbody tr th:only-of-type {\n",
       "        vertical-align: middle;\n",
       "    }\n",
       "\n",
       "    .dataframe tbody tr th {\n",
       "        vertical-align: top;\n",
       "    }\n",
       "\n",
       "    .dataframe thead th {\n",
       "        text-align: right;\n",
       "    }\n",
       "</style>\n",
       "<table border=\"1\" class=\"dataframe\">\n",
       "  <thead>\n",
       "    <tr style=\"text-align: right;\">\n",
       "      <th></th>\n",
       "      <th>Brand</th>\n",
       "      <th>model</th>\n",
       "    </tr>\n",
       "  </thead>\n",
       "  <tbody>\n",
       "    <tr>\n",
       "      <th>100</th>\n",
       "      <td>BMW</td>\n",
       "      <td>5 Series</td>\n",
       "    </tr>\n",
       "    <tr>\n",
       "      <th>101</th>\n",
       "      <td>BMW</td>\n",
       "      <td>7 Series</td>\n",
       "    </tr>\n",
       "    <tr>\n",
       "      <th>102</th>\n",
       "      <td>Mercedes-Benz</td>\n",
       "      <td>GLS</td>\n",
       "    </tr>\n",
       "    <tr>\n",
       "      <th>103</th>\n",
       "      <td>Mercedes-Benz</td>\n",
       "      <td>AMG C 43</td>\n",
       "    </tr>\n",
       "    <tr>\n",
       "      <th>104</th>\n",
       "      <td>Land Rover</td>\n",
       "      <td>Range Rover Velar</td>\n",
       "    </tr>\n",
       "    <tr>\n",
       "      <th>105</th>\n",
       "      <td>Land Rover</td>\n",
       "      <td>Range Rover Velar</td>\n",
       "    </tr>\n",
       "    <tr>\n",
       "      <th>106</th>\n",
       "      <td>Mercedes-Benz</td>\n",
       "      <td>G</td>\n",
       "    </tr>\n",
       "    <tr>\n",
       "      <th>107</th>\n",
       "      <td>Land Rover</td>\n",
       "      <td>Range Rover Sport</td>\n",
       "    </tr>\n",
       "    <tr>\n",
       "      <th>108</th>\n",
       "      <td>Mercedes-Benz</td>\n",
       "      <td>G</td>\n",
       "    </tr>\n",
       "    <tr>\n",
       "      <th>109</th>\n",
       "      <td>Mercedes-Benz</td>\n",
       "      <td>GLC Coupe</td>\n",
       "    </tr>\n",
       "    <tr>\n",
       "      <th>110</th>\n",
       "      <td>Audi</td>\n",
       "      <td>2.9 Sportback</td>\n",
       "    </tr>\n",
       "    <tr>\n",
       "      <th>111</th>\n",
       "      <td>Land Rover</td>\n",
       "      <td>Range Rover Velar</td>\n",
       "    </tr>\n",
       "    <tr>\n",
       "      <th>112</th>\n",
       "      <td>Toyota</td>\n",
       "      <td>Land Cruiser</td>\n",
       "    </tr>\n",
       "    <tr>\n",
       "      <th>113</th>\n",
       "      <td>Mercedes-Benz</td>\n",
       "      <td>S-Class</td>\n",
       "    </tr>\n",
       "    <tr>\n",
       "      <th>114</th>\n",
       "      <td>Mercedes-Benz</td>\n",
       "      <td>S-Class</td>\n",
       "    </tr>\n",
       "    <tr>\n",
       "      <th>115</th>\n",
       "      <td>BMW</td>\n",
       "      <td>X6</td>\n",
       "    </tr>\n",
       "    <tr>\n",
       "      <th>116</th>\n",
       "      <td>BMW</td>\n",
       "      <td>X4</td>\n",
       "    </tr>\n",
       "    <tr>\n",
       "      <th>117</th>\n",
       "      <td>Tata</td>\n",
       "      <td>Curvv</td>\n",
       "    </tr>\n",
       "    <tr>\n",
       "      <th>118</th>\n",
       "      <td>Mercedes-Benz</td>\n",
       "      <td>GLE</td>\n",
       "    </tr>\n",
       "    <tr>\n",
       "      <th>119</th>\n",
       "      <td>BMW</td>\n",
       "      <td>X4</td>\n",
       "    </tr>\n",
       "    <tr>\n",
       "      <th>120</th>\n",
       "      <td>Audi</td>\n",
       "      <td>Q7</td>\n",
       "    </tr>\n",
       "  </tbody>\n",
       "</table>\n",
       "</div>"
      ],
      "text/plain": [
       "             Brand              model\n",
       "100            BMW           5 Series\n",
       "101            BMW           7 Series\n",
       "102  Mercedes-Benz                GLS\n",
       "103  Mercedes-Benz           AMG C 43\n",
       "104     Land Rover  Range Rover Velar\n",
       "105     Land Rover  Range Rover Velar\n",
       "106  Mercedes-Benz                  G\n",
       "107     Land Rover  Range Rover Sport\n",
       "108  Mercedes-Benz                  G\n",
       "109  Mercedes-Benz          GLC Coupe\n",
       "110           Audi      2.9 Sportback\n",
       "111     Land Rover  Range Rover Velar\n",
       "112         Toyota       Land Cruiser\n",
       "113  Mercedes-Benz            S-Class\n",
       "114  Mercedes-Benz            S-Class\n",
       "115            BMW                 X6\n",
       "116            BMW                 X4\n",
       "117           Tata              Curvv\n",
       "118  Mercedes-Benz                GLE\n",
       "119            BMW                 X4\n",
       "120           Audi                 Q7"
      ]
     },
     "execution_count": 69,
     "metadata": {},
     "output_type": "execute_result"
    }
   ],
   "source": [
    "df[['Brand', 'model']].iloc[100:121, 0:6]"
   ]
  },
  {
   "cell_type": "code",
   "execution_count": 75,
   "id": "c25e10cb-1cf5-4aa2-9921-fa4c17766ebf",
   "metadata": {},
   "outputs": [
    {
     "ename": "AttributeError",
     "evalue": "'DataFrame' object has no attribute 'unique'",
     "output_type": "error",
     "traceback": [
      "\u001b[1;31m---------------------------------------------------------------------------\u001b[0m",
      "\u001b[1;31mAttributeError\u001b[0m                            Traceback (most recent call last)",
      "\u001b[1;32m~\\AppData\\Local\\Temp\\ipykernel_9148\\3131938868.py\u001b[0m in \u001b[0;36m?\u001b[1;34m()\u001b[0m\n\u001b[1;32m----> 1\u001b[1;33m \u001b[0mdf\u001b[0m\u001b[1;33m[\u001b[0m\u001b[0mdf\u001b[0m\u001b[1;33m[\u001b[0m\u001b[1;34m'Brand'\u001b[0m\u001b[1;33m]\u001b[0m \u001b[1;33m==\u001b[0m \u001b[1;34m'BMW'\u001b[0m\u001b[1;33m]\u001b[0m\u001b[1;33m.\u001b[0m\u001b[0munique\u001b[0m\u001b[1;33m(\u001b[0m\u001b[1;33m)\u001b[0m\u001b[1;33m\u001b[0m\u001b[1;33m\u001b[0m\u001b[0m\n\u001b[0m",
      "\u001b[1;32m~\\anaconda3\\Lib\\site-packages\\pandas\\core\\generic.py\u001b[0m in \u001b[0;36m?\u001b[1;34m(self, name)\u001b[0m\n\u001b[0;32m   6295\u001b[0m             \u001b[1;32mand\u001b[0m \u001b[0mname\u001b[0m \u001b[1;32mnot\u001b[0m \u001b[1;32min\u001b[0m \u001b[0mself\u001b[0m\u001b[1;33m.\u001b[0m\u001b[0m_accessors\u001b[0m\u001b[1;33m\u001b[0m\u001b[1;33m\u001b[0m\u001b[0m\n\u001b[0;32m   6296\u001b[0m             \u001b[1;32mand\u001b[0m \u001b[0mself\u001b[0m\u001b[1;33m.\u001b[0m\u001b[0m_info_axis\u001b[0m\u001b[1;33m.\u001b[0m\u001b[0m_can_hold_identifiers_and_holds_name\u001b[0m\u001b[1;33m(\u001b[0m\u001b[0mname\u001b[0m\u001b[1;33m)\u001b[0m\u001b[1;33m\u001b[0m\u001b[1;33m\u001b[0m\u001b[0m\n\u001b[0;32m   6297\u001b[0m         \u001b[1;33m)\u001b[0m\u001b[1;33m:\u001b[0m\u001b[1;33m\u001b[0m\u001b[1;33m\u001b[0m\u001b[0m\n\u001b[0;32m   6298\u001b[0m             \u001b[1;32mreturn\u001b[0m \u001b[0mself\u001b[0m\u001b[1;33m[\u001b[0m\u001b[0mname\u001b[0m\u001b[1;33m]\u001b[0m\u001b[1;33m\u001b[0m\u001b[1;33m\u001b[0m\u001b[0m\n\u001b[1;32m-> 6299\u001b[1;33m         \u001b[1;32mreturn\u001b[0m \u001b[0mobject\u001b[0m\u001b[1;33m.\u001b[0m\u001b[0m__getattribute__\u001b[0m\u001b[1;33m(\u001b[0m\u001b[0mself\u001b[0m\u001b[1;33m,\u001b[0m \u001b[0mname\u001b[0m\u001b[1;33m)\u001b[0m\u001b[1;33m\u001b[0m\u001b[1;33m\u001b[0m\u001b[0m\n\u001b[0m",
      "\u001b[1;31mAttributeError\u001b[0m: 'DataFrame' object has no attribute 'unique'"
     ]
    }
   ],
   "source": [
    "df[df['Brand'] == 'BMW'].unique()"
   ]
  },
  {
   "cell_type": "code",
   "execution_count": 78,
   "id": "a39a7a3d-7192-4b4c-8af3-f29754fc6dbc",
   "metadata": {},
   "outputs": [
    {
     "data": {
      "text/plain": [
       "19"
      ]
     },
     "execution_count": 78,
     "metadata": {},
     "output_type": "execute_result"
    }
   ],
   "source": [
    "df[df[\"Brand\"] == \"Toyota\"] [\"model\"].nunique()"
   ]
  },
  {
   "cell_type": "code",
   "execution_count": 80,
   "id": "c200e16b-da2e-4664-b7ff-e41b990fcd2e",
   "metadata": {},
   "outputs": [
    {
     "data": {
      "text/html": [
       "<div>\n",
       "<style scoped>\n",
       "    .dataframe tbody tr th:only-of-type {\n",
       "        vertical-align: middle;\n",
       "    }\n",
       "\n",
       "    .dataframe tbody tr th {\n",
       "        vertical-align: top;\n",
       "    }\n",
       "\n",
       "    .dataframe thead th {\n",
       "        text-align: right;\n",
       "    }\n",
       "</style>\n",
       "<table border=\"1\" class=\"dataframe\">\n",
       "  <thead>\n",
       "    <tr style=\"text-align: right;\">\n",
       "      <th></th>\n",
       "      <th>Brand</th>\n",
       "      <th>AskPrice</th>\n",
       "    </tr>\n",
       "  </thead>\n",
       "  <tbody>\n",
       "    <tr>\n",
       "      <th>236</th>\n",
       "      <td>Maruti Suzuki</td>\n",
       "      <td>4999000</td>\n",
       "    </tr>\n",
       "    <tr>\n",
       "      <th>640</th>\n",
       "      <td>Maruti Suzuki</td>\n",
       "      <td>2800000</td>\n",
       "    </tr>\n",
       "    <tr>\n",
       "      <th>744</th>\n",
       "      <td>Maruti Suzuki</td>\n",
       "      <td>2550000</td>\n",
       "    </tr>\n",
       "    <tr>\n",
       "      <th>918</th>\n",
       "      <td>Maruti Suzuki</td>\n",
       "      <td>2225000</td>\n",
       "    </tr>\n",
       "    <tr>\n",
       "      <th>1020</th>\n",
       "      <td>Maruti Suzuki</td>\n",
       "      <td>2045000</td>\n",
       "    </tr>\n",
       "    <tr>\n",
       "      <th>...</th>\n",
       "      <td>...</td>\n",
       "      <td>...</td>\n",
       "    </tr>\n",
       "    <tr>\n",
       "      <th>9466</th>\n",
       "      <td>Maruti Suzuki</td>\n",
       "      <td>89000</td>\n",
       "    </tr>\n",
       "    <tr>\n",
       "      <th>9467</th>\n",
       "      <td>Maruti Suzuki</td>\n",
       "      <td>89000</td>\n",
       "    </tr>\n",
       "    <tr>\n",
       "      <th>9469</th>\n",
       "      <td>Maruti Suzuki</td>\n",
       "      <td>88000</td>\n",
       "    </tr>\n",
       "    <tr>\n",
       "      <th>9470</th>\n",
       "      <td>Maruti Suzuki</td>\n",
       "      <td>87000</td>\n",
       "    </tr>\n",
       "    <tr>\n",
       "      <th>9471</th>\n",
       "      <td>Maruti Suzuki</td>\n",
       "      <td>86000</td>\n",
       "    </tr>\n",
       "  </tbody>\n",
       "</table>\n",
       "<p>2666 rows × 2 columns</p>\n",
       "</div>"
      ],
      "text/plain": [
       "              Brand  AskPrice\n",
       "236   Maruti Suzuki   4999000\n",
       "640   Maruti Suzuki   2800000\n",
       "744   Maruti Suzuki   2550000\n",
       "918   Maruti Suzuki   2225000\n",
       "1020  Maruti Suzuki   2045000\n",
       "...             ...       ...\n",
       "9466  Maruti Suzuki     89000\n",
       "9467  Maruti Suzuki     89000\n",
       "9469  Maruti Suzuki     88000\n",
       "9470  Maruti Suzuki     87000\n",
       "9471  Maruti Suzuki     86000\n",
       "\n",
       "[2666 rows x 2 columns]"
      ]
     },
     "execution_count": 80,
     "metadata": {},
     "output_type": "execute_result"
    }
   ],
   "source": [
    "df[(df.Brand == 'Maruti Suzuki') & (df.AskPrice >85000)].iloc[:,[0,10]]"
   ]
  },
  {
   "cell_type": "code",
   "execution_count": 84,
   "id": "ae15803b-07fd-45d3-99dc-b1a2e6e7cd1d",
   "metadata": {},
   "outputs": [
    {
     "data": {
      "text/html": [
       "<div>\n",
       "<style scoped>\n",
       "    .dataframe tbody tr th:only-of-type {\n",
       "        vertical-align: middle;\n",
       "    }\n",
       "\n",
       "    .dataframe tbody tr th {\n",
       "        vertical-align: top;\n",
       "    }\n",
       "\n",
       "    .dataframe thead th {\n",
       "        text-align: right;\n",
       "    }\n",
       "</style>\n",
       "<table border=\"1\" class=\"dataframe\">\n",
       "  <thead>\n",
       "    <tr style=\"text-align: right;\">\n",
       "      <th></th>\n",
       "      <th>Brand</th>\n",
       "      <th>model</th>\n",
       "      <th>Year</th>\n",
       "    </tr>\n",
       "  </thead>\n",
       "  <tbody>\n",
       "    <tr>\n",
       "      <th>0</th>\n",
       "      <td>Rolls-Royce</td>\n",
       "      <td>Phantom Series II</td>\n",
       "      <td>2015</td>\n",
       "    </tr>\n",
       "    <tr>\n",
       "      <th>1</th>\n",
       "      <td>Lexus</td>\n",
       "      <td>LX</td>\n",
       "      <td>2024</td>\n",
       "    </tr>\n",
       "    <tr>\n",
       "      <th>2</th>\n",
       "      <td>Aston Martin</td>\n",
       "      <td>Vanquish</td>\n",
       "      <td>2016</td>\n",
       "    </tr>\n",
       "    <tr>\n",
       "      <th>3</th>\n",
       "      <td>Mercedes-Benz</td>\n",
       "      <td>G Class</td>\n",
       "      <td>2019</td>\n",
       "    </tr>\n",
       "    <tr>\n",
       "      <th>4</th>\n",
       "      <td>Mercedes-Benz</td>\n",
       "      <td>G Class</td>\n",
       "      <td>2019</td>\n",
       "    </tr>\n",
       "    <tr>\n",
       "      <th>...</th>\n",
       "      <td>...</td>\n",
       "      <td>...</td>\n",
       "      <td>...</td>\n",
       "    </tr>\n",
       "    <tr>\n",
       "      <th>9577</th>\n",
       "      <td>Ashok</td>\n",
       "      <td>Leyland Stile</td>\n",
       "      <td>2024</td>\n",
       "    </tr>\n",
       "    <tr>\n",
       "      <th>9578</th>\n",
       "      <td>Maruti Suzuki</td>\n",
       "      <td>Zen-Estilo</td>\n",
       "      <td>1998</td>\n",
       "    </tr>\n",
       "    <tr>\n",
       "      <th>9579</th>\n",
       "      <td>Maruti Suzuki</td>\n",
       "      <td>Alto-800</td>\n",
       "      <td>2006</td>\n",
       "    </tr>\n",
       "    <tr>\n",
       "      <th>9580</th>\n",
       "      <td>Maruti Suzuki</td>\n",
       "      <td>Baleno</td>\n",
       "      <td>2024</td>\n",
       "    </tr>\n",
       "    <tr>\n",
       "      <th>9581</th>\n",
       "      <td>Mahindra</td>\n",
       "      <td>Marshal</td>\n",
       "      <td>2000</td>\n",
       "    </tr>\n",
       "  </tbody>\n",
       "</table>\n",
       "<p>9582 rows × 3 columns</p>\n",
       "</div>"
      ],
      "text/plain": [
       "              Brand              model  Year\n",
       "0       Rolls-Royce  Phantom Series II  2015\n",
       "1             Lexus                 LX  2024\n",
       "2      Aston Martin           Vanquish  2016\n",
       "3     Mercedes-Benz            G Class  2019\n",
       "4     Mercedes-Benz            G Class  2019\n",
       "...             ...                ...   ...\n",
       "9577          Ashok      Leyland Stile  2024\n",
       "9578  Maruti Suzuki         Zen-Estilo  1998\n",
       "9579  Maruti Suzuki           Alto-800  2006\n",
       "9580  Maruti Suzuki             Baleno  2024\n",
       "9581       Mahindra            Marshal  2000\n",
       "\n",
       "[9582 rows x 3 columns]"
      ]
     },
     "execution_count": 84,
     "metadata": {},
     "output_type": "execute_result"
    }
   ],
   "source": [
    "df.iloc[:,0:3]"
   ]
  },
  {
   "cell_type": "code",
   "execution_count": 85,
   "id": "b976f78f-4f8d-41d3-8ea9-a3f566eea4e6",
   "metadata": {},
   "outputs": [
    {
     "data": {
      "text/plain": [
       "Brand           9582\n",
       "model           9582\n",
       "Year            9582\n",
       "Age             9582\n",
       "kmDriven        9535\n",
       "Transmission    9582\n",
       "Owner           9582\n",
       "FuelType        9582\n",
       "PostedDate      9582\n",
       "AdditionInfo    9582\n",
       "AskPrice        9582\n",
       "count           9582\n",
       "dtype: int64"
      ]
     },
     "execution_count": 85,
     "metadata": {},
     "output_type": "execute_result"
    }
   ],
   "source": [
    "df.count()"
   ]
  },
  {
   "cell_type": "code",
   "execution_count": 86,
   "id": "e1c715d0-2056-4360-8f56-bf7b8b207209",
   "metadata": {},
   "outputs": [
    {
     "name": "stdout",
     "output_type": "stream",
     "text": [
      "<class 'pandas.core.frame.DataFrame'>\n",
      "RangeIndex: 9582 entries, 0 to 9581\n",
      "Data columns (total 12 columns):\n",
      " #   Column        Non-Null Count  Dtype \n",
      "---  ------        --------------  ----- \n",
      " 0   Brand         9582 non-null   object\n",
      " 1   model         9582 non-null   object\n",
      " 2   Year          9582 non-null   int64 \n",
      " 3   Age           9582 non-null   int64 \n",
      " 4   kmDriven      9535 non-null   object\n",
      " 5   Transmission  9582 non-null   object\n",
      " 6   Owner         9582 non-null   object\n",
      " 7   FuelType      9582 non-null   object\n",
      " 8   PostedDate    9582 non-null   object\n",
      " 9   AdditionInfo  9582 non-null   object\n",
      " 10  AskPrice      9582 non-null   int64 \n",
      " 11  count         9582 non-null   int64 \n",
      "dtypes: int64(4), object(8)\n",
      "memory usage: 898.4+ KB\n"
     ]
    }
   ],
   "source": [
    "df.info()"
   ]
  },
  {
   "cell_type": "code",
   "execution_count": 90,
   "id": "c71e51ea-91d4-4ffc-b0ba-9430294adc66",
   "metadata": {},
   "outputs": [
    {
     "data": {
      "text/plain": [
       "str"
      ]
     },
     "execution_count": 90,
     "metadata": {},
     "output_type": "execute_result"
    }
   ],
   "source": [
    "type(df['kmDriven'][11])"
   ]
  },
  {
   "cell_type": "code",
   "execution_count": 89,
   "id": "21966934-89cc-4ed2-bbb9-6e781eae2802",
   "metadata": {},
   "outputs": [
    {
     "data": {
      "text/html": [
       "<div>\n",
       "<style scoped>\n",
       "    .dataframe tbody tr th:only-of-type {\n",
       "        vertical-align: middle;\n",
       "    }\n",
       "\n",
       "    .dataframe tbody tr th {\n",
       "        vertical-align: top;\n",
       "    }\n",
       "\n",
       "    .dataframe thead th {\n",
       "        text-align: right;\n",
       "    }\n",
       "</style>\n",
       "<table border=\"1\" class=\"dataframe\">\n",
       "  <thead>\n",
       "    <tr style=\"text-align: right;\">\n",
       "      <th></th>\n",
       "      <th>kmDriven</th>\n",
       "      <th>Transmission</th>\n",
       "    </tr>\n",
       "  </thead>\n",
       "  <tbody>\n",
       "    <tr>\n",
       "      <th>10</th>\n",
       "      <td>27,000 km</td>\n",
       "      <td>Automatic</td>\n",
       "    </tr>\n",
       "    <tr>\n",
       "      <th>11</th>\n",
       "      <td>27,000 km</td>\n",
       "      <td>Automatic</td>\n",
       "    </tr>\n",
       "  </tbody>\n",
       "</table>\n",
       "</div>"
      ],
      "text/plain": [
       "     kmDriven Transmission\n",
       "10  27,000 km    Automatic\n",
       "11  27,000 km    Automatic"
      ]
     },
     "execution_count": 89,
     "metadata": {},
     "output_type": "execute_result"
    }
   ],
   "source": [
    "df.iloc[10:12,4:6]"
   ]
  },
  {
   "cell_type": "code",
   "execution_count": 91,
   "id": "29bfd91b-d000-4976-9f43-3396254f7229",
   "metadata": {},
   "outputs": [
    {
     "data": {
      "text/html": [
       "<div>\n",
       "<style scoped>\n",
       "    .dataframe tbody tr th:only-of-type {\n",
       "        vertical-align: middle;\n",
       "    }\n",
       "\n",
       "    .dataframe tbody tr th {\n",
       "        vertical-align: top;\n",
       "    }\n",
       "\n",
       "    .dataframe thead th {\n",
       "        text-align: right;\n",
       "    }\n",
       "</style>\n",
       "<table border=\"1\" class=\"dataframe\">\n",
       "  <thead>\n",
       "    <tr style=\"text-align: right;\">\n",
       "      <th></th>\n",
       "      <th>Brand</th>\n",
       "      <th>model</th>\n",
       "      <th>Year</th>\n",
       "      <th>Age</th>\n",
       "      <th>kmDriven</th>\n",
       "      <th>Transmission</th>\n",
       "      <th>Owner</th>\n",
       "      <th>FuelType</th>\n",
       "      <th>PostedDate</th>\n",
       "      <th>AdditionInfo</th>\n",
       "      <th>AskPrice</th>\n",
       "      <th>count</th>\n",
       "    </tr>\n",
       "  </thead>\n",
       "  <tbody>\n",
       "    <tr>\n",
       "      <th>0</th>\n",
       "      <td>Rolls-Royce</td>\n",
       "      <td>Phantom Series II</td>\n",
       "      <td>2015</td>\n",
       "      <td>9</td>\n",
       "      <td>11,500 km</td>\n",
       "      <td>Automatic</td>\n",
       "      <td>second</td>\n",
       "      <td>Petrol</td>\n",
       "      <td>Aug-24</td>\n",
       "      <td>Rolls-Royce Phantom Series II EWB, 2015, Petrol</td>\n",
       "      <td>42500000</td>\n",
       "      <td>399</td>\n",
       "    </tr>\n",
       "    <tr>\n",
       "      <th>1</th>\n",
       "      <td>Lexus</td>\n",
       "      <td>LX</td>\n",
       "      <td>2024</td>\n",
       "      <td>0</td>\n",
       "      <td>24,000 km</td>\n",
       "      <td>Automatic</td>\n",
       "      <td>first</td>\n",
       "      <td>Diesel</td>\n",
       "      <td>Nov-24</td>\n",
       "      <td>Lexus LX 500d, 2024, Diesel</td>\n",
       "      <td>27750000</td>\n",
       "      <td>399</td>\n",
       "    </tr>\n",
       "    <tr>\n",
       "      <th>2</th>\n",
       "      <td>Aston Martin</td>\n",
       "      <td>Vanquish</td>\n",
       "      <td>2016</td>\n",
       "      <td>8</td>\n",
       "      <td>25700.0 km</td>\n",
       "      <td>Automatic</td>\n",
       "      <td>first</td>\n",
       "      <td>Petrol</td>\n",
       "      <td>Nov-24</td>\n",
       "      <td>Aston Martin Vanquish 6.0 V12, 2016, Petrol</td>\n",
       "      <td>26400000</td>\n",
       "      <td>399</td>\n",
       "    </tr>\n",
       "    <tr>\n",
       "      <th>3</th>\n",
       "      <td>Mercedes-Benz</td>\n",
       "      <td>G Class</td>\n",
       "      <td>2019</td>\n",
       "      <td>5</td>\n",
       "      <td>59,000 km</td>\n",
       "      <td>Automatic</td>\n",
       "      <td>first</td>\n",
       "      <td>Petrol</td>\n",
       "      <td>Sep-24</td>\n",
       "      <td>Mercedes-Benz G Class 63 AMG, 2019, Petrol</td>\n",
       "      <td>26000000</td>\n",
       "      <td>399</td>\n",
       "    </tr>\n",
       "    <tr>\n",
       "      <th>4</th>\n",
       "      <td>Mercedes-Benz</td>\n",
       "      <td>G Class</td>\n",
       "      <td>2019</td>\n",
       "      <td>5</td>\n",
       "      <td>59,000 km</td>\n",
       "      <td>Automatic</td>\n",
       "      <td>first</td>\n",
       "      <td>Petrol</td>\n",
       "      <td>Nov-24</td>\n",
       "      <td>Mercedes-Benz G Class G63 AMG, 2019, Petrol</td>\n",
       "      <td>24900000</td>\n",
       "      <td>399</td>\n",
       "    </tr>\n",
       "    <tr>\n",
       "      <th>...</th>\n",
       "      <td>...</td>\n",
       "      <td>...</td>\n",
       "      <td>...</td>\n",
       "      <td>...</td>\n",
       "      <td>...</td>\n",
       "      <td>...</td>\n",
       "      <td>...</td>\n",
       "      <td>...</td>\n",
       "      <td>...</td>\n",
       "      <td>...</td>\n",
       "      <td>...</td>\n",
       "      <td>...</td>\n",
       "    </tr>\n",
       "    <tr>\n",
       "      <th>9577</th>\n",
       "      <td>Ashok</td>\n",
       "      <td>Leyland Stile</td>\n",
       "      <td>2024</td>\n",
       "      <td>0</td>\n",
       "      <td>0 km</td>\n",
       "      <td>Automatic</td>\n",
       "      <td>first</td>\n",
       "      <td>Hybrid/CNG</td>\n",
       "      <td>Nov-24</td>\n",
       "      <td>Hath gadi thella new juice set-up thella</td>\n",
       "      <td>32000</td>\n",
       "      <td>399</td>\n",
       "    </tr>\n",
       "    <tr>\n",
       "      <th>9578</th>\n",
       "      <td>Maruti Suzuki</td>\n",
       "      <td>Zen-Estilo</td>\n",
       "      <td>1998</td>\n",
       "      <td>26</td>\n",
       "      <td>NaN</td>\n",
       "      <td>Manual</td>\n",
       "      <td>second</td>\n",
       "      <td>Petrol</td>\n",
       "      <td>Nov-24</td>\n",
       "      <td>Zen 1998 model,insurence renewed,test in 2025 ...</td>\n",
       "      <td>27000</td>\n",
       "      <td>399</td>\n",
       "    </tr>\n",
       "    <tr>\n",
       "      <th>9579</th>\n",
       "      <td>Maruti Suzuki</td>\n",
       "      <td>Alto-800</td>\n",
       "      <td>2006</td>\n",
       "      <td>18</td>\n",
       "      <td>20,024 km</td>\n",
       "      <td>Manual</td>\n",
       "      <td>first</td>\n",
       "      <td>Petrol</td>\n",
       "      <td>Nov-24</td>\n",
       "      <td>पुरानी स्क्रैप की गाड़ी बेचने के लिए संपर्क करें</td>\n",
       "      <td>20000</td>\n",
       "      <td>399</td>\n",
       "    </tr>\n",
       "    <tr>\n",
       "      <th>9580</th>\n",
       "      <td>Maruti Suzuki</td>\n",
       "      <td>Baleno</td>\n",
       "      <td>2024</td>\n",
       "      <td>0</td>\n",
       "      <td>9,000 km</td>\n",
       "      <td>Manual</td>\n",
       "      <td>first</td>\n",
       "      <td>Petrol</td>\n",
       "      <td>Nov-24</td>\n",
       "      <td>Panasound brand Daimond 2k androd stereo</td>\n",
       "      <td>18500</td>\n",
       "      <td>399</td>\n",
       "    </tr>\n",
       "    <tr>\n",
       "      <th>9581</th>\n",
       "      <td>Mahindra</td>\n",
       "      <td>Marshal</td>\n",
       "      <td>2000</td>\n",
       "      <td>24</td>\n",
       "      <td>55,000 km</td>\n",
       "      <td>Manual</td>\n",
       "      <td>second</td>\n",
       "      <td>Diesel</td>\n",
       "      <td>Nov-24</td>\n",
       "      <td>Want NOC for Mahindra Marshal or Commander</td>\n",
       "      <td>15000</td>\n",
       "      <td>399</td>\n",
       "    </tr>\n",
       "  </tbody>\n",
       "</table>\n",
       "<p>9582 rows × 12 columns</p>\n",
       "</div>"
      ],
      "text/plain": [
       "              Brand              model  Year  Age    kmDriven Transmission  \\\n",
       "0       Rolls-Royce  Phantom Series II  2015    9   11,500 km    Automatic   \n",
       "1             Lexus                 LX  2024    0   24,000 km    Automatic   \n",
       "2      Aston Martin           Vanquish  2016    8  25700.0 km    Automatic   \n",
       "3     Mercedes-Benz            G Class  2019    5   59,000 km    Automatic   \n",
       "4     Mercedes-Benz            G Class  2019    5   59,000 km    Automatic   \n",
       "...             ...                ...   ...  ...         ...          ...   \n",
       "9577          Ashok      Leyland Stile  2024    0        0 km    Automatic   \n",
       "9578  Maruti Suzuki         Zen-Estilo  1998   26         NaN       Manual   \n",
       "9579  Maruti Suzuki           Alto-800  2006   18   20,024 km       Manual   \n",
       "9580  Maruti Suzuki             Baleno  2024    0    9,000 km       Manual   \n",
       "9581       Mahindra            Marshal  2000   24   55,000 km       Manual   \n",
       "\n",
       "       Owner    FuelType PostedDate  \\\n",
       "0     second      Petrol     Aug-24   \n",
       "1      first      Diesel     Nov-24   \n",
       "2      first      Petrol     Nov-24   \n",
       "3      first      Petrol     Sep-24   \n",
       "4      first      Petrol     Nov-24   \n",
       "...      ...         ...        ...   \n",
       "9577   first  Hybrid/CNG     Nov-24   \n",
       "9578  second      Petrol     Nov-24   \n",
       "9579   first      Petrol     Nov-24   \n",
       "9580   first      Petrol     Nov-24   \n",
       "9581  second      Diesel     Nov-24   \n",
       "\n",
       "                                           AdditionInfo  AskPrice  count  \n",
       "0       Rolls-Royce Phantom Series II EWB, 2015, Petrol  42500000    399  \n",
       "1                           Lexus LX 500d, 2024, Diesel  27750000    399  \n",
       "2           Aston Martin Vanquish 6.0 V12, 2016, Petrol  26400000    399  \n",
       "3            Mercedes-Benz G Class 63 AMG, 2019, Petrol  26000000    399  \n",
       "4           Mercedes-Benz G Class G63 AMG, 2019, Petrol  24900000    399  \n",
       "...                                                 ...       ...    ...  \n",
       "9577           Hath gadi thella new juice set-up thella     32000    399  \n",
       "9578  Zen 1998 model,insurence renewed,test in 2025 ...     27000    399  \n",
       "9579   पुरानी स्क्रैप की गाड़ी बेचने के लिए संपर्क करें     20000    399  \n",
       "9580           Panasound brand Daimond 2k androd stereo     18500    399  \n",
       "9581         Want NOC for Mahindra Marshal or Commander     15000    399  \n",
       "\n",
       "[9582 rows x 12 columns]"
      ]
     },
     "execution_count": 91,
     "metadata": {},
     "output_type": "execute_result"
    }
   ],
   "source": [
    "df"
   ]
  },
  {
   "cell_type": "code",
   "execution_count": 99,
   "id": "e68f462e-797a-45fd-b28c-bc9ef81e6546",
   "metadata": {},
   "outputs": [],
   "source": [
    "df[\"Owner\"] = df[\"Owner\"].astype('string') "
   ]
  },
  {
   "cell_type": "code",
   "execution_count": 97,
   "id": "37163863-a5a5-4f8c-87b5-e2f5295050c2",
   "metadata": {},
   "outputs": [
    {
     "name": "stdout",
     "output_type": "stream",
     "text": [
      "<class 'pandas.core.frame.DataFrame'>\n",
      "RangeIndex: 9582 entries, 0 to 9581\n",
      "Data columns (total 12 columns):\n",
      " #   Column        Non-Null Count  Dtype \n",
      "---  ------        --------------  ----- \n",
      " 0   Brand         9582 non-null   object\n",
      " 1   model         9582 non-null   object\n",
      " 2   Year          9582 non-null   int64 \n",
      " 3   Age           9582 non-null   int64 \n",
      " 4   kmDriven      9535 non-null   object\n",
      " 5   Transmission  9582 non-null   object\n",
      " 6   Owner         9582 non-null   string\n",
      " 7   FuelType      9582 non-null   object\n",
      " 8   PostedDate    9582 non-null   object\n",
      " 9   AdditionInfo  9582 non-null   object\n",
      " 10  AskPrice      9582 non-null   int64 \n",
      " 11  count         9582 non-null   int64 \n",
      "dtypes: int64(4), object(7), string(1)\n",
      "memory usage: 898.4+ KB\n"
     ]
    }
   ],
   "source": [
    "df.info()"
   ]
  },
  {
   "cell_type": "code",
   "execution_count": 101,
   "id": "a5d6d3d8-5d3c-4a07-b2fc-12ad29cb9e5a",
   "metadata": {},
   "outputs": [],
   "source": [
    "df['PostedDate'] = pd.to_datetime(df['PostedDate'],format='%b-%y', errors='coerce')"
   ]
  },
  {
   "cell_type": "code",
   "execution_count": 102,
   "id": "d69e436a-c8a6-490a-9d11-7c42117cc6d3",
   "metadata": {},
   "outputs": [
    {
     "name": "stdout",
     "output_type": "stream",
     "text": [
      "<class 'pandas.core.frame.DataFrame'>\n",
      "RangeIndex: 9582 entries, 0 to 9581\n",
      "Data columns (total 12 columns):\n",
      " #   Column        Non-Null Count  Dtype         \n",
      "---  ------        --------------  -----         \n",
      " 0   Brand         9582 non-null   object        \n",
      " 1   model         9582 non-null   object        \n",
      " 2   Year          9582 non-null   int64         \n",
      " 3   Age           9582 non-null   int64         \n",
      " 4   kmDriven      9535 non-null   object        \n",
      " 5   Transmission  9582 non-null   object        \n",
      " 6   Owner         9582 non-null   string        \n",
      " 7   FuelType      9582 non-null   object        \n",
      " 8   PostedDate    9582 non-null   datetime64[ns]\n",
      " 9   AdditionInfo  9582 non-null   object        \n",
      " 10  AskPrice      9582 non-null   int64         \n",
      " 11  count         9582 non-null   int64         \n",
      "dtypes: datetime64[ns](1), int64(4), object(6), string(1)\n",
      "memory usage: 898.4+ KB\n"
     ]
    }
   ],
   "source": [
    "df.info()"
   ]
  },
  {
   "cell_type": "code",
   "execution_count": 104,
   "id": "3b90e77c-66c9-41e2-814e-87f5afea1921",
   "metadata": {},
   "outputs": [],
   "source": [
    "df.AdditionInfo = df['AdditionInfo'].astype('string')"
   ]
  },
  {
   "cell_type": "code",
   "execution_count": 105,
   "id": "55f1e7a1-4d9b-44b4-818b-19818981abe7",
   "metadata": {},
   "outputs": [
    {
     "name": "stdout",
     "output_type": "stream",
     "text": [
      "<class 'pandas.core.frame.DataFrame'>\n",
      "RangeIndex: 9582 entries, 0 to 9581\n",
      "Data columns (total 12 columns):\n",
      " #   Column        Non-Null Count  Dtype         \n",
      "---  ------        --------------  -----         \n",
      " 0   Brand         9582 non-null   object        \n",
      " 1   model         9582 non-null   object        \n",
      " 2   Year          9582 non-null   int64         \n",
      " 3   Age           9582 non-null   int64         \n",
      " 4   kmDriven      9535 non-null   object        \n",
      " 5   Transmission  9582 non-null   object        \n",
      " 6   Owner         9582 non-null   string        \n",
      " 7   FuelType      9582 non-null   object        \n",
      " 8   PostedDate    9582 non-null   datetime64[ns]\n",
      " 9   AdditionInfo  9582 non-null   string        \n",
      " 10  AskPrice      9582 non-null   int64         \n",
      " 11  count         9582 non-null   int64         \n",
      "dtypes: datetime64[ns](1), int64(4), object(5), string(2)\n",
      "memory usage: 898.4+ KB\n"
     ]
    }
   ],
   "source": [
    "df.info()"
   ]
  },
  {
   "cell_type": "code",
   "execution_count": 106,
   "id": "48a3e536-6f2e-4219-b7d0-2787412cfc37",
   "metadata": {},
   "outputs": [
    {
     "data": {
      "text/plain": [
       "(9582, 12)"
      ]
     },
     "execution_count": 106,
     "metadata": {},
     "output_type": "execute_result"
    }
   ],
   "source": [
    "df.shape"
   ]
  },
  {
   "cell_type": "code",
   "execution_count": 128,
   "id": "0bef2cc2-da7b-423b-b5e8-b7e192c1cb36",
   "metadata": {},
   "outputs": [
    {
     "data": {
      "text/plain": [
       "39"
      ]
     },
     "execution_count": 128,
     "metadata": {},
     "output_type": "execute_result"
    }
   ],
   "source": [
    "df['Brand'].nunique()"
   ]
  },
  {
   "cell_type": "code",
   "execution_count": 126,
   "id": "4fbb066c-16d8-428b-9fbf-263f4d6824f4",
   "metadata": {},
   "outputs": [],
   "source": [
    "models = df.groupby('Brand')['model'].nunique().sort_values(ascending = False)"
   ]
  },
  {
   "cell_type": "code",
   "execution_count": 127,
   "id": "7f8a6183-6f53-4e9c-b5ba-90196739a82a",
   "metadata": {},
   "outputs": [
    {
     "name": "stdout",
     "output_type": "stream",
     "text": [
      "Brand\n",
      "Maruti Suzuki    53\n",
      "Hyundai          35\n",
      "Tata             33\n",
      "Mercedes-Benz    31\n",
      "Mahindra         31\n",
      "BMW              19\n",
      "Toyota           19\n",
      "Honda            16\n",
      "Volkswagen       14\n",
      "Chevrolet        12\n",
      "Mini             10\n",
      "Volvo            10\n",
      "Ford             10\n",
      "Nissan           10\n",
      "Renault          10\n",
      "Audi             10\n",
      "Skoda             8\n",
      "Land Rover        8\n",
      "Fiat              7\n",
      "Porsche           7\n",
      "Kia               5\n",
      "Lexus             5\n",
      "Jaguar            5\n",
      "Mitsubishi        4\n",
      "MG                4\n",
      "Datsun            4\n",
      "Isuzu             4\n",
      "Force             3\n",
      "Jeep              3\n",
      "Rolls-Royce       2\n",
      "Ashok             1\n",
      "Opel              1\n",
      "ICML              1\n",
      "Maserati          1\n",
      "Ssangyong         1\n",
      "Bentley           1\n",
      "Bajaj             1\n",
      "Aston Martin      1\n",
      "Ambassador        1\n",
      "Name: model, dtype: int64\n"
     ]
    }
   ],
   "source": [
    "print(models)"
   ]
  },
  {
   "cell_type": "code",
   "execution_count": 129,
   "id": "978d4d87-cd3c-4502-b383-0c1bb4b61b62",
   "metadata": {},
   "outputs": [
    {
     "name": "stdout",
     "output_type": "stream",
     "text": [
      "Help on function to_datetime in module pandas.core.tools.datetimes:\n",
      "\n",
      "to_datetime(arg: 'DatetimeScalarOrArrayConvertible | DictConvertible', errors: 'DateTimeErrorChoices' = 'raise', dayfirst: 'bool' = False, yearfirst: 'bool' = False, utc: 'bool' = False, format: 'str | None' = None, exact: 'bool | lib.NoDefault' = <no_default>, unit: 'str | None' = None, infer_datetime_format: 'lib.NoDefault | bool' = <no_default>, origin: 'str' = 'unix', cache: 'bool' = True) -> 'DatetimeIndex | Series | DatetimeScalar | NaTType | None'\n",
      "    Convert argument to datetime.\n",
      "\n",
      "    This function converts a scalar, array-like, :class:`Series` or\n",
      "    :class:`DataFrame`/dict-like to a pandas datetime object.\n",
      "\n",
      "    Parameters\n",
      "    ----------\n",
      "    arg : int, float, str, datetime, list, tuple, 1-d array, Series, DataFrame/dict-like\n",
      "        The object to convert to a datetime. If a :class:`DataFrame` is provided, the\n",
      "        method expects minimally the following columns: :const:`\"year\"`,\n",
      "        :const:`\"month\"`, :const:`\"day\"`. The column \"year\"\n",
      "        must be specified in 4-digit format.\n",
      "    errors : {'ignore', 'raise', 'coerce'}, default 'raise'\n",
      "        - If :const:`'raise'`, then invalid parsing will raise an exception.\n",
      "        - If :const:`'coerce'`, then invalid parsing will be set as :const:`NaT`.\n",
      "        - If :const:`'ignore'`, then invalid parsing will return the input.\n",
      "    dayfirst : bool, default False\n",
      "        Specify a date parse order if `arg` is str or is list-like.\n",
      "        If :const:`True`, parses dates with the day first, e.g. :const:`\"10/11/12\"`\n",
      "        is parsed as :const:`2012-11-10`.\n",
      "\n",
      "        .. warning::\n",
      "\n",
      "            ``dayfirst=True`` is not strict, but will prefer to parse\n",
      "            with day first.\n",
      "\n",
      "    yearfirst : bool, default False\n",
      "        Specify a date parse order if `arg` is str or is list-like.\n",
      "\n",
      "        - If :const:`True` parses dates with the year first, e.g.\n",
      "          :const:`\"10/11/12\"` is parsed as :const:`2010-11-12`.\n",
      "        - If both `dayfirst` and `yearfirst` are :const:`True`, `yearfirst` is\n",
      "          preceded (same as :mod:`dateutil`).\n",
      "\n",
      "        .. warning::\n",
      "\n",
      "            ``yearfirst=True`` is not strict, but will prefer to parse\n",
      "            with year first.\n",
      "\n",
      "    utc : bool, default False\n",
      "        Control timezone-related parsing, localization and conversion.\n",
      "\n",
      "        - If :const:`True`, the function *always* returns a timezone-aware\n",
      "          UTC-localized :class:`Timestamp`, :class:`Series` or\n",
      "          :class:`DatetimeIndex`. To do this, timezone-naive inputs are\n",
      "          *localized* as UTC, while timezone-aware inputs are *converted* to UTC.\n",
      "\n",
      "        - If :const:`False` (default), inputs will not be coerced to UTC.\n",
      "          Timezone-naive inputs will remain naive, while timezone-aware ones\n",
      "          will keep their time offsets. Limitations exist for mixed\n",
      "          offsets (typically, daylight savings), see :ref:`Examples\n",
      "          <to_datetime_tz_examples>` section for details.\n",
      "\n",
      "        .. warning::\n",
      "\n",
      "            In a future version of pandas, parsing datetimes with mixed time\n",
      "            zones will raise an error unless `utc=True`.\n",
      "            Please specify `utc=True` to opt in to the new behaviour\n",
      "            and silence this warning. To create a `Series` with mixed offsets and\n",
      "            `object` dtype, please use `apply` and `datetime.datetime.strptime`.\n",
      "\n",
      "        See also: pandas general documentation about `timezone conversion and\n",
      "        localization\n",
      "        <https://pandas.pydata.org/pandas-docs/stable/user_guide/timeseries.html\n",
      "        #time-zone-handling>`_.\n",
      "\n",
      "    format : str, default None\n",
      "        The strftime to parse time, e.g. :const:`\"%d/%m/%Y\"`. See\n",
      "        `strftime documentation\n",
      "        <https://docs.python.org/3/library/datetime.html\n",
      "        #strftime-and-strptime-behavior>`_ for more information on choices, though\n",
      "        note that :const:`\"%f\"` will parse all the way up to nanoseconds.\n",
      "        You can also pass:\n",
      "\n",
      "        - \"ISO8601\", to parse any `ISO8601 <https://en.wikipedia.org/wiki/ISO_8601>`_\n",
      "          time string (not necessarily in exactly the same format);\n",
      "        - \"mixed\", to infer the format for each element individually. This is risky,\n",
      "          and you should probably use it along with `dayfirst`.\n",
      "\n",
      "        .. note::\n",
      "\n",
      "            If a :class:`DataFrame` is passed, then `format` has no effect.\n",
      "\n",
      "    exact : bool, default True\n",
      "        Control how `format` is used:\n",
      "\n",
      "        - If :const:`True`, require an exact `format` match.\n",
      "        - If :const:`False`, allow the `format` to match anywhere in the target\n",
      "          string.\n",
      "\n",
      "        Cannot be used alongside ``format='ISO8601'`` or ``format='mixed'``.\n",
      "    unit : str, default 'ns'\n",
      "        The unit of the arg (D,s,ms,us,ns) denote the unit, which is an\n",
      "        integer or float number. This will be based off the origin.\n",
      "        Example, with ``unit='ms'`` and ``origin='unix'``, this would calculate\n",
      "        the number of milliseconds to the unix epoch start.\n",
      "    infer_datetime_format : bool, default False\n",
      "        If :const:`True` and no `format` is given, attempt to infer the format\n",
      "        of the datetime strings based on the first non-NaN element,\n",
      "        and if it can be inferred, switch to a faster method of parsing them.\n",
      "        In some cases this can increase the parsing speed by ~5-10x.\n",
      "\n",
      "        .. deprecated:: 2.0.0\n",
      "            A strict version of this argument is now the default, passing it has\n",
      "            no effect.\n",
      "\n",
      "    origin : scalar, default 'unix'\n",
      "        Define the reference date. The numeric values would be parsed as number\n",
      "        of units (defined by `unit`) since this reference date.\n",
      "\n",
      "        - If :const:`'unix'` (or POSIX) time; origin is set to 1970-01-01.\n",
      "        - If :const:`'julian'`, unit must be :const:`'D'`, and origin is set to\n",
      "          beginning of Julian Calendar. Julian day number :const:`0` is assigned\n",
      "          to the day starting at noon on January 1, 4713 BC.\n",
      "        - If Timestamp convertible (Timestamp, dt.datetime, np.datetimt64 or date\n",
      "          string), origin is set to Timestamp identified by origin.\n",
      "        - If a float or integer, origin is the difference\n",
      "          (in units determined by the ``unit`` argument) relative to 1970-01-01.\n",
      "    cache : bool, default True\n",
      "        If :const:`True`, use a cache of unique, converted dates to apply the\n",
      "        datetime conversion. May produce significant speed-up when parsing\n",
      "        duplicate date strings, especially ones with timezone offsets. The cache\n",
      "        is only used when there are at least 50 values. The presence of\n",
      "        out-of-bounds values will render the cache unusable and may slow down\n",
      "        parsing.\n",
      "\n",
      "    Returns\n",
      "    -------\n",
      "    datetime\n",
      "        If parsing succeeded.\n",
      "        Return type depends on input (types in parenthesis correspond to\n",
      "        fallback in case of unsuccessful timezone or out-of-range timestamp\n",
      "        parsing):\n",
      "\n",
      "        - scalar: :class:`Timestamp` (or :class:`datetime.datetime`)\n",
      "        - array-like: :class:`DatetimeIndex` (or :class:`Series` with\n",
      "          :class:`object` dtype containing :class:`datetime.datetime`)\n",
      "        - Series: :class:`Series` of :class:`datetime64` dtype (or\n",
      "          :class:`Series` of :class:`object` dtype containing\n",
      "          :class:`datetime.datetime`)\n",
      "        - DataFrame: :class:`Series` of :class:`datetime64` dtype (or\n",
      "          :class:`Series` of :class:`object` dtype containing\n",
      "          :class:`datetime.datetime`)\n",
      "\n",
      "    Raises\n",
      "    ------\n",
      "    ParserError\n",
      "        When parsing a date from string fails.\n",
      "    ValueError\n",
      "        When another datetime conversion error happens. For example when one\n",
      "        of 'year', 'month', day' columns is missing in a :class:`DataFrame`, or\n",
      "        when a Timezone-aware :class:`datetime.datetime` is found in an array-like\n",
      "        of mixed time offsets, and ``utc=False``.\n",
      "\n",
      "    See Also\n",
      "    --------\n",
      "    DataFrame.astype : Cast argument to a specified dtype.\n",
      "    to_timedelta : Convert argument to timedelta.\n",
      "    convert_dtypes : Convert dtypes.\n",
      "\n",
      "    Notes\n",
      "    -----\n",
      "\n",
      "    Many input types are supported, and lead to different output types:\n",
      "\n",
      "    - **scalars** can be int, float, str, datetime object (from stdlib :mod:`datetime`\n",
      "      module or :mod:`numpy`). They are converted to :class:`Timestamp` when\n",
      "      possible, otherwise they are converted to :class:`datetime.datetime`.\n",
      "      None/NaN/null scalars are converted to :const:`NaT`.\n",
      "\n",
      "    - **array-like** can contain int, float, str, datetime objects. They are\n",
      "      converted to :class:`DatetimeIndex` when possible, otherwise they are\n",
      "      converted to :class:`Index` with :class:`object` dtype, containing\n",
      "      :class:`datetime.datetime`. None/NaN/null entries are converted to\n",
      "      :const:`NaT` in both cases.\n",
      "\n",
      "    - **Series** are converted to :class:`Series` with :class:`datetime64`\n",
      "      dtype when possible, otherwise they are converted to :class:`Series` with\n",
      "      :class:`object` dtype, containing :class:`datetime.datetime`. None/NaN/null\n",
      "      entries are converted to :const:`NaT` in both cases.\n",
      "\n",
      "    - **DataFrame/dict-like** are converted to :class:`Series` with\n",
      "      :class:`datetime64` dtype. For each row a datetime is created from assembling\n",
      "      the various dataframe columns. Column keys can be common abbreviations\n",
      "      like ['year', 'month', 'day', 'minute', 'second', 'ms', 'us', 'ns']) or\n",
      "      plurals of the same.\n",
      "\n",
      "    The following causes are responsible for :class:`datetime.datetime` objects\n",
      "    being returned (possibly inside an :class:`Index` or a :class:`Series` with\n",
      "    :class:`object` dtype) instead of a proper pandas designated type\n",
      "    (:class:`Timestamp`, :class:`DatetimeIndex` or :class:`Series`\n",
      "    with :class:`datetime64` dtype):\n",
      "\n",
      "    - when any input element is before :const:`Timestamp.min` or after\n",
      "      :const:`Timestamp.max`, see `timestamp limitations\n",
      "      <https://pandas.pydata.org/pandas-docs/stable/user_guide/timeseries.html\n",
      "      #timeseries-timestamp-limits>`_.\n",
      "\n",
      "    - when ``utc=False`` (default) and the input is an array-like or\n",
      "      :class:`Series` containing mixed naive/aware datetime, or aware with mixed\n",
      "      time offsets. Note that this happens in the (quite frequent) situation when\n",
      "      the timezone has a daylight savings policy. In that case you may wish to\n",
      "      use ``utc=True``.\n",
      "\n",
      "    Examples\n",
      "    --------\n",
      "\n",
      "    **Handling various input formats**\n",
      "\n",
      "    Assembling a datetime from multiple columns of a :class:`DataFrame`. The keys\n",
      "    can be common abbreviations like ['year', 'month', 'day', 'minute', 'second',\n",
      "    'ms', 'us', 'ns']) or plurals of the same\n",
      "\n",
      "    >>> df = pd.DataFrame({'year': [2015, 2016],\n",
      "    ...                    'month': [2, 3],\n",
      "    ...                    'day': [4, 5]})\n",
      "    >>> pd.to_datetime(df)\n",
      "    0   2015-02-04\n",
      "    1   2016-03-05\n",
      "    dtype: datetime64[ns]\n",
      "\n",
      "    Using a unix epoch time\n",
      "\n",
      "    >>> pd.to_datetime(1490195805, unit='s')\n",
      "    Timestamp('2017-03-22 15:16:45')\n",
      "    >>> pd.to_datetime(1490195805433502912, unit='ns')\n",
      "    Timestamp('2017-03-22 15:16:45.433502912')\n",
      "\n",
      "    .. warning:: For float arg, precision rounding might happen. To prevent\n",
      "        unexpected behavior use a fixed-width exact type.\n",
      "\n",
      "    Using a non-unix epoch origin\n",
      "\n",
      "    >>> pd.to_datetime([1, 2, 3], unit='D',\n",
      "    ...                origin=pd.Timestamp('1960-01-01'))\n",
      "    DatetimeIndex(['1960-01-02', '1960-01-03', '1960-01-04'],\n",
      "                  dtype='datetime64[ns]', freq=None)\n",
      "\n",
      "    **Differences with strptime behavior**\n",
      "\n",
      "    :const:`\"%f\"` will parse all the way up to nanoseconds.\n",
      "\n",
      "    >>> pd.to_datetime('2018-10-26 12:00:00.0000000011',\n",
      "    ...                format='%Y-%m-%d %H:%M:%S.%f')\n",
      "    Timestamp('2018-10-26 12:00:00.000000001')\n",
      "\n",
      "    **Non-convertible date/times**\n",
      "\n",
      "    Passing ``errors='coerce'`` will force an out-of-bounds date to :const:`NaT`,\n",
      "    in addition to forcing non-dates (or non-parseable dates) to :const:`NaT`.\n",
      "\n",
      "    >>> pd.to_datetime('13000101', format='%Y%m%d', errors='coerce')\n",
      "    NaT\n",
      "\n",
      "    .. _to_datetime_tz_examples:\n",
      "\n",
      "    **Timezones and time offsets**\n",
      "\n",
      "    The default behaviour (``utc=False``) is as follows:\n",
      "\n",
      "    - Timezone-naive inputs are converted to timezone-naive :class:`DatetimeIndex`:\n",
      "\n",
      "    >>> pd.to_datetime(['2018-10-26 12:00:00', '2018-10-26 13:00:15'])\n",
      "    DatetimeIndex(['2018-10-26 12:00:00', '2018-10-26 13:00:15'],\n",
      "                  dtype='datetime64[ns]', freq=None)\n",
      "\n",
      "    - Timezone-aware inputs *with constant time offset* are converted to\n",
      "      timezone-aware :class:`DatetimeIndex`:\n",
      "\n",
      "    >>> pd.to_datetime(['2018-10-26 12:00 -0500', '2018-10-26 13:00 -0500'])\n",
      "    DatetimeIndex(['2018-10-26 12:00:00-05:00', '2018-10-26 13:00:00-05:00'],\n",
      "                  dtype='datetime64[ns, UTC-05:00]', freq=None)\n",
      "\n",
      "    - However, timezone-aware inputs *with mixed time offsets* (for example\n",
      "      issued from a timezone with daylight savings, such as Europe/Paris)\n",
      "      are **not successfully converted** to a :class:`DatetimeIndex`.\n",
      "      Parsing datetimes with mixed time zones will show a warning unless\n",
      "      `utc=True`. If you specify `utc=False` the warning below will be shown\n",
      "      and a simple :class:`Index` containing :class:`datetime.datetime`\n",
      "      objects will be returned:\n",
      "\n",
      "    >>> pd.to_datetime(['2020-10-25 02:00 +0200',\n",
      "    ...                 '2020-10-25 04:00 +0100'])  # doctest: +SKIP\n",
      "    FutureWarning: In a future version of pandas, parsing datetimes with mixed\n",
      "    time zones will raise an error unless `utc=True`. Please specify `utc=True`\n",
      "    to opt in to the new behaviour and silence this warning. To create a `Series`\n",
      "    with mixed offsets and `object` dtype, please use `apply` and\n",
      "    `datetime.datetime.strptime`.\n",
      "    Index([2020-10-25 02:00:00+02:00, 2020-10-25 04:00:00+01:00],\n",
      "          dtype='object')\n",
      "\n",
      "    - A mix of timezone-aware and timezone-naive inputs is also converted to\n",
      "      a simple :class:`Index` containing :class:`datetime.datetime` objects:\n",
      "\n",
      "    >>> from datetime import datetime\n",
      "    >>> pd.to_datetime([\"2020-01-01 01:00:00-01:00\",\n",
      "    ...                 datetime(2020, 1, 1, 3, 0)])  # doctest: +SKIP\n",
      "    FutureWarning: In a future version of pandas, parsing datetimes with mixed\n",
      "    time zones will raise an error unless `utc=True`. Please specify `utc=True`\n",
      "    to opt in to the new behaviour and silence this warning. To create a `Series`\n",
      "    with mixed offsets and `object` dtype, please use `apply` and\n",
      "    `datetime.datetime.strptime`.\n",
      "    Index([2020-01-01 01:00:00-01:00, 2020-01-01 03:00:00], dtype='object')\n",
      "\n",
      "    |\n",
      "\n",
      "    Setting ``utc=True`` solves most of the above issues:\n",
      "\n",
      "    - Timezone-naive inputs are *localized* as UTC\n",
      "\n",
      "    >>> pd.to_datetime(['2018-10-26 12:00', '2018-10-26 13:00'], utc=True)\n",
      "    DatetimeIndex(['2018-10-26 12:00:00+00:00', '2018-10-26 13:00:00+00:00'],\n",
      "                  dtype='datetime64[ns, UTC]', freq=None)\n",
      "\n",
      "    - Timezone-aware inputs are *converted* to UTC (the output represents the\n",
      "      exact same datetime, but viewed from the UTC time offset `+00:00`).\n",
      "\n",
      "    >>> pd.to_datetime(['2018-10-26 12:00 -0530', '2018-10-26 12:00 -0500'],\n",
      "    ...                utc=True)\n",
      "    DatetimeIndex(['2018-10-26 17:30:00+00:00', '2018-10-26 17:00:00+00:00'],\n",
      "                  dtype='datetime64[ns, UTC]', freq=None)\n",
      "\n",
      "    - Inputs can contain both string or datetime, the above\n",
      "      rules still apply\n",
      "\n",
      "    >>> pd.to_datetime(['2018-10-26 12:00', datetime(2020, 1, 1, 18)], utc=True)\n",
      "    DatetimeIndex(['2018-10-26 12:00:00+00:00', '2020-01-01 18:00:00+00:00'],\n",
      "                  dtype='datetime64[ns, UTC]', freq=None)\n",
      "\n"
     ]
    }
   ],
   "source": [
    "help(pd.to_datetime)"
   ]
  },
  {
   "cell_type": "code",
   "execution_count": 143,
   "id": "e669f6d6-c7b7-4faf-a1d5-8954a1cd639f",
   "metadata": {},
   "outputs": [],
   "source": [
    "m = df.groupby('Brand')['AskPrice'].nunique().sort_values(ascending = False)"
   ]
  },
  {
   "cell_type": "code",
   "execution_count": 147,
   "id": "0ee9e0bc-f682-4e25-83f4-1100d739a651",
   "metadata": {},
   "outputs": [
    {
     "ename": "ValueError",
     "evalue": "Columns must be same length as key",
     "output_type": "error",
     "traceback": [
      "\u001b[1;31m---------------------------------------------------------------------------\u001b[0m",
      "\u001b[1;31mValueError\u001b[0m                                Traceback (most recent call last)",
      "\u001b[1;32m~\\AppData\\Local\\Temp\\ipykernel_9148\\387074811.py\u001b[0m in \u001b[0;36m?\u001b[1;34m()\u001b[0m\n\u001b[1;32m----> 1\u001b[1;33m \u001b[0mdf\u001b[0m\u001b[1;33m[\u001b[0m\u001b[1;34m'AdditionInfo'\u001b[0m\u001b[1;33m]\u001b[0m \u001b[1;33m=\u001b[0m\u001b[0mdf\u001b[0m\u001b[1;33m.\u001b[0m\u001b[0mdrop\u001b[0m\u001b[1;33m(\u001b[0m\u001b[0mindex\u001b[0m \u001b[1;33m=\u001b[0m \u001b[1;36m0\u001b[0m\u001b[1;33m)\u001b[0m\u001b[1;33m\u001b[0m\u001b[1;33m\u001b[0m\u001b[0m\n\u001b[0m",
      "\u001b[1;32m~\\anaconda3\\Lib\\site-packages\\pandas\\core\\frame.py\u001b[0m in \u001b[0;36m?\u001b[1;34m(self, key, value)\u001b[0m\n\u001b[0;32m   4297\u001b[0m             \u001b[0mself\u001b[0m\u001b[1;33m.\u001b[0m\u001b[0m_setitem_frame\u001b[0m\u001b[1;33m(\u001b[0m\u001b[0mkey\u001b[0m\u001b[1;33m,\u001b[0m \u001b[0mvalue\u001b[0m\u001b[1;33m)\u001b[0m\u001b[1;33m\u001b[0m\u001b[1;33m\u001b[0m\u001b[0m\n\u001b[0;32m   4298\u001b[0m         \u001b[1;32melif\u001b[0m \u001b[0misinstance\u001b[0m\u001b[1;33m(\u001b[0m\u001b[0mkey\u001b[0m\u001b[1;33m,\u001b[0m \u001b[1;33m(\u001b[0m\u001b[0mSeries\u001b[0m\u001b[1;33m,\u001b[0m \u001b[0mnp\u001b[0m\u001b[1;33m.\u001b[0m\u001b[0mndarray\u001b[0m\u001b[1;33m,\u001b[0m \u001b[0mlist\u001b[0m\u001b[1;33m,\u001b[0m \u001b[0mIndex\u001b[0m\u001b[1;33m)\u001b[0m\u001b[1;33m)\u001b[0m\u001b[1;33m:\u001b[0m\u001b[1;33m\u001b[0m\u001b[1;33m\u001b[0m\u001b[0m\n\u001b[0;32m   4299\u001b[0m             \u001b[0mself\u001b[0m\u001b[1;33m.\u001b[0m\u001b[0m_setitem_array\u001b[0m\u001b[1;33m(\u001b[0m\u001b[0mkey\u001b[0m\u001b[1;33m,\u001b[0m \u001b[0mvalue\u001b[0m\u001b[1;33m)\u001b[0m\u001b[1;33m\u001b[0m\u001b[1;33m\u001b[0m\u001b[0m\n\u001b[0;32m   4300\u001b[0m         \u001b[1;32melif\u001b[0m \u001b[0misinstance\u001b[0m\u001b[1;33m(\u001b[0m\u001b[0mvalue\u001b[0m\u001b[1;33m,\u001b[0m \u001b[0mDataFrame\u001b[0m\u001b[1;33m)\u001b[0m\u001b[1;33m:\u001b[0m\u001b[1;33m\u001b[0m\u001b[1;33m\u001b[0m\u001b[0m\n\u001b[1;32m-> 4301\u001b[1;33m             \u001b[0mself\u001b[0m\u001b[1;33m.\u001b[0m\u001b[0m_set_item_frame_value\u001b[0m\u001b[1;33m(\u001b[0m\u001b[0mkey\u001b[0m\u001b[1;33m,\u001b[0m \u001b[0mvalue\u001b[0m\u001b[1;33m)\u001b[0m\u001b[1;33m\u001b[0m\u001b[1;33m\u001b[0m\u001b[0m\n\u001b[0m\u001b[0;32m   4302\u001b[0m         elif (\n\u001b[0;32m   4303\u001b[0m             \u001b[0mis_list_like\u001b[0m\u001b[1;33m(\u001b[0m\u001b[0mvalue\u001b[0m\u001b[1;33m)\u001b[0m\u001b[1;33m\u001b[0m\u001b[1;33m\u001b[0m\u001b[0m\n\u001b[0;32m   4304\u001b[0m             \u001b[1;32mand\u001b[0m \u001b[1;32mnot\u001b[0m \u001b[0mself\u001b[0m\u001b[1;33m.\u001b[0m\u001b[0mcolumns\u001b[0m\u001b[1;33m.\u001b[0m\u001b[0mis_unique\u001b[0m\u001b[1;33m\u001b[0m\u001b[1;33m\u001b[0m\u001b[0m\n",
      "\u001b[1;32m~\\anaconda3\\Lib\\site-packages\\pandas\\core\\frame.py\u001b[0m in \u001b[0;36m?\u001b[1;34m(self, key, value)\u001b[0m\n\u001b[0;32m   4425\u001b[0m             \u001b[0mloc\u001b[0m \u001b[1;33m=\u001b[0m \u001b[0mself\u001b[0m\u001b[1;33m.\u001b[0m\u001b[0mcolumns\u001b[0m\u001b[1;33m.\u001b[0m\u001b[0mget_loc\u001b[0m\u001b[1;33m(\u001b[0m\u001b[0mkey\u001b[0m\u001b[1;33m)\u001b[0m\u001b[1;33m\u001b[0m\u001b[1;33m\u001b[0m\u001b[0m\n\u001b[0;32m   4426\u001b[0m             \u001b[0mcols\u001b[0m \u001b[1;33m=\u001b[0m \u001b[0mself\u001b[0m\u001b[1;33m.\u001b[0m\u001b[0mcolumns\u001b[0m\u001b[1;33m[\u001b[0m\u001b[0mloc\u001b[0m\u001b[1;33m]\u001b[0m\u001b[1;33m\u001b[0m\u001b[1;33m\u001b[0m\u001b[0m\n\u001b[0;32m   4427\u001b[0m             \u001b[0mlen_cols\u001b[0m \u001b[1;33m=\u001b[0m \u001b[1;36m1\u001b[0m \u001b[1;32mif\u001b[0m \u001b[0mis_scalar\u001b[0m\u001b[1;33m(\u001b[0m\u001b[0mcols\u001b[0m\u001b[1;33m)\u001b[0m \u001b[1;32mor\u001b[0m \u001b[0misinstance\u001b[0m\u001b[1;33m(\u001b[0m\u001b[0mcols\u001b[0m\u001b[1;33m,\u001b[0m \u001b[0mtuple\u001b[0m\u001b[1;33m)\u001b[0m \u001b[1;32melse\u001b[0m \u001b[0mlen\u001b[0m\u001b[1;33m(\u001b[0m\u001b[0mcols\u001b[0m\u001b[1;33m)\u001b[0m\u001b[1;33m\u001b[0m\u001b[1;33m\u001b[0m\u001b[0m\n\u001b[0;32m   4428\u001b[0m             \u001b[1;32mif\u001b[0m \u001b[0mlen_cols\u001b[0m \u001b[1;33m!=\u001b[0m \u001b[0mlen\u001b[0m\u001b[1;33m(\u001b[0m\u001b[0mvalue\u001b[0m\u001b[1;33m.\u001b[0m\u001b[0mcolumns\u001b[0m\u001b[1;33m)\u001b[0m\u001b[1;33m:\u001b[0m\u001b[1;33m\u001b[0m\u001b[1;33m\u001b[0m\u001b[0m\n\u001b[1;32m-> 4429\u001b[1;33m                 \u001b[1;32mraise\u001b[0m \u001b[0mValueError\u001b[0m\u001b[1;33m(\u001b[0m\u001b[1;34m\"Columns must be same length as key\"\u001b[0m\u001b[1;33m)\u001b[0m\u001b[1;33m\u001b[0m\u001b[1;33m\u001b[0m\u001b[0m\n\u001b[0m\u001b[0;32m   4430\u001b[0m \u001b[1;33m\u001b[0m\u001b[0m\n\u001b[0;32m   4431\u001b[0m             \u001b[1;31m# align right-hand-side columns if self.columns\u001b[0m\u001b[1;33m\u001b[0m\u001b[1;33m\u001b[0m\u001b[0m\n\u001b[0;32m   4432\u001b[0m             \u001b[1;31m# is multi-index and self[key] is a sub-frame\u001b[0m\u001b[1;33m\u001b[0m\u001b[1;33m\u001b[0m\u001b[0m\n",
      "\u001b[1;31mValueError\u001b[0m: Columns must be same length as key"
     ]
    }
   ],
   "source": [
    "df['AdditionInfo'] =df.drop(index = 0)"
   ]
  },
  {
   "cell_type": "code",
   "execution_count": 144,
   "id": "5d681252-e58b-4022-9bc6-b62054460038",
   "metadata": {},
   "outputs": [
    {
     "data": {
      "text/plain": [
       "Index(['Brand', 'model', 'Year', 'Age', 'kmDriven', 'Transmission', 'Owner',\n",
       "       'FuelType', 'PostedDate', 'AdditionInfo', 'AskPrice', 'count'],\n",
       "      dtype='object')"
      ]
     },
     "execution_count": 144,
     "metadata": {},
     "output_type": "execute_result"
    }
   ],
   "source": [
    "df.columns"
   ]
  },
  {
   "cell_type": "code",
   "execution_count": 141,
   "id": "82f1964d-efdc-4a00-9e15-9ecd782022cc",
   "metadata": {},
   "outputs": [
    {
     "name": "stdout",
     "output_type": "stream",
     "text": [
      "Brand\n",
      "Maruti Suzuki    508\n",
      "Hyundai          445\n",
      "Toyota           399\n",
      "Honda            279\n",
      "Mahindra         277\n",
      "Mercedes-Benz    242\n",
      "Tata             205\n",
      "BMW              192\n",
      "Volkswagen       164\n",
      "Ford             158\n",
      "Audi             133\n",
      "Skoda            126\n",
      "Renault          121\n",
      "Kia              106\n",
      "Land Rover        62\n",
      "Chevrolet         61\n",
      "MG                57\n",
      "Jeep              57\n",
      "Nissan            54\n",
      "Volvo             42\n",
      "Mini              31\n",
      "Jaguar            28\n",
      "Fiat              20\n",
      "Datsun            19\n",
      "Porsche           18\n",
      "Mitsubishi        17\n",
      "Lexus             16\n",
      "Isuzu              9\n",
      "Force              5\n",
      "Ambassador         3\n",
      "Rolls-Royce        2\n",
      "Ssangyong          2\n",
      "Bajaj              2\n",
      "Opel               2\n",
      "Ashok              1\n",
      "ICML               1\n",
      "Maserati           1\n",
      "Bentley            1\n",
      "Aston Martin       1\n",
      "Name: AskPrice, dtype: int64\n"
     ]
    }
   ],
   "source": [
    "print(m)"
   ]
  },
  {
   "cell_type": "code",
   "execution_count": 144,
   "id": "33692751-acb3-4194-bc9a-54c7723e5d73",
   "metadata": {},
   "outputs": [
    {
     "data": {
      "text/plain": [
       "Index(['Brand', 'model', 'Year', 'Age', 'kmDriven', 'Transmission', 'Owner',\n",
       "       'FuelType', 'PostedDate', 'AdditionInfo', 'AskPrice', 'count'],\n",
       "      dtype='object')"
      ]
     },
     "execution_count": 144,
     "metadata": {},
     "output_type": "execute_result"
    }
   ],
   "source": [
    "df.columns"
   ]
  },
  {
   "cell_type": "code",
   "execution_count": 155,
   "id": "b0d455b0-c3e3-4eb4-8d74-d5b312c64286",
   "metadata": {},
   "outputs": [
    {
     "name": "stdout",
     "output_type": "stream",
     "text": [
      "Help on function fillna in module pandas.core.generic:\n",
      "\n",
      "fillna(self, value: 'Hashable | Mapping | Series | DataFrame | None' = None, *, method: 'FillnaOptions | None' = None, axis: 'Axis | None' = None, inplace: 'bool_t' = False, limit: 'int | None' = None, downcast: 'dict | None | lib.NoDefault' = <no_default>) -> 'Self | None'\n",
      "    Fill NA/NaN values using the specified method.\n",
      "\n",
      "    Parameters\n",
      "    ----------\n",
      "    value : scalar, dict, Series, or DataFrame\n",
      "        Value to use to fill holes (e.g. 0), alternately a\n",
      "        dict/Series/DataFrame of values specifying which value to use for\n",
      "        each index (for a Series) or column (for a DataFrame).  Values not\n",
      "        in the dict/Series/DataFrame will not be filled. This value cannot\n",
      "        be a list.\n",
      "    method : {'backfill', 'bfill', 'ffill', None}, default None\n",
      "        Method to use for filling holes in reindexed Series:\n",
      "\n",
      "        * ffill: propagate last valid observation forward to next valid.\n",
      "        * backfill / bfill: use next valid observation to fill gap.\n",
      "\n",
      "        .. deprecated:: 2.1.0\n",
      "            Use ffill or bfill instead.\n",
      "\n",
      "    axis : {0 or 'index'} for Series, {0 or 'index', 1 or 'columns'} for DataFrame\n",
      "        Axis along which to fill missing values. For `Series`\n",
      "        this parameter is unused and defaults to 0.\n",
      "    inplace : bool, default False\n",
      "        If True, fill in-place. Note: this will modify any\n",
      "        other views on this object (e.g., a no-copy slice for a column in a\n",
      "        DataFrame).\n",
      "    limit : int, default None\n",
      "        If method is specified, this is the maximum number of consecutive\n",
      "        NaN values to forward/backward fill. In other words, if there is\n",
      "        a gap with more than this number of consecutive NaNs, it will only\n",
      "        be partially filled. If method is not specified, this is the\n",
      "        maximum number of entries along the entire axis where NaNs will be\n",
      "        filled. Must be greater than 0 if not None.\n",
      "    downcast : dict, default is None\n",
      "        A dict of item->dtype of what to downcast if possible,\n",
      "        or the string 'infer' which will try to downcast to an appropriate\n",
      "        equal type (e.g. float64 to int64 if possible).\n",
      "\n",
      "        .. deprecated:: 2.2.0\n",
      "\n",
      "    Returns\n",
      "    -------\n",
      "    Series/DataFrame or None\n",
      "        Object with missing values filled or None if ``inplace=True``.\n",
      "\n",
      "    See Also\n",
      "    --------\n",
      "    ffill : Fill values by propagating the last valid observation to next valid.\n",
      "    bfill : Fill values by using the next valid observation to fill the gap.\n",
      "    interpolate : Fill NaN values using interpolation.\n",
      "    reindex : Conform object to new index.\n",
      "    asfreq : Convert TimeSeries to specified frequency.\n",
      "\n",
      "    Examples\n",
      "    --------\n",
      "    >>> df = pd.DataFrame([[np.nan, 2, np.nan, 0],\n",
      "    ...                    [3, 4, np.nan, 1],\n",
      "    ...                    [np.nan, np.nan, np.nan, np.nan],\n",
      "    ...                    [np.nan, 3, np.nan, 4]],\n",
      "    ...                   columns=list(\"ABCD\"))\n",
      "    >>> df\n",
      "         A    B   C    D\n",
      "    0  NaN  2.0 NaN  0.0\n",
      "    1  3.0  4.0 NaN  1.0\n",
      "    2  NaN  NaN NaN  NaN\n",
      "    3  NaN  3.0 NaN  4.0\n",
      "\n",
      "    Replace all NaN elements with 0s.\n",
      "\n",
      "    >>> df.fillna(0)\n",
      "         A    B    C    D\n",
      "    0  0.0  2.0  0.0  0.0\n",
      "    1  3.0  4.0  0.0  1.0\n",
      "    2  0.0  0.0  0.0  0.0\n",
      "    3  0.0  3.0  0.0  4.0\n",
      "\n",
      "    Replace all NaN elements in column 'A', 'B', 'C', and 'D', with 0, 1,\n",
      "    2, and 3 respectively.\n",
      "\n",
      "    >>> values = {\"A\": 0, \"B\": 1, \"C\": 2, \"D\": 3}\n",
      "    >>> df.fillna(value=values)\n",
      "         A    B    C    D\n",
      "    0  0.0  2.0  2.0  0.0\n",
      "    1  3.0  4.0  2.0  1.0\n",
      "    2  0.0  1.0  2.0  3.0\n",
      "    3  0.0  3.0  2.0  4.0\n",
      "\n",
      "    Only replace the first NaN element.\n",
      "\n",
      "    >>> df.fillna(value=values, limit=1)\n",
      "         A    B    C    D\n",
      "    0  0.0  2.0  2.0  0.0\n",
      "    1  3.0  4.0  NaN  1.0\n",
      "    2  NaN  1.0  NaN  3.0\n",
      "    3  NaN  3.0  NaN  4.0\n",
      "\n",
      "    When filling using a DataFrame, replacement happens along\n",
      "    the same column names and same indices\n",
      "\n",
      "    >>> df2 = pd.DataFrame(np.zeros((4, 4)), columns=list(\"ABCE\"))\n",
      "    >>> df.fillna(df2)\n",
      "         A    B    C    D\n",
      "    0  0.0  2.0  0.0  0.0\n",
      "    1  3.0  4.0  0.0  1.0\n",
      "    2  0.0  0.0  0.0  NaN\n",
      "    3  0.0  3.0  0.0  4.0\n",
      "\n",
      "    Note that column D is not affected since it is not present in df2.\n",
      "\n"
     ]
    }
   ],
   "source": [
    "help(pd.DataFrame.fillna)"
   ]
  },
  {
   "cell_type": "code",
   "execution_count": 156,
   "id": "7795749f-4eb1-4f2c-abbd-8ac43c51f436",
   "metadata": {},
   "outputs": [
    {
     "name": "stdout",
     "output_type": "stream",
     "text": [
      "Help on function barplot in module seaborn.categorical:\n",
      "\n",
      "barplot(data=None, *, x=None, y=None, hue=None, order=None, hue_order=None, estimator='mean', errorbar=('ci', 95), n_boot=1000, seed=None, units=None, weights=None, orient=None, color=None, palette=None, saturation=0.75, fill=True, hue_norm=None, width=0.8, dodge='auto', gap=0, log_scale=None, native_scale=False, formatter=None, legend='auto', capsize=0, err_kws=None, ci=<deprecated>, errcolor=<deprecated>, errwidth=<deprecated>, ax=None, **kwargs)\n",
      "    Show point estimates and errors as rectangular bars.\n",
      "\n",
      "    A bar plot represents an aggregate or statistical estimate for a numeric\n",
      "    variable with the height of each rectangle and indicates the uncertainty\n",
      "    around that estimate using an error bar. Bar plots include 0 in the\n",
      "    axis range, and they are a good choice when 0 is a meaningful value\n",
      "    for the variable to take.\n",
      "\n",
      "    See the :ref:`tutorial <categorical_tutorial>` for more information.\n",
      "\n",
      "    .. note::\n",
      "        By default, this function treats one of the variables as categorical\n",
      "        and draws data at ordinal positions (0, 1, ... n) on the relevant axis.\n",
      "        As of version 0.13.0, this can be disabled by setting `native_scale=True`.\n",
      "\n",
      "\n",
      "    Parameters\n",
      "    ----------\n",
      "    data : DataFrame, Series, dict, array, or list of arrays\n",
      "        Dataset for plotting. If `x` and `y` are absent, this is\n",
      "        interpreted as wide-form. Otherwise it is expected to be long-form.\n",
      "    x, y, hue : names of variables in `data` or vector data\n",
      "        Inputs for plotting long-form data. See examples for interpretation.\n",
      "    order, hue_order : lists of strings\n",
      "        Order to plot the categorical levels in; otherwise the levels are\n",
      "        inferred from the data objects.\n",
      "    estimator : string or callable that maps vector -> scalar\n",
      "        Statistical function to estimate within each categorical bin.\n",
      "    errorbar : string, (string, number) tuple, callable or None\n",
      "        Name of errorbar method (either \"ci\", \"pi\", \"se\", or \"sd\"), or a tuple\n",
      "        with a method name and a level parameter, or a function that maps from a\n",
      "        vector to a (min, max) interval, or None to hide errorbar. See the\n",
      "        :doc:`errorbar tutorial </tutorial/error_bars>` for more information.\n",
      "\n",
      "        .. versionadded:: v0.12.0\n",
      "    n_boot : int\n",
      "        Number of bootstrap samples used to compute confidence intervals.\n",
      "    seed : int, `numpy.random.Generator`, or `numpy.random.RandomState`\n",
      "        Seed or random number generator for reproducible bootstrapping.\n",
      "    units : name of variable in `data` or vector data\n",
      "        Identifier of sampling units; used by the errorbar function to\n",
      "        perform a multilevel bootstrap and account for repeated measures\n",
      "    weights : name of variable in `data` or vector data\n",
      "        Data values or column used to compute weighted statistics.\n",
      "        Note that the use of weights may limit other statistical options.\n",
      "\n",
      "        .. versionadded:: v0.13.1\n",
      "    orient : \"v\" | \"h\" | \"x\" | \"y\"\n",
      "        Orientation of the plot (vertical or horizontal). This is usually\n",
      "        inferred based on the type of the input variables, but it can be used\n",
      "        to resolve ambiguity when both `x` and `y` are numeric or when\n",
      "        plotting wide-form data.\n",
      "\n",
      "        .. versionchanged:: v0.13.0\n",
      "            Added 'x'/'y' as options, equivalent to 'v'/'h'.\n",
      "    color : matplotlib color\n",
      "        Single color for the elements in the plot.\n",
      "    palette : palette name, list, or dict\n",
      "        Colors to use for the different levels of the ``hue`` variable. Should\n",
      "        be something that can be interpreted by :func:`color_palette`, or a\n",
      "        dictionary mapping hue levels to matplotlib colors.\n",
      "    saturation : float\n",
      "        Proportion of the original saturation to draw fill colors in. Large\n",
      "        patches often look better with desaturated colors, but set this to\n",
      "        `1` if you want the colors to perfectly match the input values.\n",
      "    fill : bool\n",
      "        If True, use a solid patch. Otherwise, draw as line art.\n",
      "\n",
      "        .. versionadded:: v0.13.0\n",
      "    hue_norm : tuple or :class:`matplotlib.colors.Normalize` object\n",
      "        Normalization in data units for colormap applied to the `hue`\n",
      "        variable when it is numeric. Not relevant if `hue` is categorical.\n",
      "\n",
      "        .. versionadded:: v0.12.0\n",
      "    width : float\n",
      "        Width allotted to each element on the orient axis. When `native_scale=True`,\n",
      "        it is relative to the minimum distance between two values in the native scale.\n",
      "    dodge : \"auto\" or bool\n",
      "        When hue mapping is used, whether elements should be narrowed and shifted along\n",
      "        the orient axis to eliminate overlap. If `\"auto\"`, set to `True` when the\n",
      "        orient variable is crossed with the categorical variable or `False` otherwise.\n",
      "\n",
      "        .. versionchanged:: 0.13.0\n",
      "\n",
      "            Added `\"auto\"` mode as a new default.\n",
      "    gap : float\n",
      "        Shrink on the orient axis by this factor to add a gap between dodged elements.\n",
      "\n",
      "        .. versionadded:: 0.13.0\n",
      "    log_scale : bool or number, or pair of bools or numbers\n",
      "        Set axis scale(s) to log. A single value sets the data axis for any numeric\n",
      "        axes in the plot. A pair of values sets each axis independently.\n",
      "        Numeric values are interpreted as the desired base (default 10).\n",
      "        When `None` or `False`, seaborn defers to the existing Axes scale.\n",
      "\n",
      "        .. versionadded:: v0.13.0\n",
      "    native_scale : bool\n",
      "        When True, numeric or datetime values on the categorical axis will maintain\n",
      "        their original scaling rather than being converted to fixed indices.\n",
      "\n",
      "        .. versionadded:: v0.13.0\n",
      "    formatter : callable\n",
      "        Function for converting categorical data into strings. Affects both grouping\n",
      "        and tick labels.\n",
      "\n",
      "        .. versionadded:: v0.13.0\n",
      "    legend : \"auto\", \"brief\", \"full\", or False\n",
      "        How to draw the legend. If \"brief\", numeric `hue` and `size`\n",
      "        variables will be represented with a sample of evenly spaced values.\n",
      "        If \"full\", every group will get an entry in the legend. If \"auto\",\n",
      "        choose between brief or full representation based on number of levels.\n",
      "        If `False`, no legend data is added and no legend is drawn.\n",
      "\n",
      "        .. versionadded:: v0.13.0\n",
      "    capsize : float\n",
      "        Width of the \"caps\" on error bars, relative to bar spacing.\n",
      "    err_kws : dict\n",
      "        Parameters of :class:`matplotlib.lines.Line2D`, for the error bar artists.\n",
      "\n",
      "        .. versionadded:: v0.13.0\n",
      "    ci : float\n",
      "        Level of the confidence interval to show, in [0, 100].\n",
      "\n",
      "        .. deprecated:: v0.12.0\n",
      "            Use `errorbar=(\"ci\", ...)`.\n",
      "    errcolor : matplotlib color\n",
      "        Color used for the error bar lines.\n",
      "\n",
      "        .. deprecated:: 0.13.0\n",
      "            Use `err_kws={'color': ...}`.\n",
      "    errwidth : float\n",
      "        Thickness of error bar lines (and caps), in points.\n",
      "\n",
      "        .. deprecated:: 0.13.0\n",
      "            Use `err_kws={'linewidth': ...}`.\n",
      "    ax : matplotlib Axes\n",
      "        Axes object to draw the plot onto, otherwise uses the current Axes.\n",
      "    kwargs : key, value mappings\n",
      "        Other parameters are passed through to :class:`matplotlib.patches.Rectangle`.\n",
      "\n",
      "    Returns\n",
      "    -------\n",
      "    ax : matplotlib Axes\n",
      "        Returns the Axes object with the plot drawn onto it.\n",
      "\n",
      "    See Also\n",
      "    --------\n",
      "    countplot : Show the counts of observations in each categorical bin.\n",
      "    pointplot : Show point estimates and confidence intervals using dots.\n",
      "    catplot : Combine a categorical plot with a :class:`FacetGrid`.\n",
      "\n",
      "    Notes\n",
      "    -----\n",
      "\n",
      "    For datasets where 0 is not a meaningful value, a :func:`pointplot` will\n",
      "    allow you to focus on differences between levels of one or more categorical\n",
      "    variables.\n",
      "\n",
      "    It is also important to keep in mind that a bar plot shows only the mean (or\n",
      "    other aggregate) value, but it is often more informative to show the\n",
      "    distribution of values at each level of the categorical variables. In those\n",
      "    cases, approaches such as a :func:`boxplot` or :func:`violinplot` may be\n",
      "    more appropriate.\n",
      "\n",
      "    Examples\n",
      "    --------\n",
      "    .. include:: ../docstrings/barplot.rst\n",
      "\n"
     ]
    }
   ],
   "source": [
    "help(sns.barplot)"
   ]
  },
  {
   "cell_type": "code",
   "execution_count": 157,
   "id": "55f9b433-53e5-4aa3-b9b1-f80df6bfd931",
   "metadata": {},
   "outputs": [
    {
     "data": {
      "text/html": [
       "<div>\n",
       "<style scoped>\n",
       "    .dataframe tbody tr th:only-of-type {\n",
       "        vertical-align: middle;\n",
       "    }\n",
       "\n",
       "    .dataframe tbody tr th {\n",
       "        vertical-align: top;\n",
       "    }\n",
       "\n",
       "    .dataframe thead th {\n",
       "        text-align: right;\n",
       "    }\n",
       "</style>\n",
       "<table border=\"1\" class=\"dataframe\">\n",
       "  <thead>\n",
       "    <tr style=\"text-align: right;\">\n",
       "      <th></th>\n",
       "      <th>Brand</th>\n",
       "      <th>model</th>\n",
       "      <th>Year</th>\n",
       "      <th>Age</th>\n",
       "      <th>kmDriven</th>\n",
       "      <th>Transmission</th>\n",
       "      <th>Owner</th>\n",
       "      <th>FuelType</th>\n",
       "      <th>PostedDate</th>\n",
       "      <th>AdditionInfo</th>\n",
       "      <th>AskPrice</th>\n",
       "      <th>count</th>\n",
       "    </tr>\n",
       "  </thead>\n",
       "  <tbody>\n",
       "    <tr>\n",
       "      <th>0</th>\n",
       "      <td>Rolls-Royce</td>\n",
       "      <td>Phantom Series II</td>\n",
       "      <td>2015</td>\n",
       "      <td>9</td>\n",
       "      <td>11,500 km</td>\n",
       "      <td>Automatic</td>\n",
       "      <td>second</td>\n",
       "      <td>Petrol</td>\n",
       "      <td>2024-08-01</td>\n",
       "      <td>Rolls-Royce Phantom Series II EWB, 2015, Petrol</td>\n",
       "      <td>42500000</td>\n",
       "      <td>399</td>\n",
       "    </tr>\n",
       "    <tr>\n",
       "      <th>1</th>\n",
       "      <td>Lexus</td>\n",
       "      <td>LX</td>\n",
       "      <td>2024</td>\n",
       "      <td>0</td>\n",
       "      <td>24,000 km</td>\n",
       "      <td>Automatic</td>\n",
       "      <td>first</td>\n",
       "      <td>Diesel</td>\n",
       "      <td>2024-11-01</td>\n",
       "      <td>Lexus LX 500d, 2024, Diesel</td>\n",
       "      <td>27750000</td>\n",
       "      <td>399</td>\n",
       "    </tr>\n",
       "    <tr>\n",
       "      <th>2</th>\n",
       "      <td>Aston Martin</td>\n",
       "      <td>Vanquish</td>\n",
       "      <td>2016</td>\n",
       "      <td>8</td>\n",
       "      <td>25700.0 km</td>\n",
       "      <td>Automatic</td>\n",
       "      <td>first</td>\n",
       "      <td>Petrol</td>\n",
       "      <td>2024-11-01</td>\n",
       "      <td>Aston Martin Vanquish 6.0 V12, 2016, Petrol</td>\n",
       "      <td>26400000</td>\n",
       "      <td>399</td>\n",
       "    </tr>\n",
       "    <tr>\n",
       "      <th>3</th>\n",
       "      <td>Mercedes-Benz</td>\n",
       "      <td>G Class</td>\n",
       "      <td>2019</td>\n",
       "      <td>5</td>\n",
       "      <td>59,000 km</td>\n",
       "      <td>Automatic</td>\n",
       "      <td>first</td>\n",
       "      <td>Petrol</td>\n",
       "      <td>2024-09-01</td>\n",
       "      <td>Mercedes-Benz G Class 63 AMG, 2019, Petrol</td>\n",
       "      <td>26000000</td>\n",
       "      <td>399</td>\n",
       "    </tr>\n",
       "    <tr>\n",
       "      <th>4</th>\n",
       "      <td>Mercedes-Benz</td>\n",
       "      <td>G Class</td>\n",
       "      <td>2019</td>\n",
       "      <td>5</td>\n",
       "      <td>59,000 km</td>\n",
       "      <td>Automatic</td>\n",
       "      <td>first</td>\n",
       "      <td>Petrol</td>\n",
       "      <td>2024-11-01</td>\n",
       "      <td>Mercedes-Benz G Class G63 AMG, 2019, Petrol</td>\n",
       "      <td>24900000</td>\n",
       "      <td>399</td>\n",
       "    </tr>\n",
       "    <tr>\n",
       "      <th>...</th>\n",
       "      <td>...</td>\n",
       "      <td>...</td>\n",
       "      <td>...</td>\n",
       "      <td>...</td>\n",
       "      <td>...</td>\n",
       "      <td>...</td>\n",
       "      <td>...</td>\n",
       "      <td>...</td>\n",
       "      <td>...</td>\n",
       "      <td>...</td>\n",
       "      <td>...</td>\n",
       "      <td>...</td>\n",
       "    </tr>\n",
       "    <tr>\n",
       "      <th>9577</th>\n",
       "      <td>Ashok</td>\n",
       "      <td>Leyland Stile</td>\n",
       "      <td>2024</td>\n",
       "      <td>0</td>\n",
       "      <td>0 km</td>\n",
       "      <td>Automatic</td>\n",
       "      <td>first</td>\n",
       "      <td>Hybrid/CNG</td>\n",
       "      <td>2024-11-01</td>\n",
       "      <td>Hath gadi thella new juice set-up thella</td>\n",
       "      <td>32000</td>\n",
       "      <td>399</td>\n",
       "    </tr>\n",
       "    <tr>\n",
       "      <th>9578</th>\n",
       "      <td>Maruti Suzuki</td>\n",
       "      <td>Zen-Estilo</td>\n",
       "      <td>1998</td>\n",
       "      <td>26</td>\n",
       "      <td>NaN</td>\n",
       "      <td>Manual</td>\n",
       "      <td>second</td>\n",
       "      <td>Petrol</td>\n",
       "      <td>2024-11-01</td>\n",
       "      <td>Zen 1998 model,insurence renewed,test in 2025 ...</td>\n",
       "      <td>27000</td>\n",
       "      <td>399</td>\n",
       "    </tr>\n",
       "    <tr>\n",
       "      <th>9579</th>\n",
       "      <td>Maruti Suzuki</td>\n",
       "      <td>Alto-800</td>\n",
       "      <td>2006</td>\n",
       "      <td>18</td>\n",
       "      <td>20,024 km</td>\n",
       "      <td>Manual</td>\n",
       "      <td>first</td>\n",
       "      <td>Petrol</td>\n",
       "      <td>2024-11-01</td>\n",
       "      <td>पुरानी स्क्रैप की गाड़ी बेचने के लिए संपर्क करें</td>\n",
       "      <td>20000</td>\n",
       "      <td>399</td>\n",
       "    </tr>\n",
       "    <tr>\n",
       "      <th>9580</th>\n",
       "      <td>Maruti Suzuki</td>\n",
       "      <td>Baleno</td>\n",
       "      <td>2024</td>\n",
       "      <td>0</td>\n",
       "      <td>9,000 km</td>\n",
       "      <td>Manual</td>\n",
       "      <td>first</td>\n",
       "      <td>Petrol</td>\n",
       "      <td>2024-11-01</td>\n",
       "      <td>Panasound brand Daimond 2k androd stereo</td>\n",
       "      <td>18500</td>\n",
       "      <td>399</td>\n",
       "    </tr>\n",
       "    <tr>\n",
       "      <th>9581</th>\n",
       "      <td>Mahindra</td>\n",
       "      <td>Marshal</td>\n",
       "      <td>2000</td>\n",
       "      <td>24</td>\n",
       "      <td>55,000 km</td>\n",
       "      <td>Manual</td>\n",
       "      <td>second</td>\n",
       "      <td>Diesel</td>\n",
       "      <td>2024-11-01</td>\n",
       "      <td>Want NOC for Mahindra Marshal or Commander</td>\n",
       "      <td>15000</td>\n",
       "      <td>399</td>\n",
       "    </tr>\n",
       "  </tbody>\n",
       "</table>\n",
       "<p>9582 rows × 12 columns</p>\n",
       "</div>"
      ],
      "text/plain": [
       "              Brand              model  Year  Age    kmDriven Transmission  \\\n",
       "0       Rolls-Royce  Phantom Series II  2015    9   11,500 km    Automatic   \n",
       "1             Lexus                 LX  2024    0   24,000 km    Automatic   \n",
       "2      Aston Martin           Vanquish  2016    8  25700.0 km    Automatic   \n",
       "3     Mercedes-Benz            G Class  2019    5   59,000 km    Automatic   \n",
       "4     Mercedes-Benz            G Class  2019    5   59,000 km    Automatic   \n",
       "...             ...                ...   ...  ...         ...          ...   \n",
       "9577          Ashok      Leyland Stile  2024    0        0 km    Automatic   \n",
       "9578  Maruti Suzuki         Zen-Estilo  1998   26         NaN       Manual   \n",
       "9579  Maruti Suzuki           Alto-800  2006   18   20,024 km       Manual   \n",
       "9580  Maruti Suzuki             Baleno  2024    0    9,000 km       Manual   \n",
       "9581       Mahindra            Marshal  2000   24   55,000 km       Manual   \n",
       "\n",
       "       Owner    FuelType PostedDate  \\\n",
       "0     second      Petrol 2024-08-01   \n",
       "1      first      Diesel 2024-11-01   \n",
       "2      first      Petrol 2024-11-01   \n",
       "3      first      Petrol 2024-09-01   \n",
       "4      first      Petrol 2024-11-01   \n",
       "...      ...         ...        ...   \n",
       "9577   first  Hybrid/CNG 2024-11-01   \n",
       "9578  second      Petrol 2024-11-01   \n",
       "9579   first      Petrol 2024-11-01   \n",
       "9580   first      Petrol 2024-11-01   \n",
       "9581  second      Diesel 2024-11-01   \n",
       "\n",
       "                                           AdditionInfo  AskPrice  count  \n",
       "0       Rolls-Royce Phantom Series II EWB, 2015, Petrol  42500000    399  \n",
       "1                           Lexus LX 500d, 2024, Diesel  27750000    399  \n",
       "2           Aston Martin Vanquish 6.0 V12, 2016, Petrol  26400000    399  \n",
       "3            Mercedes-Benz G Class 63 AMG, 2019, Petrol  26000000    399  \n",
       "4           Mercedes-Benz G Class G63 AMG, 2019, Petrol  24900000    399  \n",
       "...                                                 ...       ...    ...  \n",
       "9577           Hath gadi thella new juice set-up thella     32000    399  \n",
       "9578  Zen 1998 model,insurence renewed,test in 2025 ...     27000    399  \n",
       "9579   पुरानी स्क्रैप की गाड़ी बेचने के लिए संपर्क करें     20000    399  \n",
       "9580           Panasound brand Daimond 2k androd stereo     18500    399  \n",
       "9581         Want NOC for Mahindra Marshal or Commander     15000    399  \n",
       "\n",
       "[9582 rows x 12 columns]"
      ]
     },
     "execution_count": 157,
     "metadata": {},
     "output_type": "execute_result"
    }
   ],
   "source": [
    "df"
   ]
  },
  {
   "cell_type": "code",
   "execution_count": 158,
   "id": "12890d89-bc4a-4f26-93e0-61b16955490e",
   "metadata": {},
   "outputs": [
    {
     "name": "stdout",
     "output_type": "stream",
     "text": [
      "<class 'pandas.core.frame.DataFrame'>\n",
      "RangeIndex: 9582 entries, 0 to 9581\n",
      "Data columns (total 12 columns):\n",
      " #   Column        Non-Null Count  Dtype         \n",
      "---  ------        --------------  -----         \n",
      " 0   Brand         9582 non-null   object        \n",
      " 1   model         9582 non-null   object        \n",
      " 2   Year          9582 non-null   int64         \n",
      " 3   Age           9582 non-null   int64         \n",
      " 4   kmDriven      9535 non-null   object        \n",
      " 5   Transmission  9582 non-null   object        \n",
      " 6   Owner         9582 non-null   string        \n",
      " 7   FuelType      9582 non-null   object        \n",
      " 8   PostedDate    9582 non-null   datetime64[ns]\n",
      " 9   AdditionInfo  9582 non-null   string        \n",
      " 10  AskPrice      9582 non-null   int64         \n",
      " 11  count         9582 non-null   int64         \n",
      "dtypes: datetime64[ns](1), int64(4), object(5), string(2)\n",
      "memory usage: 898.4+ KB\n"
     ]
    }
   ],
   "source": [
    "df.info()"
   ]
  },
  {
   "cell_type": "code",
   "execution_count": 160,
   "id": "d17d3f36-75f7-4e48-b8df-8cbc47d564fe",
   "metadata": {},
   "outputs": [
    {
     "name": "stdout",
     "output_type": "stream",
     "text": [
      "Help on function barplot in module seaborn.categorical:\n",
      "\n",
      "barplot(data=None, *, x=None, y=None, hue=None, order=None, hue_order=None, estimator='mean', errorbar=('ci', 95), n_boot=1000, seed=None, units=None, weights=None, orient=None, color=None, palette=None, saturation=0.75, fill=True, hue_norm=None, width=0.8, dodge='auto', gap=0, log_scale=None, native_scale=False, formatter=None, legend='auto', capsize=0, err_kws=None, ci=<deprecated>, errcolor=<deprecated>, errwidth=<deprecated>, ax=None, **kwargs)\n",
      "    Show point estimates and errors as rectangular bars.\n",
      "\n",
      "    A bar plot represents an aggregate or statistical estimate for a numeric\n",
      "    variable with the height of each rectangle and indicates the uncertainty\n",
      "    around that estimate using an error bar. Bar plots include 0 in the\n",
      "    axis range, and they are a good choice when 0 is a meaningful value\n",
      "    for the variable to take.\n",
      "\n",
      "    See the :ref:`tutorial <categorical_tutorial>` for more information.\n",
      "\n",
      "    .. note::\n",
      "        By default, this function treats one of the variables as categorical\n",
      "        and draws data at ordinal positions (0, 1, ... n) on the relevant axis.\n",
      "        As of version 0.13.0, this can be disabled by setting `native_scale=True`.\n",
      "\n",
      "\n",
      "    Parameters\n",
      "    ----------\n",
      "    data : DataFrame, Series, dict, array, or list of arrays\n",
      "        Dataset for plotting. If `x` and `y` are absent, this is\n",
      "        interpreted as wide-form. Otherwise it is expected to be long-form.\n",
      "    x, y, hue : names of variables in `data` or vector data\n",
      "        Inputs for plotting long-form data. See examples for interpretation.\n",
      "    order, hue_order : lists of strings\n",
      "        Order to plot the categorical levels in; otherwise the levels are\n",
      "        inferred from the data objects.\n",
      "    estimator : string or callable that maps vector -> scalar\n",
      "        Statistical function to estimate within each categorical bin.\n",
      "    errorbar : string, (string, number) tuple, callable or None\n",
      "        Name of errorbar method (either \"ci\", \"pi\", \"se\", or \"sd\"), or a tuple\n",
      "        with a method name and a level parameter, or a function that maps from a\n",
      "        vector to a (min, max) interval, or None to hide errorbar. See the\n",
      "        :doc:`errorbar tutorial </tutorial/error_bars>` for more information.\n",
      "\n",
      "        .. versionadded:: v0.12.0\n",
      "    n_boot : int\n",
      "        Number of bootstrap samples used to compute confidence intervals.\n",
      "    seed : int, `numpy.random.Generator`, or `numpy.random.RandomState`\n",
      "        Seed or random number generator for reproducible bootstrapping.\n",
      "    units : name of variable in `data` or vector data\n",
      "        Identifier of sampling units; used by the errorbar function to\n",
      "        perform a multilevel bootstrap and account for repeated measures\n",
      "    weights : name of variable in `data` or vector data\n",
      "        Data values or column used to compute weighted statistics.\n",
      "        Note that the use of weights may limit other statistical options.\n",
      "\n",
      "        .. versionadded:: v0.13.1\n",
      "    orient : \"v\" | \"h\" | \"x\" | \"y\"\n",
      "        Orientation of the plot (vertical or horizontal). This is usually\n",
      "        inferred based on the type of the input variables, but it can be used\n",
      "        to resolve ambiguity when both `x` and `y` are numeric or when\n",
      "        plotting wide-form data.\n",
      "\n",
      "        .. versionchanged:: v0.13.0\n",
      "            Added 'x'/'y' as options, equivalent to 'v'/'h'.\n",
      "    color : matplotlib color\n",
      "        Single color for the elements in the plot.\n",
      "    palette : palette name, list, or dict\n",
      "        Colors to use for the different levels of the ``hue`` variable. Should\n",
      "        be something that can be interpreted by :func:`color_palette`, or a\n",
      "        dictionary mapping hue levels to matplotlib colors.\n",
      "    saturation : float\n",
      "        Proportion of the original saturation to draw fill colors in. Large\n",
      "        patches often look better with desaturated colors, but set this to\n",
      "        `1` if you want the colors to perfectly match the input values.\n",
      "    fill : bool\n",
      "        If True, use a solid patch. Otherwise, draw as line art.\n",
      "\n",
      "        .. versionadded:: v0.13.0\n",
      "    hue_norm : tuple or :class:`matplotlib.colors.Normalize` object\n",
      "        Normalization in data units for colormap applied to the `hue`\n",
      "        variable when it is numeric. Not relevant if `hue` is categorical.\n",
      "\n",
      "        .. versionadded:: v0.12.0\n",
      "    width : float\n",
      "        Width allotted to each element on the orient axis. When `native_scale=True`,\n",
      "        it is relative to the minimum distance between two values in the native scale.\n",
      "    dodge : \"auto\" or bool\n",
      "        When hue mapping is used, whether elements should be narrowed and shifted along\n",
      "        the orient axis to eliminate overlap. If `\"auto\"`, set to `True` when the\n",
      "        orient variable is crossed with the categorical variable or `False` otherwise.\n",
      "\n",
      "        .. versionchanged:: 0.13.0\n",
      "\n",
      "            Added `\"auto\"` mode as a new default.\n",
      "    gap : float\n",
      "        Shrink on the orient axis by this factor to add a gap between dodged elements.\n",
      "\n",
      "        .. versionadded:: 0.13.0\n",
      "    log_scale : bool or number, or pair of bools or numbers\n",
      "        Set axis scale(s) to log. A single value sets the data axis for any numeric\n",
      "        axes in the plot. A pair of values sets each axis independently.\n",
      "        Numeric values are interpreted as the desired base (default 10).\n",
      "        When `None` or `False`, seaborn defers to the existing Axes scale.\n",
      "\n",
      "        .. versionadded:: v0.13.0\n",
      "    native_scale : bool\n",
      "        When True, numeric or datetime values on the categorical axis will maintain\n",
      "        their original scaling rather than being converted to fixed indices.\n",
      "\n",
      "        .. versionadded:: v0.13.0\n",
      "    formatter : callable\n",
      "        Function for converting categorical data into strings. Affects both grouping\n",
      "        and tick labels.\n",
      "\n",
      "        .. versionadded:: v0.13.0\n",
      "    legend : \"auto\", \"brief\", \"full\", or False\n",
      "        How to draw the legend. If \"brief\", numeric `hue` and `size`\n",
      "        variables will be represented with a sample of evenly spaced values.\n",
      "        If \"full\", every group will get an entry in the legend. If \"auto\",\n",
      "        choose between brief or full representation based on number of levels.\n",
      "        If `False`, no legend data is added and no legend is drawn.\n",
      "\n",
      "        .. versionadded:: v0.13.0\n",
      "    capsize : float\n",
      "        Width of the \"caps\" on error bars, relative to bar spacing.\n",
      "    err_kws : dict\n",
      "        Parameters of :class:`matplotlib.lines.Line2D`, for the error bar artists.\n",
      "\n",
      "        .. versionadded:: v0.13.0\n",
      "    ci : float\n",
      "        Level of the confidence interval to show, in [0, 100].\n",
      "\n",
      "        .. deprecated:: v0.12.0\n",
      "            Use `errorbar=(\"ci\", ...)`.\n",
      "    errcolor : matplotlib color\n",
      "        Color used for the error bar lines.\n",
      "\n",
      "        .. deprecated:: 0.13.0\n",
      "            Use `err_kws={'color': ...}`.\n",
      "    errwidth : float\n",
      "        Thickness of error bar lines (and caps), in points.\n",
      "\n",
      "        .. deprecated:: 0.13.0\n",
      "            Use `err_kws={'linewidth': ...}`.\n",
      "    ax : matplotlib Axes\n",
      "        Axes object to draw the plot onto, otherwise uses the current Axes.\n",
      "    kwargs : key, value mappings\n",
      "        Other parameters are passed through to :class:`matplotlib.patches.Rectangle`.\n",
      "\n",
      "    Returns\n",
      "    -------\n",
      "    ax : matplotlib Axes\n",
      "        Returns the Axes object with the plot drawn onto it.\n",
      "\n",
      "    See Also\n",
      "    --------\n",
      "    countplot : Show the counts of observations in each categorical bin.\n",
      "    pointplot : Show point estimates and confidence intervals using dots.\n",
      "    catplot : Combine a categorical plot with a :class:`FacetGrid`.\n",
      "\n",
      "    Notes\n",
      "    -----\n",
      "\n",
      "    For datasets where 0 is not a meaningful value, a :func:`pointplot` will\n",
      "    allow you to focus on differences between levels of one or more categorical\n",
      "    variables.\n",
      "\n",
      "    It is also important to keep in mind that a bar plot shows only the mean (or\n",
      "    other aggregate) value, but it is often more informative to show the\n",
      "    distribution of values at each level of the categorical variables. In those\n",
      "    cases, approaches such as a :func:`boxplot` or :func:`violinplot` may be\n",
      "    more appropriate.\n",
      "\n",
      "    Examples\n",
      "    --------\n",
      "    .. include:: ../docstrings/barplot.rst\n",
      "\n"
     ]
    }
   ],
   "source": [
    "help(sns.barplot)"
   ]
  },
  {
   "cell_type": "code",
   "execution_count": 167,
   "id": "8773802a-8669-4af0-9027-9e5426b6d46a",
   "metadata": {},
   "outputs": [],
   "source": [
    "brand_model_counts = df.groupby('Brand')['model'].nunique().sort_values(ascending = False).head(10)"
   ]
  },
  {
   "cell_type": "code",
   "execution_count": 168,
   "id": "751abf52-79e8-4e9e-95a6-20e3eb0ead01",
   "metadata": {},
   "outputs": [
    {
     "data": {
      "text/plain": [
       "Brand\n",
       "Maruti Suzuki    53\n",
       "Hyundai          35\n",
       "Tata             33\n",
       "Mercedes-Benz    31\n",
       "Mahindra         31\n",
       "BMW              19\n",
       "Toyota           19\n",
       "Honda            16\n",
       "Volkswagen       14\n",
       "Chevrolet        12\n",
       "Name: model, dtype: int64"
      ]
     },
     "execution_count": 168,
     "metadata": {},
     "output_type": "execute_result"
    }
   ],
   "source": [
    "brand_model_counts"
   ]
  },
  {
   "cell_type": "code",
   "execution_count": 170,
   "id": "0d0c2b83-b21d-4e74-a84f-92e36123391f",
   "metadata": {},
   "outputs": [
    {
     "name": "stdout",
     "output_type": "stream",
     "text": [
      "Help on function barplot in module seaborn.categorical:\n",
      "\n",
      "barplot(data=None, *, x=None, y=None, hue=None, order=None, hue_order=None, estimator='mean', errorbar=('ci', 95), n_boot=1000, seed=None, units=None, weights=None, orient=None, color=None, palette=None, saturation=0.75, fill=True, hue_norm=None, width=0.8, dodge='auto', gap=0, log_scale=None, native_scale=False, formatter=None, legend='auto', capsize=0, err_kws=None, ci=<deprecated>, errcolor=<deprecated>, errwidth=<deprecated>, ax=None, **kwargs)\n",
      "    Show point estimates and errors as rectangular bars.\n",
      "\n",
      "    A bar plot represents an aggregate or statistical estimate for a numeric\n",
      "    variable with the height of each rectangle and indicates the uncertainty\n",
      "    around that estimate using an error bar. Bar plots include 0 in the\n",
      "    axis range, and they are a good choice when 0 is a meaningful value\n",
      "    for the variable to take.\n",
      "\n",
      "    See the :ref:`tutorial <categorical_tutorial>` for more information.\n",
      "\n",
      "    .. note::\n",
      "        By default, this function treats one of the variables as categorical\n",
      "        and draws data at ordinal positions (0, 1, ... n) on the relevant axis.\n",
      "        As of version 0.13.0, this can be disabled by setting `native_scale=True`.\n",
      "\n",
      "\n",
      "    Parameters\n",
      "    ----------\n",
      "    data : DataFrame, Series, dict, array, or list of arrays\n",
      "        Dataset for plotting. If `x` and `y` are absent, this is\n",
      "        interpreted as wide-form. Otherwise it is expected to be long-form.\n",
      "    x, y, hue : names of variables in `data` or vector data\n",
      "        Inputs for plotting long-form data. See examples for interpretation.\n",
      "    order, hue_order : lists of strings\n",
      "        Order to plot the categorical levels in; otherwise the levels are\n",
      "        inferred from the data objects.\n",
      "    estimator : string or callable that maps vector -> scalar\n",
      "        Statistical function to estimate within each categorical bin.\n",
      "    errorbar : string, (string, number) tuple, callable or None\n",
      "        Name of errorbar method (either \"ci\", \"pi\", \"se\", or \"sd\"), or a tuple\n",
      "        with a method name and a level parameter, or a function that maps from a\n",
      "        vector to a (min, max) interval, or None to hide errorbar. See the\n",
      "        :doc:`errorbar tutorial </tutorial/error_bars>` for more information.\n",
      "\n",
      "        .. versionadded:: v0.12.0\n",
      "    n_boot : int\n",
      "        Number of bootstrap samples used to compute confidence intervals.\n",
      "    seed : int, `numpy.random.Generator`, or `numpy.random.RandomState`\n",
      "        Seed or random number generator for reproducible bootstrapping.\n",
      "    units : name of variable in `data` or vector data\n",
      "        Identifier of sampling units; used by the errorbar function to\n",
      "        perform a multilevel bootstrap and account for repeated measures\n",
      "    weights : name of variable in `data` or vector data\n",
      "        Data values or column used to compute weighted statistics.\n",
      "        Note that the use of weights may limit other statistical options.\n",
      "\n",
      "        .. versionadded:: v0.13.1\n",
      "    orient : \"v\" | \"h\" | \"x\" | \"y\"\n",
      "        Orientation of the plot (vertical or horizontal). This is usually\n",
      "        inferred based on the type of the input variables, but it can be used\n",
      "        to resolve ambiguity when both `x` and `y` are numeric or when\n",
      "        plotting wide-form data.\n",
      "\n",
      "        .. versionchanged:: v0.13.0\n",
      "            Added 'x'/'y' as options, equivalent to 'v'/'h'.\n",
      "    color : matplotlib color\n",
      "        Single color for the elements in the plot.\n",
      "    palette : palette name, list, or dict\n",
      "        Colors to use for the different levels of the ``hue`` variable. Should\n",
      "        be something that can be interpreted by :func:`color_palette`, or a\n",
      "        dictionary mapping hue levels to matplotlib colors.\n",
      "    saturation : float\n",
      "        Proportion of the original saturation to draw fill colors in. Large\n",
      "        patches often look better with desaturated colors, but set this to\n",
      "        `1` if you want the colors to perfectly match the input values.\n",
      "    fill : bool\n",
      "        If True, use a solid patch. Otherwise, draw as line art.\n",
      "\n",
      "        .. versionadded:: v0.13.0\n",
      "    hue_norm : tuple or :class:`matplotlib.colors.Normalize` object\n",
      "        Normalization in data units for colormap applied to the `hue`\n",
      "        variable when it is numeric. Not relevant if `hue` is categorical.\n",
      "\n",
      "        .. versionadded:: v0.12.0\n",
      "    width : float\n",
      "        Width allotted to each element on the orient axis. When `native_scale=True`,\n",
      "        it is relative to the minimum distance between two values in the native scale.\n",
      "    dodge : \"auto\" or bool\n",
      "        When hue mapping is used, whether elements should be narrowed and shifted along\n",
      "        the orient axis to eliminate overlap. If `\"auto\"`, set to `True` when the\n",
      "        orient variable is crossed with the categorical variable or `False` otherwise.\n",
      "\n",
      "        .. versionchanged:: 0.13.0\n",
      "\n",
      "            Added `\"auto\"` mode as a new default.\n",
      "    gap : float\n",
      "        Shrink on the orient axis by this factor to add a gap between dodged elements.\n",
      "\n",
      "        .. versionadded:: 0.13.0\n",
      "    log_scale : bool or number, or pair of bools or numbers\n",
      "        Set axis scale(s) to log. A single value sets the data axis for any numeric\n",
      "        axes in the plot. A pair of values sets each axis independently.\n",
      "        Numeric values are interpreted as the desired base (default 10).\n",
      "        When `None` or `False`, seaborn defers to the existing Axes scale.\n",
      "\n",
      "        .. versionadded:: v0.13.0\n",
      "    native_scale : bool\n",
      "        When True, numeric or datetime values on the categorical axis will maintain\n",
      "        their original scaling rather than being converted to fixed indices.\n",
      "\n",
      "        .. versionadded:: v0.13.0\n",
      "    formatter : callable\n",
      "        Function for converting categorical data into strings. Affects both grouping\n",
      "        and tick labels.\n",
      "\n",
      "        .. versionadded:: v0.13.0\n",
      "    legend : \"auto\", \"brief\", \"full\", or False\n",
      "        How to draw the legend. If \"brief\", numeric `hue` and `size`\n",
      "        variables will be represented with a sample of evenly spaced values.\n",
      "        If \"full\", every group will get an entry in the legend. If \"auto\",\n",
      "        choose between brief or full representation based on number of levels.\n",
      "        If `False`, no legend data is added and no legend is drawn.\n",
      "\n",
      "        .. versionadded:: v0.13.0\n",
      "    capsize : float\n",
      "        Width of the \"caps\" on error bars, relative to bar spacing.\n",
      "    err_kws : dict\n",
      "        Parameters of :class:`matplotlib.lines.Line2D`, for the error bar artists.\n",
      "\n",
      "        .. versionadded:: v0.13.0\n",
      "    ci : float\n",
      "        Level of the confidence interval to show, in [0, 100].\n",
      "\n",
      "        .. deprecated:: v0.12.0\n",
      "            Use `errorbar=(\"ci\", ...)`.\n",
      "    errcolor : matplotlib color\n",
      "        Color used for the error bar lines.\n",
      "\n",
      "        .. deprecated:: 0.13.0\n",
      "            Use `err_kws={'color': ...}`.\n",
      "    errwidth : float\n",
      "        Thickness of error bar lines (and caps), in points.\n",
      "\n",
      "        .. deprecated:: 0.13.0\n",
      "            Use `err_kws={'linewidth': ...}`.\n",
      "    ax : matplotlib Axes\n",
      "        Axes object to draw the plot onto, otherwise uses the current Axes.\n",
      "    kwargs : key, value mappings\n",
      "        Other parameters are passed through to :class:`matplotlib.patches.Rectangle`.\n",
      "\n",
      "    Returns\n",
      "    -------\n",
      "    ax : matplotlib Axes\n",
      "        Returns the Axes object with the plot drawn onto it.\n",
      "\n",
      "    See Also\n",
      "    --------\n",
      "    countplot : Show the counts of observations in each categorical bin.\n",
      "    pointplot : Show point estimates and confidence intervals using dots.\n",
      "    catplot : Combine a categorical plot with a :class:`FacetGrid`.\n",
      "\n",
      "    Notes\n",
      "    -----\n",
      "\n",
      "    For datasets where 0 is not a meaningful value, a :func:`pointplot` will\n",
      "    allow you to focus on differences between levels of one or more categorical\n",
      "    variables.\n",
      "\n",
      "    It is also important to keep in mind that a bar plot shows only the mean (or\n",
      "    other aggregate) value, but it is often more informative to show the\n",
      "    distribution of values at each level of the categorical variables. In those\n",
      "    cases, approaches such as a :func:`boxplot` or :func:`violinplot` may be\n",
      "    more appropriate.\n",
      "\n",
      "    Examples\n",
      "    --------\n",
      "    .. include:: ../docstrings/barplot.rst\n",
      "\n"
     ]
    }
   ],
   "source": [
    "help(sns.barplot)"
   ]
  },
  {
   "cell_type": "code",
   "execution_count": 172,
   "id": "678f9fbc-fa7d-4c37-a22b-99a9631f2da6",
   "metadata": {},
   "outputs": [
    {
     "data": {
      "text/plain": [
       "<Axes: xlabel='model', ylabel='model'>"
      ]
     },
     "execution_count": 172,
     "metadata": {},
     "output_type": "execute_result"
    },
    {
     "data": {
      "image/png": "[encoded data removed]",
      "text/plain": [
       "<Figure size 640x480 with 1 Axes>"
      ]
     },
     "metadata": {},
     "output_type": "display_data"
    }
   ],
   "source": [
    "sns.barplot(data = df, x = brand_model_counts, y = brand_model_counts)"
   ]
  },
  {
   "cell_type": "code",
   "execution_count": 190,
   "id": "44b76c7b-d008-412b-8a95-b180b2faf774",
   "metadata": {},
   "outputs": [
    {
     "data": {
      "text/plain": [
       "Text(0, 0.5, 'no.of brands')"
      ]
     },
     "execution_count": 190,
     "metadata": {},
     "output_type": "execute_result"
    },
    {
     "data": {
      "image/png": "[encoded data removed]",
      "text/plain": [
       "<Figure size 1800x500 with 1 Axes>"
      ]
     },
     "metadata": {},
     "output_type": "display_data"
    }
   ],
   "source": [
    "plt.figure(figsize = (18,5))\n",
    "sns.barplot(x=brand_model_counts.index, y=brand_model_counts.values)\n",
    "plt.title('Brand Model Counts')\n",
    "plt.ylabel('no.of brands')\n"
   ]
  },
  {
   "cell_type": "code",
   "execution_count": 178,
   "id": "569fe514-48d9-42d3-9d83-4cbe7ebefe75",
   "metadata": {},
   "outputs": [
    {
     "name": "stdout",
     "output_type": "stream",
     "text": [
      "Help on function figure in module matplotlib.pyplot:\n",
      "\n",
      "figure(num: 'int | str | Figure | SubFigure | None' = None, figsize: 'tuple[float, float] | None' = None, dpi: 'float | None' = None, *, facecolor: 'ColorType | None' = None, edgecolor: 'ColorType | None' = None, frameon: 'bool' = True, FigureClass: 'type[Figure]' = <class 'matplotlib.figure.Figure'>, clear: 'bool' = False, **kwargs) -> 'Figure'\n",
      "    Create a new figure, or activate an existing figure.\n",
      "\n",
      "    Parameters\n",
      "    ----------\n",
      "    num : int or str or `.Figure` or `.SubFigure`, optional\n",
      "        A unique identifier for the figure.\n",
      "\n",
      "        If a figure with that identifier already exists, this figure is made\n",
      "        active and returned. An integer refers to the ``Figure.number``\n",
      "        attribute, a string refers to the figure label.\n",
      "\n",
      "        If there is no figure with the identifier or *num* is not given, a new\n",
      "        figure is created, made active and returned.  If *num* is an int, it\n",
      "        will be used for the ``Figure.number`` attribute, otherwise, an\n",
      "        auto-generated integer value is used (starting at 1 and incremented\n",
      "        for each new figure). If *num* is a string, the figure label and the\n",
      "        window title is set to this value.  If num is a ``SubFigure``, its\n",
      "        parent ``Figure`` is activated.\n",
      "\n",
      "    figsize : (float, float), default: :rc:`figure.figsize`\n",
      "        Width, height in inches.\n",
      "\n",
      "    dpi : float, default: :rc:`figure.dpi`\n",
      "        The resolution of the figure in dots-per-inch.\n",
      "\n",
      "    facecolor : :mpltype:`color`, default: :rc:`figure.facecolor`\n",
      "        The background color.\n",
      "\n",
      "    edgecolor : :mpltype:`color`, default: :rc:`figure.edgecolor`\n",
      "        The border color.\n",
      "\n",
      "    frameon : bool, default: True\n",
      "        If False, suppress drawing the figure frame.\n",
      "\n",
      "    FigureClass : subclass of `~matplotlib.figure.Figure`\n",
      "        If set, an instance of this subclass will be created, rather than a\n",
      "        plain `.Figure`.\n",
      "\n",
      "    clear : bool, default: False\n",
      "        If True and the figure already exists, then it is cleared.\n",
      "\n",
      "    layout : {'constrained', 'compressed', 'tight', 'none', `.LayoutEngine`, None}, default: None\n",
      "        The layout mechanism for positioning of plot elements to avoid\n",
      "        overlapping Axes decorations (labels, ticks, etc). Note that layout\n",
      "        managers can measurably slow down figure display.\n",
      "\n",
      "        - 'constrained': The constrained layout solver adjusts Axes sizes\n",
      "          to avoid overlapping Axes decorations.  Can handle complex plot\n",
      "          layouts and colorbars, and is thus recommended.\n",
      "\n",
      "          See :ref:`constrainedlayout_guide`\n",
      "          for examples.\n",
      "\n",
      "        - 'compressed': uses the same algorithm as 'constrained', but\n",
      "          removes extra space between fixed-aspect-ratio Axes.  Best for\n",
      "          simple grids of Axes.\n",
      "\n",
      "        - 'tight': Use the tight layout mechanism. This is a relatively\n",
      "          simple algorithm that adjusts the subplot parameters so that\n",
      "          decorations do not overlap. See `.Figure.set_tight_layout` for\n",
      "          further details.\n",
      "\n",
      "        - 'none': Do not use a layout engine.\n",
      "\n",
      "        - A `.LayoutEngine` instance. Builtin layout classes are\n",
      "          `.ConstrainedLayoutEngine` and `.TightLayoutEngine`, more easily\n",
      "          accessible by 'constrained' and 'tight'.  Passing an instance\n",
      "          allows third parties to provide their own layout engine.\n",
      "\n",
      "        If not given, fall back to using the parameters *tight_layout* and\n",
      "        *constrained_layout*, including their config defaults\n",
      "        :rc:`figure.autolayout` and :rc:`figure.constrained_layout.use`.\n",
      "\n",
      "    **kwargs\n",
      "        Additional keyword arguments are passed to the `.Figure` constructor.\n",
      "\n",
      "    Returns\n",
      "    -------\n",
      "    `~matplotlib.figure.Figure`\n",
      "\n",
      "    Notes\n",
      "    -----\n",
      "    A newly created figure is passed to the `~.FigureCanvasBase.new_manager`\n",
      "    method or the `new_figure_manager` function provided by the current\n",
      "    backend, which install a canvas and a manager on the figure.\n",
      "\n",
      "    Once this is done, :rc:`figure.hooks` are called, one at a time, on the\n",
      "    figure; these hooks allow arbitrary customization of the figure (e.g.,\n",
      "    attaching callbacks) or of associated elements (e.g., modifying the\n",
      "    toolbar).  See :doc:`/gallery/user_interfaces/mplcvd` for an example of\n",
      "    toolbar customization.\n",
      "\n",
      "    If you are creating many figures, make sure you explicitly call\n",
      "    `.pyplot.close` on the figures you are not using, because this will\n",
      "    enable pyplot to properly clean up the memory.\n",
      "\n",
      "    `~matplotlib.rcParams` defines the default values, which can be modified\n",
      "    in the matplotlibrc file.\n",
      "\n"
     ]
    }
   ],
   "source": [
    "help(plt.figure)"
   ]
  },
  {
   "cell_type": "code",
   "execution_count": 2,
   "id": "0ad63212-cfe5-4784-bc67-6284244785db",
   "metadata": {},
   "outputs": [
    {
     "ename": "NameError",
     "evalue": "name 'df' is not defined",
     "output_type": "error",
     "traceback": [
      "\u001b[1;31m---------------------------------------------------------------------------\u001b[0m",
      "\u001b[1;31mNameError\u001b[0m                                 Traceback (most recent call last)",
      "Cell \u001b[1;32mIn[2], line 1\u001b[0m\n\u001b[1;32m----> 1\u001b[0m least_brand_model_counts \u001b[38;5;241m=\u001b[39m df\u001b[38;5;241m.\u001b[39mgroupby(\u001b[38;5;124m'\u001b[39m\u001b[38;5;124mBrand\u001b[39m\u001b[38;5;124m'\u001b[39m)[\u001b[38;5;124m'\u001b[39m\u001b[38;5;124mmodel\u001b[39m\u001b[38;5;124m'\u001b[39m]\u001b[38;5;241m.\u001b[39mnunique()\n",
      "\u001b[1;31mNameError\u001b[0m: name 'df' is not defined"
     ]
    }
   ],
   "source": [
    "least_brand_model_counts = df.groupby('Brand')['model'].nunique()"
   ]
  },
  {
   "cell_type": "code",
   "execution_count": 211,
   "id": "3de2561e-18b5-46c7-81ca-05f3aa847480",
   "metadata": {},
   "outputs": [],
   "source": [
    "a = least_brand_model_counts.sort_values(ascending = True)\n",
    "a\n",
    "b = a.iloc[17:39]"
   ]
  },
  {
   "cell_type": "code",
   "execution_count": 1,
   "id": "f39ad995-d1df-4b5c-ab2e-08956344a5c0",
   "metadata": {},
   "outputs": [
    {
     "ename": "NameError",
     "evalue": "name 'plt' is not defined",
     "output_type": "error",
     "traceback": [
      "\u001b[1;31m---------------------------------------------------------------------------\u001b[0m",
      "\u001b[1;31mNameError\u001b[0m                                 Traceback (most recent call last)",
      "Cell \u001b[1;32mIn[1], line 1\u001b[0m\n\u001b[1;32m----> 1\u001b[0m plt\u001b[38;5;241m.\u001b[39mfigure(figsize \u001b[38;5;241m=\u001b[39m (\u001b[38;5;241m12\u001b[39m, \u001b[38;5;241m7\u001b[39m))\n\u001b[0;32m      2\u001b[0m sns\u001b[38;5;241m.\u001b[39mbarplot(x \u001b[38;5;241m=\u001b[39m b\u001b[38;5;241m.\u001b[39mindex, y \u001b[38;5;241m=\u001b[39m b\u001b[38;5;241m.\u001b[39mvalues, order\u001b[38;5;241m=\u001b[39mb\u001b[38;5;241m.\u001b[39msort_values(ascending\u001b[38;5;241m=\u001b[39m\u001b[38;5;28;01mFalse\u001b[39;00m)\u001b[38;5;241m.\u001b[39mindex)\n\u001b[0;32m      3\u001b[0m plt\u001b[38;5;241m.\u001b[39mxticks(rotation\u001b[38;5;241m=\u001b[39m\u001b[38;5;241m45\u001b[39m)\n",
      "\u001b[1;31mNameError\u001b[0m: name 'plt' is not defined"
     ]
    }
   ],
   "source": [
    "plt.figure(figsize = (12, 7))\n",
    "sns.barplot(x = b.index, y = b.values, order=b.sort_values(ascending=False).index)\n",
    "plt.xticks(rotation=45)\n",
    "plt.xticks(fontsize = 10)"
   ]
  },
  {
   "cell_type": "code",
   "execution_count": 3,
   "id": "bc49ef99-326e-42b7-bb5d-1ac51e3a1d1c",
   "metadata": {},
   "outputs": [
    {
     "ename": "NameError",
     "evalue": "name 'df' is not defined",
     "output_type": "error",
     "traceback": [
      "\u001b[1;31m---------------------------------------------------------------------------\u001b[0m",
      "\u001b[1;31mNameError\u001b[0m                                 Traceback (most recent call last)",
      "Cell \u001b[1;32mIn[3], line 1\u001b[0m\n\u001b[1;32m----> 1\u001b[0m df\n",
      "\u001b[1;31mNameError\u001b[0m: name 'df' is not defined"
     ]
    }
   ],
   "source": [
    "df"
   ]
  },
  {
   "cell_type": "code",
   "execution_count": 6,
   "id": "f42a862c-5471-48ad-90df-0cd187602466",
   "metadata": {},
   "outputs": [
    {
     "data": {
      "text/html": [
       "<div>\n",
       "<style scoped>\n",
       "    .dataframe tbody tr th:only-of-type {\n",
       "        vertical-align: middle;\n",
       "    }\n",
       "\n",
       "    .dataframe tbody tr th {\n",
       "        vertical-align: top;\n",
       "    }\n",
       "\n",
       "    .dataframe thead th {\n",
       "        text-align: right;\n",
       "    }\n",
       "</style>\n",
       "<table border=\"1\" class=\"dataframe\">\n",
       "  <thead>\n",
       "    <tr style=\"text-align: right;\">\n",
       "      <th></th>\n",
       "      <th>Brand</th>\n",
       "      <th>model</th>\n",
       "      <th>Year</th>\n",
       "      <th>Age</th>\n",
       "      <th>kmDriven</th>\n",
       "      <th>Transmission</th>\n",
       "      <th>Owner</th>\n",
       "      <th>FuelType</th>\n",
       "      <th>PostedDate</th>\n",
       "      <th>AdditionInfo</th>\n",
       "      <th>AskPrice</th>\n",
       "    </tr>\n",
       "  </thead>\n",
       "  <tbody>\n",
       "    <tr>\n",
       "      <th>0</th>\n",
       "      <td>Honda</td>\n",
       "      <td>City</td>\n",
       "      <td>2001</td>\n",
       "      <td>23</td>\n",
       "      <td>98,000 km</td>\n",
       "      <td>Manual</td>\n",
       "      <td>second</td>\n",
       "      <td>Petrol</td>\n",
       "      <td>Nov-24</td>\n",
       "      <td>Honda City v teck in mint condition, valid gen...</td>\n",
       "      <td>195000</td>\n",
       "    </tr>\n",
       "    <tr>\n",
       "      <th>1</th>\n",
       "      <td>Toyota</td>\n",
       "      <td>Innova</td>\n",
       "      <td>2009</td>\n",
       "      <td>15</td>\n",
       "      <td>190000.0 km</td>\n",
       "      <td>Manual</td>\n",
       "      <td>second</td>\n",
       "      <td>Diesel</td>\n",
       "      <td>Jul-24</td>\n",
       "      <td>Toyota Innova 2.5 G (Diesel) 7 Seater, 2009, D...</td>\n",
       "      <td>375000</td>\n",
       "    </tr>\n",
       "    <tr>\n",
       "      <th>2</th>\n",
       "      <td>Volkswagen</td>\n",
       "      <td>VentoTest</td>\n",
       "      <td>2010</td>\n",
       "      <td>14</td>\n",
       "      <td>77,246 km</td>\n",
       "      <td>Manual</td>\n",
       "      <td>first</td>\n",
       "      <td>Diesel</td>\n",
       "      <td>Nov-24</td>\n",
       "      <td>Volkswagen Vento 2010-2013 Diesel Breeze, 2010...</td>\n",
       "      <td>184999</td>\n",
       "    </tr>\n",
       "    <tr>\n",
       "      <th>3</th>\n",
       "      <td>Maruti Suzuki</td>\n",
       "      <td>Swift</td>\n",
       "      <td>2017</td>\n",
       "      <td>7</td>\n",
       "      <td>83,500 km</td>\n",
       "      <td>Manual</td>\n",
       "      <td>second</td>\n",
       "      <td>Diesel</td>\n",
       "      <td>Nov-24</td>\n",
       "      <td>Maruti Suzuki Swift 2017 Diesel Good Condition</td>\n",
       "      <td>565000</td>\n",
       "    </tr>\n",
       "    <tr>\n",
       "      <th>4</th>\n",
       "      <td>Maruti Suzuki</td>\n",
       "      <td>Baleno</td>\n",
       "      <td>2019</td>\n",
       "      <td>5</td>\n",
       "      <td>45,000 km</td>\n",
       "      <td>Automatic</td>\n",
       "      <td>first</td>\n",
       "      <td>Petrol</td>\n",
       "      <td>Nov-24</td>\n",
       "      <td>Maruti Suzuki Baleno Alpha CVT, 2019, Petrol</td>\n",
       "      <td>685000</td>\n",
       "    </tr>\n",
       "    <tr>\n",
       "      <th>...</th>\n",
       "      <td>...</td>\n",
       "      <td>...</td>\n",
       "      <td>...</td>\n",
       "      <td>...</td>\n",
       "      <td>...</td>\n",
       "      <td>...</td>\n",
       "      <td>...</td>\n",
       "      <td>...</td>\n",
       "      <td>...</td>\n",
       "      <td>...</td>\n",
       "      <td>...</td>\n",
       "    </tr>\n",
       "    <tr>\n",
       "      <th>9577</th>\n",
       "      <td>Skoda</td>\n",
       "      <td>Octavia</td>\n",
       "      <td>2014</td>\n",
       "      <td>10</td>\n",
       "      <td>105,904 km</td>\n",
       "      <td>Automatic</td>\n",
       "      <td>second</td>\n",
       "      <td>Diesel</td>\n",
       "      <td>Oct-24</td>\n",
       "      <td>Skoda Octavia 1.9 Elegance TDI, 2014, Diesel</td>\n",
       "      <td>1040000</td>\n",
       "    </tr>\n",
       "    <tr>\n",
       "      <th>9578</th>\n",
       "      <td>Maruti Suzuki</td>\n",
       "      <td>Alto-800</td>\n",
       "      <td>2020</td>\n",
       "      <td>4</td>\n",
       "      <td>55,000 km</td>\n",
       "      <td>Manual</td>\n",
       "      <td>first</td>\n",
       "      <td>Hybrid/CNG</td>\n",
       "      <td>Nov-24</td>\n",
       "      <td>Maruti Suzuki Alto 800 CNG LXI Optional, 2020,...</td>\n",
       "      <td>375000</td>\n",
       "    </tr>\n",
       "    <tr>\n",
       "      <th>9579</th>\n",
       "      <td>Maruti Suzuki</td>\n",
       "      <td>Ritz</td>\n",
       "      <td>2013</td>\n",
       "      <td>11</td>\n",
       "      <td>92,000 km</td>\n",
       "      <td>Manual</td>\n",
       "      <td>first</td>\n",
       "      <td>Diesel</td>\n",
       "      <td>Nov-24</td>\n",
       "      <td>Maruti Suzuki Ritz VDi, 2013, Diesel</td>\n",
       "      <td>415000</td>\n",
       "    </tr>\n",
       "    <tr>\n",
       "      <th>9580</th>\n",
       "      <td>Hyundai</td>\n",
       "      <td>Verna</td>\n",
       "      <td>2019</td>\n",
       "      <td>5</td>\n",
       "      <td>72,000 km</td>\n",
       "      <td>Automatic</td>\n",
       "      <td>first</td>\n",
       "      <td>Petrol</td>\n",
       "      <td>Oct-24</td>\n",
       "      <td>Hyundai Verna VTVT 1.6 AT SX Option, 2019, Petrol</td>\n",
       "      <td>855000</td>\n",
       "    </tr>\n",
       "    <tr>\n",
       "      <th>9581</th>\n",
       "      <td>Hyundai</td>\n",
       "      <td>New i20</td>\n",
       "      <td>2021</td>\n",
       "      <td>3</td>\n",
       "      <td>83,228 km</td>\n",
       "      <td>Manual</td>\n",
       "      <td>second</td>\n",
       "      <td>Petrol</td>\n",
       "      <td>Nov-24</td>\n",
       "      <td>Hyundai New i20 1.2 Asta IVT, 2021, Petrol</td>\n",
       "      <td>699000</td>\n",
       "    </tr>\n",
       "  </tbody>\n",
       "</table>\n",
       "<p>9582 rows × 11 columns</p>\n",
       "</div>"
      ],
      "text/plain": [
       "              Brand      model  Year  Age     kmDriven Transmission   Owner  \\\n",
       "0             Honda       City  2001   23    98,000 km       Manual  second   \n",
       "1            Toyota     Innova  2009   15  190000.0 km       Manual  second   \n",
       "2        Volkswagen  VentoTest  2010   14    77,246 km       Manual   first   \n",
       "3     Maruti Suzuki      Swift  2017    7    83,500 km       Manual  second   \n",
       "4     Maruti Suzuki     Baleno  2019    5    45,000 km    Automatic   first   \n",
       "...             ...        ...   ...  ...          ...          ...     ...   \n",
       "9577          Skoda    Octavia  2014   10   105,904 km    Automatic  second   \n",
       "9578  Maruti Suzuki   Alto-800  2020    4    55,000 km       Manual   first   \n",
       "9579  Maruti Suzuki       Ritz  2013   11    92,000 km       Manual   first   \n",
       "9580        Hyundai      Verna  2019    5    72,000 km    Automatic   first   \n",
       "9581        Hyundai    New i20  2021    3    83,228 km       Manual  second   \n",
       "\n",
       "        FuelType PostedDate  \\\n",
       "0         Petrol     Nov-24   \n",
       "1         Diesel     Jul-24   \n",
       "2         Diesel     Nov-24   \n",
       "3         Diesel     Nov-24   \n",
       "4         Petrol     Nov-24   \n",
       "...          ...        ...   \n",
       "9577      Diesel     Oct-24   \n",
       "9578  Hybrid/CNG     Nov-24   \n",
       "9579      Diesel     Nov-24   \n",
       "9580      Petrol     Oct-24   \n",
       "9581      Petrol     Nov-24   \n",
       "\n",
       "                                           AdditionInfo  AskPrice  \n",
       "0     Honda City v teck in mint condition, valid gen...    195000  \n",
       "1     Toyota Innova 2.5 G (Diesel) 7 Seater, 2009, D...    375000  \n",
       "2     Volkswagen Vento 2010-2013 Diesel Breeze, 2010...    184999  \n",
       "3        Maruti Suzuki Swift 2017 Diesel Good Condition    565000  \n",
       "4          Maruti Suzuki Baleno Alpha CVT, 2019, Petrol    685000  \n",
       "...                                                 ...       ...  \n",
       "9577       Skoda Octavia 1.9 Elegance TDI, 2014, Diesel   1040000  \n",
       "9578  Maruti Suzuki Alto 800 CNG LXI Optional, 2020,...    375000  \n",
       "9579               Maruti Suzuki Ritz VDi, 2013, Diesel    415000  \n",
       "9580  Hyundai Verna VTVT 1.6 AT SX Option, 2019, Petrol    855000  \n",
       "9581         Hyundai New i20 1.2 Asta IVT, 2021, Petrol    699000  \n",
       "\n",
       "[9582 rows x 11 columns]"
      ]
     },
     "execution_count": 6,
     "metadata": {},
     "output_type": "execute_result"
    }
   ],
   "source": [
    "df"
   ]
  },
  {
   "cell_type": "code",
   "execution_count": 10,
   "id": "3b62eca8-e82c-4a77-abb5-409e6b667d21",
   "metadata": {},
   "outputs": [
    {
     "name": "stdout",
     "output_type": "stream",
     "text": [
      "<class 'pandas.core.frame.DataFrame'>\n",
      "RangeIndex: 9582 entries, 0 to 9581\n",
      "Data columns (total 11 columns):\n",
      " #   Column        Non-Null Count  Dtype \n",
      "---  ------        --------------  ----- \n",
      " 0   Brand         9582 non-null   object\n",
      " 1   model         9582 non-null   object\n",
      " 2   Year          9582 non-null   int64 \n",
      " 3   Age           9582 non-null   int64 \n",
      " 4   kmDriven      9535 non-null   string\n",
      " 5   Transmission  9582 non-null   object\n",
      " 6   Owner         9582 non-null   object\n",
      " 7   FuelType      9582 non-null   object\n",
      " 8   PostedDate    9582 non-null   object\n",
      " 9   AdditionInfo  9582 non-null   object\n",
      " 10  AskPrice      9582 non-null   int64 \n",
      "dtypes: int64(3), object(7), string(1)\n",
      "memory usage: 823.6+ KB\n"
     ]
    }
   ],
   "source": [
    "df.info()"
   ]
  },
  {
   "cell_type": "code",
   "execution_count": 8,
   "id": "dc959553-fdb4-41a7-8917-bfc3ffb1d80c",
   "metadata": {},
   "outputs": [],
   "source": [
    "df['kmDriven'] = df['kmDriven'].astype('string')"
   ]
  },
  {
   "cell_type": "code",
   "execution_count": 9,
   "id": "b3bf553e-4e65-4f95-b1d0-f03ea9bdfde1",
   "metadata": {},
   "outputs": [
    {
     "data": {
      "text/plain": [
       "0         98,000 km\n",
       "1       190000.0 km\n",
       "2         77,246 km\n",
       "3         83,500 km\n",
       "4         45,000 km\n",
       "           ...     \n",
       "9577     105,904 km\n",
       "9578      55,000 km\n",
       "9579      92,000 km\n",
       "9580      72,000 km\n",
       "9581      83,228 km\n",
       "Name: kmDriven, Length: 9582, dtype: string"
      ]
     },
     "execution_count": 9,
     "metadata": {},
     "output_type": "execute_result"
    }
   ],
   "source": [
    "df['kmDriven']"
   ]
  },
  {
   "cell_type": "code",
   "execution_count": 17,
   "id": "3fe40e39-5827-4b16-b3ba-b1918a6b971c",
   "metadata": {},
   "outputs": [],
   "source": [
    "df['kmDriven'] = df['kmDriven'].astype('string')\n",
    "df['PostedDate'] = pd.to_datetime(df['PostedDate'], format='%b-%y', errors='coerce')\n"
   ]
  },
  {
   "cell_type": "code",
   "execution_count": 49,
   "id": "2ce661a4-01ed-4910-a810-c194fe025be8",
   "metadata": {},
   "outputs": [
    {
     "ename": "AttributeError",
     "evalue": "'NoneType' object has no attribute 'info'",
     "output_type": "error",
     "traceback": [
      "\u001b[1;31m---------------------------------------------------------------------------\u001b[0m",
      "\u001b[1;31mAttributeError\u001b[0m                            Traceback (most recent call last)",
      "Cell \u001b[1;32mIn[49], line 1\u001b[0m\n\u001b[1;32m----> 1\u001b[0m df\u001b[38;5;241m.\u001b[39minfo()\n",
      "\u001b[1;31mAttributeError\u001b[0m: 'NoneType' object has no attribute 'info'"
     ]
    }
   ],
   "source": [
    "df.info()"
   ]
  },
  {
   "cell_type": "code",
   "execution_count": 20,
   "id": "3259d818-fa9c-41cc-9be0-765585f172ee",
   "metadata": {},
   "outputs": [
    {
     "data": {
      "text/html": [
       "<div>\n",
       "<style scoped>\n",
       "    .dataframe tbody tr th:only-of-type {\n",
       "        vertical-align: middle;\n",
       "    }\n",
       "\n",
       "    .dataframe tbody tr th {\n",
       "        vertical-align: top;\n",
       "    }\n",
       "\n",
       "    .dataframe thead th {\n",
       "        text-align: right;\n",
       "    }\n",
       "</style>\n",
       "<table border=\"1\" class=\"dataframe\">\n",
       "  <thead>\n",
       "    <tr style=\"text-align: right;\">\n",
       "      <th></th>\n",
       "      <th>Brand</th>\n",
       "      <th>model</th>\n",
       "      <th>Year</th>\n",
       "      <th>Age</th>\n",
       "      <th>kmDriven</th>\n",
       "      <th>Transmission</th>\n",
       "      <th>Owner</th>\n",
       "      <th>FuelType</th>\n",
       "      <th>PostedDate</th>\n",
       "      <th>AdditionInfo</th>\n",
       "      <th>AskPrice</th>\n",
       "    </tr>\n",
       "  </thead>\n",
       "  <tbody>\n",
       "    <tr>\n",
       "      <th>0</th>\n",
       "      <td>Honda</td>\n",
       "      <td>City</td>\n",
       "      <td>2001</td>\n",
       "      <td>23</td>\n",
       "      <td>98,000 km</td>\n",
       "      <td>Manual</td>\n",
       "      <td>second</td>\n",
       "      <td>Petrol</td>\n",
       "      <td>2024-11-01</td>\n",
       "      <td>Honda City v teck in mint condition, valid gen...</td>\n",
       "      <td>195000</td>\n",
       "    </tr>\n",
       "    <tr>\n",
       "      <th>1</th>\n",
       "      <td>Toyota</td>\n",
       "      <td>Innova</td>\n",
       "      <td>2009</td>\n",
       "      <td>15</td>\n",
       "      <td>190000.0 km</td>\n",
       "      <td>Manual</td>\n",
       "      <td>second</td>\n",
       "      <td>Diesel</td>\n",
       "      <td>2024-07-01</td>\n",
       "      <td>Toyota Innova 2.5 G (Diesel) 7 Seater, 2009, D...</td>\n",
       "      <td>375000</td>\n",
       "    </tr>\n",
       "    <tr>\n",
       "      <th>2</th>\n",
       "      <td>Volkswagen</td>\n",
       "      <td>VentoTest</td>\n",
       "      <td>2010</td>\n",
       "      <td>14</td>\n",
       "      <td>77,246 km</td>\n",
       "      <td>Manual</td>\n",
       "      <td>first</td>\n",
       "      <td>Diesel</td>\n",
       "      <td>2024-11-01</td>\n",
       "      <td>Volkswagen Vento 2010-2013 Diesel Breeze, 2010...</td>\n",
       "      <td>184999</td>\n",
       "    </tr>\n",
       "    <tr>\n",
       "      <th>3</th>\n",
       "      <td>Maruti Suzuki</td>\n",
       "      <td>Swift</td>\n",
       "      <td>2017</td>\n",
       "      <td>7</td>\n",
       "      <td>83,500 km</td>\n",
       "      <td>Manual</td>\n",
       "      <td>second</td>\n",
       "      <td>Diesel</td>\n",
       "      <td>2024-11-01</td>\n",
       "      <td>Maruti Suzuki Swift 2017 Diesel Good Condition</td>\n",
       "      <td>565000</td>\n",
       "    </tr>\n",
       "    <tr>\n",
       "      <th>4</th>\n",
       "      <td>Maruti Suzuki</td>\n",
       "      <td>Baleno</td>\n",
       "      <td>2019</td>\n",
       "      <td>5</td>\n",
       "      <td>45,000 km</td>\n",
       "      <td>Automatic</td>\n",
       "      <td>first</td>\n",
       "      <td>Petrol</td>\n",
       "      <td>2024-11-01</td>\n",
       "      <td>Maruti Suzuki Baleno Alpha CVT, 2019, Petrol</td>\n",
       "      <td>685000</td>\n",
       "    </tr>\n",
       "    <tr>\n",
       "      <th>...</th>\n",
       "      <td>...</td>\n",
       "      <td>...</td>\n",
       "      <td>...</td>\n",
       "      <td>...</td>\n",
       "      <td>...</td>\n",
       "      <td>...</td>\n",
       "      <td>...</td>\n",
       "      <td>...</td>\n",
       "      <td>...</td>\n",
       "      <td>...</td>\n",
       "      <td>...</td>\n",
       "    </tr>\n",
       "    <tr>\n",
       "      <th>9577</th>\n",
       "      <td>Skoda</td>\n",
       "      <td>Octavia</td>\n",
       "      <td>2014</td>\n",
       "      <td>10</td>\n",
       "      <td>105,904 km</td>\n",
       "      <td>Automatic</td>\n",
       "      <td>second</td>\n",
       "      <td>Diesel</td>\n",
       "      <td>2024-10-01</td>\n",
       "      <td>Skoda Octavia 1.9 Elegance TDI, 2014, Diesel</td>\n",
       "      <td>1040000</td>\n",
       "    </tr>\n",
       "    <tr>\n",
       "      <th>9578</th>\n",
       "      <td>Maruti Suzuki</td>\n",
       "      <td>Alto-800</td>\n",
       "      <td>2020</td>\n",
       "      <td>4</td>\n",
       "      <td>55,000 km</td>\n",
       "      <td>Manual</td>\n",
       "      <td>first</td>\n",
       "      <td>Hybrid/CNG</td>\n",
       "      <td>2024-11-01</td>\n",
       "      <td>Maruti Suzuki Alto 800 CNG LXI Optional, 2020,...</td>\n",
       "      <td>375000</td>\n",
       "    </tr>\n",
       "    <tr>\n",
       "      <th>9579</th>\n",
       "      <td>Maruti Suzuki</td>\n",
       "      <td>Ritz</td>\n",
       "      <td>2013</td>\n",
       "      <td>11</td>\n",
       "      <td>92,000 km</td>\n",
       "      <td>Manual</td>\n",
       "      <td>first</td>\n",
       "      <td>Diesel</td>\n",
       "      <td>2024-11-01</td>\n",
       "      <td>Maruti Suzuki Ritz VDi, 2013, Diesel</td>\n",
       "      <td>415000</td>\n",
       "    </tr>\n",
       "    <tr>\n",
       "      <th>9580</th>\n",
       "      <td>Hyundai</td>\n",
       "      <td>Verna</td>\n",
       "      <td>2019</td>\n",
       "      <td>5</td>\n",
       "      <td>72,000 km</td>\n",
       "      <td>Automatic</td>\n",
       "      <td>first</td>\n",
       "      <td>Petrol</td>\n",
       "      <td>2024-10-01</td>\n",
       "      <td>Hyundai Verna VTVT 1.6 AT SX Option, 2019, Petrol</td>\n",
       "      <td>855000</td>\n",
       "    </tr>\n",
       "    <tr>\n",
       "      <th>9581</th>\n",
       "      <td>Hyundai</td>\n",
       "      <td>New i20</td>\n",
       "      <td>2021</td>\n",
       "      <td>3</td>\n",
       "      <td>83,228 km</td>\n",
       "      <td>Manual</td>\n",
       "      <td>second</td>\n",
       "      <td>Petrol</td>\n",
       "      <td>2024-11-01</td>\n",
       "      <td>Hyundai New i20 1.2 Asta IVT, 2021, Petrol</td>\n",
       "      <td>699000</td>\n",
       "    </tr>\n",
       "  </tbody>\n",
       "</table>\n",
       "<p>9582 rows × 11 columns</p>\n",
       "</div>"
      ],
      "text/plain": [
       "              Brand      model  Year  Age     kmDriven Transmission   Owner  \\\n",
       "0             Honda       City  2001   23    98,000 km       Manual  second   \n",
       "1            Toyota     Innova  2009   15  190000.0 km       Manual  second   \n",
       "2        Volkswagen  VentoTest  2010   14    77,246 km       Manual   first   \n",
       "3     Maruti Suzuki      Swift  2017    7    83,500 km       Manual  second   \n",
       "4     Maruti Suzuki     Baleno  2019    5    45,000 km    Automatic   first   \n",
       "...             ...        ...   ...  ...          ...          ...     ...   \n",
       "9577          Skoda    Octavia  2014   10   105,904 km    Automatic  second   \n",
       "9578  Maruti Suzuki   Alto-800  2020    4    55,000 km       Manual   first   \n",
       "9579  Maruti Suzuki       Ritz  2013   11    92,000 km       Manual   first   \n",
       "9580        Hyundai      Verna  2019    5    72,000 km    Automatic   first   \n",
       "9581        Hyundai    New i20  2021    3    83,228 km       Manual  second   \n",
       "\n",
       "        FuelType PostedDate  \\\n",
       "0         Petrol 2024-11-01   \n",
       "1         Diesel 2024-07-01   \n",
       "2         Diesel 2024-11-01   \n",
       "3         Diesel 2024-11-01   \n",
       "4         Petrol 2024-11-01   \n",
       "...          ...        ...   \n",
       "9577      Diesel 2024-10-01   \n",
       "9578  Hybrid/CNG 2024-11-01   \n",
       "9579      Diesel 2024-11-01   \n",
       "9580      Petrol 2024-10-01   \n",
       "9581      Petrol 2024-11-01   \n",
       "\n",
       "                                           AdditionInfo  AskPrice  \n",
       "0     Honda City v teck in mint condition, valid gen...    195000  \n",
       "1     Toyota Innova 2.5 G (Diesel) 7 Seater, 2009, D...    375000  \n",
       "2     Volkswagen Vento 2010-2013 Diesel Breeze, 2010...    184999  \n",
       "3        Maruti Suzuki Swift 2017 Diesel Good Condition    565000  \n",
       "4          Maruti Suzuki Baleno Alpha CVT, 2019, Petrol    685000  \n",
       "...                                                 ...       ...  \n",
       "9577       Skoda Octavia 1.9 Elegance TDI, 2014, Diesel   1040000  \n",
       "9578  Maruti Suzuki Alto 800 CNG LXI Optional, 2020,...    375000  \n",
       "9579               Maruti Suzuki Ritz VDi, 2013, Diesel    415000  \n",
       "9580  Hyundai Verna VTVT 1.6 AT SX Option, 2019, Petrol    855000  \n",
       "9581         Hyundai New i20 1.2 Asta IVT, 2021, Petrol    699000  \n",
       "\n",
       "[9582 rows x 11 columns]"
      ]
     },
     "execution_count": 20,
     "metadata": {},
     "output_type": "execute_result"
    }
   ],
   "source": [
    "df"
   ]
  },
  {
   "cell_type": "code",
   "execution_count": 28,
   "id": "133e160f-c2e0-44ba-bcb6-cb19e28dfc9d",
   "metadata": {},
   "outputs": [],
   "source": [
    "df = df.sort_values('AskPrice', ascending=False)"
   ]
  },
  {
   "cell_type": "code",
   "execution_count": 46,
   "id": "2cce14ac-0e50-4361-8725-99dd66d10807",
   "metadata": {},
   "outputs": [],
   "source": [
    "df"
   ]
  },
  {
   "cell_type": "code",
   "execution_count": 47,
   "id": "f272a4ce-3635-42af-9783-ddba5ff19b1b",
   "metadata": {},
   "outputs": [],
   "source": [
    "df"
   ]
  },
  {
   "cell_type": "code",
   "execution_count": 44,
   "id": "dea42eb2-5c0d-474c-a1c6-9f9889ed8a3a",
   "metadata": {},
   "outputs": [
    {
     "ename": "AttributeError",
     "evalue": "'NoneType' object has no attribute 'reset_index'",
     "output_type": "error",
     "traceback": [
      "\u001b[1;31m---------------------------------------------------------------------------\u001b[0m",
      "\u001b[1;31mAttributeError\u001b[0m                            Traceback (most recent call last)",
      "Cell \u001b[1;32mIn[44], line 1\u001b[0m\n\u001b[1;32m----> 1\u001b[0m df\u001b[38;5;241m.\u001b[39mreset_index()\n",
      "\u001b[1;31mAttributeError\u001b[0m: 'NoneType' object has no attribute 'reset_index'"
     ]
    }
   ],
   "source": [
    "df.reset_index()"
   ]
  },
  {
   "cell_type": "code",
   "execution_count": 38,
   "id": "6ba96c55-45c0-4f97-ae94-8bf9fb4bb1e3",
   "metadata": {},
   "outputs": [
    {
     "ename": "AttributeError",
     "evalue": "'NoneType' object has no attribute 'drop'",
     "output_type": "error",
     "traceback": [
      "\u001b[1;31m---------------------------------------------------------------------------\u001b[0m",
      "\u001b[1;31mAttributeError\u001b[0m                            Traceback (most recent call last)",
      "Cell \u001b[1;32mIn[38], line 1\u001b[0m\n\u001b[1;32m----> 1\u001b[0m df\u001b[38;5;241m.\u001b[39mdrop(columns\u001b[38;5;241m=\u001b[39m[\u001b[38;5;124m'\u001b[39m\u001b[38;5;124mindex\u001b[39m\u001b[38;5;124m'\u001b[39m], inplace\u001b[38;5;241m=\u001b[39m\u001b[38;5;28;01mTrue\u001b[39;00m)\n",
      "\u001b[1;31mAttributeError\u001b[0m: 'NoneType' object has no attribute 'drop'"
     ]
    }
   ],
   "source": [
    "df.drop(columns=['index'], inplace=True)"
   ]
  },
  {
   "cell_type": "code",
   "execution_count": 39,
   "id": "5337b4e1-6924-43e4-921a-d206194c574c",
   "metadata": {},
   "outputs": [],
   "source": [
    "df"
   ]
  },
  {
   "cell_type": "code",
   "execution_count": 43,
   "id": "65586846-b42c-4a68-a255-187c5b5f2e93",
   "metadata": {},
   "outputs": [],
   "source": [
    "df"
   ]
  },
  {
   "cell_type": "code",
   "execution_count": 48,
   "id": "6187f2cd-86ea-4ec8-bdb4-346e387d5d40",
   "metadata": {},
   "outputs": [],
   "source": [
    "df"
   ]
  },
  {
   "cell_type": "code",
   "execution_count": 50,
   "id": "42e21344-32fc-4bfe-80cd-40687a7abb90",
   "metadata": {},
   "outputs": [
    {
     "ename": "AttributeError",
     "evalue": "'NoneType' object has no attribute 'drop'",
     "output_type": "error",
     "traceback": [
      "\u001b[1;31m---------------------------------------------------------------------------\u001b[0m",
      "\u001b[1;31mAttributeError\u001b[0m                            Traceback (most recent call last)",
      "Cell \u001b[1;32mIn[50], line 1\u001b[0m\n\u001b[1;32m----> 1\u001b[0m df \u001b[38;5;241m=\u001b[39m df\u001b[38;5;241m.\u001b[39mdrop(columns\u001b[38;5;241m=\u001b[39m[\u001b[38;5;124m'\u001b[39m\u001b[38;5;124mindex\u001b[39m\u001b[38;5;124m'\u001b[39m], inplace\u001b[38;5;241m=\u001b[39m\u001b[38;5;28;01mTrue\u001b[39;00m)\n",
      "\u001b[1;31mAttributeError\u001b[0m: 'NoneType' object has no attribute 'drop'"
     ]
    }
   ],
   "source": [
    "df = df.drop(columns=['index'], inplace=True) # df becomes None here df.info() # Raises"
   ]
  },
  {
   "cell_type": "code",
   "execution_count": 53,
   "id": "a736fbcb-8745-4950-9799-8923bfda6bbf",
   "metadata": {},
   "outputs": [
    {
     "data": {
      "text/html": [
       "<div>\n",
       "<style scoped>\n",
       "    .dataframe tbody tr th:only-of-type {\n",
       "        vertical-align: middle;\n",
       "    }\n",
       "\n",
       "    .dataframe tbody tr th {\n",
       "        vertical-align: top;\n",
       "    }\n",
       "\n",
       "    .dataframe thead th {\n",
       "        text-align: right;\n",
       "    }\n",
       "</style>\n",
       "<table border=\"1\" class=\"dataframe\">\n",
       "  <thead>\n",
       "    <tr style=\"text-align: right;\">\n",
       "      <th></th>\n",
       "      <th>Brand</th>\n",
       "      <th>model</th>\n",
       "      <th>Year</th>\n",
       "      <th>Age</th>\n",
       "      <th>kmDriven</th>\n",
       "      <th>Transmission</th>\n",
       "      <th>Owner</th>\n",
       "      <th>FuelType</th>\n",
       "      <th>PostedDate</th>\n",
       "      <th>AdditionInfo</th>\n",
       "      <th>AskPrice</th>\n",
       "    </tr>\n",
       "  </thead>\n",
       "  <tbody>\n",
       "    <tr>\n",
       "      <th>0</th>\n",
       "      <td>Honda</td>\n",
       "      <td>City</td>\n",
       "      <td>2001</td>\n",
       "      <td>23</td>\n",
       "      <td>98,000 km</td>\n",
       "      <td>Manual</td>\n",
       "      <td>second</td>\n",
       "      <td>Petrol</td>\n",
       "      <td>Nov-24</td>\n",
       "      <td>Honda City v teck in mint condition, valid gen...</td>\n",
       "      <td>195000</td>\n",
       "    </tr>\n",
       "    <tr>\n",
       "      <th>1</th>\n",
       "      <td>Toyota</td>\n",
       "      <td>Innova</td>\n",
       "      <td>2009</td>\n",
       "      <td>15</td>\n",
       "      <td>190000.0 km</td>\n",
       "      <td>Manual</td>\n",
       "      <td>second</td>\n",
       "      <td>Diesel</td>\n",
       "      <td>Jul-24</td>\n",
       "      <td>Toyota Innova 2.5 G (Diesel) 7 Seater, 2009, D...</td>\n",
       "      <td>375000</td>\n",
       "    </tr>\n",
       "    <tr>\n",
       "      <th>2</th>\n",
       "      <td>Volkswagen</td>\n",
       "      <td>VentoTest</td>\n",
       "      <td>2010</td>\n",
       "      <td>14</td>\n",
       "      <td>77,246 km</td>\n",
       "      <td>Manual</td>\n",
       "      <td>first</td>\n",
       "      <td>Diesel</td>\n",
       "      <td>Nov-24</td>\n",
       "      <td>Volkswagen Vento 2010-2013 Diesel Breeze, 2010...</td>\n",
       "      <td>184999</td>\n",
       "    </tr>\n",
       "    <tr>\n",
       "      <th>3</th>\n",
       "      <td>Maruti Suzuki</td>\n",
       "      <td>Swift</td>\n",
       "      <td>2017</td>\n",
       "      <td>7</td>\n",
       "      <td>83,500 km</td>\n",
       "      <td>Manual</td>\n",
       "      <td>second</td>\n",
       "      <td>Diesel</td>\n",
       "      <td>Nov-24</td>\n",
       "      <td>Maruti Suzuki Swift 2017 Diesel Good Condition</td>\n",
       "      <td>565000</td>\n",
       "    </tr>\n",
       "    <tr>\n",
       "      <th>4</th>\n",
       "      <td>Maruti Suzuki</td>\n",
       "      <td>Baleno</td>\n",
       "      <td>2019</td>\n",
       "      <td>5</td>\n",
       "      <td>45,000 km</td>\n",
       "      <td>Automatic</td>\n",
       "      <td>first</td>\n",
       "      <td>Petrol</td>\n",
       "      <td>Nov-24</td>\n",
       "      <td>Maruti Suzuki Baleno Alpha CVT, 2019, Petrol</td>\n",
       "      <td>685000</td>\n",
       "    </tr>\n",
       "    <tr>\n",
       "      <th>...</th>\n",
       "      <td>...</td>\n",
       "      <td>...</td>\n",
       "      <td>...</td>\n",
       "      <td>...</td>\n",
       "      <td>...</td>\n",
       "      <td>...</td>\n",
       "      <td>...</td>\n",
       "      <td>...</td>\n",
       "      <td>...</td>\n",
       "      <td>...</td>\n",
       "      <td>...</td>\n",
       "    </tr>\n",
       "    <tr>\n",
       "      <th>9577</th>\n",
       "      <td>Skoda</td>\n",
       "      <td>Octavia</td>\n",
       "      <td>2014</td>\n",
       "      <td>10</td>\n",
       "      <td>105,904 km</td>\n",
       "      <td>Automatic</td>\n",
       "      <td>second</td>\n",
       "      <td>Diesel</td>\n",
       "      <td>Oct-24</td>\n",
       "      <td>Skoda Octavia 1.9 Elegance TDI, 2014, Diesel</td>\n",
       "      <td>1040000</td>\n",
       "    </tr>\n",
       "    <tr>\n",
       "      <th>9578</th>\n",
       "      <td>Maruti Suzuki</td>\n",
       "      <td>Alto-800</td>\n",
       "      <td>2020</td>\n",
       "      <td>4</td>\n",
       "      <td>55,000 km</td>\n",
       "      <td>Manual</td>\n",
       "      <td>first</td>\n",
       "      <td>Hybrid/CNG</td>\n",
       "      <td>Nov-24</td>\n",
       "      <td>Maruti Suzuki Alto 800 CNG LXI Optional, 2020,...</td>\n",
       "      <td>375000</td>\n",
       "    </tr>\n",
       "    <tr>\n",
       "      <th>9579</th>\n",
       "      <td>Maruti Suzuki</td>\n",
       "      <td>Ritz</td>\n",
       "      <td>2013</td>\n",
       "      <td>11</td>\n",
       "      <td>92,000 km</td>\n",
       "      <td>Manual</td>\n",
       "      <td>first</td>\n",
       "      <td>Diesel</td>\n",
       "      <td>Nov-24</td>\n",
       "      <td>Maruti Suzuki Ritz VDi, 2013, Diesel</td>\n",
       "      <td>415000</td>\n",
       "    </tr>\n",
       "    <tr>\n",
       "      <th>9580</th>\n",
       "      <td>Hyundai</td>\n",
       "      <td>Verna</td>\n",
       "      <td>2019</td>\n",
       "      <td>5</td>\n",
       "      <td>72,000 km</td>\n",
       "      <td>Automatic</td>\n",
       "      <td>first</td>\n",
       "      <td>Petrol</td>\n",
       "      <td>Oct-24</td>\n",
       "      <td>Hyundai Verna VTVT 1.6 AT SX Option, 2019, Petrol</td>\n",
       "      <td>855000</td>\n",
       "    </tr>\n",
       "    <tr>\n",
       "      <th>9581</th>\n",
       "      <td>Hyundai</td>\n",
       "      <td>New i20</td>\n",
       "      <td>2021</td>\n",
       "      <td>3</td>\n",
       "      <td>83,228 km</td>\n",
       "      <td>Manual</td>\n",
       "      <td>second</td>\n",
       "      <td>Petrol</td>\n",
       "      <td>Nov-24</td>\n",
       "      <td>Hyundai New i20 1.2 Asta IVT, 2021, Petrol</td>\n",
       "      <td>699000</td>\n",
       "    </tr>\n",
       "  </tbody>\n",
       "</table>\n",
       "<p>9582 rows × 11 columns</p>\n",
       "</div>"
      ],
      "text/plain": [
       "              Brand      model  Year  Age     kmDriven Transmission   Owner  \\\n",
       "0             Honda       City  2001   23    98,000 km       Manual  second   \n",
       "1            Toyota     Innova  2009   15  190000.0 km       Manual  second   \n",
       "2        Volkswagen  VentoTest  2010   14    77,246 km       Manual   first   \n",
       "3     Maruti Suzuki      Swift  2017    7    83,500 km       Manual  second   \n",
       "4     Maruti Suzuki     Baleno  2019    5    45,000 km    Automatic   first   \n",
       "...             ...        ...   ...  ...          ...          ...     ...   \n",
       "9577          Skoda    Octavia  2014   10   105,904 km    Automatic  second   \n",
       "9578  Maruti Suzuki   Alto-800  2020    4    55,000 km       Manual   first   \n",
       "9579  Maruti Suzuki       Ritz  2013   11    92,000 km       Manual   first   \n",
       "9580        Hyundai      Verna  2019    5    72,000 km    Automatic   first   \n",
       "9581        Hyundai    New i20  2021    3    83,228 km       Manual  second   \n",
       "\n",
       "        FuelType PostedDate  \\\n",
       "0         Petrol     Nov-24   \n",
       "1         Diesel     Jul-24   \n",
       "2         Diesel     Nov-24   \n",
       "3         Diesel     Nov-24   \n",
       "4         Petrol     Nov-24   \n",
       "...          ...        ...   \n",
       "9577      Diesel     Oct-24   \n",
       "9578  Hybrid/CNG     Nov-24   \n",
       "9579      Diesel     Nov-24   \n",
       "9580      Petrol     Oct-24   \n",
       "9581      Petrol     Nov-24   \n",
       "\n",
       "                                           AdditionInfo  AskPrice  \n",
       "0     Honda City v teck in mint condition, valid gen...    195000  \n",
       "1     Toyota Innova 2.5 G (Diesel) 7 Seater, 2009, D...    375000  \n",
       "2     Volkswagen Vento 2010-2013 Diesel Breeze, 2010...    184999  \n",
       "3        Maruti Suzuki Swift 2017 Diesel Good Condition    565000  \n",
       "4          Maruti Suzuki Baleno Alpha CVT, 2019, Petrol    685000  \n",
       "...                                                 ...       ...  \n",
       "9577       Skoda Octavia 1.9 Elegance TDI, 2014, Diesel   1040000  \n",
       "9578  Maruti Suzuki Alto 800 CNG LXI Optional, 2020,...    375000  \n",
       "9579               Maruti Suzuki Ritz VDi, 2013, Diesel    415000  \n",
       "9580  Hyundai Verna VTVT 1.6 AT SX Option, 2019, Petrol    855000  \n",
       "9581         Hyundai New i20 1.2 Asta IVT, 2021, Petrol    699000  \n",
       "\n",
       "[9582 rows x 11 columns]"
      ]
     },
     "execution_count": 53,
     "metadata": {},
     "output_type": "execute_result"
    }
   ],
   "source": [
    "df"
   ]
  },
  {
   "cell_type": "code",
   "execution_count": 54,
   "id": "f8b76261-d6b3-488a-b950-11b0e4529019",
   "metadata": {},
   "outputs": [
    {
     "name": "stdout",
     "output_type": "stream",
     "text": [
      "<class 'pandas.core.frame.DataFrame'>\n",
      "RangeIndex: 9582 entries, 0 to 9581\n",
      "Data columns (total 11 columns):\n",
      " #   Column        Non-Null Count  Dtype \n",
      "---  ------        --------------  ----- \n",
      " 0   Brand         9582 non-null   object\n",
      " 1   model         9582 non-null   object\n",
      " 2   Year          9582 non-null   int64 \n",
      " 3   Age           9582 non-null   int64 \n",
      " 4   kmDriven      9535 non-null   object\n",
      " 5   Transmission  9582 non-null   object\n",
      " 6   Owner         9582 non-null   object\n",
      " 7   FuelType      9582 non-null   object\n",
      " 8   PostedDate    9582 non-null   object\n",
      " 9   AdditionInfo  9582 non-null   object\n",
      " 10  AskPrice      9582 non-null   int64 \n",
      "dtypes: int64(3), object(8)\n",
      "memory usage: 823.6+ KB\n"
     ]
    }
   ],
   "source": [
    "df.info()"
   ]
  },
  {
   "cell_type": "code",
   "execution_count": 55,
   "id": "4aa74a7f-3da4-401d-9fc4-f64892aafacc",
   "metadata": {},
   "outputs": [],
   "source": [
    "df['kmDriven'] = df['kmDriven'].astype('string')\n",
    "df['PostedDate'] = pd.to_datetime(df['PostedDate'], format='%b-%y', errors='coerce')"
   ]
  },
  {
   "cell_type": "code",
   "execution_count": 56,
   "id": "6132913d-94ef-46e5-9f8a-90e2e15142d7",
   "metadata": {},
   "outputs": [
    {
     "name": "stdout",
     "output_type": "stream",
     "text": [
      "<class 'pandas.core.frame.DataFrame'>\n",
      "RangeIndex: 9582 entries, 0 to 9581\n",
      "Data columns (total 11 columns):\n",
      " #   Column        Non-Null Count  Dtype         \n",
      "---  ------        --------------  -----         \n",
      " 0   Brand         9582 non-null   object        \n",
      " 1   model         9582 non-null   object        \n",
      " 2   Year          9582 non-null   int64         \n",
      " 3   Age           9582 non-null   int64         \n",
      " 4   kmDriven      9535 non-null   string        \n",
      " 5   Transmission  9582 non-null   object        \n",
      " 6   Owner         9582 non-null   object        \n",
      " 7   FuelType      9582 non-null   object        \n",
      " 8   PostedDate    9582 non-null   datetime64[ns]\n",
      " 9   AdditionInfo  9582 non-null   object        \n",
      " 10  AskPrice      9582 non-null   int64         \n",
      "dtypes: datetime64[ns](1), int64(3), object(6), string(1)\n",
      "memory usage: 823.6+ KB\n"
     ]
    }
   ],
   "source": [
    "df.info()"
   ]
  },
  {
   "cell_type": "code",
   "execution_count": 59,
   "id": "5e27788e-a918-46d2-a848-76c244ea37d9",
   "metadata": {},
   "outputs": [],
   "source": [
    "df.sort_values('AskPrice',ascending = False, inplace = True)"
   ]
  },
  {
   "cell_type": "code",
   "execution_count": 60,
   "id": "18d6c85a-a6e2-44f1-ba3e-6cf91f39bc50",
   "metadata": {},
   "outputs": [
    {
     "data": {
      "text/html": [
       "<div>\n",
       "<style scoped>\n",
       "    .dataframe tbody tr th:only-of-type {\n",
       "        vertical-align: middle;\n",
       "    }\n",
       "\n",
       "    .dataframe tbody tr th {\n",
       "        vertical-align: top;\n",
       "    }\n",
       "\n",
       "    .dataframe thead th {\n",
       "        text-align: right;\n",
       "    }\n",
       "</style>\n",
       "<table border=\"1\" class=\"dataframe\">\n",
       "  <thead>\n",
       "    <tr style=\"text-align: right;\">\n",
       "      <th></th>\n",
       "      <th>Brand</th>\n",
       "      <th>model</th>\n",
       "      <th>Year</th>\n",
       "      <th>Age</th>\n",
       "      <th>kmDriven</th>\n",
       "      <th>Transmission</th>\n",
       "      <th>Owner</th>\n",
       "      <th>FuelType</th>\n",
       "      <th>PostedDate</th>\n",
       "      <th>AdditionInfo</th>\n",
       "      <th>AskPrice</th>\n",
       "    </tr>\n",
       "  </thead>\n",
       "  <tbody>\n",
       "    <tr>\n",
       "      <th>3331</th>\n",
       "      <td>Rolls-Royce</td>\n",
       "      <td>Phantom Series II</td>\n",
       "      <td>2015</td>\n",
       "      <td>9</td>\n",
       "      <td>11,500 km</td>\n",
       "      <td>Automatic</td>\n",
       "      <td>second</td>\n",
       "      <td>Petrol</td>\n",
       "      <td>2024-08-01</td>\n",
       "      <td>Rolls-Royce Phantom Series II EWB, 2015, Petrol</td>\n",
       "      <td>42500000</td>\n",
       "    </tr>\n",
       "    <tr>\n",
       "      <th>962</th>\n",
       "      <td>Lexus</td>\n",
       "      <td>LX</td>\n",
       "      <td>2024</td>\n",
       "      <td>0</td>\n",
       "      <td>24,000 km</td>\n",
       "      <td>Automatic</td>\n",
       "      <td>first</td>\n",
       "      <td>Diesel</td>\n",
       "      <td>2024-11-01</td>\n",
       "      <td>Lexus LX 500d, 2024, Diesel</td>\n",
       "      <td>27750000</td>\n",
       "    </tr>\n",
       "    <tr>\n",
       "      <th>331</th>\n",
       "      <td>Aston Martin</td>\n",
       "      <td>Vanquish</td>\n",
       "      <td>2016</td>\n",
       "      <td>8</td>\n",
       "      <td>25700.0 km</td>\n",
       "      <td>Automatic</td>\n",
       "      <td>first</td>\n",
       "      <td>Petrol</td>\n",
       "      <td>2024-11-01</td>\n",
       "      <td>Aston Martin Vanquish 6.0 V12, 2016, Petrol</td>\n",
       "      <td>26400000</td>\n",
       "    </tr>\n",
       "    <tr>\n",
       "      <th>811</th>\n",
       "      <td>Mercedes-Benz</td>\n",
       "      <td>G Class</td>\n",
       "      <td>2019</td>\n",
       "      <td>5</td>\n",
       "      <td>59,000 km</td>\n",
       "      <td>Automatic</td>\n",
       "      <td>first</td>\n",
       "      <td>Petrol</td>\n",
       "      <td>2024-09-01</td>\n",
       "      <td>Mercedes-Benz G Class 63 AMG, 2019, Petrol</td>\n",
       "      <td>26000000</td>\n",
       "    </tr>\n",
       "    <tr>\n",
       "      <th>5767</th>\n",
       "      <td>Mercedes-Benz</td>\n",
       "      <td>G Class</td>\n",
       "      <td>2019</td>\n",
       "      <td>5</td>\n",
       "      <td>59,000 km</td>\n",
       "      <td>Automatic</td>\n",
       "      <td>first</td>\n",
       "      <td>Petrol</td>\n",
       "      <td>2024-11-01</td>\n",
       "      <td>Mercedes-Benz G Class G63 AMG, 2019, Petrol</td>\n",
       "      <td>24900000</td>\n",
       "    </tr>\n",
       "    <tr>\n",
       "      <th>...</th>\n",
       "      <td>...</td>\n",
       "      <td>...</td>\n",
       "      <td>...</td>\n",
       "      <td>...</td>\n",
       "      <td>...</td>\n",
       "      <td>...</td>\n",
       "      <td>...</td>\n",
       "      <td>...</td>\n",
       "      <td>...</td>\n",
       "      <td>...</td>\n",
       "      <td>...</td>\n",
       "    </tr>\n",
       "    <tr>\n",
       "      <th>7507</th>\n",
       "      <td>Ashok</td>\n",
       "      <td>Leyland Stile</td>\n",
       "      <td>2024</td>\n",
       "      <td>0</td>\n",
       "      <td>0 km</td>\n",
       "      <td>Automatic</td>\n",
       "      <td>first</td>\n",
       "      <td>Hybrid/CNG</td>\n",
       "      <td>2024-11-01</td>\n",
       "      <td>Hath gadi thella new juice set-up thella</td>\n",
       "      <td>32000</td>\n",
       "    </tr>\n",
       "    <tr>\n",
       "      <th>7242</th>\n",
       "      <td>Maruti Suzuki</td>\n",
       "      <td>Zen-Estilo</td>\n",
       "      <td>1998</td>\n",
       "      <td>26</td>\n",
       "      <td>&lt;NA&gt;</td>\n",
       "      <td>Manual</td>\n",
       "      <td>second</td>\n",
       "      <td>Petrol</td>\n",
       "      <td>2024-11-01</td>\n",
       "      <td>Zen 1998 model,insurence renewed,test in 2025 ...</td>\n",
       "      <td>27000</td>\n",
       "    </tr>\n",
       "    <tr>\n",
       "      <th>271</th>\n",
       "      <td>Maruti Suzuki</td>\n",
       "      <td>Alto-800</td>\n",
       "      <td>2006</td>\n",
       "      <td>18</td>\n",
       "      <td>20,024 km</td>\n",
       "      <td>Manual</td>\n",
       "      <td>first</td>\n",
       "      <td>Petrol</td>\n",
       "      <td>2024-11-01</td>\n",
       "      <td>पुरानी स्क्रैप की गाड़ी बेचने के लिए संपर्क करें</td>\n",
       "      <td>20000</td>\n",
       "    </tr>\n",
       "    <tr>\n",
       "      <th>3034</th>\n",
       "      <td>Maruti Suzuki</td>\n",
       "      <td>Baleno</td>\n",
       "      <td>2024</td>\n",
       "      <td>0</td>\n",
       "      <td>9,000 km</td>\n",
       "      <td>Manual</td>\n",
       "      <td>first</td>\n",
       "      <td>Petrol</td>\n",
       "      <td>2024-11-01</td>\n",
       "      <td>Panasound brand Daimond 2k androd stereo</td>\n",
       "      <td>18500</td>\n",
       "    </tr>\n",
       "    <tr>\n",
       "      <th>1751</th>\n",
       "      <td>Mahindra</td>\n",
       "      <td>Marshal</td>\n",
       "      <td>2000</td>\n",
       "      <td>24</td>\n",
       "      <td>55,000 km</td>\n",
       "      <td>Manual</td>\n",
       "      <td>second</td>\n",
       "      <td>Diesel</td>\n",
       "      <td>2024-11-01</td>\n",
       "      <td>Want NOC for Mahindra Marshal or Commander</td>\n",
       "      <td>15000</td>\n",
       "    </tr>\n",
       "  </tbody>\n",
       "</table>\n",
       "<p>9582 rows × 11 columns</p>\n",
       "</div>"
      ],
      "text/plain": [
       "              Brand              model  Year  Age    kmDriven Transmission  \\\n",
       "3331    Rolls-Royce  Phantom Series II  2015    9   11,500 km    Automatic   \n",
       "962           Lexus                 LX  2024    0   24,000 km    Automatic   \n",
       "331    Aston Martin           Vanquish  2016    8  25700.0 km    Automatic   \n",
       "811   Mercedes-Benz            G Class  2019    5   59,000 km    Automatic   \n",
       "5767  Mercedes-Benz            G Class  2019    5   59,000 km    Automatic   \n",
       "...             ...                ...   ...  ...         ...          ...   \n",
       "7507          Ashok      Leyland Stile  2024    0        0 km    Automatic   \n",
       "7242  Maruti Suzuki         Zen-Estilo  1998   26        <NA>       Manual   \n",
       "271   Maruti Suzuki           Alto-800  2006   18   20,024 km       Manual   \n",
       "3034  Maruti Suzuki             Baleno  2024    0    9,000 km       Manual   \n",
       "1751       Mahindra            Marshal  2000   24   55,000 km       Manual   \n",
       "\n",
       "       Owner    FuelType PostedDate  \\\n",
       "3331  second      Petrol 2024-08-01   \n",
       "962    first      Diesel 2024-11-01   \n",
       "331    first      Petrol 2024-11-01   \n",
       "811    first      Petrol 2024-09-01   \n",
       "5767   first      Petrol 2024-11-01   \n",
       "...      ...         ...        ...   \n",
       "7507   first  Hybrid/CNG 2024-11-01   \n",
       "7242  second      Petrol 2024-11-01   \n",
       "271    first      Petrol 2024-11-01   \n",
       "3034   first      Petrol 2024-11-01   \n",
       "1751  second      Diesel 2024-11-01   \n",
       "\n",
       "                                           AdditionInfo  AskPrice  \n",
       "3331    Rolls-Royce Phantom Series II EWB, 2015, Petrol  42500000  \n",
       "962                         Lexus LX 500d, 2024, Diesel  27750000  \n",
       "331         Aston Martin Vanquish 6.0 V12, 2016, Petrol  26400000  \n",
       "811          Mercedes-Benz G Class 63 AMG, 2019, Petrol  26000000  \n",
       "5767        Mercedes-Benz G Class G63 AMG, 2019, Petrol  24900000  \n",
       "...                                                 ...       ...  \n",
       "7507           Hath gadi thella new juice set-up thella     32000  \n",
       "7242  Zen 1998 model,insurence renewed,test in 2025 ...     27000  \n",
       "271    पुरानी स्क्रैप की गाड़ी बेचने के लिए संपर्क करें     20000  \n",
       "3034           Panasound brand Daimond 2k androd stereo     18500  \n",
       "1751         Want NOC for Mahindra Marshal or Commander     15000  \n",
       "\n",
       "[9582 rows x 11 columns]"
      ]
     },
     "execution_count": 60,
     "metadata": {},
     "output_type": "execute_result"
    }
   ],
   "source": [
    "df"
   ]
  },
  {
   "cell_type": "code",
   "execution_count": 61,
   "id": "83416a34-3c40-4932-bece-2db0d756f518",
   "metadata": {},
   "outputs": [
    {
     "ename": "KeyError",
     "evalue": "\"['index'] not found in axis\"",
     "output_type": "error",
     "traceback": [
      "\u001b[1;31m---------------------------------------------------------------------------\u001b[0m",
      "\u001b[1;31mKeyError\u001b[0m                                  Traceback (most recent call last)",
      "Cell \u001b[1;32mIn[61], line 1\u001b[0m\n\u001b[1;32m----> 1\u001b[0m df\u001b[38;5;241m.\u001b[39mdrop(columns\u001b[38;5;241m=\u001b[39m[\u001b[38;5;124m'\u001b[39m\u001b[38;5;124mindex\u001b[39m\u001b[38;5;124m'\u001b[39m], inplace\u001b[38;5;241m=\u001b[39m\u001b[38;5;28;01mTrue\u001b[39;00m)\n",
      "File \u001b[1;32m~\\anaconda3\\Lib\\site-packages\\pandas\\core\\frame.py:5581\u001b[0m, in \u001b[0;36mDataFrame.drop\u001b[1;34m(self, labels, axis, index, columns, level, inplace, errors)\u001b[0m\n\u001b[0;32m   5433\u001b[0m \u001b[38;5;28;01mdef\u001b[39;00m \u001b[38;5;21mdrop\u001b[39m(\n\u001b[0;32m   5434\u001b[0m     \u001b[38;5;28mself\u001b[39m,\n\u001b[0;32m   5435\u001b[0m     labels: IndexLabel \u001b[38;5;241m|\u001b[39m \u001b[38;5;28;01mNone\u001b[39;00m \u001b[38;5;241m=\u001b[39m \u001b[38;5;28;01mNone\u001b[39;00m,\n\u001b[1;32m   (...)\u001b[0m\n\u001b[0;32m   5442\u001b[0m     errors: IgnoreRaise \u001b[38;5;241m=\u001b[39m \u001b[38;5;124m\"\u001b[39m\u001b[38;5;124mraise\u001b[39m\u001b[38;5;124m\"\u001b[39m,\n\u001b[0;32m   5443\u001b[0m ) \u001b[38;5;241m-\u001b[39m\u001b[38;5;241m>\u001b[39m DataFrame \u001b[38;5;241m|\u001b[39m \u001b[38;5;28;01mNone\u001b[39;00m:\n\u001b[0;32m   5444\u001b[0m \u001b[38;5;250m    \u001b[39m\u001b[38;5;124;03m\"\"\"\u001b[39;00m\n\u001b[0;32m   5445\u001b[0m \u001b[38;5;124;03m    Drop specified labels from rows or columns.\u001b[39;00m\n\u001b[0;32m   5446\u001b[0m \n\u001b[1;32m   (...)\u001b[0m\n\u001b[0;32m   5579\u001b[0m \u001b[38;5;124;03m            weight  1.0     0.8\u001b[39;00m\n\u001b[0;32m   5580\u001b[0m \u001b[38;5;124;03m    \"\"\"\u001b[39;00m\n\u001b[1;32m-> 5581\u001b[0m     \u001b[38;5;28;01mreturn\u001b[39;00m \u001b[38;5;28msuper\u001b[39m()\u001b[38;5;241m.\u001b[39mdrop(\n\u001b[0;32m   5582\u001b[0m         labels\u001b[38;5;241m=\u001b[39mlabels,\n\u001b[0;32m   5583\u001b[0m         axis\u001b[38;5;241m=\u001b[39maxis,\n\u001b[0;32m   5584\u001b[0m         index\u001b[38;5;241m=\u001b[39mindex,\n\u001b[0;32m   5585\u001b[0m         columns\u001b[38;5;241m=\u001b[39mcolumns,\n\u001b[0;32m   5586\u001b[0m         level\u001b[38;5;241m=\u001b[39mlevel,\n\u001b[0;32m   5587\u001b[0m         inplace\u001b[38;5;241m=\u001b[39minplace,\n\u001b[0;32m   5588\u001b[0m         errors\u001b[38;5;241m=\u001b[39merrors,\n\u001b[0;32m   5589\u001b[0m     )\n",
      "File \u001b[1;32m~\\anaconda3\\Lib\\site-packages\\pandas\\core\\generic.py:4788\u001b[0m, in \u001b[0;36mNDFrame.drop\u001b[1;34m(self, labels, axis, index, columns, level, inplace, errors)\u001b[0m\n\u001b[0;32m   4786\u001b[0m \u001b[38;5;28;01mfor\u001b[39;00m axis, labels \u001b[38;5;129;01min\u001b[39;00m axes\u001b[38;5;241m.\u001b[39mitems():\n\u001b[0;32m   4787\u001b[0m     \u001b[38;5;28;01mif\u001b[39;00m labels \u001b[38;5;129;01mis\u001b[39;00m \u001b[38;5;129;01mnot\u001b[39;00m \u001b[38;5;28;01mNone\u001b[39;00m:\n\u001b[1;32m-> 4788\u001b[0m         obj \u001b[38;5;241m=\u001b[39m obj\u001b[38;5;241m.\u001b[39m_drop_axis(labels, axis, level\u001b[38;5;241m=\u001b[39mlevel, errors\u001b[38;5;241m=\u001b[39merrors)\n\u001b[0;32m   4790\u001b[0m \u001b[38;5;28;01mif\u001b[39;00m inplace:\n\u001b[0;32m   4791\u001b[0m     \u001b[38;5;28mself\u001b[39m\u001b[38;5;241m.\u001b[39m_update_inplace(obj)\n",
      "File \u001b[1;32m~\\anaconda3\\Lib\\site-packages\\pandas\\core\\generic.py:4830\u001b[0m, in \u001b[0;36mNDFrame._drop_axis\u001b[1;34m(self, labels, axis, level, errors, only_slice)\u001b[0m\n\u001b[0;32m   4828\u001b[0m         new_axis \u001b[38;5;241m=\u001b[39m axis\u001b[38;5;241m.\u001b[39mdrop(labels, level\u001b[38;5;241m=\u001b[39mlevel, errors\u001b[38;5;241m=\u001b[39merrors)\n\u001b[0;32m   4829\u001b[0m     \u001b[38;5;28;01melse\u001b[39;00m:\n\u001b[1;32m-> 4830\u001b[0m         new_axis \u001b[38;5;241m=\u001b[39m axis\u001b[38;5;241m.\u001b[39mdrop(labels, errors\u001b[38;5;241m=\u001b[39merrors)\n\u001b[0;32m   4831\u001b[0m     indexer \u001b[38;5;241m=\u001b[39m axis\u001b[38;5;241m.\u001b[39mget_indexer(new_axis)\n\u001b[0;32m   4833\u001b[0m \u001b[38;5;66;03m# Case for non-unique axis\u001b[39;00m\n\u001b[0;32m   4834\u001b[0m \u001b[38;5;28;01melse\u001b[39;00m:\n",
      "File \u001b[1;32m~\\anaconda3\\Lib\\site-packages\\pandas\\core\\indexes\\base.py:7070\u001b[0m, in \u001b[0;36mIndex.drop\u001b[1;34m(self, labels, errors)\u001b[0m\n\u001b[0;32m   7068\u001b[0m \u001b[38;5;28;01mif\u001b[39;00m mask\u001b[38;5;241m.\u001b[39many():\n\u001b[0;32m   7069\u001b[0m     \u001b[38;5;28;01mif\u001b[39;00m errors \u001b[38;5;241m!=\u001b[39m \u001b[38;5;124m\"\u001b[39m\u001b[38;5;124mignore\u001b[39m\u001b[38;5;124m\"\u001b[39m:\n\u001b[1;32m-> 7070\u001b[0m         \u001b[38;5;28;01mraise\u001b[39;00m \u001b[38;5;167;01mKeyError\u001b[39;00m(\u001b[38;5;124mf\u001b[39m\u001b[38;5;124m\"\u001b[39m\u001b[38;5;132;01m{\u001b[39;00mlabels[mask]\u001b[38;5;241m.\u001b[39mtolist()\u001b[38;5;132;01m}\u001b[39;00m\u001b[38;5;124m not found in axis\u001b[39m\u001b[38;5;124m\"\u001b[39m)\n\u001b[0;32m   7071\u001b[0m     indexer \u001b[38;5;241m=\u001b[39m indexer[\u001b[38;5;241m~\u001b[39mmask]\n\u001b[0;32m   7072\u001b[0m \u001b[38;5;28;01mreturn\u001b[39;00m \u001b[38;5;28mself\u001b[39m\u001b[38;5;241m.\u001b[39mdelete(indexer)\n",
      "\u001b[1;31mKeyError\u001b[0m: \"['index'] not found in axis\""
     ]
    }
   ],
   "source": [
    "df.drop(columns=['index'], inplace=True)"
   ]
  },
  {
   "cell_type": "code",
   "execution_count": 64,
   "id": "05aea7a5-3323-4b40-bd85-bf53e8794b0b",
   "metadata": {},
   "outputs": [],
   "source": [
    "df.reset_index(inplace = True)"
   ]
  },
  {
   "cell_type": "code",
   "execution_count": 65,
   "id": "cb64094e-4127-4776-a7ef-4263eaf9e033",
   "metadata": {},
   "outputs": [
    {
     "data": {
      "text/html": [
       "<div>\n",
       "<style scoped>\n",
       "    .dataframe tbody tr th:only-of-type {\n",
       "        vertical-align: middle;\n",
       "    }\n",
       "\n",
       "    .dataframe tbody tr th {\n",
       "        vertical-align: top;\n",
       "    }\n",
       "\n",
       "    .dataframe thead th {\n",
       "        text-align: right;\n",
       "    }\n",
       "</style>\n",
       "<table border=\"1\" class=\"dataframe\">\n",
       "  <thead>\n",
       "    <tr style=\"text-align: right;\">\n",
       "      <th></th>\n",
       "      <th>index</th>\n",
       "      <th>Brand</th>\n",
       "      <th>model</th>\n",
       "      <th>Year</th>\n",
       "      <th>Age</th>\n",
       "      <th>kmDriven</th>\n",
       "      <th>Transmission</th>\n",
       "      <th>Owner</th>\n",
       "      <th>FuelType</th>\n",
       "      <th>PostedDate</th>\n",
       "      <th>AdditionInfo</th>\n",
       "      <th>AskPrice</th>\n",
       "    </tr>\n",
       "  </thead>\n",
       "  <tbody>\n",
       "    <tr>\n",
       "      <th>0</th>\n",
       "      <td>3331</td>\n",
       "      <td>Rolls-Royce</td>\n",
       "      <td>Phantom Series II</td>\n",
       "      <td>2015</td>\n",
       "      <td>9</td>\n",
       "      <td>11,500 km</td>\n",
       "      <td>Automatic</td>\n",
       "      <td>second</td>\n",
       "      <td>Petrol</td>\n",
       "      <td>2024-08-01</td>\n",
       "      <td>Rolls-Royce Phantom Series II EWB, 2015, Petrol</td>\n",
       "      <td>42500000</td>\n",
       "    </tr>\n",
       "    <tr>\n",
       "      <th>1</th>\n",
       "      <td>962</td>\n",
       "      <td>Lexus</td>\n",
       "      <td>LX</td>\n",
       "      <td>2024</td>\n",
       "      <td>0</td>\n",
       "      <td>24,000 km</td>\n",
       "      <td>Automatic</td>\n",
       "      <td>first</td>\n",
       "      <td>Diesel</td>\n",
       "      <td>2024-11-01</td>\n",
       "      <td>Lexus LX 500d, 2024, Diesel</td>\n",
       "      <td>27750000</td>\n",
       "    </tr>\n",
       "    <tr>\n",
       "      <th>2</th>\n",
       "      <td>331</td>\n",
       "      <td>Aston Martin</td>\n",
       "      <td>Vanquish</td>\n",
       "      <td>2016</td>\n",
       "      <td>8</td>\n",
       "      <td>25700.0 km</td>\n",
       "      <td>Automatic</td>\n",
       "      <td>first</td>\n",
       "      <td>Petrol</td>\n",
       "      <td>2024-11-01</td>\n",
       "      <td>Aston Martin Vanquish 6.0 V12, 2016, Petrol</td>\n",
       "      <td>26400000</td>\n",
       "    </tr>\n",
       "    <tr>\n",
       "      <th>3</th>\n",
       "      <td>811</td>\n",
       "      <td>Mercedes-Benz</td>\n",
       "      <td>G Class</td>\n",
       "      <td>2019</td>\n",
       "      <td>5</td>\n",
       "      <td>59,000 km</td>\n",
       "      <td>Automatic</td>\n",
       "      <td>first</td>\n",
       "      <td>Petrol</td>\n",
       "      <td>2024-09-01</td>\n",
       "      <td>Mercedes-Benz G Class 63 AMG, 2019, Petrol</td>\n",
       "      <td>26000000</td>\n",
       "    </tr>\n",
       "    <tr>\n",
       "      <th>4</th>\n",
       "      <td>5767</td>\n",
       "      <td>Mercedes-Benz</td>\n",
       "      <td>G Class</td>\n",
       "      <td>2019</td>\n",
       "      <td>5</td>\n",
       "      <td>59,000 km</td>\n",
       "      <td>Automatic</td>\n",
       "      <td>first</td>\n",
       "      <td>Petrol</td>\n",
       "      <td>2024-11-01</td>\n",
       "      <td>Mercedes-Benz G Class G63 AMG, 2019, Petrol</td>\n",
       "      <td>24900000</td>\n",
       "    </tr>\n",
       "    <tr>\n",
       "      <th>...</th>\n",
       "      <td>...</td>\n",
       "      <td>...</td>\n",
       "      <td>...</td>\n",
       "      <td>...</td>\n",
       "      <td>...</td>\n",
       "      <td>...</td>\n",
       "      <td>...</td>\n",
       "      <td>...</td>\n",
       "      <td>...</td>\n",
       "      <td>...</td>\n",
       "      <td>...</td>\n",
       "      <td>...</td>\n",
       "    </tr>\n",
       "    <tr>\n",
       "      <th>9577</th>\n",
       "      <td>7507</td>\n",
       "      <td>Ashok</td>\n",
       "      <td>Leyland Stile</td>\n",
       "      <td>2024</td>\n",
       "      <td>0</td>\n",
       "      <td>0 km</td>\n",
       "      <td>Automatic</td>\n",
       "      <td>first</td>\n",
       "      <td>Hybrid/CNG</td>\n",
       "      <td>2024-11-01</td>\n",
       "      <td>Hath gadi thella new juice set-up thella</td>\n",
       "      <td>32000</td>\n",
       "    </tr>\n",
       "    <tr>\n",
       "      <th>9578</th>\n",
       "      <td>7242</td>\n",
       "      <td>Maruti Suzuki</td>\n",
       "      <td>Zen-Estilo</td>\n",
       "      <td>1998</td>\n",
       "      <td>26</td>\n",
       "      <td>&lt;NA&gt;</td>\n",
       "      <td>Manual</td>\n",
       "      <td>second</td>\n",
       "      <td>Petrol</td>\n",
       "      <td>2024-11-01</td>\n",
       "      <td>Zen 1998 model,insurence renewed,test in 2025 ...</td>\n",
       "      <td>27000</td>\n",
       "    </tr>\n",
       "    <tr>\n",
       "      <th>9579</th>\n",
       "      <td>271</td>\n",
       "      <td>Maruti Suzuki</td>\n",
       "      <td>Alto-800</td>\n",
       "      <td>2006</td>\n",
       "      <td>18</td>\n",
       "      <td>20,024 km</td>\n",
       "      <td>Manual</td>\n",
       "      <td>first</td>\n",
       "      <td>Petrol</td>\n",
       "      <td>2024-11-01</td>\n",
       "      <td>पुरानी स्क्रैप की गाड़ी बेचने के लिए संपर्क करें</td>\n",
       "      <td>20000</td>\n",
       "    </tr>\n",
       "    <tr>\n",
       "      <th>9580</th>\n",
       "      <td>3034</td>\n",
       "      <td>Maruti Suzuki</td>\n",
       "      <td>Baleno</td>\n",
       "      <td>2024</td>\n",
       "      <td>0</td>\n",
       "      <td>9,000 km</td>\n",
       "      <td>Manual</td>\n",
       "      <td>first</td>\n",
       "      <td>Petrol</td>\n",
       "      <td>2024-11-01</td>\n",
       "      <td>Panasound brand Daimond 2k androd stereo</td>\n",
       "      <td>18500</td>\n",
       "    </tr>\n",
       "    <tr>\n",
       "      <th>9581</th>\n",
       "      <td>1751</td>\n",
       "      <td>Mahindra</td>\n",
       "      <td>Marshal</td>\n",
       "      <td>2000</td>\n",
       "      <td>24</td>\n",
       "      <td>55,000 km</td>\n",
       "      <td>Manual</td>\n",
       "      <td>second</td>\n",
       "      <td>Diesel</td>\n",
       "      <td>2024-11-01</td>\n",
       "      <td>Want NOC for Mahindra Marshal or Commander</td>\n",
       "      <td>15000</td>\n",
       "    </tr>\n",
       "  </tbody>\n",
       "</table>\n",
       "<p>9582 rows × 12 columns</p>\n",
       "</div>"
      ],
      "text/plain": [
       "      index          Brand              model  Year  Age    kmDriven  \\\n",
       "0      3331    Rolls-Royce  Phantom Series II  2015    9   11,500 km   \n",
       "1       962          Lexus                 LX  2024    0   24,000 km   \n",
       "2       331   Aston Martin           Vanquish  2016    8  25700.0 km   \n",
       "3       811  Mercedes-Benz            G Class  2019    5   59,000 km   \n",
       "4      5767  Mercedes-Benz            G Class  2019    5   59,000 km   \n",
       "...     ...            ...                ...   ...  ...         ...   \n",
       "9577   7507          Ashok      Leyland Stile  2024    0        0 km   \n",
       "9578   7242  Maruti Suzuki         Zen-Estilo  1998   26        <NA>   \n",
       "9579    271  Maruti Suzuki           Alto-800  2006   18   20,024 km   \n",
       "9580   3034  Maruti Suzuki             Baleno  2024    0    9,000 km   \n",
       "9581   1751       Mahindra            Marshal  2000   24   55,000 km   \n",
       "\n",
       "     Transmission   Owner    FuelType PostedDate  \\\n",
       "0       Automatic  second      Petrol 2024-08-01   \n",
       "1       Automatic   first      Diesel 2024-11-01   \n",
       "2       Automatic   first      Petrol 2024-11-01   \n",
       "3       Automatic   first      Petrol 2024-09-01   \n",
       "4       Automatic   first      Petrol 2024-11-01   \n",
       "...           ...     ...         ...        ...   \n",
       "9577    Automatic   first  Hybrid/CNG 2024-11-01   \n",
       "9578       Manual  second      Petrol 2024-11-01   \n",
       "9579       Manual   first      Petrol 2024-11-01   \n",
       "9580       Manual   first      Petrol 2024-11-01   \n",
       "9581       Manual  second      Diesel 2024-11-01   \n",
       "\n",
       "                                           AdditionInfo  AskPrice  \n",
       "0       Rolls-Royce Phantom Series II EWB, 2015, Petrol  42500000  \n",
       "1                           Lexus LX 500d, 2024, Diesel  27750000  \n",
       "2           Aston Martin Vanquish 6.0 V12, 2016, Petrol  26400000  \n",
       "3            Mercedes-Benz G Class 63 AMG, 2019, Petrol  26000000  \n",
       "4           Mercedes-Benz G Class G63 AMG, 2019, Petrol  24900000  \n",
       "...                                                 ...       ...  \n",
       "9577           Hath gadi thella new juice set-up thella     32000  \n",
       "9578  Zen 1998 model,insurence renewed,test in 2025 ...     27000  \n",
       "9579   पुरानी स्क्रैप की गाड़ी बेचने के लिए संपर्क करें     20000  \n",
       "9580           Panasound brand Daimond 2k androd stereo     18500  \n",
       "9581         Want NOC for Mahindra Marshal or Commander     15000  \n",
       "\n",
       "[9582 rows x 12 columns]"
      ]
     },
     "execution_count": 65,
     "metadata": {},
     "output_type": "execute_result"
    }
   ],
   "source": [
    "df"
   ]
  },
  {
   "cell_type": "code",
   "execution_count": 66,
   "id": "69b142b2-8fad-4478-821f-1e1f9a889aa5",
   "metadata": {},
   "outputs": [],
   "source": [
    "df.drop(columns=['index'], inplace=True)"
   ]
  },
  {
   "cell_type": "code",
   "execution_count": 67,
   "id": "1395e679-a9b8-4020-ade1-a6dbb19b884d",
   "metadata": {},
   "outputs": [
    {
     "data": {
      "text/html": [
       "<div>\n",
       "<style scoped>\n",
       "    .dataframe tbody tr th:only-of-type {\n",
       "        vertical-align: middle;\n",
       "    }\n",
       "\n",
       "    .dataframe tbody tr th {\n",
       "        vertical-align: top;\n",
       "    }\n",
       "\n",
       "    .dataframe thead th {\n",
       "        text-align: right;\n",
       "    }\n",
       "</style>\n",
       "<table border=\"1\" class=\"dataframe\">\n",
       "  <thead>\n",
       "    <tr style=\"text-align: right;\">\n",
       "      <th></th>\n",
       "      <th>Brand</th>\n",
       "      <th>model</th>\n",
       "      <th>Year</th>\n",
       "      <th>Age</th>\n",
       "      <th>kmDriven</th>\n",
       "      <th>Transmission</th>\n",
       "      <th>Owner</th>\n",
       "      <th>FuelType</th>\n",
       "      <th>PostedDate</th>\n",
       "      <th>AdditionInfo</th>\n",
       "      <th>AskPrice</th>\n",
       "    </tr>\n",
       "  </thead>\n",
       "  <tbody>\n",
       "    <tr>\n",
       "      <th>0</th>\n",
       "      <td>Rolls-Royce</td>\n",
       "      <td>Phantom Series II</td>\n",
       "      <td>2015</td>\n",
       "      <td>9</td>\n",
       "      <td>11,500 km</td>\n",
       "      <td>Automatic</td>\n",
       "      <td>second</td>\n",
       "      <td>Petrol</td>\n",
       "      <td>2024-08-01</td>\n",
       "      <td>Rolls-Royce Phantom Series II EWB, 2015, Petrol</td>\n",
       "      <td>42500000</td>\n",
       "    </tr>\n",
       "    <tr>\n",
       "      <th>1</th>\n",
       "      <td>Lexus</td>\n",
       "      <td>LX</td>\n",
       "      <td>2024</td>\n",
       "      <td>0</td>\n",
       "      <td>24,000 km</td>\n",
       "      <td>Automatic</td>\n",
       "      <td>first</td>\n",
       "      <td>Diesel</td>\n",
       "      <td>2024-11-01</td>\n",
       "      <td>Lexus LX 500d, 2024, Diesel</td>\n",
       "      <td>27750000</td>\n",
       "    </tr>\n",
       "    <tr>\n",
       "      <th>2</th>\n",
       "      <td>Aston Martin</td>\n",
       "      <td>Vanquish</td>\n",
       "      <td>2016</td>\n",
       "      <td>8</td>\n",
       "      <td>25700.0 km</td>\n",
       "      <td>Automatic</td>\n",
       "      <td>first</td>\n",
       "      <td>Petrol</td>\n",
       "      <td>2024-11-01</td>\n",
       "      <td>Aston Martin Vanquish 6.0 V12, 2016, Petrol</td>\n",
       "      <td>26400000</td>\n",
       "    </tr>\n",
       "    <tr>\n",
       "      <th>3</th>\n",
       "      <td>Mercedes-Benz</td>\n",
       "      <td>G Class</td>\n",
       "      <td>2019</td>\n",
       "      <td>5</td>\n",
       "      <td>59,000 km</td>\n",
       "      <td>Automatic</td>\n",
       "      <td>first</td>\n",
       "      <td>Petrol</td>\n",
       "      <td>2024-09-01</td>\n",
       "      <td>Mercedes-Benz G Class 63 AMG, 2019, Petrol</td>\n",
       "      <td>26000000</td>\n",
       "    </tr>\n",
       "    <tr>\n",
       "      <th>4</th>\n",
       "      <td>Mercedes-Benz</td>\n",
       "      <td>G Class</td>\n",
       "      <td>2019</td>\n",
       "      <td>5</td>\n",
       "      <td>59,000 km</td>\n",
       "      <td>Automatic</td>\n",
       "      <td>first</td>\n",
       "      <td>Petrol</td>\n",
       "      <td>2024-11-01</td>\n",
       "      <td>Mercedes-Benz G Class G63 AMG, 2019, Petrol</td>\n",
       "      <td>24900000</td>\n",
       "    </tr>\n",
       "    <tr>\n",
       "      <th>...</th>\n",
       "      <td>...</td>\n",
       "      <td>...</td>\n",
       "      <td>...</td>\n",
       "      <td>...</td>\n",
       "      <td>...</td>\n",
       "      <td>...</td>\n",
       "      <td>...</td>\n",
       "      <td>...</td>\n",
       "      <td>...</td>\n",
       "      <td>...</td>\n",
       "      <td>...</td>\n",
       "    </tr>\n",
       "    <tr>\n",
       "      <th>9577</th>\n",
       "      <td>Ashok</td>\n",
       "      <td>Leyland Stile</td>\n",
       "      <td>2024</td>\n",
       "      <td>0</td>\n",
       "      <td>0 km</td>\n",
       "      <td>Automatic</td>\n",
       "      <td>first</td>\n",
       "      <td>Hybrid/CNG</td>\n",
       "      <td>2024-11-01</td>\n",
       "      <td>Hath gadi thella new juice set-up thella</td>\n",
       "      <td>32000</td>\n",
       "    </tr>\n",
       "    <tr>\n",
       "      <th>9578</th>\n",
       "      <td>Maruti Suzuki</td>\n",
       "      <td>Zen-Estilo</td>\n",
       "      <td>1998</td>\n",
       "      <td>26</td>\n",
       "      <td>&lt;NA&gt;</td>\n",
       "      <td>Manual</td>\n",
       "      <td>second</td>\n",
       "      <td>Petrol</td>\n",
       "      <td>2024-11-01</td>\n",
       "      <td>Zen 1998 model,insurence renewed,test in 2025 ...</td>\n",
       "      <td>27000</td>\n",
       "    </tr>\n",
       "    <tr>\n",
       "      <th>9579</th>\n",
       "      <td>Maruti Suzuki</td>\n",
       "      <td>Alto-800</td>\n",
       "      <td>2006</td>\n",
       "      <td>18</td>\n",
       "      <td>20,024 km</td>\n",
       "      <td>Manual</td>\n",
       "      <td>first</td>\n",
       "      <td>Petrol</td>\n",
       "      <td>2024-11-01</td>\n",
       "      <td>पुरानी स्क्रैप की गाड़ी बेचने के लिए संपर्क करें</td>\n",
       "      <td>20000</td>\n",
       "    </tr>\n",
       "    <tr>\n",
       "      <th>9580</th>\n",
       "      <td>Maruti Suzuki</td>\n",
       "      <td>Baleno</td>\n",
       "      <td>2024</td>\n",
       "      <td>0</td>\n",
       "      <td>9,000 km</td>\n",
       "      <td>Manual</td>\n",
       "      <td>first</td>\n",
       "      <td>Petrol</td>\n",
       "      <td>2024-11-01</td>\n",
       "      <td>Panasound brand Daimond 2k androd stereo</td>\n",
       "      <td>18500</td>\n",
       "    </tr>\n",
       "    <tr>\n",
       "      <th>9581</th>\n",
       "      <td>Mahindra</td>\n",
       "      <td>Marshal</td>\n",
       "      <td>2000</td>\n",
       "      <td>24</td>\n",
       "      <td>55,000 km</td>\n",
       "      <td>Manual</td>\n",
       "      <td>second</td>\n",
       "      <td>Diesel</td>\n",
       "      <td>2024-11-01</td>\n",
       "      <td>Want NOC for Mahindra Marshal or Commander</td>\n",
       "      <td>15000</td>\n",
       "    </tr>\n",
       "  </tbody>\n",
       "</table>\n",
       "<p>9582 rows × 11 columns</p>\n",
       "</div>"
      ],
      "text/plain": [
       "              Brand              model  Year  Age    kmDriven Transmission  \\\n",
       "0       Rolls-Royce  Phantom Series II  2015    9   11,500 km    Automatic   \n",
       "1             Lexus                 LX  2024    0   24,000 km    Automatic   \n",
       "2      Aston Martin           Vanquish  2016    8  25700.0 km    Automatic   \n",
       "3     Mercedes-Benz            G Class  2019    5   59,000 km    Automatic   \n",
       "4     Mercedes-Benz            G Class  2019    5   59,000 km    Automatic   \n",
       "...             ...                ...   ...  ...         ...          ...   \n",
       "9577          Ashok      Leyland Stile  2024    0        0 km    Automatic   \n",
       "9578  Maruti Suzuki         Zen-Estilo  1998   26        <NA>       Manual   \n",
       "9579  Maruti Suzuki           Alto-800  2006   18   20,024 km       Manual   \n",
       "9580  Maruti Suzuki             Baleno  2024    0    9,000 km       Manual   \n",
       "9581       Mahindra            Marshal  2000   24   55,000 km       Manual   \n",
       "\n",
       "       Owner    FuelType PostedDate  \\\n",
       "0     second      Petrol 2024-08-01   \n",
       "1      first      Diesel 2024-11-01   \n",
       "2      first      Petrol 2024-11-01   \n",
       "3      first      Petrol 2024-09-01   \n",
       "4      first      Petrol 2024-11-01   \n",
       "...      ...         ...        ...   \n",
       "9577   first  Hybrid/CNG 2024-11-01   \n",
       "9578  second      Petrol 2024-11-01   \n",
       "9579   first      Petrol 2024-11-01   \n",
       "9580   first      Petrol 2024-11-01   \n",
       "9581  second      Diesel 2024-11-01   \n",
       "\n",
       "                                           AdditionInfo  AskPrice  \n",
       "0       Rolls-Royce Phantom Series II EWB, 2015, Petrol  42500000  \n",
       "1                           Lexus LX 500d, 2024, Diesel  27750000  \n",
       "2           Aston Martin Vanquish 6.0 V12, 2016, Petrol  26400000  \n",
       "3            Mercedes-Benz G Class 63 AMG, 2019, Petrol  26000000  \n",
       "4           Mercedes-Benz G Class G63 AMG, 2019, Petrol  24900000  \n",
       "...                                                 ...       ...  \n",
       "9577           Hath gadi thella new juice set-up thella     32000  \n",
       "9578  Zen 1998 model,insurence renewed,test in 2025 ...     27000  \n",
       "9579   पुरानी स्क्रैप की गाड़ी बेचने के लिए संपर्क करें     20000  \n",
       "9580           Panasound brand Daimond 2k androd stereo     18500  \n",
       "9581         Want NOC for Mahindra Marshal or Commander     15000  \n",
       "\n",
       "[9582 rows x 11 columns]"
      ]
     },
     "execution_count": 67,
     "metadata": {},
     "output_type": "execute_result"
    }
   ],
   "source": [
    "df"
   ]
  },
  {
   "cell_type": "code",
   "execution_count": 68,
   "id": "15e441dd-e182-4818-a1d4-481953e186d9",
   "metadata": {},
   "outputs": [],
   "source": [
    "c = df.groupby('Brand')['model'].nunique()"
   ]
  },
  {
   "cell_type": "code",
   "execution_count": 75,
   "id": "d247458b-eb5d-47e5-bc0e-2ce8ef2a9f1e",
   "metadata": {},
   "outputs": [],
   "source": [
    "m=c.sort_values(ascending = False).head(15)"
   ]
  },
  {
   "cell_type": "code",
   "execution_count": 86,
   "id": "0dff30fe-708e-48a1-9078-9aeb5079fdc9",
   "metadata": {},
   "outputs": [
    {
     "data": {
      "text/plain": [
       "Text(0, 0.5, 'no.of brands')"
      ]
     },
     "execution_count": 86,
     "metadata": {},
     "output_type": "execute_result"
    },
    {
     "data": {
      "image/png": "[encoded data removed]",
      "text/plain": [
       "<Figure size 1400x400 with 1 Axes>"
      ]
     },
     "metadata": {},
     "output_type": "display_data"
    }
   ],
   "source": [
    "plt.figure(figsize = (14,4))\n",
    "sns.barplot(x = m.index, y= m.values, color= 'green')\n",
    "plt.xticks(rotation = 45)\n",
    "plt.title('Brand Model Counts', fontsize = 15)\n",
    "plt.ylabel('no.of brands')\n"
   ]
  },
  {
   "cell_type": "code",
   "execution_count": 78,
   "id": "0f01c4a8-c4c4-4b3c-a47d-6bf70f46f255",
   "metadata": {},
   "outputs": [
    {
     "name": "stdout",
     "output_type": "stream",
     "text": [
      "Help on function barplot in module seaborn.categorical:\n",
      "\n",
      "barplot(data=None, *, x=None, y=None, hue=None, order=None, hue_order=None, estimator='mean', errorbar=('ci', 95), n_boot=1000, seed=None, units=None, weights=None, orient=None, color=None, palette=None, saturation=0.75, fill=True, hue_norm=None, width=0.8, dodge='auto', gap=0, log_scale=None, native_scale=False, formatter=None, legend='auto', capsize=0, err_kws=None, ci=<deprecated>, errcolor=<deprecated>, errwidth=<deprecated>, ax=None, **kwargs)\n",
      "    Show point estimates and errors as rectangular bars.\n",
      "\n",
      "    A bar plot represents an aggregate or statistical estimate for a numeric\n",
      "    variable with the height of each rectangle and indicates the uncertainty\n",
      "    around that estimate using an error bar. Bar plots include 0 in the\n",
      "    axis range, and they are a good choice when 0 is a meaningful value\n",
      "    for the variable to take.\n",
      "\n",
      "    See the :ref:`tutorial <categorical_tutorial>` for more information.\n",
      "\n",
      "    .. note::\n",
      "        By default, this function treats one of the variables as categorical\n",
      "        and draws data at ordinal positions (0, 1, ... n) on the relevant axis.\n",
      "        As of version 0.13.0, this can be disabled by setting `native_scale=True`.\n",
      "\n",
      "\n",
      "    Parameters\n",
      "    ----------\n",
      "    data : DataFrame, Series, dict, array, or list of arrays\n",
      "        Dataset for plotting. If `x` and `y` are absent, this is\n",
      "        interpreted as wide-form. Otherwise it is expected to be long-form.\n",
      "    x, y, hue : names of variables in `data` or vector data\n",
      "        Inputs for plotting long-form data. See examples for interpretation.\n",
      "    order, hue_order : lists of strings\n",
      "        Order to plot the categorical levels in; otherwise the levels are\n",
      "        inferred from the data objects.\n",
      "    estimator : string or callable that maps vector -> scalar\n",
      "        Statistical function to estimate within each categorical bin.\n",
      "    errorbar : string, (string, number) tuple, callable or None\n",
      "        Name of errorbar method (either \"ci\", \"pi\", \"se\", or \"sd\"), or a tuple\n",
      "        with a method name and a level parameter, or a function that maps from a\n",
      "        vector to a (min, max) interval, or None to hide errorbar. See the\n",
      "        :doc:`errorbar tutorial </tutorial/error_bars>` for more information.\n",
      "\n",
      "        .. versionadded:: v0.12.0\n",
      "    n_boot : int\n",
      "        Number of bootstrap samples used to compute confidence intervals.\n",
      "    seed : int, `numpy.random.Generator`, or `numpy.random.RandomState`\n",
      "        Seed or random number generator for reproducible bootstrapping.\n",
      "    units : name of variable in `data` or vector data\n",
      "        Identifier of sampling units; used by the errorbar function to\n",
      "        perform a multilevel bootstrap and account for repeated measures\n",
      "    weights : name of variable in `data` or vector data\n",
      "        Data values or column used to compute weighted statistics.\n",
      "        Note that the use of weights may limit other statistical options.\n",
      "\n",
      "        .. versionadded:: v0.13.1\n",
      "    orient : \"v\" | \"h\" | \"x\" | \"y\"\n",
      "        Orientation of the plot (vertical or horizontal). This is usually\n",
      "        inferred based on the type of the input variables, but it can be used\n",
      "        to resolve ambiguity when both `x` and `y` are numeric or when\n",
      "        plotting wide-form data.\n",
      "\n",
      "        .. versionchanged:: v0.13.0\n",
      "            Added 'x'/'y' as options, equivalent to 'v'/'h'.\n",
      "    color : matplotlib color\n",
      "        Single color for the elements in the plot.\n",
      "    palette : palette name, list, or dict\n",
      "        Colors to use for the different levels of the ``hue`` variable. Should\n",
      "        be something that can be interpreted by :func:`color_palette`, or a\n",
      "        dictionary mapping hue levels to matplotlib colors.\n",
      "    saturation : float\n",
      "        Proportion of the original saturation to draw fill colors in. Large\n",
      "        patches often look better with desaturated colors, but set this to\n",
      "        `1` if you want the colors to perfectly match the input values.\n",
      "    fill : bool\n",
      "        If True, use a solid patch. Otherwise, draw as line art.\n",
      "\n",
      "        .. versionadded:: v0.13.0\n",
      "    hue_norm : tuple or :class:`matplotlib.colors.Normalize` object\n",
      "        Normalization in data units for colormap applied to the `hue`\n",
      "        variable when it is numeric. Not relevant if `hue` is categorical.\n",
      "\n",
      "        .. versionadded:: v0.12.0\n",
      "    width : float\n",
      "        Width allotted to each element on the orient axis. When `native_scale=True`,\n",
      "        it is relative to the minimum distance between two values in the native scale.\n",
      "    dodge : \"auto\" or bool\n",
      "        When hue mapping is used, whether elements should be narrowed and shifted along\n",
      "        the orient axis to eliminate overlap. If `\"auto\"`, set to `True` when the\n",
      "        orient variable is crossed with the categorical variable or `False` otherwise.\n",
      "\n",
      "        .. versionchanged:: 0.13.0\n",
      "\n",
      "            Added `\"auto\"` mode as a new default.\n",
      "    gap : float\n",
      "        Shrink on the orient axis by this factor to add a gap between dodged elements.\n",
      "\n",
      "        .. versionadded:: 0.13.0\n",
      "    log_scale : bool or number, or pair of bools or numbers\n",
      "        Set axis scale(s) to log. A single value sets the data axis for any numeric\n",
      "        axes in the plot. A pair of values sets each axis independently.\n",
      "        Numeric values are interpreted as the desired base (default 10).\n",
      "        When `None` or `False`, seaborn defers to the existing Axes scale.\n",
      "\n",
      "        .. versionadded:: v0.13.0\n",
      "    native_scale : bool\n",
      "        When True, numeric or datetime values on the categorical axis will maintain\n",
      "        their original scaling rather than being converted to fixed indices.\n",
      "\n",
      "        .. versionadded:: v0.13.0\n",
      "    formatter : callable\n",
      "        Function for converting categorical data into strings. Affects both grouping\n",
      "        and tick labels.\n",
      "\n",
      "        .. versionadded:: v0.13.0\n",
      "    legend : \"auto\", \"brief\", \"full\", or False\n",
      "        How to draw the legend. If \"brief\", numeric `hue` and `size`\n",
      "        variables will be represented with a sample of evenly spaced values.\n",
      "        If \"full\", every group will get an entry in the legend. If \"auto\",\n",
      "        choose between brief or full representation based on number of levels.\n",
      "        If `False`, no legend data is added and no legend is drawn.\n",
      "\n",
      "        .. versionadded:: v0.13.0\n",
      "    capsize : float\n",
      "        Width of the \"caps\" on error bars, relative to bar spacing.\n",
      "    err_kws : dict\n",
      "        Parameters of :class:`matplotlib.lines.Line2D`, for the error bar artists.\n",
      "\n",
      "        .. versionadded:: v0.13.0\n",
      "    ci : float\n",
      "        Level of the confidence interval to show, in [0, 100].\n",
      "\n",
      "        .. deprecated:: v0.12.0\n",
      "            Use `errorbar=(\"ci\", ...)`.\n",
      "    errcolor : matplotlib color\n",
      "        Color used for the error bar lines.\n",
      "\n",
      "        .. deprecated:: 0.13.0\n",
      "            Use `err_kws={'color': ...}`.\n",
      "    errwidth : float\n",
      "        Thickness of error bar lines (and caps), in points.\n",
      "\n",
      "        .. deprecated:: 0.13.0\n",
      "            Use `err_kws={'linewidth': ...}`.\n",
      "    ax : matplotlib Axes\n",
      "        Axes object to draw the plot onto, otherwise uses the current Axes.\n",
      "    kwargs : key, value mappings\n",
      "        Other parameters are passed through to :class:`matplotlib.patches.Rectangle`.\n",
      "\n",
      "    Returns\n",
      "    -------\n",
      "    ax : matplotlib Axes\n",
      "        Returns the Axes object with the plot drawn onto it.\n",
      "\n",
      "    See Also\n",
      "    --------\n",
      "    countplot : Show the counts of observations in each categorical bin.\n",
      "    pointplot : Show point estimates and confidence intervals using dots.\n",
      "    catplot : Combine a categorical plot with a :class:`FacetGrid`.\n",
      "\n",
      "    Notes\n",
      "    -----\n",
      "\n",
      "    For datasets where 0 is not a meaningful value, a :func:`pointplot` will\n",
      "    allow you to focus on differences between levels of one or more categorical\n",
      "    variables.\n",
      "\n",
      "    It is also important to keep in mind that a bar plot shows only the mean (or\n",
      "    other aggregate) value, but it is often more informative to show the\n",
      "    distribution of values at each level of the categorical variables. In those\n",
      "    cases, approaches such as a :func:`boxplot` or :func:`violinplot` may be\n",
      "    more appropriate.\n",
      "\n",
      "    Examples\n",
      "    --------\n",
      "    .. include:: ../docstrings/barplot.rst\n",
      "\n"
     ]
    }
   ],
   "source": [
    "help(sns.barplot)"
   ]
  },
  {
   "cell_type": "code",
   "execution_count": 87,
   "id": "cb664ee1-a5bf-43d8-a0f3-e29c1110eef3",
   "metadata": {},
   "outputs": [
    {
     "data": {
      "text/html": [
       "<div>\n",
       "<style scoped>\n",
       "    .dataframe tbody tr th:only-of-type {\n",
       "        vertical-align: middle;\n",
       "    }\n",
       "\n",
       "    .dataframe tbody tr th {\n",
       "        vertical-align: top;\n",
       "    }\n",
       "\n",
       "    .dataframe thead th {\n",
       "        text-align: right;\n",
       "    }\n",
       "</style>\n",
       "<table border=\"1\" class=\"dataframe\">\n",
       "  <thead>\n",
       "    <tr style=\"text-align: right;\">\n",
       "      <th></th>\n",
       "      <th>Brand</th>\n",
       "      <th>model</th>\n",
       "      <th>Year</th>\n",
       "      <th>Age</th>\n",
       "      <th>kmDriven</th>\n",
       "      <th>Transmission</th>\n",
       "      <th>Owner</th>\n",
       "      <th>FuelType</th>\n",
       "      <th>PostedDate</th>\n",
       "      <th>AdditionInfo</th>\n",
       "      <th>AskPrice</th>\n",
       "    </tr>\n",
       "  </thead>\n",
       "  <tbody>\n",
       "    <tr>\n",
       "      <th>0</th>\n",
       "      <td>Rolls-Royce</td>\n",
       "      <td>Phantom Series II</td>\n",
       "      <td>2015</td>\n",
       "      <td>9</td>\n",
       "      <td>11,500 km</td>\n",
       "      <td>Automatic</td>\n",
       "      <td>second</td>\n",
       "      <td>Petrol</td>\n",
       "      <td>2024-08-01</td>\n",
       "      <td>Rolls-Royce Phantom Series II EWB, 2015, Petrol</td>\n",
       "      <td>42500000</td>\n",
       "    </tr>\n",
       "    <tr>\n",
       "      <th>1</th>\n",
       "      <td>Lexus</td>\n",
       "      <td>LX</td>\n",
       "      <td>2024</td>\n",
       "      <td>0</td>\n",
       "      <td>24,000 km</td>\n",
       "      <td>Automatic</td>\n",
       "      <td>first</td>\n",
       "      <td>Diesel</td>\n",
       "      <td>2024-11-01</td>\n",
       "      <td>Lexus LX 500d, 2024, Diesel</td>\n",
       "      <td>27750000</td>\n",
       "    </tr>\n",
       "    <tr>\n",
       "      <th>2</th>\n",
       "      <td>Aston Martin</td>\n",
       "      <td>Vanquish</td>\n",
       "      <td>2016</td>\n",
       "      <td>8</td>\n",
       "      <td>25700.0 km</td>\n",
       "      <td>Automatic</td>\n",
       "      <td>first</td>\n",
       "      <td>Petrol</td>\n",
       "      <td>2024-11-01</td>\n",
       "      <td>Aston Martin Vanquish 6.0 V12, 2016, Petrol</td>\n",
       "      <td>26400000</td>\n",
       "    </tr>\n",
       "    <tr>\n",
       "      <th>3</th>\n",
       "      <td>Mercedes-Benz</td>\n",
       "      <td>G Class</td>\n",
       "      <td>2019</td>\n",
       "      <td>5</td>\n",
       "      <td>59,000 km</td>\n",
       "      <td>Automatic</td>\n",
       "      <td>first</td>\n",
       "      <td>Petrol</td>\n",
       "      <td>2024-09-01</td>\n",
       "      <td>Mercedes-Benz G Class 63 AMG, 2019, Petrol</td>\n",
       "      <td>26000000</td>\n",
       "    </tr>\n",
       "    <tr>\n",
       "      <th>4</th>\n",
       "      <td>Mercedes-Benz</td>\n",
       "      <td>G Class</td>\n",
       "      <td>2019</td>\n",
       "      <td>5</td>\n",
       "      <td>59,000 km</td>\n",
       "      <td>Automatic</td>\n",
       "      <td>first</td>\n",
       "      <td>Petrol</td>\n",
       "      <td>2024-11-01</td>\n",
       "      <td>Mercedes-Benz G Class G63 AMG, 2019, Petrol</td>\n",
       "      <td>24900000</td>\n",
       "    </tr>\n",
       "    <tr>\n",
       "      <th>...</th>\n",
       "      <td>...</td>\n",
       "      <td>...</td>\n",
       "      <td>...</td>\n",
       "      <td>...</td>\n",
       "      <td>...</td>\n",
       "      <td>...</td>\n",
       "      <td>...</td>\n",
       "      <td>...</td>\n",
       "      <td>...</td>\n",
       "      <td>...</td>\n",
       "      <td>...</td>\n",
       "    </tr>\n",
       "    <tr>\n",
       "      <th>9577</th>\n",
       "      <td>Ashok</td>\n",
       "      <td>Leyland Stile</td>\n",
       "      <td>2024</td>\n",
       "      <td>0</td>\n",
       "      <td>0 km</td>\n",
       "      <td>Automatic</td>\n",
       "      <td>first</td>\n",
       "      <td>Hybrid/CNG</td>\n",
       "      <td>2024-11-01</td>\n",
       "      <td>Hath gadi thella new juice set-up thella</td>\n",
       "      <td>32000</td>\n",
       "    </tr>\n",
       "    <tr>\n",
       "      <th>9578</th>\n",
       "      <td>Maruti Suzuki</td>\n",
       "      <td>Zen-Estilo</td>\n",
       "      <td>1998</td>\n",
       "      <td>26</td>\n",
       "      <td>&lt;NA&gt;</td>\n",
       "      <td>Manual</td>\n",
       "      <td>second</td>\n",
       "      <td>Petrol</td>\n",
       "      <td>2024-11-01</td>\n",
       "      <td>Zen 1998 model,insurence renewed,test in 2025 ...</td>\n",
       "      <td>27000</td>\n",
       "    </tr>\n",
       "    <tr>\n",
       "      <th>9579</th>\n",
       "      <td>Maruti Suzuki</td>\n",
       "      <td>Alto-800</td>\n",
       "      <td>2006</td>\n",
       "      <td>18</td>\n",
       "      <td>20,024 km</td>\n",
       "      <td>Manual</td>\n",
       "      <td>first</td>\n",
       "      <td>Petrol</td>\n",
       "      <td>2024-11-01</td>\n",
       "      <td>पुरानी स्क्रैप की गाड़ी बेचने के लिए संपर्क करें</td>\n",
       "      <td>20000</td>\n",
       "    </tr>\n",
       "    <tr>\n",
       "      <th>9580</th>\n",
       "      <td>Maruti Suzuki</td>\n",
       "      <td>Baleno</td>\n",
       "      <td>2024</td>\n",
       "      <td>0</td>\n",
       "      <td>9,000 km</td>\n",
       "      <td>Manual</td>\n",
       "      <td>first</td>\n",
       "      <td>Petrol</td>\n",
       "      <td>2024-11-01</td>\n",
       "      <td>Panasound brand Daimond 2k androd stereo</td>\n",
       "      <td>18500</td>\n",
       "    </tr>\n",
       "    <tr>\n",
       "      <th>9581</th>\n",
       "      <td>Mahindra</td>\n",
       "      <td>Marshal</td>\n",
       "      <td>2000</td>\n",
       "      <td>24</td>\n",
       "      <td>55,000 km</td>\n",
       "      <td>Manual</td>\n",
       "      <td>second</td>\n",
       "      <td>Diesel</td>\n",
       "      <td>2024-11-01</td>\n",
       "      <td>Want NOC for Mahindra Marshal or Commander</td>\n",
       "      <td>15000</td>\n",
       "    </tr>\n",
       "  </tbody>\n",
       "</table>\n",
       "<p>9582 rows × 11 columns</p>\n",
       "</div>"
      ],
      "text/plain": [
       "              Brand              model  Year  Age    kmDriven Transmission  \\\n",
       "0       Rolls-Royce  Phantom Series II  2015    9   11,500 km    Automatic   \n",
       "1             Lexus                 LX  2024    0   24,000 km    Automatic   \n",
       "2      Aston Martin           Vanquish  2016    8  25700.0 km    Automatic   \n",
       "3     Mercedes-Benz            G Class  2019    5   59,000 km    Automatic   \n",
       "4     Mercedes-Benz            G Class  2019    5   59,000 km    Automatic   \n",
       "...             ...                ...   ...  ...         ...          ...   \n",
       "9577          Ashok      Leyland Stile  2024    0        0 km    Automatic   \n",
       "9578  Maruti Suzuki         Zen-Estilo  1998   26        <NA>       Manual   \n",
       "9579  Maruti Suzuki           Alto-800  2006   18   20,024 km       Manual   \n",
       "9580  Maruti Suzuki             Baleno  2024    0    9,000 km       Manual   \n",
       "9581       Mahindra            Marshal  2000   24   55,000 km       Manual   \n",
       "\n",
       "       Owner    FuelType PostedDate  \\\n",
       "0     second      Petrol 2024-08-01   \n",
       "1      first      Diesel 2024-11-01   \n",
       "2      first      Petrol 2024-11-01   \n",
       "3      first      Petrol 2024-09-01   \n",
       "4      first      Petrol 2024-11-01   \n",
       "...      ...         ...        ...   \n",
       "9577   first  Hybrid/CNG 2024-11-01   \n",
       "9578  second      Petrol 2024-11-01   \n",
       "9579   first      Petrol 2024-11-01   \n",
       "9580   first      Petrol 2024-11-01   \n",
       "9581  second      Diesel 2024-11-01   \n",
       "\n",
       "                                           AdditionInfo  AskPrice  \n",
       "0       Rolls-Royce Phantom Series II EWB, 2015, Petrol  42500000  \n",
       "1                           Lexus LX 500d, 2024, Diesel  27750000  \n",
       "2           Aston Martin Vanquish 6.0 V12, 2016, Petrol  26400000  \n",
       "3            Mercedes-Benz G Class 63 AMG, 2019, Petrol  26000000  \n",
       "4           Mercedes-Benz G Class G63 AMG, 2019, Petrol  24900000  \n",
       "...                                                 ...       ...  \n",
       "9577           Hath gadi thella new juice set-up thella     32000  \n",
       "9578  Zen 1998 model,insurence renewed,test in 2025 ...     27000  \n",
       "9579   पुरानी स्क्रैप की गाड़ी बेचने के लिए संपर्क करें     20000  \n",
       "9580           Panasound brand Daimond 2k androd stereo     18500  \n",
       "9581         Want NOC for Mahindra Marshal or Commander     15000  \n",
       "\n",
       "[9582 rows x 11 columns]"
      ]
     },
     "execution_count": 87,
     "metadata": {},
     "output_type": "execute_result"
    }
   ],
   "source": [
    "df"
   ]
  },
  {
   "cell_type": "code",
   "execution_count": 124,
   "id": "11832f61-2612-4770-adf2-528e8af07569",
   "metadata": {},
   "outputs": [],
   "source": [
    "k = df.groupby('model')['AskPrice'].mean().sort_values(ascending=False).head(11)"
   ]
  },
  {
   "cell_type": "code",
   "execution_count": 125,
   "id": "ae8897a3-a3e9-44cb-a318-577befb09f00",
   "metadata": {},
   "outputs": [
    {
     "name": "stdout",
     "output_type": "stream",
     "text": [
      "model\n",
      "Phantom Series II    4.250000e+07\n",
      "Vanquish             2.640000e+07\n",
      "G Class              2.545000e+07\n",
      "SL-Class             2.450000e+07\n",
      "AMG                  2.150000e+07\n",
      "LX                   2.091667e+07\n",
      "Flying Spur          1.850000e+07\n",
      "G-Class              1.450000e+07\n",
      "Defender             1.197500e+07\n",
      "Land Cruiser         1.189983e+07\n",
      "X7                   1.124000e+07\n",
      "Name: AskPrice, dtype: float64\n"
     ]
    }
   ],
   "source": [
    "print(k)"
   ]
  },
  {
   "cell_type": "code",
   "execution_count": 99,
   "id": "275d1816-62a3-45f1-892f-61f98f82e7f9",
   "metadata": {},
   "outputs": [
    {
     "data": {
      "text/plain": [
       "400"
      ]
     },
     "execution_count": 99,
     "metadata": {},
     "output_type": "execute_result"
    }
   ],
   "source": [
    "df['model'].nunique()"
   ]
  },
  {
   "cell_type": "code",
   "execution_count": 117,
   "id": "117bc890-24a2-4fa4-b950-e44f8a92d269",
   "metadata": {},
   "outputs": [
    {
     "name": "stdout",
     "output_type": "stream",
     "text": [
      "Help on function lineplot in module seaborn.relational:\n",
      "\n",
      "lineplot(data=None, *, x=None, y=None, hue=None, size=None, style=None, units=None, weights=None, palette=None, hue_order=None, hue_norm=None, sizes=None, size_order=None, size_norm=None, dashes=True, markers=None, style_order=None, estimator='mean', errorbar=('ci', 95), n_boot=1000, seed=None, orient='x', sort=True, err_style='band', err_kws=None, legend='auto', ci='deprecated', ax=None, **kwargs)\n",
      "    Draw a line plot with possibility of several semantic groupings.\n",
      "\n",
      "    The relationship between `x` and `y` can be shown for different subsets\n",
      "    of the data using the `hue`, `size`, and `style` parameters. These\n",
      "    parameters control what visual semantics are used to identify the different\n",
      "    subsets. It is possible to show up to three dimensions independently by\n",
      "    using all three semantic types, but this style of plot can be hard to\n",
      "    interpret and is often ineffective. Using redundant semantics (i.e. both\n",
      "    `hue` and `style` for the same variable) can be helpful for making\n",
      "    graphics more accessible.\n",
      "\n",
      "    See the :ref:`tutorial <relational_tutorial>` for more information.\n",
      "\n",
      "    The default treatment of the `hue` (and to a lesser extent, `size`)\n",
      "    semantic, if present, depends on whether the variable is inferred to\n",
      "    represent \"numeric\" or \"categorical\" data. In particular, numeric variables\n",
      "    are represented with a sequential colormap by default, and the legend\n",
      "    entries show regular \"ticks\" with values that may or may not exist in the\n",
      "    data. This behavior can be controlled through various parameters, as\n",
      "    described and illustrated below.\n",
      "\n",
      "    By default, the plot aggregates over multiple `y` values at each value of\n",
      "    `x` and shows an estimate of the central tendency and a confidence\n",
      "    interval for that estimate.\n",
      "\n",
      "    Parameters\n",
      "    ----------\n",
      "    data : :class:`pandas.DataFrame`, :class:`numpy.ndarray`, mapping, or sequence\n",
      "        Input data structure. Either a long-form collection of vectors that can be\n",
      "        assigned to named variables or a wide-form dataset that will be internally\n",
      "        reshaped.\n",
      "    x, y : vectors or keys in ``data``\n",
      "        Variables that specify positions on the x and y axes.\n",
      "    hue : vector or key in `data`\n",
      "        Grouping variable that will produce lines with different colors.\n",
      "        Can be either categorical or numeric, although color mapping will\n",
      "        behave differently in latter case.\n",
      "    size : vector or key in `data`\n",
      "        Grouping variable that will produce lines with different widths.\n",
      "        Can be either categorical or numeric, although size mapping will\n",
      "        behave differently in latter case.\n",
      "    style : vector or key in `data`\n",
      "        Grouping variable that will produce lines with different dashes\n",
      "        and/or markers. Can have a numeric dtype but will always be treated\n",
      "        as categorical.\n",
      "    units : vector or key in `data`\n",
      "        Grouping variable identifying sampling units. When used, a separate\n",
      "        line will be drawn for each unit with appropriate semantics, but no\n",
      "        legend entry will be added. Useful for showing distribution of\n",
      "        experimental replicates when exact identities are not needed.\n",
      "    weights : vector or key in `data`\n",
      "        Data values or column used to compute weighted estimation.\n",
      "        Note that use of weights currently limits the choice of statistics\n",
      "        to a 'mean' estimator and 'ci' errorbar.\n",
      "    palette : string, list, dict, or :class:`matplotlib.colors.Colormap`\n",
      "        Method for choosing the colors to use when mapping the ``hue`` semantic.\n",
      "        String values are passed to :func:`color_palette`. List or dict values\n",
      "        imply categorical mapping, while a colormap object implies numeric mapping.\n",
      "    hue_order : vector of strings\n",
      "        Specify the order of processing and plotting for categorical levels of the\n",
      "        ``hue`` semantic.\n",
      "    hue_norm : tuple or :class:`matplotlib.colors.Normalize`\n",
      "        Either a pair of values that set the normalization range in data units\n",
      "        or an object that will map from data units into a [0, 1] interval. Usage\n",
      "        implies numeric mapping.\n",
      "    sizes : list, dict, or tuple\n",
      "        An object that determines how sizes are chosen when `size` is used.\n",
      "        List or dict arguments should provide a size for each unique data value,\n",
      "        which forces a categorical interpretation. The argument may also be a\n",
      "        min, max tuple.\n",
      "    size_order : list\n",
      "        Specified order for appearance of the `size` variable levels,\n",
      "        otherwise they are determined from the data. Not relevant when the\n",
      "        `size` variable is numeric.\n",
      "    size_norm : tuple or Normalize object\n",
      "        Normalization in data units for scaling plot objects when the\n",
      "        `size` variable is numeric.\n",
      "    dashes : boolean, list, or dictionary\n",
      "        Object determining how to draw the lines for different levels of the\n",
      "        `style` variable. Setting to `True` will use default dash codes, or\n",
      "        you can pass a list of dash codes or a dictionary mapping levels of the\n",
      "        `style` variable to dash codes. Setting to `False` will use solid\n",
      "        lines for all subsets. Dashes are specified as in matplotlib: a tuple\n",
      "        of `(segment, gap)` lengths, or an empty string to draw a solid line.\n",
      "    markers : boolean, list, or dictionary\n",
      "        Object determining how to draw the markers for different levels of the\n",
      "        `style` variable. Setting to `True` will use default markers, or\n",
      "        you can pass a list of markers or a dictionary mapping levels of the\n",
      "        `style` variable to markers. Setting to `False` will draw\n",
      "        marker-less lines.  Markers are specified as in matplotlib.\n",
      "    style_order : list\n",
      "        Specified order for appearance of the `style` variable levels\n",
      "        otherwise they are determined from the data. Not relevant when the\n",
      "        `style` variable is numeric.\n",
      "    estimator : name of pandas method or callable or None\n",
      "        Method for aggregating across multiple observations of the `y`\n",
      "        variable at the same `x` level. If `None`, all observations will\n",
      "        be drawn.\n",
      "    errorbar : string, (string, number) tuple, or callable\n",
      "        Name of errorbar method (either \"ci\", \"pi\", \"se\", or \"sd\"), or a tuple\n",
      "        with a method name and a level parameter, or a function that maps from a\n",
      "        vector to a (min, max) interval, or None to hide errorbar. See the\n",
      "        :doc:`errorbar tutorial </tutorial/error_bars>` for more information.\n",
      "    n_boot : int\n",
      "        Number of bootstraps to use for computing the confidence interval.\n",
      "    seed : int, numpy.random.Generator, or numpy.random.RandomState\n",
      "        Seed or random number generator for reproducible bootstrapping.\n",
      "    orient : \"x\" or \"y\"\n",
      "        Dimension along which the data are sorted / aggregated. Equivalently,\n",
      "        the \"independent variable\" of the resulting function.\n",
      "    sort : boolean\n",
      "        If True, the data will be sorted by the x and y variables, otherwise\n",
      "        lines will connect points in the order they appear in the dataset.\n",
      "    err_style : \"band\" or \"bars\"\n",
      "        Whether to draw the confidence intervals with translucent error bands\n",
      "        or discrete error bars.\n",
      "    err_kws : dict of keyword arguments\n",
      "        Additional parameters to control the aesthetics of the error bars. The\n",
      "        kwargs are passed either to :meth:`matplotlib.axes.Axes.fill_between`\n",
      "        or :meth:`matplotlib.axes.Axes.errorbar`, depending on `err_style`.\n",
      "    legend : \"auto\", \"brief\", \"full\", or False\n",
      "        How to draw the legend. If \"brief\", numeric `hue` and `size`\n",
      "        variables will be represented with a sample of evenly spaced values.\n",
      "        If \"full\", every group will get an entry in the legend. If \"auto\",\n",
      "        choose between brief or full representation based on number of levels.\n",
      "        If `False`, no legend data is added and no legend is drawn.\n",
      "    ci : int or \"sd\" or None\n",
      "        Size of the confidence interval to draw when aggregating.\n",
      "\n",
      "        .. deprecated:: 0.12.0\n",
      "            Use the new `errorbar` parameter for more flexibility.\n",
      "\n",
      "    ax : :class:`matplotlib.axes.Axes`\n",
      "        Pre-existing axes for the plot. Otherwise, call :func:`matplotlib.pyplot.gca`\n",
      "        internally.\n",
      "    kwargs : key, value mappings\n",
      "        Other keyword arguments are passed down to\n",
      "        :meth:`matplotlib.axes.Axes.plot`.\n",
      "\n",
      "    Returns\n",
      "    -------\n",
      "    :class:`matplotlib.axes.Axes`\n",
      "        The matplotlib axes containing the plot.\n",
      "\n",
      "    See Also\n",
      "    --------\n",
      "    scatterplot : Plot data using points.\n",
      "    pointplot : Plot point estimates and CIs using markers and lines.\n",
      "\n",
      "    Examples\n",
      "    --------\n",
      "\n",
      "    .. include:: ../docstrings/lineplot.rst\n",
      "\n"
     ]
    }
   ],
   "source": [
    "help(sns.lineplot)"
   ]
  },
  {
   "cell_type": "code",
   "execution_count": 128,
   "id": "a516bae8-4524-43ce-ae00-29167bc1f40c",
   "metadata": {},
   "outputs": [
    {
     "data": {
      "text/plain": [
       "([0, 1, 2, 3, 4, 5, 6, 7, 8, 9, 10],\n",
       " [Text(0, 0, 'Phantom Series II'),\n",
       "  Text(1, 0, 'Vanquish'),\n",
       "  Text(2, 0, 'G Class'),\n",
       "  Text(3, 0, 'SL-Class'),\n",
       "  Text(4, 0, 'AMG'),\n",
       "  Text(5, 0, 'LX'),\n",
       "  Text(6, 0, 'Flying Spur'),\n",
       "  Text(7, 0, 'G-Class'),\n",
       "  Text(8, 0, 'Defender'),\n",
       "  Text(9, 0, 'Land Cruiser'),\n",
       "  Text(10, 0, 'X7')])"
      ]
     },
     "execution_count": 128,
     "metadata": {},
     "output_type": "execute_result"
    },
    {
     "data": {
      "image/png": "[encoded data removed]",
      "text/plain": [
       "<Figure size 1000x600 with 1 Axes>"
      ]
     },
     "metadata": {},
     "output_type": "display_data"
    }
   ],
   "source": [
    "plt.figure(figsize=(10, 6))\n",
    "sns.lineplot(x=k.index, y=k.values, marker='o')\n",
    "plt.xticks(rotation = 45)\n"
   ]
  },
  {
   "cell_type": "code",
   "execution_count": 129,
   "id": "dcca8bc2-b00f-4323-98b2-66e173224084",
   "metadata": {},
   "outputs": [
    {
     "data": {
      "text/plain": [
       "0    450000\n",
       "Name: AskPrice, dtype: int64"
      ]
     },
     "execution_count": 129,
     "metadata": {},
     "output_type": "execute_result"
    }
   ],
   "source": [
    "df['AskPrice'].mode()"
   ]
  },
  {
   "cell_type": "code",
   "execution_count": 130,
   "id": "9d7bac27-2e29-40f7-8741-2ab2fa90b4b3",
   "metadata": {},
   "outputs": [
    {
     "data": {
      "text/html": [
       "<div>\n",
       "<style scoped>\n",
       "    .dataframe tbody tr th:only-of-type {\n",
       "        vertical-align: middle;\n",
       "    }\n",
       "\n",
       "    .dataframe tbody tr th {\n",
       "        vertical-align: top;\n",
       "    }\n",
       "\n",
       "    .dataframe thead th {\n",
       "        text-align: right;\n",
       "    }\n",
       "</style>\n",
       "<table border=\"1\" class=\"dataframe\">\n",
       "  <thead>\n",
       "    <tr style=\"text-align: right;\">\n",
       "      <th></th>\n",
       "      <th>Brand</th>\n",
       "      <th>model</th>\n",
       "      <th>Year</th>\n",
       "      <th>Age</th>\n",
       "      <th>kmDriven</th>\n",
       "      <th>Transmission</th>\n",
       "      <th>Owner</th>\n",
       "      <th>FuelType</th>\n",
       "      <th>PostedDate</th>\n",
       "      <th>AdditionInfo</th>\n",
       "      <th>AskPrice</th>\n",
       "    </tr>\n",
       "  </thead>\n",
       "  <tbody>\n",
       "    <tr>\n",
       "      <th>0</th>\n",
       "      <td>Rolls-Royce</td>\n",
       "      <td>Phantom Series II</td>\n",
       "      <td>2015</td>\n",
       "      <td>9</td>\n",
       "      <td>11,500 km</td>\n",
       "      <td>Automatic</td>\n",
       "      <td>second</td>\n",
       "      <td>Petrol</td>\n",
       "      <td>2024-08-01</td>\n",
       "      <td>Rolls-Royce Phantom Series II EWB, 2015, Petrol</td>\n",
       "      <td>42500000</td>\n",
       "    </tr>\n",
       "    <tr>\n",
       "      <th>1</th>\n",
       "      <td>Lexus</td>\n",
       "      <td>LX</td>\n",
       "      <td>2024</td>\n",
       "      <td>0</td>\n",
       "      <td>24,000 km</td>\n",
       "      <td>Automatic</td>\n",
       "      <td>first</td>\n",
       "      <td>Diesel</td>\n",
       "      <td>2024-11-01</td>\n",
       "      <td>Lexus LX 500d, 2024, Diesel</td>\n",
       "      <td>27750000</td>\n",
       "    </tr>\n",
       "    <tr>\n",
       "      <th>2</th>\n",
       "      <td>Aston Martin</td>\n",
       "      <td>Vanquish</td>\n",
       "      <td>2016</td>\n",
       "      <td>8</td>\n",
       "      <td>25700.0 km</td>\n",
       "      <td>Automatic</td>\n",
       "      <td>first</td>\n",
       "      <td>Petrol</td>\n",
       "      <td>2024-11-01</td>\n",
       "      <td>Aston Martin Vanquish 6.0 V12, 2016, Petrol</td>\n",
       "      <td>26400000</td>\n",
       "    </tr>\n",
       "    <tr>\n",
       "      <th>3</th>\n",
       "      <td>Mercedes-Benz</td>\n",
       "      <td>G Class</td>\n",
       "      <td>2019</td>\n",
       "      <td>5</td>\n",
       "      <td>59,000 km</td>\n",
       "      <td>Automatic</td>\n",
       "      <td>first</td>\n",
       "      <td>Petrol</td>\n",
       "      <td>2024-09-01</td>\n",
       "      <td>Mercedes-Benz G Class 63 AMG, 2019, Petrol</td>\n",
       "      <td>26000000</td>\n",
       "    </tr>\n",
       "    <tr>\n",
       "      <th>4</th>\n",
       "      <td>Mercedes-Benz</td>\n",
       "      <td>G Class</td>\n",
       "      <td>2019</td>\n",
       "      <td>5</td>\n",
       "      <td>59,000 km</td>\n",
       "      <td>Automatic</td>\n",
       "      <td>first</td>\n",
       "      <td>Petrol</td>\n",
       "      <td>2024-11-01</td>\n",
       "      <td>Mercedes-Benz G Class G63 AMG, 2019, Petrol</td>\n",
       "      <td>24900000</td>\n",
       "    </tr>\n",
       "    <tr>\n",
       "      <th>...</th>\n",
       "      <td>...</td>\n",
       "      <td>...</td>\n",
       "      <td>...</td>\n",
       "      <td>...</td>\n",
       "      <td>...</td>\n",
       "      <td>...</td>\n",
       "      <td>...</td>\n",
       "      <td>...</td>\n",
       "      <td>...</td>\n",
       "      <td>...</td>\n",
       "      <td>...</td>\n",
       "    </tr>\n",
       "    <tr>\n",
       "      <th>9577</th>\n",
       "      <td>Ashok</td>\n",
       "      <td>Leyland Stile</td>\n",
       "      <td>2024</td>\n",
       "      <td>0</td>\n",
       "      <td>0 km</td>\n",
       "      <td>Automatic</td>\n",
       "      <td>first</td>\n",
       "      <td>Hybrid/CNG</td>\n",
       "      <td>2024-11-01</td>\n",
       "      <td>Hath gadi thella new juice set-up thella</td>\n",
       "      <td>32000</td>\n",
       "    </tr>\n",
       "    <tr>\n",
       "      <th>9578</th>\n",
       "      <td>Maruti Suzuki</td>\n",
       "      <td>Zen-Estilo</td>\n",
       "      <td>1998</td>\n",
       "      <td>26</td>\n",
       "      <td>&lt;NA&gt;</td>\n",
       "      <td>Manual</td>\n",
       "      <td>second</td>\n",
       "      <td>Petrol</td>\n",
       "      <td>2024-11-01</td>\n",
       "      <td>Zen 1998 model,insurence renewed,test in 2025 ...</td>\n",
       "      <td>27000</td>\n",
       "    </tr>\n",
       "    <tr>\n",
       "      <th>9579</th>\n",
       "      <td>Maruti Suzuki</td>\n",
       "      <td>Alto-800</td>\n",
       "      <td>2006</td>\n",
       "      <td>18</td>\n",
       "      <td>20,024 km</td>\n",
       "      <td>Manual</td>\n",
       "      <td>first</td>\n",
       "      <td>Petrol</td>\n",
       "      <td>2024-11-01</td>\n",
       "      <td>पुरानी स्क्रैप की गाड़ी बेचने के लिए संपर्क करें</td>\n",
       "      <td>20000</td>\n",
       "    </tr>\n",
       "    <tr>\n",
       "      <th>9580</th>\n",
       "      <td>Maruti Suzuki</td>\n",
       "      <td>Baleno</td>\n",
       "      <td>2024</td>\n",
       "      <td>0</td>\n",
       "      <td>9,000 km</td>\n",
       "      <td>Manual</td>\n",
       "      <td>first</td>\n",
       "      <td>Petrol</td>\n",
       "      <td>2024-11-01</td>\n",
       "      <td>Panasound brand Daimond 2k androd stereo</td>\n",
       "      <td>18500</td>\n",
       "    </tr>\n",
       "    <tr>\n",
       "      <th>9581</th>\n",
       "      <td>Mahindra</td>\n",
       "      <td>Marshal</td>\n",
       "      <td>2000</td>\n",
       "      <td>24</td>\n",
       "      <td>55,000 km</td>\n",
       "      <td>Manual</td>\n",
       "      <td>second</td>\n",
       "      <td>Diesel</td>\n",
       "      <td>2024-11-01</td>\n",
       "      <td>Want NOC for Mahindra Marshal or Commander</td>\n",
       "      <td>15000</td>\n",
       "    </tr>\n",
       "  </tbody>\n",
       "</table>\n",
       "<p>9582 rows × 11 columns</p>\n",
       "</div>"
      ],
      "text/plain": [
       "              Brand              model  Year  Age    kmDriven Transmission  \\\n",
       "0       Rolls-Royce  Phantom Series II  2015    9   11,500 km    Automatic   \n",
       "1             Lexus                 LX  2024    0   24,000 km    Automatic   \n",
       "2      Aston Martin           Vanquish  2016    8  25700.0 km    Automatic   \n",
       "3     Mercedes-Benz            G Class  2019    5   59,000 km    Automatic   \n",
       "4     Mercedes-Benz            G Class  2019    5   59,000 km    Automatic   \n",
       "...             ...                ...   ...  ...         ...          ...   \n",
       "9577          Ashok      Leyland Stile  2024    0        0 km    Automatic   \n",
       "9578  Maruti Suzuki         Zen-Estilo  1998   26        <NA>       Manual   \n",
       "9579  Maruti Suzuki           Alto-800  2006   18   20,024 km       Manual   \n",
       "9580  Maruti Suzuki             Baleno  2024    0    9,000 km       Manual   \n",
       "9581       Mahindra            Marshal  2000   24   55,000 km       Manual   \n",
       "\n",
       "       Owner    FuelType PostedDate  \\\n",
       "0     second      Petrol 2024-08-01   \n",
       "1      first      Diesel 2024-11-01   \n",
       "2      first      Petrol 2024-11-01   \n",
       "3      first      Petrol 2024-09-01   \n",
       "4      first      Petrol 2024-11-01   \n",
       "...      ...         ...        ...   \n",
       "9577   first  Hybrid/CNG 2024-11-01   \n",
       "9578  second      Petrol 2024-11-01   \n",
       "9579   first      Petrol 2024-11-01   \n",
       "9580   first      Petrol 2024-11-01   \n",
       "9581  second      Diesel 2024-11-01   \n",
       "\n",
       "                                           AdditionInfo  AskPrice  \n",
       "0       Rolls-Royce Phantom Series II EWB, 2015, Petrol  42500000  \n",
       "1                           Lexus LX 500d, 2024, Diesel  27750000  \n",
       "2           Aston Martin Vanquish 6.0 V12, 2016, Petrol  26400000  \n",
       "3            Mercedes-Benz G Class 63 AMG, 2019, Petrol  26000000  \n",
       "4           Mercedes-Benz G Class G63 AMG, 2019, Petrol  24900000  \n",
       "...                                                 ...       ...  \n",
       "9577           Hath gadi thella new juice set-up thella     32000  \n",
       "9578  Zen 1998 model,insurence renewed,test in 2025 ...     27000  \n",
       "9579   पुरानी स्क्रैप की गाड़ी बेचने के लिए संपर्क करें     20000  \n",
       "9580           Panasound brand Daimond 2k androd stereo     18500  \n",
       "9581         Want NOC for Mahindra Marshal or Commander     15000  \n",
       "\n",
       "[9582 rows x 11 columns]"
      ]
     },
     "execution_count": 130,
     "metadata": {},
     "output_type": "execute_result"
    }
   ],
   "source": [
    "df"
   ]
  },
  {
   "cell_type": "code",
   "execution_count": 135,
   "id": "72fb227f-f64a-4b4e-b4f2-2dd2cca4843e",
   "metadata": {},
   "outputs": [],
   "source": [
    "df.to_csv('cleaned_data.csv', index=False)"
   ]
  },
  {
   "cell_type": "code",
   "execution_count": 136,
   "id": "714aa491-4d9e-46b4-85b2-112c10a23a45",
   "metadata": {},
   "outputs": [
    {
     "data": {
      "text/html": [
       "<div>\n",
       "<style scoped>\n",
       "    .dataframe tbody tr th:only-of-type {\n",
       "        vertical-align: middle;\n",
       "    }\n",
       "\n",
       "    .dataframe tbody tr th {\n",
       "        vertical-align: top;\n",
       "    }\n",
       "\n",
       "    .dataframe thead th {\n",
       "        text-align: right;\n",
       "    }\n",
       "</style>\n",
       "<table border=\"1\" class=\"dataframe\">\n",
       "  <thead>\n",
       "    <tr style=\"text-align: right;\">\n",
       "      <th></th>\n",
       "      <th>Brand</th>\n",
       "      <th>model</th>\n",
       "      <th>Year</th>\n",
       "      <th>Age</th>\n",
       "      <th>kmDriven</th>\n",
       "      <th>Transmission</th>\n",
       "      <th>Owner</th>\n",
       "      <th>FuelType</th>\n",
       "      <th>PostedDate</th>\n",
       "      <th>AdditionInfo</th>\n",
       "      <th>AskPrice</th>\n",
       "    </tr>\n",
       "  </thead>\n",
       "  <tbody>\n",
       "    <tr>\n",
       "      <th>0</th>\n",
       "      <td>Rolls-Royce</td>\n",
       "      <td>Phantom Series II</td>\n",
       "      <td>2015</td>\n",
       "      <td>9</td>\n",
       "      <td>11,500 km</td>\n",
       "      <td>Automatic</td>\n",
       "      <td>second</td>\n",
       "      <td>Petrol</td>\n",
       "      <td>2024-08-01</td>\n",
       "      <td>Rolls-Royce Phantom Series II EWB, 2015, Petrol</td>\n",
       "      <td>42500000</td>\n",
       "    </tr>\n",
       "    <tr>\n",
       "      <th>1</th>\n",
       "      <td>Lexus</td>\n",
       "      <td>LX</td>\n",
       "      <td>2024</td>\n",
       "      <td>0</td>\n",
       "      <td>24,000 km</td>\n",
       "      <td>Automatic</td>\n",
       "      <td>first</td>\n",
       "      <td>Diesel</td>\n",
       "      <td>2024-11-01</td>\n",
       "      <td>Lexus LX 500d, 2024, Diesel</td>\n",
       "      <td>27750000</td>\n",
       "    </tr>\n",
       "    <tr>\n",
       "      <th>2</th>\n",
       "      <td>Aston Martin</td>\n",
       "      <td>Vanquish</td>\n",
       "      <td>2016</td>\n",
       "      <td>8</td>\n",
       "      <td>25700.0 km</td>\n",
       "      <td>Automatic</td>\n",
       "      <td>first</td>\n",
       "      <td>Petrol</td>\n",
       "      <td>2024-11-01</td>\n",
       "      <td>Aston Martin Vanquish 6.0 V12, 2016, Petrol</td>\n",
       "      <td>26400000</td>\n",
       "    </tr>\n",
       "    <tr>\n",
       "      <th>3</th>\n",
       "      <td>Mercedes-Benz</td>\n",
       "      <td>G Class</td>\n",
       "      <td>2019</td>\n",
       "      <td>5</td>\n",
       "      <td>59,000 km</td>\n",
       "      <td>Automatic</td>\n",
       "      <td>first</td>\n",
       "      <td>Petrol</td>\n",
       "      <td>2024-09-01</td>\n",
       "      <td>Mercedes-Benz G Class 63 AMG, 2019, Petrol</td>\n",
       "      <td>26000000</td>\n",
       "    </tr>\n",
       "    <tr>\n",
       "      <th>4</th>\n",
       "      <td>Mercedes-Benz</td>\n",
       "      <td>G Class</td>\n",
       "      <td>2019</td>\n",
       "      <td>5</td>\n",
       "      <td>59,000 km</td>\n",
       "      <td>Automatic</td>\n",
       "      <td>first</td>\n",
       "      <td>Petrol</td>\n",
       "      <td>2024-11-01</td>\n",
       "      <td>Mercedes-Benz G Class G63 AMG, 2019, Petrol</td>\n",
       "      <td>24900000</td>\n",
       "    </tr>\n",
       "    <tr>\n",
       "      <th>...</th>\n",
       "      <td>...</td>\n",
       "      <td>...</td>\n",
       "      <td>...</td>\n",
       "      <td>...</td>\n",
       "      <td>...</td>\n",
       "      <td>...</td>\n",
       "      <td>...</td>\n",
       "      <td>...</td>\n",
       "      <td>...</td>\n",
       "      <td>...</td>\n",
       "      <td>...</td>\n",
       "    </tr>\n",
       "    <tr>\n",
       "      <th>9577</th>\n",
       "      <td>Ashok</td>\n",
       "      <td>Leyland Stile</td>\n",
       "      <td>2024</td>\n",
       "      <td>0</td>\n",
       "      <td>0 km</td>\n",
       "      <td>Automatic</td>\n",
       "      <td>first</td>\n",
       "      <td>Hybrid/CNG</td>\n",
       "      <td>2024-11-01</td>\n",
       "      <td>Hath gadi thella new juice set-up thella</td>\n",
       "      <td>32000</td>\n",
       "    </tr>\n",
       "    <tr>\n",
       "      <th>9578</th>\n",
       "      <td>Maruti Suzuki</td>\n",
       "      <td>Zen-Estilo</td>\n",
       "      <td>1998</td>\n",
       "      <td>26</td>\n",
       "      <td>&lt;NA&gt;</td>\n",
       "      <td>Manual</td>\n",
       "      <td>second</td>\n",
       "      <td>Petrol</td>\n",
       "      <td>2024-11-01</td>\n",
       "      <td>Zen 1998 model,insurence renewed,test in 2025 ...</td>\n",
       "      <td>27000</td>\n",
       "    </tr>\n",
       "    <tr>\n",
       "      <th>9579</th>\n",
       "      <td>Maruti Suzuki</td>\n",
       "      <td>Alto-800</td>\n",
       "      <td>2006</td>\n",
       "      <td>18</td>\n",
       "      <td>20,024 km</td>\n",
       "      <td>Manual</td>\n",
       "      <td>first</td>\n",
       "      <td>Petrol</td>\n",
       "      <td>2024-11-01</td>\n",
       "      <td>पुरानी स्क्रैप की गाड़ी बेचने के लिए संपर्क करें</td>\n",
       "      <td>20000</td>\n",
       "    </tr>\n",
       "    <tr>\n",
       "      <th>9580</th>\n",
       "      <td>Maruti Suzuki</td>\n",
       "      <td>Baleno</td>\n",
       "      <td>2024</td>\n",
       "      <td>0</td>\n",
       "      <td>9,000 km</td>\n",
       "      <td>Manual</td>\n",
       "      <td>first</td>\n",
       "      <td>Petrol</td>\n",
       "      <td>2024-11-01</td>\n",
       "      <td>Panasound brand Daimond 2k androd stereo</td>\n",
       "      <td>18500</td>\n",
       "    </tr>\n",
       "    <tr>\n",
       "      <th>9581</th>\n",
       "      <td>Mahindra</td>\n",
       "      <td>Marshal</td>\n",
       "      <td>2000</td>\n",
       "      <td>24</td>\n",
       "      <td>55,000 km</td>\n",
       "      <td>Manual</td>\n",
       "      <td>second</td>\n",
       "      <td>Diesel</td>\n",
       "      <td>2024-11-01</td>\n",
       "      <td>Want NOC for Mahindra Marshal or Commander</td>\n",
       "      <td>15000</td>\n",
       "    </tr>\n",
       "  </tbody>\n",
       "</table>\n",
       "<p>9582 rows × 11 columns</p>\n",
       "</div>"
      ],
      "text/plain": [
       "              Brand              model  Year  Age    kmDriven Transmission  \\\n",
       "0       Rolls-Royce  Phantom Series II  2015    9   11,500 km    Automatic   \n",
       "1             Lexus                 LX  2024    0   24,000 km    Automatic   \n",
       "2      Aston Martin           Vanquish  2016    8  25700.0 km    Automatic   \n",
       "3     Mercedes-Benz            G Class  2019    5   59,000 km    Automatic   \n",
       "4     Mercedes-Benz            G Class  2019    5   59,000 km    Automatic   \n",
       "...             ...                ...   ...  ...         ...          ...   \n",
       "9577          Ashok      Leyland Stile  2024    0        0 km    Automatic   \n",
       "9578  Maruti Suzuki         Zen-Estilo  1998   26        <NA>       Manual   \n",
       "9579  Maruti Suzuki           Alto-800  2006   18   20,024 km       Manual   \n",
       "9580  Maruti Suzuki             Baleno  2024    0    9,000 km       Manual   \n",
       "9581       Mahindra            Marshal  2000   24   55,000 km       Manual   \n",
       "\n",
       "       Owner    FuelType PostedDate  \\\n",
       "0     second      Petrol 2024-08-01   \n",
       "1      first      Diesel 2024-11-01   \n",
       "2      first      Petrol 2024-11-01   \n",
       "3      first      Petrol 2024-09-01   \n",
       "4      first      Petrol 2024-11-01   \n",
       "...      ...         ...        ...   \n",
       "9577   first  Hybrid/CNG 2024-11-01   \n",
       "9578  second      Petrol 2024-11-01   \n",
       "9579   first      Petrol 2024-11-01   \n",
       "9580   first      Petrol 2024-11-01   \n",
       "9581  second      Diesel 2024-11-01   \n",
       "\n",
       "                                           AdditionInfo  AskPrice  \n",
       "0       Rolls-Royce Phantom Series II EWB, 2015, Petrol  42500000  \n",
       "1                           Lexus LX 500d, 2024, Diesel  27750000  \n",
       "2           Aston Martin Vanquish 6.0 V12, 2016, Petrol  26400000  \n",
       "3            Mercedes-Benz G Class 63 AMG, 2019, Petrol  26000000  \n",
       "4           Mercedes-Benz G Class G63 AMG, 2019, Petrol  24900000  \n",
       "...                                                 ...       ...  \n",
       "9577           Hath gadi thella new juice set-up thella     32000  \n",
       "9578  Zen 1998 model,insurence renewed,test in 2025 ...     27000  \n",
       "9579   पुरानी स्क्रैप की गाड़ी बेचने के लिए संपर्क करें     20000  \n",
       "9580           Panasound brand Daimond 2k androd stereo     18500  \n",
       "9581         Want NOC for Mahindra Marshal or Commander     15000  \n",
       "\n",
       "[9582 rows x 11 columns]"
      ]
     },
     "execution_count": 136,
     "metadata": {},
     "output_type": "execute_result"
    }
   ],
   "source": [
    "df"
   ]
  },
  {
   "cell_type": "code",
   "execution_count": 134,
   "id": "5edbc856-3826-431d-a231-3f176e754483",
   "metadata": {},
   "outputs": [
    {
     "ename": "NameError",
     "evalue": "name 'FileLink' is not defined",
     "output_type": "error",
     "traceback": [
      "\u001b[1;31m---------------------------------------------------------------------------\u001b[0m",
      "\u001b[1;31mNameError\u001b[0m                                 Traceback (most recent call last)",
      "Cell \u001b[1;32mIn[134], line 1\u001b[0m\n\u001b[1;32m----> 1\u001b[0m display(FileLink(\u001b[38;5;124m'\u001b[39m\u001b[38;5;124mcleaned_data.csv\u001b[39m\u001b[38;5;124m'\u001b[39m))\n",
      "\u001b[1;31mNameError\u001b[0m: name 'FileLink' is not defined"
     ]
    }
   ],
   "source": [
    "display(FileLink('cleaned_data.csv'))"
   ]
  },
  {
   "cell_type": "code",
   "execution_count": 137,
   "id": "b9dfe1c6-f2d1-4e4b-b08e-d0495bca6d08",
   "metadata": {},
   "outputs": [
    {
     "data": {
      "text/html": [
       "<div>\n",
       "<style scoped>\n",
       "    .dataframe tbody tr th:only-of-type {\n",
       "        vertical-align: middle;\n",
       "    }\n",
       "\n",
       "    .dataframe tbody tr th {\n",
       "        vertical-align: top;\n",
       "    }\n",
       "\n",
       "    .dataframe thead th {\n",
       "        text-align: right;\n",
       "    }\n",
       "</style>\n",
       "<table border=\"1\" class=\"dataframe\">\n",
       "  <thead>\n",
       "    <tr style=\"text-align: right;\">\n",
       "      <th></th>\n",
       "      <th>Brand</th>\n",
       "      <th>model</th>\n",
       "      <th>Year</th>\n",
       "      <th>Age</th>\n",
       "      <th>kmDriven</th>\n",
       "      <th>Transmission</th>\n",
       "      <th>Owner</th>\n",
       "      <th>FuelType</th>\n",
       "      <th>PostedDate</th>\n",
       "      <th>AdditionInfo</th>\n",
       "      <th>AskPrice</th>\n",
       "    </tr>\n",
       "  </thead>\n",
       "  <tbody>\n",
       "    <tr>\n",
       "      <th>0</th>\n",
       "      <td>Rolls-Royce</td>\n",
       "      <td>Phantom Series II</td>\n",
       "      <td>2015</td>\n",
       "      <td>9</td>\n",
       "      <td>11,500 km</td>\n",
       "      <td>Automatic</td>\n",
       "      <td>second</td>\n",
       "      <td>Petrol</td>\n",
       "      <td>2024-08-01</td>\n",
       "      <td>Rolls-Royce Phantom Series II EWB, 2015, Petrol</td>\n",
       "      <td>42500000</td>\n",
       "    </tr>\n",
       "    <tr>\n",
       "      <th>1</th>\n",
       "      <td>Lexus</td>\n",
       "      <td>LX</td>\n",
       "      <td>2024</td>\n",
       "      <td>0</td>\n",
       "      <td>24,000 km</td>\n",
       "      <td>Automatic</td>\n",
       "      <td>first</td>\n",
       "      <td>Diesel</td>\n",
       "      <td>2024-11-01</td>\n",
       "      <td>Lexus LX 500d, 2024, Diesel</td>\n",
       "      <td>27750000</td>\n",
       "    </tr>\n",
       "    <tr>\n",
       "      <th>2</th>\n",
       "      <td>Aston Martin</td>\n",
       "      <td>Vanquish</td>\n",
       "      <td>2016</td>\n",
       "      <td>8</td>\n",
       "      <td>25700.0 km</td>\n",
       "      <td>Automatic</td>\n",
       "      <td>first</td>\n",
       "      <td>Petrol</td>\n",
       "      <td>2024-11-01</td>\n",
       "      <td>Aston Martin Vanquish 6.0 V12, 2016, Petrol</td>\n",
       "      <td>26400000</td>\n",
       "    </tr>\n",
       "    <tr>\n",
       "      <th>3</th>\n",
       "      <td>Mercedes-Benz</td>\n",
       "      <td>G Class</td>\n",
       "      <td>2019</td>\n",
       "      <td>5</td>\n",
       "      <td>59,000 km</td>\n",
       "      <td>Automatic</td>\n",
       "      <td>first</td>\n",
       "      <td>Petrol</td>\n",
       "      <td>2024-09-01</td>\n",
       "      <td>Mercedes-Benz G Class 63 AMG, 2019, Petrol</td>\n",
       "      <td>26000000</td>\n",
       "    </tr>\n",
       "    <tr>\n",
       "      <th>4</th>\n",
       "      <td>Mercedes-Benz</td>\n",
       "      <td>G Class</td>\n",
       "      <td>2019</td>\n",
       "      <td>5</td>\n",
       "      <td>59,000 km</td>\n",
       "      <td>Automatic</td>\n",
       "      <td>first</td>\n",
       "      <td>Petrol</td>\n",
       "      <td>2024-11-01</td>\n",
       "      <td>Mercedes-Benz G Class G63 AMG, 2019, Petrol</td>\n",
       "      <td>24900000</td>\n",
       "    </tr>\n",
       "    <tr>\n",
       "      <th>...</th>\n",
       "      <td>...</td>\n",
       "      <td>...</td>\n",
       "      <td>...</td>\n",
       "      <td>...</td>\n",
       "      <td>...</td>\n",
       "      <td>...</td>\n",
       "      <td>...</td>\n",
       "      <td>...</td>\n",
       "      <td>...</td>\n",
       "      <td>...</td>\n",
       "      <td>...</td>\n",
       "    </tr>\n",
       "    <tr>\n",
       "      <th>9577</th>\n",
       "      <td>Ashok</td>\n",
       "      <td>Leyland Stile</td>\n",
       "      <td>2024</td>\n",
       "      <td>0</td>\n",
       "      <td>0 km</td>\n",
       "      <td>Automatic</td>\n",
       "      <td>first</td>\n",
       "      <td>Hybrid/CNG</td>\n",
       "      <td>2024-11-01</td>\n",
       "      <td>Hath gadi thella new juice set-up thella</td>\n",
       "      <td>32000</td>\n",
       "    </tr>\n",
       "    <tr>\n",
       "      <th>9578</th>\n",
       "      <td>Maruti Suzuki</td>\n",
       "      <td>Zen-Estilo</td>\n",
       "      <td>1998</td>\n",
       "      <td>26</td>\n",
       "      <td>&lt;NA&gt;</td>\n",
       "      <td>Manual</td>\n",
       "      <td>second</td>\n",
       "      <td>Petrol</td>\n",
       "      <td>2024-11-01</td>\n",
       "      <td>Zen 1998 model,insurence renewed,test in 2025 ...</td>\n",
       "      <td>27000</td>\n",
       "    </tr>\n",
       "    <tr>\n",
       "      <th>9579</th>\n",
       "      <td>Maruti Suzuki</td>\n",
       "      <td>Alto-800</td>\n",
       "      <td>2006</td>\n",
       "      <td>18</td>\n",
       "      <td>20,024 km</td>\n",
       "      <td>Manual</td>\n",
       "      <td>first</td>\n",
       "      <td>Petrol</td>\n",
       "      <td>2024-11-01</td>\n",
       "      <td>पुरानी स्क्रैप की गाड़ी बेचने के लिए संपर्क करें</td>\n",
       "      <td>20000</td>\n",
       "    </tr>\n",
       "    <tr>\n",
       "      <th>9580</th>\n",
       "      <td>Maruti Suzuki</td>\n",
       "      <td>Baleno</td>\n",
       "      <td>2024</td>\n",
       "      <td>0</td>\n",
       "      <td>9,000 km</td>\n",
       "      <td>Manual</td>\n",
       "      <td>first</td>\n",
       "      <td>Petrol</td>\n",
       "      <td>2024-11-01</td>\n",
       "      <td>Panasound brand Daimond 2k androd stereo</td>\n",
       "      <td>18500</td>\n",
       "    </tr>\n",
       "    <tr>\n",
       "      <th>9581</th>\n",
       "      <td>Mahindra</td>\n",
       "      <td>Marshal</td>\n",
       "      <td>2000</td>\n",
       "      <td>24</td>\n",
       "      <td>55,000 km</td>\n",
       "      <td>Manual</td>\n",
       "      <td>second</td>\n",
       "      <td>Diesel</td>\n",
       "      <td>2024-11-01</td>\n",
       "      <td>Want NOC for Mahindra Marshal or Commander</td>\n",
       "      <td>15000</td>\n",
       "    </tr>\n",
       "  </tbody>\n",
       "</table>\n",
       "<p>9582 rows × 11 columns</p>\n",
       "</div>"
      ],
      "text/plain": [
       "              Brand              model  Year  Age    kmDriven Transmission  \\\n",
       "0       Rolls-Royce  Phantom Series II  2015    9   11,500 km    Automatic   \n",
       "1             Lexus                 LX  2024    0   24,000 km    Automatic   \n",
       "2      Aston Martin           Vanquish  2016    8  25700.0 km    Automatic   \n",
       "3     Mercedes-Benz            G Class  2019    5   59,000 km    Automatic   \n",
       "4     Mercedes-Benz            G Class  2019    5   59,000 km    Automatic   \n",
       "...             ...                ...   ...  ...         ...          ...   \n",
       "9577          Ashok      Leyland Stile  2024    0        0 km    Automatic   \n",
       "9578  Maruti Suzuki         Zen-Estilo  1998   26        <NA>       Manual   \n",
       "9579  Maruti Suzuki           Alto-800  2006   18   20,024 km       Manual   \n",
       "9580  Maruti Suzuki             Baleno  2024    0    9,000 km       Manual   \n",
       "9581       Mahindra            Marshal  2000   24   55,000 km       Manual   \n",
       "\n",
       "       Owner    FuelType PostedDate  \\\n",
       "0     second      Petrol 2024-08-01   \n",
       "1      first      Diesel 2024-11-01   \n",
       "2      first      Petrol 2024-11-01   \n",
       "3      first      Petrol 2024-09-01   \n",
       "4      first      Petrol 2024-11-01   \n",
       "...      ...         ...        ...   \n",
       "9577   first  Hybrid/CNG 2024-11-01   \n",
       "9578  second      Petrol 2024-11-01   \n",
       "9579   first      Petrol 2024-11-01   \n",
       "9580   first      Petrol 2024-11-01   \n",
       "9581  second      Diesel 2024-11-01   \n",
       "\n",
       "                                           AdditionInfo  AskPrice  \n",
       "0       Rolls-Royce Phantom Series II EWB, 2015, Petrol  42500000  \n",
       "1                           Lexus LX 500d, 2024, Diesel  27750000  \n",
       "2           Aston Martin Vanquish 6.0 V12, 2016, Petrol  26400000  \n",
       "3            Mercedes-Benz G Class 63 AMG, 2019, Petrol  26000000  \n",
       "4           Mercedes-Benz G Class G63 AMG, 2019, Petrol  24900000  \n",
       "...                                                 ...       ...  \n",
       "9577           Hath gadi thella new juice set-up thella     32000  \n",
       "9578  Zen 1998 model,insurence renewed,test in 2025 ...     27000  \n",
       "9579   पुरानी स्क्रैप की गाड़ी बेचने के लिए संपर्क करें     20000  \n",
       "9580           Panasound brand Daimond 2k androd stereo     18500  \n",
       "9581         Want NOC for Mahindra Marshal or Commander     15000  \n",
       "\n",
       "[9582 rows x 11 columns]"
      ]
     },
     "execution_count": 137,
     "metadata": {},
     "output_type": "execute_result"
    }
   ],
   "source": [
    "df"
   ]
  },
  {
   "cell_type": "code",
   "execution_count": 138,
   "id": "30d0176a-a6cb-4560-b4b9-88268089cd0b",
   "metadata": {},
   "outputs": [],
   "source": [
    "df.to_csv('cleaned_dataset.csv', index=False)"
   ]
  },
  {
   "cell_type": "code",
   "execution_count": 148,
   "id": "e12ed847-3ab3-47d0-a671-bfd044ea533b",
   "metadata": {},
   "outputs": [],
   "source": [
    "df.to_excel(r'C:\\Users\\ADMIN\\cleaned_dataset.xlsx', index=False)"
   ]
  },
  {
   "cell_type": "code",
   "execution_count": 140,
   "id": "0b77bcfb-ff0c-450d-bee9-3e702e7578d6",
   "metadata": {},
   "outputs": [
    {
     "name": "stdout",
     "output_type": "stream",
     "text": [
      "C:\\Users\\ADMIN\n"
     ]
    }
   ],
   "source": [
    "import os\n",
    "print(os.getcwd())"
   ]
  },
  {
   "cell_type": "code",
   "execution_count": 147,
   "id": "506b4735-9b26-4fed-ad67-bbc0c3f07716",
   "metadata": {},
   "outputs": [],
   "source": [
    "df_check = pd.read_excel(r'C:\\Users\\ADMIN\\cleaned_dataset.xlsx')"
   ]
  },
  {
   "cell_type": "code",
   "execution_count": 142,
   "id": "c6edd531-1267-4c9d-be85-ec5772c25f34",
   "metadata": {},
   "outputs": [
    {
     "data": {
      "text/html": [
       "<div>\n",
       "<style scoped>\n",
       "    .dataframe tbody tr th:only-of-type {\n",
       "        vertical-align: middle;\n",
       "    }\n",
       "\n",
       "    .dataframe tbody tr th {\n",
       "        vertical-align: top;\n",
       "    }\n",
       "\n",
       "    .dataframe thead th {\n",
       "        text-align: right;\n",
       "    }\n",
       "</style>\n",
       "<table border=\"1\" class=\"dataframe\">\n",
       "  <thead>\n",
       "    <tr style=\"text-align: right;\">\n",
       "      <th></th>\n",
       "      <th>Brand</th>\n",
       "      <th>model</th>\n",
       "      <th>Year</th>\n",
       "      <th>Age</th>\n",
       "      <th>kmDriven</th>\n",
       "      <th>Transmission</th>\n",
       "      <th>Owner</th>\n",
       "      <th>FuelType</th>\n",
       "      <th>PostedDate</th>\n",
       "      <th>AdditionInfo</th>\n",
       "      <th>AskPrice</th>\n",
       "    </tr>\n",
       "  </thead>\n",
       "  <tbody>\n",
       "    <tr>\n",
       "      <th>0</th>\n",
       "      <td>Rolls-Royce</td>\n",
       "      <td>Phantom Series II</td>\n",
       "      <td>2015</td>\n",
       "      <td>9</td>\n",
       "      <td>11,500 km</td>\n",
       "      <td>Automatic</td>\n",
       "      <td>second</td>\n",
       "      <td>Petrol</td>\n",
       "      <td>2024-08-01</td>\n",
       "      <td>Rolls-Royce Phantom Series II EWB, 2015, Petrol</td>\n",
       "      <td>42500000</td>\n",
       "    </tr>\n",
       "    <tr>\n",
       "      <th>1</th>\n",
       "      <td>Lexus</td>\n",
       "      <td>LX</td>\n",
       "      <td>2024</td>\n",
       "      <td>0</td>\n",
       "      <td>24,000 km</td>\n",
       "      <td>Automatic</td>\n",
       "      <td>first</td>\n",
       "      <td>Diesel</td>\n",
       "      <td>2024-11-01</td>\n",
       "      <td>Lexus LX 500d, 2024, Diesel</td>\n",
       "      <td>27750000</td>\n",
       "    </tr>\n",
       "    <tr>\n",
       "      <th>2</th>\n",
       "      <td>Aston Martin</td>\n",
       "      <td>Vanquish</td>\n",
       "      <td>2016</td>\n",
       "      <td>8</td>\n",
       "      <td>25700.0 km</td>\n",
       "      <td>Automatic</td>\n",
       "      <td>first</td>\n",
       "      <td>Petrol</td>\n",
       "      <td>2024-11-01</td>\n",
       "      <td>Aston Martin Vanquish 6.0 V12, 2016, Petrol</td>\n",
       "      <td>26400000</td>\n",
       "    </tr>\n",
       "    <tr>\n",
       "      <th>3</th>\n",
       "      <td>Mercedes-Benz</td>\n",
       "      <td>G Class</td>\n",
       "      <td>2019</td>\n",
       "      <td>5</td>\n",
       "      <td>59,000 km</td>\n",
       "      <td>Automatic</td>\n",
       "      <td>first</td>\n",
       "      <td>Petrol</td>\n",
       "      <td>2024-09-01</td>\n",
       "      <td>Mercedes-Benz G Class 63 AMG, 2019, Petrol</td>\n",
       "      <td>26000000</td>\n",
       "    </tr>\n",
       "    <tr>\n",
       "      <th>4</th>\n",
       "      <td>Mercedes-Benz</td>\n",
       "      <td>G Class</td>\n",
       "      <td>2019</td>\n",
       "      <td>5</td>\n",
       "      <td>59,000 km</td>\n",
       "      <td>Automatic</td>\n",
       "      <td>first</td>\n",
       "      <td>Petrol</td>\n",
       "      <td>2024-11-01</td>\n",
       "      <td>Mercedes-Benz G Class G63 AMG, 2019, Petrol</td>\n",
       "      <td>24900000</td>\n",
       "    </tr>\n",
       "    <tr>\n",
       "      <th>...</th>\n",
       "      <td>...</td>\n",
       "      <td>...</td>\n",
       "      <td>...</td>\n",
       "      <td>...</td>\n",
       "      <td>...</td>\n",
       "      <td>...</td>\n",
       "      <td>...</td>\n",
       "      <td>...</td>\n",
       "      <td>...</td>\n",
       "      <td>...</td>\n",
       "      <td>...</td>\n",
       "    </tr>\n",
       "    <tr>\n",
       "      <th>9577</th>\n",
       "      <td>Ashok</td>\n",
       "      <td>Leyland Stile</td>\n",
       "      <td>2024</td>\n",
       "      <td>0</td>\n",
       "      <td>0 km</td>\n",
       "      <td>Automatic</td>\n",
       "      <td>first</td>\n",
       "      <td>Hybrid/CNG</td>\n",
       "      <td>2024-11-01</td>\n",
       "      <td>Hath gadi thella new juice set-up thella</td>\n",
       "      <td>32000</td>\n",
       "    </tr>\n",
       "    <tr>\n",
       "      <th>9578</th>\n",
       "      <td>Maruti Suzuki</td>\n",
       "      <td>Zen-Estilo</td>\n",
       "      <td>1998</td>\n",
       "      <td>26</td>\n",
       "      <td>NaN</td>\n",
       "      <td>Manual</td>\n",
       "      <td>second</td>\n",
       "      <td>Petrol</td>\n",
       "      <td>2024-11-01</td>\n",
       "      <td>Zen 1998 model,insurence renewed,test in 2025 ...</td>\n",
       "      <td>27000</td>\n",
       "    </tr>\n",
       "    <tr>\n",
       "      <th>9579</th>\n",
       "      <td>Maruti Suzuki</td>\n",
       "      <td>Alto-800</td>\n",
       "      <td>2006</td>\n",
       "      <td>18</td>\n",
       "      <td>20,024 km</td>\n",
       "      <td>Manual</td>\n",
       "      <td>first</td>\n",
       "      <td>Petrol</td>\n",
       "      <td>2024-11-01</td>\n",
       "      <td>पुरानी स्क्रैप की गाड़ी बेचने के लिए संपर्क करें</td>\n",
       "      <td>20000</td>\n",
       "    </tr>\n",
       "    <tr>\n",
       "      <th>9580</th>\n",
       "      <td>Maruti Suzuki</td>\n",
       "      <td>Baleno</td>\n",
       "      <td>2024</td>\n",
       "      <td>0</td>\n",
       "      <td>9,000 km</td>\n",
       "      <td>Manual</td>\n",
       "      <td>first</td>\n",
       "      <td>Petrol</td>\n",
       "      <td>2024-11-01</td>\n",
       "      <td>Panasound brand Daimond 2k androd stereo</td>\n",
       "      <td>18500</td>\n",
       "    </tr>\n",
       "    <tr>\n",
       "      <th>9581</th>\n",
       "      <td>Mahindra</td>\n",
       "      <td>Marshal</td>\n",
       "      <td>2000</td>\n",
       "      <td>24</td>\n",
       "      <td>55,000 km</td>\n",
       "      <td>Manual</td>\n",
       "      <td>second</td>\n",
       "      <td>Diesel</td>\n",
       "      <td>2024-11-01</td>\n",
       "      <td>Want NOC for Mahindra Marshal or Commander</td>\n",
       "      <td>15000</td>\n",
       "    </tr>\n",
       "  </tbody>\n",
       "</table>\n",
       "<p>9582 rows × 11 columns</p>\n",
       "</div>"
      ],
      "text/plain": [
       "              Brand              model  Year  Age    kmDriven Transmission  \\\n",
       "0       Rolls-Royce  Phantom Series II  2015    9   11,500 km    Automatic   \n",
       "1             Lexus                 LX  2024    0   24,000 km    Automatic   \n",
       "2      Aston Martin           Vanquish  2016    8  25700.0 km    Automatic   \n",
       "3     Mercedes-Benz            G Class  2019    5   59,000 km    Automatic   \n",
       "4     Mercedes-Benz            G Class  2019    5   59,000 km    Automatic   \n",
       "...             ...                ...   ...  ...         ...          ...   \n",
       "9577          Ashok      Leyland Stile  2024    0        0 km    Automatic   \n",
       "9578  Maruti Suzuki         Zen-Estilo  1998   26         NaN       Manual   \n",
       "9579  Maruti Suzuki           Alto-800  2006   18   20,024 km       Manual   \n",
       "9580  Maruti Suzuki             Baleno  2024    0    9,000 km       Manual   \n",
       "9581       Mahindra            Marshal  2000   24   55,000 km       Manual   \n",
       "\n",
       "       Owner    FuelType PostedDate  \\\n",
       "0     second      Petrol 2024-08-01   \n",
       "1      first      Diesel 2024-11-01   \n",
       "2      first      Petrol 2024-11-01   \n",
       "3      first      Petrol 2024-09-01   \n",
       "4      first      Petrol 2024-11-01   \n",
       "...      ...         ...        ...   \n",
       "9577   first  Hybrid/CNG 2024-11-01   \n",
       "9578  second      Petrol 2024-11-01   \n",
       "9579   first      Petrol 2024-11-01   \n",
       "9580   first      Petrol 2024-11-01   \n",
       "9581  second      Diesel 2024-11-01   \n",
       "\n",
       "                                           AdditionInfo  AskPrice  \n",
       "0       Rolls-Royce Phantom Series II EWB, 2015, Petrol  42500000  \n",
       "1                           Lexus LX 500d, 2024, Diesel  27750000  \n",
       "2           Aston Martin Vanquish 6.0 V12, 2016, Petrol  26400000  \n",
       "3            Mercedes-Benz G Class 63 AMG, 2019, Petrol  26000000  \n",
       "4           Mercedes-Benz G Class G63 AMG, 2019, Petrol  24900000  \n",
       "...                                                 ...       ...  \n",
       "9577           Hath gadi thella new juice set-up thella     32000  \n",
       "9578  Zen 1998 model,insurence renewed,test in 2025 ...     27000  \n",
       "9579   पुरानी स्क्रैप की गाड़ी बेचने के लिए संपर्क करें     20000  \n",
       "9580           Panasound brand Daimond 2k androd stereo     18500  \n",
       "9581         Want NOC for Mahindra Marshal or Commander     15000  \n",
       "\n",
       "[9582 rows x 11 columns]"
      ]
     },
     "execution_count": 142,
     "metadata": {},
     "output_type": "execute_result"
    }
   ],
   "source": [
    "df_check"
   ]
  },
  {
   "cell_type": "code",
   "execution_count": 143,
   "id": "3e784c2c-4f12-4be8-a22c-e68bc88c0eb1",
   "metadata": {},
   "outputs": [
    {
     "data": {
      "text/html": [
       "<div>\n",
       "<style scoped>\n",
       "    .dataframe tbody tr th:only-of-type {\n",
       "        vertical-align: middle;\n",
       "    }\n",
       "\n",
       "    .dataframe tbody tr th {\n",
       "        vertical-align: top;\n",
       "    }\n",
       "\n",
       "    .dataframe thead th {\n",
       "        text-align: right;\n",
       "    }\n",
       "</style>\n",
       "<table border=\"1\" class=\"dataframe\">\n",
       "  <thead>\n",
       "    <tr style=\"text-align: right;\">\n",
       "      <th></th>\n",
       "      <th>Brand</th>\n",
       "      <th>model</th>\n",
       "      <th>Year</th>\n",
       "      <th>Age</th>\n",
       "      <th>kmDriven</th>\n",
       "      <th>Transmission</th>\n",
       "      <th>Owner</th>\n",
       "      <th>FuelType</th>\n",
       "      <th>PostedDate</th>\n",
       "      <th>AdditionInfo</th>\n",
       "      <th>AskPrice</th>\n",
       "    </tr>\n",
       "  </thead>\n",
       "  <tbody>\n",
       "    <tr>\n",
       "      <th>0</th>\n",
       "      <td>Rolls-Royce</td>\n",
       "      <td>Phantom Series II</td>\n",
       "      <td>2015</td>\n",
       "      <td>9</td>\n",
       "      <td>11,500 km</td>\n",
       "      <td>Automatic</td>\n",
       "      <td>second</td>\n",
       "      <td>Petrol</td>\n",
       "      <td>2024-08-01</td>\n",
       "      <td>Rolls-Royce Phantom Series II EWB, 2015, Petrol</td>\n",
       "      <td>42500000</td>\n",
       "    </tr>\n",
       "    <tr>\n",
       "      <th>1</th>\n",
       "      <td>Lexus</td>\n",
       "      <td>LX</td>\n",
       "      <td>2024</td>\n",
       "      <td>0</td>\n",
       "      <td>24,000 km</td>\n",
       "      <td>Automatic</td>\n",
       "      <td>first</td>\n",
       "      <td>Diesel</td>\n",
       "      <td>2024-11-01</td>\n",
       "      <td>Lexus LX 500d, 2024, Diesel</td>\n",
       "      <td>27750000</td>\n",
       "    </tr>\n",
       "    <tr>\n",
       "      <th>2</th>\n",
       "      <td>Aston Martin</td>\n",
       "      <td>Vanquish</td>\n",
       "      <td>2016</td>\n",
       "      <td>8</td>\n",
       "      <td>25700.0 km</td>\n",
       "      <td>Automatic</td>\n",
       "      <td>first</td>\n",
       "      <td>Petrol</td>\n",
       "      <td>2024-11-01</td>\n",
       "      <td>Aston Martin Vanquish 6.0 V12, 2016, Petrol</td>\n",
       "      <td>26400000</td>\n",
       "    </tr>\n",
       "    <tr>\n",
       "      <th>3</th>\n",
       "      <td>Mercedes-Benz</td>\n",
       "      <td>G Class</td>\n",
       "      <td>2019</td>\n",
       "      <td>5</td>\n",
       "      <td>59,000 km</td>\n",
       "      <td>Automatic</td>\n",
       "      <td>first</td>\n",
       "      <td>Petrol</td>\n",
       "      <td>2024-09-01</td>\n",
       "      <td>Mercedes-Benz G Class 63 AMG, 2019, Petrol</td>\n",
       "      <td>26000000</td>\n",
       "    </tr>\n",
       "    <tr>\n",
       "      <th>4</th>\n",
       "      <td>Mercedes-Benz</td>\n",
       "      <td>G Class</td>\n",
       "      <td>2019</td>\n",
       "      <td>5</td>\n",
       "      <td>59,000 km</td>\n",
       "      <td>Automatic</td>\n",
       "      <td>first</td>\n",
       "      <td>Petrol</td>\n",
       "      <td>2024-11-01</td>\n",
       "      <td>Mercedes-Benz G Class G63 AMG, 2019, Petrol</td>\n",
       "      <td>24900000</td>\n",
       "    </tr>\n",
       "    <tr>\n",
       "      <th>...</th>\n",
       "      <td>...</td>\n",
       "      <td>...</td>\n",
       "      <td>...</td>\n",
       "      <td>...</td>\n",
       "      <td>...</td>\n",
       "      <td>...</td>\n",
       "      <td>...</td>\n",
       "      <td>...</td>\n",
       "      <td>...</td>\n",
       "      <td>...</td>\n",
       "      <td>...</td>\n",
       "    </tr>\n",
       "    <tr>\n",
       "      <th>9577</th>\n",
       "      <td>Ashok</td>\n",
       "      <td>Leyland Stile</td>\n",
       "      <td>2024</td>\n",
       "      <td>0</td>\n",
       "      <td>0 km</td>\n",
       "      <td>Automatic</td>\n",
       "      <td>first</td>\n",
       "      <td>Hybrid/CNG</td>\n",
       "      <td>2024-11-01</td>\n",
       "      <td>Hath gadi thella new juice set-up thella</td>\n",
       "      <td>32000</td>\n",
       "    </tr>\n",
       "    <tr>\n",
       "      <th>9578</th>\n",
       "      <td>Maruti Suzuki</td>\n",
       "      <td>Zen-Estilo</td>\n",
       "      <td>1998</td>\n",
       "      <td>26</td>\n",
       "      <td>&lt;NA&gt;</td>\n",
       "      <td>Manual</td>\n",
       "      <td>second</td>\n",
       "      <td>Petrol</td>\n",
       "      <td>2024-11-01</td>\n",
       "      <td>Zen 1998 model,insurence renewed,test in 2025 ...</td>\n",
       "      <td>27000</td>\n",
       "    </tr>\n",
       "    <tr>\n",
       "      <th>9579</th>\n",
       "      <td>Maruti Suzuki</td>\n",
       "      <td>Alto-800</td>\n",
       "      <td>2006</td>\n",
       "      <td>18</td>\n",
       "      <td>20,024 km</td>\n",
       "      <td>Manual</td>\n",
       "      <td>first</td>\n",
       "      <td>Petrol</td>\n",
       "      <td>2024-11-01</td>\n",
       "      <td>पुरानी स्क्रैप की गाड़ी बेचने के लिए संपर्क करें</td>\n",
       "      <td>20000</td>\n",
       "    </tr>\n",
       "    <tr>\n",
       "      <th>9580</th>\n",
       "      <td>Maruti Suzuki</td>\n",
       "      <td>Baleno</td>\n",
       "      <td>2024</td>\n",
       "      <td>0</td>\n",
       "      <td>9,000 km</td>\n",
       "      <td>Manual</td>\n",
       "      <td>first</td>\n",
       "      <td>Petrol</td>\n",
       "      <td>2024-11-01</td>\n",
       "      <td>Panasound brand Daimond 2k androd stereo</td>\n",
       "      <td>18500</td>\n",
       "    </tr>\n",
       "    <tr>\n",
       "      <th>9581</th>\n",
       "      <td>Mahindra</td>\n",
       "      <td>Marshal</td>\n",
       "      <td>2000</td>\n",
       "      <td>24</td>\n",
       "      <td>55,000 km</td>\n",
       "      <td>Manual</td>\n",
       "      <td>second</td>\n",
       "      <td>Diesel</td>\n",
       "      <td>2024-11-01</td>\n",
       "      <td>Want NOC for Mahindra Marshal or Commander</td>\n",
       "      <td>15000</td>\n",
       "    </tr>\n",
       "  </tbody>\n",
       "</table>\n",
       "<p>9582 rows × 11 columns</p>\n",
       "</div>"
      ],
      "text/plain": [
       "              Brand              model  Year  Age    kmDriven Transmission  \\\n",
       "0       Rolls-Royce  Phantom Series II  2015    9   11,500 km    Automatic   \n",
       "1             Lexus                 LX  2024    0   24,000 km    Automatic   \n",
       "2      Aston Martin           Vanquish  2016    8  25700.0 km    Automatic   \n",
       "3     Mercedes-Benz            G Class  2019    5   59,000 km    Automatic   \n",
       "4     Mercedes-Benz            G Class  2019    5   59,000 km    Automatic   \n",
       "...             ...                ...   ...  ...         ...          ...   \n",
       "9577          Ashok      Leyland Stile  2024    0        0 km    Automatic   \n",
       "9578  Maruti Suzuki         Zen-Estilo  1998   26        <NA>       Manual   \n",
       "9579  Maruti Suzuki           Alto-800  2006   18   20,024 km       Manual   \n",
       "9580  Maruti Suzuki             Baleno  2024    0    9,000 km       Manual   \n",
       "9581       Mahindra            Marshal  2000   24   55,000 km       Manual   \n",
       "\n",
       "       Owner    FuelType PostedDate  \\\n",
       "0     second      Petrol 2024-08-01   \n",
       "1      first      Diesel 2024-11-01   \n",
       "2      first      Petrol 2024-11-01   \n",
       "3      first      Petrol 2024-09-01   \n",
       "4      first      Petrol 2024-11-01   \n",
       "...      ...         ...        ...   \n",
       "9577   first  Hybrid/CNG 2024-11-01   \n",
       "9578  second      Petrol 2024-11-01   \n",
       "9579   first      Petrol 2024-11-01   \n",
       "9580   first      Petrol 2024-11-01   \n",
       "9581  second      Diesel 2024-11-01   \n",
       "\n",
       "                                           AdditionInfo  AskPrice  \n",
       "0       Rolls-Royce Phantom Series II EWB, 2015, Petrol  42500000  \n",
       "1                           Lexus LX 500d, 2024, Diesel  27750000  \n",
       "2           Aston Martin Vanquish 6.0 V12, 2016, Petrol  26400000  \n",
       "3            Mercedes-Benz G Class 63 AMG, 2019, Petrol  26000000  \n",
       "4           Mercedes-Benz G Class G63 AMG, 2019, Petrol  24900000  \n",
       "...                                                 ...       ...  \n",
       "9577           Hath gadi thella new juice set-up thella     32000  \n",
       "9578  Zen 1998 model,insurence renewed,test in 2025 ...     27000  \n",
       "9579   पुरानी स्क्रैप की गाड़ी बेचने के लिए संपर्क करें     20000  \n",
       "9580           Panasound brand Daimond 2k androd stereo     18500  \n",
       "9581         Want NOC for Mahindra Marshal or Commander     15000  \n",
       "\n",
       "[9582 rows x 11 columns]"
      ]
     },
     "execution_count": 143,
     "metadata": {},
     "output_type": "execute_result"
    }
   ],
   "source": [
    "df"
   ]
  },
  {
   "cell_type": "code",
   "execution_count": 145,
   "id": "ee75372a-895e-476c-b1ee-6f11f1d56b13",
   "metadata": {},
   "outputs": [],
   "source": [
    "df_check = pd.read_excel('cleaned_dataset.xlsx')"
   ]
  },
  {
   "cell_type": "code",
   "execution_count": 150,
   "id": "555fd633-1f3b-4ac4-8ff8-e962b6bf9b0d",
   "metadata": {},
   "outputs": [],
   "source": [
    "df.to_excel('cleaned_dataset.xlsx', index=False)\n"
   ]
  },
  {
   "cell_type": "code",
   "execution_count": 154,
   "id": "673713df-b3b0-4c5a-ab4a-f5e0899a95e8",
   "metadata": {},
   "outputs": [],
   "source": [
    "\n",
    "df = pd.read_excel(r'C:\\Users\\ADMIN\\Downloads\\cleaned_dataset.xlsx')"
   ]
  },
  {
   "cell_type": "code",
   "execution_count": 155,
   "id": "dcac9790-de43-4e1a-82a4-044ba73cef85",
   "metadata": {},
   "outputs": [
    {
     "data": {
      "text/html": [
       "<div>\n",
       "<style scoped>\n",
       "    .dataframe tbody tr th:only-of-type {\n",
       "        vertical-align: middle;\n",
       "    }\n",
       "\n",
       "    .dataframe tbody tr th {\n",
       "        vertical-align: top;\n",
       "    }\n",
       "\n",
       "    .dataframe thead th {\n",
       "        text-align: right;\n",
       "    }\n",
       "</style>\n",
       "<table border=\"1\" class=\"dataframe\">\n",
       "  <thead>\n",
       "    <tr style=\"text-align: right;\">\n",
       "      <th></th>\n",
       "      <th>Brand</th>\n",
       "      <th>model</th>\n",
       "      <th>Year</th>\n",
       "      <th>Age</th>\n",
       "      <th>kmDriven</th>\n",
       "      <th>Transmission</th>\n",
       "      <th>Owner</th>\n",
       "      <th>FuelType</th>\n",
       "      <th>PostedDate</th>\n",
       "      <th>AdditionInfo</th>\n",
       "      <th>AskPrice</th>\n",
       "    </tr>\n",
       "  </thead>\n",
       "  <tbody>\n",
       "    <tr>\n",
       "      <th>0</th>\n",
       "      <td>Rolls-Royce</td>\n",
       "      <td>Phantom Series II</td>\n",
       "      <td>2015</td>\n",
       "      <td>9</td>\n",
       "      <td>11,500 km</td>\n",
       "      <td>Automatic</td>\n",
       "      <td>second</td>\n",
       "      <td>Petrol</td>\n",
       "      <td>2024-08-01</td>\n",
       "      <td>Rolls-Royce Phantom Series II EWB, 2015, Petrol</td>\n",
       "      <td>42500000</td>\n",
       "    </tr>\n",
       "    <tr>\n",
       "      <th>1</th>\n",
       "      <td>Lexus</td>\n",
       "      <td>LX</td>\n",
       "      <td>2024</td>\n",
       "      <td>0</td>\n",
       "      <td>24,000 km</td>\n",
       "      <td>Automatic</td>\n",
       "      <td>first</td>\n",
       "      <td>Diesel</td>\n",
       "      <td>2024-11-01</td>\n",
       "      <td>Lexus LX 500d, 2024, Diesel</td>\n",
       "      <td>27750000</td>\n",
       "    </tr>\n",
       "    <tr>\n",
       "      <th>2</th>\n",
       "      <td>Aston Martin</td>\n",
       "      <td>Vanquish</td>\n",
       "      <td>2016</td>\n",
       "      <td>8</td>\n",
       "      <td>25700.0 km</td>\n",
       "      <td>Automatic</td>\n",
       "      <td>first</td>\n",
       "      <td>Petrol</td>\n",
       "      <td>2024-11-01</td>\n",
       "      <td>Aston Martin Vanquish 6.0 V12, 2016, Petrol</td>\n",
       "      <td>26400000</td>\n",
       "    </tr>\n",
       "    <tr>\n",
       "      <th>3</th>\n",
       "      <td>Mercedes-Benz</td>\n",
       "      <td>G Class</td>\n",
       "      <td>2019</td>\n",
       "      <td>5</td>\n",
       "      <td>59,000 km</td>\n",
       "      <td>Automatic</td>\n",
       "      <td>first</td>\n",
       "      <td>Petrol</td>\n",
       "      <td>2024-09-01</td>\n",
       "      <td>Mercedes-Benz G Class 63 AMG, 2019, Petrol</td>\n",
       "      <td>26000000</td>\n",
       "    </tr>\n",
       "    <tr>\n",
       "      <th>4</th>\n",
       "      <td>Mercedes-Benz</td>\n",
       "      <td>G Class</td>\n",
       "      <td>2019</td>\n",
       "      <td>5</td>\n",
       "      <td>59,000 km</td>\n",
       "      <td>Automatic</td>\n",
       "      <td>first</td>\n",
       "      <td>Petrol</td>\n",
       "      <td>2024-11-01</td>\n",
       "      <td>Mercedes-Benz G Class G63 AMG, 2019, Petrol</td>\n",
       "      <td>24900000</td>\n",
       "    </tr>\n",
       "    <tr>\n",
       "      <th>...</th>\n",
       "      <td>...</td>\n",
       "      <td>...</td>\n",
       "      <td>...</td>\n",
       "      <td>...</td>\n",
       "      <td>...</td>\n",
       "      <td>...</td>\n",
       "      <td>...</td>\n",
       "      <td>...</td>\n",
       "      <td>...</td>\n",
       "      <td>...</td>\n",
       "      <td>...</td>\n",
       "    </tr>\n",
       "    <tr>\n",
       "      <th>9577</th>\n",
       "      <td>Ashok</td>\n",
       "      <td>Leyland Stile</td>\n",
       "      <td>2024</td>\n",
       "      <td>0</td>\n",
       "      <td>0 km</td>\n",
       "      <td>Automatic</td>\n",
       "      <td>first</td>\n",
       "      <td>Hybrid/CNG</td>\n",
       "      <td>2024-11-01</td>\n",
       "      <td>Hath gadi thella new juice set-up thella</td>\n",
       "      <td>32000</td>\n",
       "    </tr>\n",
       "    <tr>\n",
       "      <th>9578</th>\n",
       "      <td>Maruti Suzuki</td>\n",
       "      <td>Zen-Estilo</td>\n",
       "      <td>1998</td>\n",
       "      <td>26</td>\n",
       "      <td>NaN</td>\n",
       "      <td>Manual</td>\n",
       "      <td>second</td>\n",
       "      <td>Petrol</td>\n",
       "      <td>2024-11-01</td>\n",
       "      <td>Zen 1998 model,insurence renewed,test in 2025 ...</td>\n",
       "      <td>27000</td>\n",
       "    </tr>\n",
       "    <tr>\n",
       "      <th>9579</th>\n",
       "      <td>Maruti Suzuki</td>\n",
       "      <td>Alto-800</td>\n",
       "      <td>2006</td>\n",
       "      <td>18</td>\n",
       "      <td>20,024 km</td>\n",
       "      <td>Manual</td>\n",
       "      <td>first</td>\n",
       "      <td>Petrol</td>\n",
       "      <td>2024-11-01</td>\n",
       "      <td>पुरानी स्क्रैप की गाड़ी बेचने के लिए संपर्क करें</td>\n",
       "      <td>20000</td>\n",
       "    </tr>\n",
       "    <tr>\n",
       "      <th>9580</th>\n",
       "      <td>Maruti Suzuki</td>\n",
       "      <td>Baleno</td>\n",
       "      <td>2024</td>\n",
       "      <td>0</td>\n",
       "      <td>9,000 km</td>\n",
       "      <td>Manual</td>\n",
       "      <td>first</td>\n",
       "      <td>Petrol</td>\n",
       "      <td>2024-11-01</td>\n",
       "      <td>Panasound brand Daimond 2k androd stereo</td>\n",
       "      <td>18500</td>\n",
       "    </tr>\n",
       "    <tr>\n",
       "      <th>9581</th>\n",
       "      <td>Mahindra</td>\n",
       "      <td>Marshal</td>\n",
       "      <td>2000</td>\n",
       "      <td>24</td>\n",
       "      <td>55,000 km</td>\n",
       "      <td>Manual</td>\n",
       "      <td>second</td>\n",
       "      <td>Diesel</td>\n",
       "      <td>2024-11-01</td>\n",
       "      <td>Want NOC for Mahindra Marshal or Commander</td>\n",
       "      <td>15000</td>\n",
       "    </tr>\n",
       "  </tbody>\n",
       "</table>\n",
       "<p>9582 rows × 11 columns</p>\n",
       "</div>"
      ],
      "text/plain": [
       "              Brand              model  Year  Age    kmDriven Transmission  \\\n",
       "0       Rolls-Royce  Phantom Series II  2015    9   11,500 km    Automatic   \n",
       "1             Lexus                 LX  2024    0   24,000 km    Automatic   \n",
       "2      Aston Martin           Vanquish  2016    8  25700.0 km    Automatic   \n",
       "3     Mercedes-Benz            G Class  2019    5   59,000 km    Automatic   \n",
       "4     Mercedes-Benz            G Class  2019    5   59,000 km    Automatic   \n",
       "...             ...                ...   ...  ...         ...          ...   \n",
       "9577          Ashok      Leyland Stile  2024    0        0 km    Automatic   \n",
       "9578  Maruti Suzuki         Zen-Estilo  1998   26         NaN       Manual   \n",
       "9579  Maruti Suzuki           Alto-800  2006   18   20,024 km       Manual   \n",
       "9580  Maruti Suzuki             Baleno  2024    0    9,000 km       Manual   \n",
       "9581       Mahindra            Marshal  2000   24   55,000 km       Manual   \n",
       "\n",
       "       Owner    FuelType PostedDate  \\\n",
       "0     second      Petrol 2024-08-01   \n",
       "1      first      Diesel 2024-11-01   \n",
       "2      first      Petrol 2024-11-01   \n",
       "3      first      Petrol 2024-09-01   \n",
       "4      first      Petrol 2024-11-01   \n",
       "...      ...         ...        ...   \n",
       "9577   first  Hybrid/CNG 2024-11-01   \n",
       "9578  second      Petrol 2024-11-01   \n",
       "9579   first      Petrol 2024-11-01   \n",
       "9580   first      Petrol 2024-11-01   \n",
       "9581  second      Diesel 2024-11-01   \n",
       "\n",
       "                                           AdditionInfo  AskPrice  \n",
       "0       Rolls-Royce Phantom Series II EWB, 2015, Petrol  42500000  \n",
       "1                           Lexus LX 500d, 2024, Diesel  27750000  \n",
       "2           Aston Martin Vanquish 6.0 V12, 2016, Petrol  26400000  \n",
       "3            Mercedes-Benz G Class 63 AMG, 2019, Petrol  26000000  \n",
       "4           Mercedes-Benz G Class G63 AMG, 2019, Petrol  24900000  \n",
       "...                                                 ...       ...  \n",
       "9577           Hath gadi thella new juice set-up thella     32000  \n",
       "9578  Zen 1998 model,insurence renewed,test in 2025 ...     27000  \n",
       "9579   पुरानी स्क्रैप की गाड़ी बेचने के लिए संपर्क करें     20000  \n",
       "9580           Panasound brand Daimond 2k androd stereo     18500  \n",
       "9581         Want NOC for Mahindra Marshal or Commander     15000  \n",
       "\n",
       "[9582 rows x 11 columns]"
      ]
     },
     "execution_count": 155,
     "metadata": {},
     "output_type": "execute_result"
    }
   ],
   "source": [
    "df"
   ]
  },
  {
   "cell_type": "code",
   "execution_count": 1,
   "id": "56bb98b1-3ca9-4372-90f1-6e268ef1aef9",
   "metadata": {},
   "outputs": [
    {
     "name": "stdout",
     "output_type": "stream",
     "text": [
      "Help on method_descriptor:\n",
      "\n",
      "replace(self, old, new, count=-1, /) unbound builtins.str method\n",
      "    Return a copy with all occurrences of substring old replaced by new.\n",
      "\n",
      "      count\n",
      "        Maximum number of occurrences to replace.\n",
      "        -1 (the default value) means replace all occurrences.\n",
      "\n",
      "    If the optional argument count is given, only the first count occurrences are\n",
      "    replaced.\n",
      "\n"
     ]
    }
   ],
   "source": [
    "help(str.replace)"
   ]
  },
  {
   "cell_type": "code",
   "execution_count": 2,
   "id": "0bcbbbce-6a6a-4b28-93f0-f128e09d4c0e",
   "metadata": {},
   "outputs": [
    {
     "name": "stdout",
     "output_type": "stream",
     "text": [
      "Help on method_descriptor:\n",
      "\n",
      "split(self, /, sep=None, maxsplit=-1) unbound builtins.str method\n",
      "    Return a list of the substrings in the string, using sep as the separator string.\n",
      "\n",
      "      sep\n",
      "        The separator used to split the string.\n",
      "\n",
      "        When set to None (the default value), will split on any whitespace\n",
      "        character (including \\n \\r \\t \\f and spaces) and will discard\n",
      "        empty strings from the result.\n",
      "      maxsplit\n",
      "        Maximum number of splits.\n",
      "        -1 (the default value) means no limit.\n",
      "\n",
      "    Splitting starts at the front of the string and works to the end.\n",
      "\n",
      "    Note, str.split() is mainly useful for data that has been intentionally\n",
      "    delimited.  With natural text that includes punctuation, consider using\n",
      "    the regular expression module.\n",
      "\n"
     ]
    }
   ],
   "source": [
    "help(str.split)"
   ]
  },
  {
   "cell_type": "code",
   "execution_count": 3,
   "id": "e88f4326-29a1-4b23-8753-1deae95a2264",
   "metadata": {},
   "outputs": [
    {
     "name": "stdout",
     "output_type": "stream",
     "text": [
      "Help on method_descriptor:\n",
      "\n",
      "append(self, object, /) unbound builtins.list method\n",
      "    Append object to the end of the list.\n",
      "\n"
     ]
    }
   ],
   "source": [
    "help(list.append)"
   ]
  },
  {
   "cell_type": "code",
   "execution_count": 4,
   "id": "aeb71103-4388-4092-8657-be008a735c83",
   "metadata": {},
   "outputs": [
    {
     "name": "stdin",
     "output_type": "stream",
     "text": [
      "Please enter your name: Sriram\n"
     ]
    }
   ],
   "source": [
    "name = input(\"Please enter your name:\")"
   ]
  },
  {
   "cell_type": "code",
   "execution_count": 5,
   "id": "2756a5ef-e688-4597-b9a7-1457e805459b",
   "metadata": {},
   "outputs": [
    {
     "name": "stdout",
     "output_type": "stream",
     "text": [
      "Sriram\n"
     ]
    }
   ],
   "source": [
    "print(name)"
   ]
  },
  {
   "cell_type": "code",
   "execution_count": 6,
   "id": "faccdf9c-1e4f-4110-9a28-668bca33e5f6",
   "metadata": {},
   "outputs": [
    {
     "data": {
      "text/plain": [
       "str"
      ]
     },
     "execution_count": 6,
     "metadata": {},
     "output_type": "execute_result"
    }
   ],
   "source": [
    "type(name)"
   ]
  },
  {
   "cell_type": "code",
   "execution_count": 7,
   "id": "d36e6d5d-910a-4d37-8e42-8b67a605f5cd",
   "metadata": {},
   "outputs": [
    {
     "name": "stdin",
     "output_type": "stream",
     "text": [
      "Please enter your name: Sriram\n"
     ]
    }
   ],
   "source": [
    "name1 = input(\"Please enter your name:\")"
   ]
  },
  {
   "cell_type": "code",
   "execution_count": 8,
   "id": "1e086aa5-7aa6-4406-bdf6-af4643f90224",
   "metadata": {},
   "outputs": [
    {
     "name": "stdin",
     "output_type": "stream",
     "text": [
      "Please enter your age: 24\n"
     ]
    }
   ],
   "source": [
    "age = int(input(\"Please enter your age:\"))"
   ]
  },
  {
   "cell_type": "code",
   "execution_count": 14,
   "id": "a67dfbd6-aba4-44e0-b447-88707652693e",
   "metadata": {},
   "outputs": [
    {
     "name": "stdout",
     "output_type": "stream",
     "text": [
      "My name is Sriram and age is 24\n"
     ]
    }
   ],
   "source": [
    "print(\"My name is\",name1, \"and age is\",age)"
   ]
  },
  {
   "cell_type": "code",
   "execution_count": 18,
   "id": "a1874079-d212-475d-90db-515f0acea525",
   "metadata": {},
   "outputs": [
    {
     "ename": "IndexError",
     "evalue": "Replacement index 2 out of range for positional args tuple",
     "output_type": "error",
     "traceback": [
      "\u001b[1;31m---------------------------------------------------------------------------\u001b[0m",
      "\u001b[1;31mIndexError\u001b[0m                                Traceback (most recent call last)",
      "Cell \u001b[1;32mIn[18], line 1\u001b[0m\n\u001b[1;32m----> 1\u001b[0m \u001b[38;5;28mprint\u001b[39m(\u001b[38;5;124m\"\u001b[39m\u001b[38;5;124mHello \u001b[39m\u001b[38;5;132;01m{}\u001b[39;00m\u001b[38;5;124m ,and your age is \u001b[39m\u001b[38;5;132;01m{}\u001b[39;00m\u001b[38;5;124m \u001b[39m\u001b[38;5;132;01m{}\u001b[39;00m\u001b[38;5;124m\"\u001b[39m\u001b[38;5;241m.\u001b[39mformat(name1,age))\n",
      "\u001b[1;31mIndexError\u001b[0m: Replacement index 2 out of range for positional args tuple"
     ]
    }
   ],
   "source": [
    "print(\"Hello {} and your age is {}\".format(name1,age))"
   ]
  },
  {
   "cell_type": "code",
   "execution_count": 17,
   "id": "0b90143d-26cb-4cfe-9f74-2af98e408046",
   "metadata": {},
   "outputs": [
    {
     "name": "stdout",
     "output_type": "stream",
     "text": [
      "24 years old person name called Sriram\n"
     ]
    }
   ],
   "source": [
    "print(\"{1} years old person name called {0}\".format(name1,age))"
   ]
  },
  {
   "cell_type": "code",
   "execution_count": 5,
   "id": "7f6cb615-3508-4d38-9f87-55b35170cd42",
   "metadata": {},
   "outputs": [
    {
     "name": "stdout",
     "output_type": "stream",
     "text": [
      "1 * 3 = 3\n",
      "2 * 3 = 6\n",
      "3 * 3 = 9\n",
      "4 * 3 = 12\n",
      "5 * 3 = 15\n",
      "6 * 3 = 18\n",
      "7 * 3 = 21\n",
      "8 * 3 = 24\n",
      "9 * 3 = 27\n",
      "10 * 3 = 30\n",
      "11 * 3 = 33\n",
      "12 * 3 = 36\n",
      "13 * 3 = 39\n",
      "14 * 3 = 42\n",
      "15 * 3 = 45\n",
      "16 * 3 = 48\n",
      "17 * 3 = 51\n",
      "18 * 3 = 54\n",
      "19 * 3 = 57\n",
      "20 * 3 = 60\n"
     ]
    }
   ],
   "source": [
    "num = 3\n",
    "for i in range (1,21):\n",
    "    print(i,\"*\",num, \"=\", i*num)"
   ]
  },
  {
   "cell_type": "code",
   "execution_count": 21,
   "id": "ba787688-1e30-40ac-8bae-9243d1dc2b25",
   "metadata": {},
   "outputs": [
    {
     "name": "stdout",
     "output_type": "stream",
     "text": [
      "this is an example \n",
      " for your understsanding\n"
     ]
    }
   ],
   "source": [
    "str_new = \"this is an example \\n for your understsanding\"\n",
    "print(str_new)"
   ]
  },
  {
   "cell_type": "code",
   "execution_count": 12,
   "id": "62db15bb-59e4-493e-81ed-2b3bc2c9d6ee",
   "metadata": {},
   "outputs": [
    {
     "name": "stdout",
     "output_type": "stream",
     "text": [
      "15 30 45 "
     ]
    }
   ],
   "source": [
    "for i in range (1,51):\n",
    "    if i%3==0 and i%5==0:\n",
    "        print(i, end = \" \")"
   ]
  },
  {
   "cell_type": "code",
   "execution_count": 1,
   "id": "ea0e73ff-1a4d-4366-a0ef-4426cb00ee1e",
   "metadata": {},
   "outputs": [
    {
     "name": "stdout",
     "output_type": "stream",
     "text": [
      "100\n"
     ]
    }
   ],
   "source": [
    "def square(x):\n",
    "    return x*x\n",
    "a = square(10)\n",
    "print(a)"
   ]
  }
 ],
 "metadata": {
  "kernelspec": {
   "display_name": "Python 3 (ipykernel)",
   "language": "python",
   "name": "python3"
  },
  "language_info": {
   "codemirror_mode": {
    "name": "ipython",
    "version": 3
   },
   "file_extension": ".py",
   "mimetype": "text/x-python",
   "name": "python",
   "nbconvert_exporter": "python",
   "pygments_lexer": "ipython3",
   "version": "3.12.7"
  }
 },
 "nbformat": 4,
 "nbformat_minor": 5
}
